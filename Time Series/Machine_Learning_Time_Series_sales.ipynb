{
  "nbformat": 4,
  "nbformat_minor": 0,
  "metadata": {
    "colab": {
      "name": "Machine Learning Time Series sales.ipynb",
      "provenance": []
    },
    "kernelspec": {
      "name": "python3",
      "display_name": "Python 3"
    }
  },
  "cells": [
    {
      "cell_type": "code",
      "metadata": {
        "id": "03YQtxG4Z0ug"
      },
      "source": [
        "import os\n",
        "import pandas as pd\n",
        "import numpy as np\n",
        "import matplotlib.pyplot as plt\n",
        "import seaborn as sb\n",
        "from datetime import datetime\n",
        "\n",
        "from pandas.plotting import lag_plot"
      ],
      "execution_count": null,
      "outputs": []
    },
    {
      "cell_type": "code",
      "metadata": {
        "id": "TpdwOr6raMox"
      },
      "source": [
        "def parser(x):\n",
        "\treturn datetime.strptime(x, '%Y-%m')"
      ],
      "execution_count": null,
      "outputs": []
    },
    {
      "cell_type": "code",
      "metadata": {
        "id": "5Nx5AXT9dJAe",
        "outputId": "8f7ae6b6-8e3e-401e-b06c-445aad45974f",
        "colab": {
          "base_uri": "https://localhost:8080/",
          "height": 235
        }
      },
      "source": [
        "dataset = pd.read_csv('/content/drive/My Drive/ML/sales.csv', header=0, parse_dates=[0], index_col=0, squeeze=False, date_parser=parser)\n",
        "\n",
        "dataset.head()\n",
        "\n",
        "# Output berbentuk Series, bukan DataFrame (karena nilai squeeze=True)"
      ],
      "execution_count": null,
      "outputs": [
        {
          "output_type": "execute_result",
          "data": {
            "text/html": [
              "<div>\n",
              "<style scoped>\n",
              "    .dataframe tbody tr th:only-of-type {\n",
              "        vertical-align: middle;\n",
              "    }\n",
              "\n",
              "    .dataframe tbody tr th {\n",
              "        vertical-align: top;\n",
              "    }\n",
              "\n",
              "    .dataframe thead th {\n",
              "        text-align: right;\n",
              "    }\n",
              "</style>\n",
              "<table border=\"1\" class=\"dataframe\">\n",
              "  <thead>\n",
              "    <tr style=\"text-align: right;\">\n",
              "      <th></th>\n",
              "      <th>Sales</th>\n",
              "    </tr>\n",
              "    <tr>\n",
              "      <th>Month</th>\n",
              "      <th></th>\n",
              "    </tr>\n",
              "  </thead>\n",
              "  <tbody>\n",
              "    <tr>\n",
              "      <th>1960-01-01</th>\n",
              "      <td>6550</td>\n",
              "    </tr>\n",
              "    <tr>\n",
              "      <th>1960-02-01</th>\n",
              "      <td>8728</td>\n",
              "    </tr>\n",
              "    <tr>\n",
              "      <th>1960-03-01</th>\n",
              "      <td>12026</td>\n",
              "    </tr>\n",
              "    <tr>\n",
              "      <th>1960-04-01</th>\n",
              "      <td>14395</td>\n",
              "    </tr>\n",
              "    <tr>\n",
              "      <th>1960-05-01</th>\n",
              "      <td>14587</td>\n",
              "    </tr>\n",
              "  </tbody>\n",
              "</table>\n",
              "</div>"
            ],
            "text/plain": [
              "            Sales\n",
              "Month            \n",
              "1960-01-01   6550\n",
              "1960-02-01   8728\n",
              "1960-03-01  12026\n",
              "1960-04-01  14395\n",
              "1960-05-01  14587"
            ]
          },
          "metadata": {
            "tags": []
          },
          "execution_count": 8
        }
      ]
    },
    {
      "cell_type": "code",
      "metadata": {
        "id": "TZGpewhJeMRS",
        "outputId": "3c0ba98b-a821-4aaf-d6dd-bf96fa3fe071",
        "colab": {
          "base_uri": "https://localhost:8080/",
          "height": 297
        }
      },
      "source": [
        "dataset.describe()"
      ],
      "execution_count": null,
      "outputs": [
        {
          "output_type": "execute_result",
          "data": {
            "text/html": [
              "<div>\n",
              "<style scoped>\n",
              "    .dataframe tbody tr th:only-of-type {\n",
              "        vertical-align: middle;\n",
              "    }\n",
              "\n",
              "    .dataframe tbody tr th {\n",
              "        vertical-align: top;\n",
              "    }\n",
              "\n",
              "    .dataframe thead th {\n",
              "        text-align: right;\n",
              "    }\n",
              "</style>\n",
              "<table border=\"1\" class=\"dataframe\">\n",
              "  <thead>\n",
              "    <tr style=\"text-align: right;\">\n",
              "      <th></th>\n",
              "      <th>Sales</th>\n",
              "    </tr>\n",
              "  </thead>\n",
              "  <tbody>\n",
              "    <tr>\n",
              "      <th>count</th>\n",
              "      <td>108.000000</td>\n",
              "    </tr>\n",
              "    <tr>\n",
              "      <th>mean</th>\n",
              "      <td>14595.111111</td>\n",
              "    </tr>\n",
              "    <tr>\n",
              "      <th>std</th>\n",
              "      <td>4525.213913</td>\n",
              "    </tr>\n",
              "    <tr>\n",
              "      <th>min</th>\n",
              "      <td>5568.000000</td>\n",
              "    </tr>\n",
              "    <tr>\n",
              "      <th>25%</th>\n",
              "      <td>11391.250000</td>\n",
              "    </tr>\n",
              "    <tr>\n",
              "      <th>50%</th>\n",
              "      <td>14076.000000</td>\n",
              "    </tr>\n",
              "    <tr>\n",
              "      <th>75%</th>\n",
              "      <td>17595.750000</td>\n",
              "    </tr>\n",
              "    <tr>\n",
              "      <th>max</th>\n",
              "      <td>26099.000000</td>\n",
              "    </tr>\n",
              "  </tbody>\n",
              "</table>\n",
              "</div>"
            ],
            "text/plain": [
              "              Sales\n",
              "count    108.000000\n",
              "mean   14595.111111\n",
              "std     4525.213913\n",
              "min     5568.000000\n",
              "25%    11391.250000\n",
              "50%    14076.000000\n",
              "75%    17595.750000\n",
              "max    26099.000000"
            ]
          },
          "metadata": {
            "tags": []
          },
          "execution_count": 9
        }
      ]
    },
    {
      "cell_type": "code",
      "metadata": {
        "id": "rBKZr_n3eQNX",
        "outputId": "5695c886-8fd7-4402-d357-d03a1dd741db",
        "colab": {
          "base_uri": "https://localhost:8080/",
          "height": 279
        }
      },
      "source": [
        "dataset.plot()\n",
        "plt.show()"
      ],
      "execution_count": null,
      "outputs": [
        {
          "output_type": "display_data",
          "data": {
            "image/png": "[encoded data removed]",
            "text/plain": [
              "<Figure size 432x288 with 1 Axes>"
            ]
          },
          "metadata": {
            "tags": [],
            "needs_background": "light"
          }
        }
      ]
    },
    {
      "cell_type": "code",
      "metadata": {
        "id": "sJWkRh7ZeUCN",
        "outputId": "78a34850-e2cb-4a90-f8e8-259f1220641f",
        "colab": {
          "base_uri": "https://localhost:8080/",
          "height": 279
        }
      },
      "source": [
        "lag_plot(dataset)\n",
        "plt.show()"
      ],
      "execution_count": null,
      "outputs": [
        {
          "output_type": "display_data",
          "data": {
            "image/png": "[encoded data removed]",
            "text/plain": [
              "<Figure size 432x288 with 1 Axes>"
            ]
          },
          "metadata": {
            "tags": [],
            "needs_background": "light"
          }
        }
      ]
    },
    {
      "cell_type": "code",
      "metadata": {
        "id": "ApgYCj71eXmb",
        "outputId": "7e238eba-c681-4c91-c406-a48df9d3a995",
        "colab": {
          "base_uri": "https://localhost:8080/",
          "height": 283
        }
      },
      "source": [
        "pd.plotting.autocorrelation_plot(dataset)\n",
        "plt.show()"
      ],
      "execution_count": null,
      "outputs": [
        {
          "output_type": "display_data",
          "data": {
            "image/png": "[encoded data removed]",
            "text/plain": [
              "<Figure size 432x288 with 1 Axes>"
            ]
          },
          "metadata": {
            "tags": [],
            "needs_background": "light"
          }
        }
      ]
    },
    {
      "cell_type": "code",
      "metadata": {
        "id": "luhVWA-beoeH",
        "outputId": "1c7bbd58-fc1f-4afc-9511-ea9ccfbff47e",
        "colab": {
          "base_uri": "https://localhost:8080/",
          "height": 281
        }
      },
      "source": [
        "dataset.hist()\n",
        "plt.show()"
      ],
      "execution_count": null,
      "outputs": [
        {
          "output_type": "display_data",
          "data": {
            "image/png": "[encoded data removed]",
            "text/plain": [
              "<Figure size 432x288 with 1 Axes>"
            ]
          },
          "metadata": {
            "tags": [],
            "needs_background": "light"
          }
        }
      ]
    },
    {
      "cell_type": "code",
      "metadata": {
        "id": "6D26TdEtesIL",
        "outputId": "4d29ff02-0ffa-4713-8261-a923905da8c0",
        "colab": {
          "base_uri": "https://localhost:8080/",
          "height": 276
        }
      },
      "source": [
        "dataset.plot(kind='kde') \n",
        "plt.show()"
      ],
      "execution_count": null,
      "outputs": [
        {
          "output_type": "display_data",
          "data": {
            "image/png": "[encoded data removed]",
            "text/plain": [
              "<Figure size 432x288 with 1 Axes>"
            ]
          },
          "metadata": {
            "tags": [],
            "needs_background": "light"
          }
        }
      ]
    },
    {
      "cell_type": "code",
      "metadata": {
        "id": "YKPzp7f4e126",
        "outputId": "d062d29e-8d7f-4e3b-a705-e9aca8ed2a0f",
        "colab": {
          "base_uri": "https://localhost:8080/",
          "height": 282
        }
      },
      "source": [
        "groups = dataset.groupby(pd.Grouper(freq='A'))\n",
        "print(groups) \n",
        "years = pd.DataFrame()\n",
        "for name, group in groups:\n",
        "  years[name.year] = group.values.flatten()\n",
        "years.boxplot()\n",
        "plt.show()"
      ],
      "execution_count": null,
      "outputs": [
        {
          "output_type": "stream",
          "text": [
            "<pandas.core.groupby.generic.DataFrameGroupBy object at 0x7f1e85c65400>\n"
          ],
          "name": "stdout"
        },
        {
          "output_type": "display_data",
          "data": {
            "image/png": "[encoded data removed]",
            "text/plain": [
              "<Figure size 432x288 with 1 Axes>"
            ]
          },
          "metadata": {
            "tags": [],
            "needs_background": "light"
          }
        }
      ]
    },
    {
      "cell_type": "code",
      "metadata": {
        "id": "VkVpgDPSfD1O"
      },
      "source": [
        "values = dataset.values\n",
        "values = values.astype('float32')"
      ],
      "execution_count": null,
      "outputs": []
    },
    {
      "cell_type": "code",
      "metadata": {
        "id": "7GDRxjAkfGzj",
        "outputId": "83e94da8-84a9-48b1-9421-042070d37845",
        "colab": {
          "base_uri": "https://localhost:8080/",
          "height": 281
        }
      },
      "source": [
        "from statsmodels.graphics.tsaplots import plot_acf\n",
        "\n",
        "plot_acf(dataset, lags=12, ax=plt.gca())\n",
        "plt.show()"
      ],
      "execution_count": null,
      "outputs": [
        {
          "output_type": "display_data",
          "data": {
            "image/png": "[encoded data removed]",
            "text/plain": [
              "<Figure size 432x288 with 1 Axes>"
            ]
          },
          "metadata": {
            "tags": [],
            "needs_background": "light"
          }
        }
      ]
    },
    {
      "cell_type": "code",
      "metadata": {
        "id": "-v3Z6BlDfwiZ"
      },
      "source": [
        "from statsmodels.tsa.ar_model import AR\n",
        "from sklearn.metrics import mean_squared_error\n",
        "from math import sqrt"
      ],
      "execution_count": null,
      "outputs": []
    },
    {
      "cell_type": "code",
      "metadata": {
        "id": "l5i7q48OfzFF"
      },
      "source": [
        "train_size = int(len(values) * 0.50)\n",
        "train, test = values[0:train_size], values[train_size:]"
      ],
      "execution_count": null,
      "outputs": []
    },
    {
      "cell_type": "code",
      "metadata": {
        "id": "OLuprSwTf2fo",
        "outputId": "5b216e94-e70a-4947-febc-478bf5421e61",
        "colab": {
          "base_uri": "https://localhost:8080/",
          "height": 1000
        }
      },
      "source": [
        "values = dataset.values\n",
        "train, test = values[:len(values)-12], values[len(values)-12:]\n",
        "\n",
        "print(len(values))\n",
        "print(values)\n",
        "print(len(values[1:len(values)-12]))\n",
        "print(len(values[len(values)-12:]))"
      ],
      "execution_count": null,
      "outputs": [
        {
          "output_type": "stream",
          "text": [
            "108\n",
            "[[ 6550]\n",
            " [ 8728]\n",
            " [12026]\n",
            " [14395]\n",
            " [14587]\n",
            " [13791]\n",
            " [ 9498]\n",
            " [ 8251]\n",
            " [ 7049]\n",
            " [ 9545]\n",
            " [ 9364]\n",
            " [ 8456]\n",
            " [ 7237]\n",
            " [ 9374]\n",
            " [11837]\n",
            " [13784]\n",
            " [15926]\n",
            " [13821]\n",
            " [11143]\n",
            " [ 7975]\n",
            " [ 7610]\n",
            " [10015]\n",
            " [12759]\n",
            " [ 8816]\n",
            " [10677]\n",
            " [10947]\n",
            " [15200]\n",
            " [17010]\n",
            " [20900]\n",
            " [16205]\n",
            " [12143]\n",
            " [ 8997]\n",
            " [ 5568]\n",
            " [11474]\n",
            " [12256]\n",
            " [10583]\n",
            " [10862]\n",
            " [10965]\n",
            " [14405]\n",
            " [20379]\n",
            " [20128]\n",
            " [17816]\n",
            " [12268]\n",
            " [ 8642]\n",
            " [ 7962]\n",
            " [13932]\n",
            " [15936]\n",
            " [12628]\n",
            " [12267]\n",
            " [12470]\n",
            " [18944]\n",
            " [21259]\n",
            " [22015]\n",
            " [18581]\n",
            " [15175]\n",
            " [10306]\n",
            " [10792]\n",
            " [14752]\n",
            " [13754]\n",
            " [11738]\n",
            " [12181]\n",
            " [12965]\n",
            " [19990]\n",
            " [23125]\n",
            " [23541]\n",
            " [21247]\n",
            " [15189]\n",
            " [14767]\n",
            " [10895]\n",
            " [17130]\n",
            " [17697]\n",
            " [16611]\n",
            " [12674]\n",
            " [12760]\n",
            " [20249]\n",
            " [22135]\n",
            " [20677]\n",
            " [19933]\n",
            " [15388]\n",
            " [15113]\n",
            " [13401]\n",
            " [16135]\n",
            " [17562]\n",
            " [14720]\n",
            " [12225]\n",
            " [11608]\n",
            " [20985]\n",
            " [19692]\n",
            " [24081]\n",
            " [22114]\n",
            " [14220]\n",
            " [13434]\n",
            " [13598]\n",
            " [17187]\n",
            " [16119]\n",
            " [13713]\n",
            " [13210]\n",
            " [14251]\n",
            " [20139]\n",
            " [21725]\n",
            " [26099]\n",
            " [21084]\n",
            " [18024]\n",
            " [16722]\n",
            " [14385]\n",
            " [21342]\n",
            " [17180]\n",
            " [14577]]\n",
            "95\n",
            "12\n"
          ],
          "name": "stdout"
        }
      ]
    },
    {
      "cell_type": "code",
      "metadata": {
        "id": "2GyPjwfXf9ET",
        "outputId": "11047290-48c2-4dcc-b50f-ad264b2a2336",
        "colab": {
          "base_uri": "https://localhost:8080/",
          "height": 102
        }
      },
      "source": [
        "model = AR(train)\n",
        "model_fit = model.fit()\n",
        "print('Lag:', model_fit.k_ar)\n",
        "print('Coefficients:', model_fit.params)"
      ],
      "execution_count": null,
      "outputs": [
        {
          "output_type": "stream",
          "text": [
            "Lag: 12\n",
            "Coefficients: [ 2.68298809e+03  2.12468551e-01  7.14078750e-02 -9.84501076e-02\n",
            " -8.42436210e-02  1.26038708e-01 -6.13991473e-02  3.92673806e-02\n",
            " -9.43735407e-02 -1.11434223e-02 -5.86486822e-02  2.70241371e-01\n",
            "  5.49229320e-01]\n"
          ],
          "name": "stdout"
        }
      ]
    },
    {
      "cell_type": "code",
      "metadata": {
        "id": "NslDPCX0gA7j",
        "outputId": "c3f9f154-7dc4-4eea-9247-50268ce68fee",
        "colab": {
          "base_uri": "https://localhost:8080/",
          "height": 238
        }
      },
      "source": [
        "predictions = model_fit.predict(start=len(train), end=len(train)+len(test)-1, dynamic=False) \n",
        "for i in range(len(predictions)):\n",
        "  print('predicted=%f, expected=%f' % (predictions[i], test[i])) \n",
        "  rmse = sqrt(mean_squared_error(test, predictions))\n",
        "\n",
        "print('Test RMSE: %.3f' % rmse)"
      ],
      "execution_count": null,
      "outputs": [
        {
          "output_type": "stream",
          "text": [
            "predicted=11726.955280, expected=13210.000000\n",
            "predicted=13102.659492, expected=14251.000000\n",
            "predicted=19301.592602, expected=20139.000000\n",
            "predicted=21520.034099, expected=21725.000000\n",
            "predicted=24704.421821, expected=26099.000000\n",
            "predicted=21160.652847, expected=21084.000000\n",
            "predicted=15598.486334, expected=18024.000000\n",
            "predicted=13923.205818, expected=16722.000000\n",
            "predicted=14540.567411, expected=14385.000000\n",
            "predicted=17622.782731, expected=21342.000000\n",
            "predicted=16679.547194, expected=17180.000000\n",
            "predicted=14203.884870, expected=14577.000000\n",
            "Test RMSE: 1687.575\n"
          ],
          "name": "stdout"
        }
      ]
    },
    {
      "cell_type": "code",
      "metadata": {
        "id": "cpGe79SqgX6v",
        "outputId": "e22a1a99-84b8-485b-a915-cde145b3d90a",
        "colab": {
          "base_uri": "https://localhost:8080/",
          "height": 265
        }
      },
      "source": [
        "plt.plot(test) \n",
        "plt.plot(predictions, color='red') \n",
        "plt.show()"
      ],
      "execution_count": null,
      "outputs": [
        {
          "output_type": "display_data",
          "data": {
            "image/png": "[encoded data removed]",
            "text/plain": [
              "<Figure size 432x288 with 1 Axes>"
            ]
          },
          "metadata": {
            "tags": [],
            "needs_background": "light"
          }
        }
      ]
    },
    {
      "cell_type": "code",
      "metadata": {
        "id": "5Ki1rDWkgbit"
      },
      "source": [
        "from statsmodels.tsa.arima_model import ARIMA\n",
        "from sklearn.metrics import mean_squared_error\n",
        "from math import sqrt"
      ],
      "execution_count": null,
      "outputs": []
    },
    {
      "cell_type": "code",
      "metadata": {
        "id": "bnp4NPITge40",
        "outputId": "65c7569e-3d3e-46d5-d68f-51c26aa8c768",
        "colab": {
          "base_uri": "https://localhost:8080/",
          "height": 513
        }
      },
      "source": [
        "model = ARIMA(dataset, order=(2,0,2))\n",
        "model_fit = model.fit(disp=0)\n",
        "print(model_fit.summary())"
      ],
      "execution_count": null,
      "outputs": [
        {
          "output_type": "stream",
          "text": [
            "/usr/local/lib/python3.6/dist-packages/statsmodels/tsa/base/tsa_model.py:165: ValueWarning: No frequency information was provided, so inferred frequency MS will be used.\n",
            "  % freq, ValueWarning)\n"
          ],
          "name": "stderr"
        },
        {
          "output_type": "stream",
          "text": [
            "                              ARMA Model Results                              \n",
            "==============================================================================\n",
            "Dep. Variable:                  Sales   No. Observations:                  108\n",
            "Model:                     ARMA(2, 2)   Log Likelihood               -1008.379\n",
            "Method:                       css-mle   S.D. of innovations           2725.661\n",
            "Date:                Fri, 18 Sep 2020   AIC                           2028.758\n",
            "Time:                        00:24:37   BIC                           2044.851\n",
            "Sample:                    01-01-1960   HQIC                          2035.283\n",
            "                         - 12-01-1968                                         \n",
            "===============================================================================\n",
            "                  coef    std err          z      P>|z|      [0.025      0.975]\n",
            "-------------------------------------------------------------------------------\n",
            "const        1.446e+04    722.266     20.025      0.000     1.3e+04    1.59e+04\n",
            "ar.L1.Sales     0.6718      0.226      2.966      0.004       0.228       1.116\n",
            "ar.L2.Sales    -0.3356      0.172     -1.954      0.053      -0.672       0.001\n",
            "ma.L1.Sales     0.2849      0.212      1.346      0.181      -0.130       0.700\n",
            "ma.L2.Sales     0.5539      0.124      4.478      0.000       0.311       0.796\n",
            "                                    Roots                                    \n",
            "=============================================================================\n",
            "                  Real          Imaginary           Modulus         Frequency\n",
            "-----------------------------------------------------------------------------\n",
            "AR.1            1.0008           -1.4064j            1.7262           -0.1516\n",
            "AR.2            1.0008           +1.4064j            1.7262            0.1516\n",
            "MA.1           -0.2572           -1.3188j            1.3437           -0.2806\n",
            "MA.2           -0.2572           +1.3188j            1.3437            0.2806\n",
            "-----------------------------------------------------------------------------\n"
          ],
          "name": "stdout"
        }
      ]
    },
    {
      "cell_type": "code",
      "metadata": {
        "id": "EFtRuKWTgi7H",
        "outputId": "087880df-f109-4c21-9e72-c1a2108aea4f",
        "colab": {
          "base_uri": "https://localhost:8080/",
          "height": 544
        }
      },
      "source": [
        "residuals = pd.DataFrame(model_fit.resid)\n",
        "residuals.plot()\n",
        "plt.show()\n",
        "\n",
        "plt.plot(dataset)\n",
        "plt.plot(residuals,  color='red')\n",
        "plt.legend(['Dataset','Residual Error'])"
      ],
      "execution_count": null,
      "outputs": [
        {
          "output_type": "display_data",
          "data": {
            "image/png": "[encoded data removed]",
            "text/plain": [
              "<Figure size 432x288 with 1 Axes>"
            ]
          },
          "metadata": {
            "tags": [],
            "needs_background": "light"
          }
        },
        {
          "output_type": "execute_result",
          "data": {
            "text/plain": [
              "<matplotlib.legend.Legend at 0x7f1e8323dd30>"
            ]
          },
          "metadata": {
            "tags": []
          },
          "execution_count": 21
        },
        {
          "output_type": "display_data",
          "data": {
            "image/png": "[encoded data removed]",
            "text/plain": [
              "<Figure size 432x288 with 1 Axes>"
            ]
          },
          "metadata": {
            "tags": [],
            "needs_background": "light"
          }
        }
      ]
    },
    {
      "cell_type": "code",
      "metadata": {
        "id": "natxe0gpgrEF",
        "outputId": "a5d50a05-63f3-4bd1-9362-494dea556e96",
        "colab": {
          "base_uri": "https://localhost:8080/",
          "height": 450
        }
      },
      "source": [
        "residuals"
      ],
      "execution_count": null,
      "outputs": [
        {
          "output_type": "execute_result",
          "data": {
            "text/html": [
              "<div>\n",
              "<style scoped>\n",
              "    .dataframe tbody tr th:only-of-type {\n",
              "        vertical-align: middle;\n",
              "    }\n",
              "\n",
              "    .dataframe tbody tr th {\n",
              "        vertical-align: top;\n",
              "    }\n",
              "\n",
              "    .dataframe thead th {\n",
              "        text-align: right;\n",
              "    }\n",
              "</style>\n",
              "<table border=\"1\" class=\"dataframe\">\n",
              "  <thead>\n",
              "    <tr style=\"text-align: right;\">\n",
              "      <th></th>\n",
              "      <th>0</th>\n",
              "    </tr>\n",
              "    <tr>\n",
              "      <th>Month</th>\n",
              "      <th></th>\n",
              "    </tr>\n",
              "  </thead>\n",
              "  <tbody>\n",
              "    <tr>\n",
              "      <th>1960-01-01</th>\n",
              "      <td>-7913.475798</td>\n",
              "    </tr>\n",
              "    <tr>\n",
              "      <th>1960-02-01</th>\n",
              "      <td>-12.180111</td>\n",
              "    </tr>\n",
              "    <tr>\n",
              "      <th>1960-03-01</th>\n",
              "      <td>346.113876</td>\n",
              "    </tr>\n",
              "    <tr>\n",
              "      <th>1960-04-01</th>\n",
              "      <td>-432.010910</td>\n",
              "    </tr>\n",
              "    <tr>\n",
              "      <th>1960-05-01</th>\n",
              "      <td>-691.925377</td>\n",
              "    </tr>\n",
              "    <tr>\n",
              "      <th>...</th>\n",
              "      <td>...</td>\n",
              "    </tr>\n",
              "    <tr>\n",
              "      <th>1968-08-01</th>\n",
              "      <td>2764.946231</td>\n",
              "    </tr>\n",
              "    <tr>\n",
              "      <th>1968-09-01</th>\n",
              "      <td>-1331.757363</td>\n",
              "    </tr>\n",
              "    <tr>\n",
              "      <th>1968-10-01</th>\n",
              "      <td>6537.167840</td>\n",
              "    </tr>\n",
              "    <tr>\n",
              "      <th>1968-11-01</th>\n",
              "      <td>-3055.089615</td>\n",
              "    </tr>\n",
              "    <tr>\n",
              "      <th>1968-12-01</th>\n",
              "      <td>-2153.270665</td>\n",
              "    </tr>\n",
              "  </tbody>\n",
              "</table>\n",
              "<p>108 rows × 1 columns</p>\n",
              "</div>"
            ],
            "text/plain": [
              "                      0\n",
              "Month                  \n",
              "1960-01-01 -7913.475798\n",
              "1960-02-01   -12.180111\n",
              "1960-03-01   346.113876\n",
              "1960-04-01  -432.010910\n",
              "1960-05-01  -691.925377\n",
              "...                 ...\n",
              "1968-08-01  2764.946231\n",
              "1968-09-01 -1331.757363\n",
              "1968-10-01  6537.167840\n",
              "1968-11-01 -3055.089615\n",
              "1968-12-01 -2153.270665\n",
              "\n",
              "[108 rows x 1 columns]"
            ]
          },
          "metadata": {
            "tags": []
          },
          "execution_count": 22
        }
      ]
    },
    {
      "cell_type": "code",
      "metadata": {
        "id": "SaFX_U6Bgusj",
        "outputId": "ec06f245-7847-4ae6-9b52-017884ca1aeb",
        "colab": {
          "base_uri": "https://localhost:8080/",
          "height": 170
        }
      },
      "source": [
        "print(residuals.describe())"
      ],
      "execution_count": null,
      "outputs": [
        {
          "output_type": "stream",
          "text": [
            "                 0\n",
            "count   108.000000\n",
            "mean      1.881608\n",
            "std    2806.218285\n",
            "min   -7913.475798\n",
            "25%   -2007.021605\n",
            "50%     -57.544001\n",
            "75%    1457.131984\n",
            "max    8085.223199\n"
          ],
          "name": "stdout"
        }
      ]
    },
    {
      "cell_type": "code",
      "metadata": {
        "id": "V7JJTaxegymW",
        "outputId": "b0cbc5c1-19f2-4f25-c849-dab21d4ab568",
        "colab": {
          "base_uri": "https://localhost:8080/",
          "height": 1000
        }
      },
      "source": [
        "values = dataset.values\n",
        "size = int(len(values) * 0.50)\n",
        "train, test = values[0:size], values[size:len(values)]\n",
        "history = [x for x in train]\n",
        "predictions = []\n",
        "\n",
        "for t in range(len(test)):\n",
        "\tmodel = ARIMA(history, order=(2,0,2))\n",
        "\tmodel_fit = model.fit(disp=0)\n",
        "\toutput = model_fit.forecast()\n",
        "\tprediction = output[0]\n",
        "\tpredictions.append(prediction)\n",
        "\texpected = test[t]\n",
        "\thistory.append(expected)\n",
        "\tprint('predicted=%f, expected=%f' % (prediction, expected))\n",
        "error = sqrt(mean_squared_error(test, predictions))\n",
        "print('Test RMSE: %.3f' % error)"
      ],
      "execution_count": null,
      "outputs": [
        {
          "output_type": "stream",
          "text": [
            "predicted=14711.336373, expected=15175.000000\n",
            "predicted=12660.419268, expected=10306.000000\n",
            "predicted=9041.604163, expected=10792.000000\n",
            "predicted=11103.457995, expected=14752.000000\n",
            "predicted=16901.918514, expected=13754.000000\n",
            "predicted=13870.400524, expected=11738.000000\n",
            "predicted=9381.646945, expected=12181.000000\n",
            "predicted=11980.868369, expected=12965.000000\n",
            "predicted=14322.951194, expected=19990.000000\n",
            "predicted=19771.359712, expected=23125.000000\n",
            "predicted=21223.069789, expected=23541.000000\n",
            "predicted=18812.346408, expected=21247.000000\n",
            "predicted=16566.724304, expected=15189.000000\n",
            "predicted=11664.222633, expected=14767.000000\n",
            "predicted=13344.855198, expected=10895.000000\n",
            "predicted=11501.958984, expected=17130.000000\n",
            "predicted=17057.543914, expected=17697.000000\n",
            "predicted=18545.785376, expected=16611.000000\n",
            "predicted=13775.538690, expected=12674.000000\n",
            "predicted=9818.129010, expected=12760.000000\n",
            "predicted=13115.143741, expected=20249.000000\n",
            "predicted=22750.001882, expected=22135.000000\n",
            "predicted=20975.164885, expected=20677.000000\n",
            "predicted=14498.009222, expected=19933.000000\n",
            "predicted=16735.197239, expected=15388.000000\n",
            "predicted=14621.965240, expected=15113.000000\n",
            "predicted=13502.076692, expected=13401.000000\n",
            "predicted=13053.444533, expected=16135.000000\n",
            "predicted=16455.585103, expected=17562.000000\n",
            "predicted=17639.182695, expected=14720.000000\n",
            "predicted=12661.895431, expected=12225.000000\n",
            "predicted=10526.899737, expected=11608.000000\n",
            "predicted=12857.657365, expected=20985.000000\n",
            "predicted=22979.192164, expected=19692.000000\n"
          ],
          "name": "stdout"
        },
        {
          "output_type": "stream",
          "text": [
            "/usr/local/lib/python3.6/dist-packages/statsmodels/base/model.py:492: HessianInversionWarning: Inverting hessian failed, no bse or cov_params available\n",
            "  'available', HessianInversionWarning)\n",
            "/usr/local/lib/python3.6/dist-packages/statsmodels/base/model.py:512: ConvergenceWarning: Maximum Likelihood optimization failed to converge. Check mle_retvals\n",
            "  \"Check mle_retvals\", ConvergenceWarning)\n"
          ],
          "name": "stderr"
        },
        {
          "output_type": "stream",
          "text": [
            "predicted=18631.605321, expected=24081.000000\n",
            "predicted=16263.518492, expected=22114.000000\n"
          ],
          "name": "stdout"
        },
        {
          "output_type": "stream",
          "text": [
            "/usr/local/lib/python3.6/dist-packages/statsmodels/base/model.py:492: HessianInversionWarning: Inverting hessian failed, no bse or cov_params available\n",
            "  'available', HessianInversionWarning)\n",
            "/usr/local/lib/python3.6/dist-packages/statsmodels/base/model.py:512: ConvergenceWarning: Maximum Likelihood optimization failed to converge. Check mle_retvals\n",
            "  \"Check mle_retvals\", ConvergenceWarning)\n"
          ],
          "name": "stderr"
        },
        {
          "output_type": "stream",
          "text": [
            "predicted=21713.245096, expected=14220.000000\n",
            "predicted=11199.597956, expected=13434.000000\n"
          ],
          "name": "stdout"
        },
        {
          "output_type": "stream",
          "text": [
            "/usr/local/lib/python3.6/dist-packages/statsmodels/base/model.py:492: HessianInversionWarning: Inverting hessian failed, no bse or cov_params available\n",
            "  'available', HessianInversionWarning)\n"
          ],
          "name": "stderr"
        },
        {
          "output_type": "stream",
          "text": [
            "predicted=14457.421424, expected=13598.000000\n"
          ],
          "name": "stdout"
        },
        {
          "output_type": "stream",
          "text": [
            "/usr/local/lib/python3.6/dist-packages/statsmodels/base/model.py:492: HessianInversionWarning: Inverting hessian failed, no bse or cov_params available\n",
            "  'available', HessianInversionWarning)\n",
            "/usr/local/lib/python3.6/dist-packages/statsmodels/base/model.py:512: ConvergenceWarning: Maximum Likelihood optimization failed to converge. Check mle_retvals\n",
            "  \"Check mle_retvals\", ConvergenceWarning)\n"
          ],
          "name": "stderr"
        },
        {
          "output_type": "stream",
          "text": [
            "predicted=14305.796049, expected=17187.000000\n"
          ],
          "name": "stdout"
        },
        {
          "output_type": "stream",
          "text": [
            "/usr/local/lib/python3.6/dist-packages/statsmodels/base/model.py:492: HessianInversionWarning: Inverting hessian failed, no bse or cov_params available\n",
            "  'available', HessianInversionWarning)\n",
            "/usr/local/lib/python3.6/dist-packages/statsmodels/base/model.py:512: ConvergenceWarning: Maximum Likelihood optimization failed to converge. Check mle_retvals\n",
            "  \"Check mle_retvals\", ConvergenceWarning)\n"
          ],
          "name": "stderr"
        },
        {
          "output_type": "stream",
          "text": [
            "predicted=18349.140576, expected=16119.000000\n",
            "predicted=14842.201445, expected=13713.000000\n",
            "predicted=11818.350634, expected=13210.000000\n",
            "predicted=13378.745635, expected=14251.000000\n",
            "predicted=15395.402079, expected=20139.000000\n",
            "predicted=20077.871438, expected=21725.000000\n",
            "predicted=20180.286643, expected=26099.000000\n",
            "predicted=22677.838027, expected=21084.000000\n",
            "predicted=17538.210331, expected=18024.000000\n"
          ],
          "name": "stdout"
        },
        {
          "output_type": "stream",
          "text": [
            "/usr/local/lib/python3.6/dist-packages/statsmodels/base/model.py:492: HessianInversionWarning: Inverting hessian failed, no bse or cov_params available\n",
            "  'available', HessianInversionWarning)\n",
            "/usr/local/lib/python3.6/dist-packages/statsmodels/base/model.py:512: ConvergenceWarning: Maximum Likelihood optimization failed to converge. Check mle_retvals\n",
            "  \"Check mle_retvals\", ConvergenceWarning)\n"
          ],
          "name": "stderr"
        },
        {
          "output_type": "stream",
          "text": [
            "predicted=17990.292482, expected=16722.000000\n",
            "predicted=15741.563113, expected=14385.000000\n",
            "predicted=14586.112716, expected=21342.000000\n",
            "predicted=20463.025565, expected=17180.000000\n",
            "predicted=16895.904298, expected=14577.000000\n",
            "Test RMSE: 3374.813\n"
          ],
          "name": "stdout"
        }
      ]
    },
    {
      "cell_type": "code",
      "metadata": {
        "id": "o2w1t64aj1eD",
        "outputId": "46d73014-66cc-4b4a-b8a4-d6c16b426a3a",
        "colab": {
          "base_uri": "https://localhost:8080/",
          "height": 265
        }
      },
      "source": [
        "plt.plot(test)\n",
        "plt.plot(predictions, color='red')\n",
        "plt.legend(['test','prediction'])\n",
        "plt.show()"
      ],
      "execution_count": null,
      "outputs": [
        {
          "output_type": "display_data",
          "data": {
            "image/png": "[encoded data removed]",
            "text/plain": [
              "<Figure size 432x288 with 1 Axes>"
            ]
          },
          "metadata": {
            "tags": [],
            "needs_background": "light"
          }
        }
      ]
    },
    {
      "cell_type": "code",
      "metadata": {
        "id": "Q9ENAqJtj67h"
      },
      "source": [
        "# Courtesy of Jason Brownlee of Machine Learning Mastery\n",
        "# evaluate an ARIMA model for a given order (p,d,q)\n",
        "def evaluate_arima_model(X, arima_order):\n",
        "\t# prepare training dataset\n",
        "\ttrain_size = int(len(X) * 0.50)\n",
        "\ttrain, test = X[0:train_size], X[train_size:]\n",
        "\thistory = [x for x in train]\n",
        "\t# make predictions\n",
        "\tpredictions = list()\n",
        "\tfor t in range(len(test)):\n",
        "\t\tmodel = ARIMA(history, order=arima_order)\n",
        "\t\tmodel_fit = model.fit(disp=0)\n",
        "\t\tyhat = model_fit.forecast()[0]\n",
        "\t\tpredictions.append(yhat)\n",
        "\t\thistory.append(test[t])\n",
        "\t# calculate out of sample error\n",
        "\terror = mean_squared_error(test, predictions)\n",
        "\treturn error\n",
        "\n",
        "# evaluate combinations of p, d and q values for an ARIMA model\n",
        "def evaluate_models(dataset, p_values, d_values, q_values):\n",
        "\tdataset = dataset.astype('float32')\n",
        "\tbest_score, best_cfg = float(\"inf\"), None\n",
        "\tfor p in p_values:\n",
        "\t\tfor d in d_values:\n",
        "\t\t\tfor q in q_values:\n",
        "\t\t\t\torder = (p,d,q)\n",
        "\t\t\t\ttry:\n",
        "\t\t\t\t\tmse = evaluate_arima_model(dataset, order)\n",
        "\t\t\t\t\tif mse < best_score:\n",
        "\t\t\t\t\t\tbest_score, best_cfg = mse, order\n",
        "\t\t\t\t\tprint('ARIMA%s MSE=%.3f' % (order,mse))\n",
        "\t\t\t\texcept:\n",
        "\t\t\t\t\tcontinue\n",
        "\tprint('Best ARIMA%s MSE=%.3f' % (best_cfg, best_score))"
      ],
      "execution_count": null,
      "outputs": []
    },
    {
      "cell_type": "code",
      "metadata": {
        "id": "ozAITNsAlCsD",
        "outputId": "14a72567-e0ec-4676-fed2-3452e5a6c0ff",
        "colab": {
          "base_uri": "https://localhost:8080/",
          "height": 357
        }
      },
      "source": [
        "import warnings\n",
        "\n",
        "p_values = range(0, 8)\n",
        "d_values = range(0, 2)\n",
        "q_values = range(0, 2)\n",
        "warnings.filterwarnings(\"ignore\")\n",
        "evaluate_models(values, p_values, d_values, q_values)"
      ],
      "execution_count": null,
      "outputs": [
        {
          "output_type": "stream",
          "text": [
            "ARIMA(0, 0, 0) MSE=24110004.881\n",
            "ARIMA(0, 0, 1) MSE=13607908.837\n",
            "ARIMA(0, 1, 0) MSE=13300371.177\n",
            "ARIMA(0, 1, 1) MSE=13589621.734\n",
            "ARIMA(1, 0, 0) MSE=11557177.876\n",
            "ARIMA(1, 0, 1) MSE=11353145.714\n",
            "ARIMA(1, 1, 0) MSE=13558917.487\n",
            "ARIMA(2, 0, 0) MSE=11429525.777\n",
            "ARIMA(2, 1, 0) MSE=13793456.475\n",
            "ARIMA(3, 0, 0) MSE=11550826.789\n",
            "ARIMA(3, 1, 0) MSE=11694089.817\n",
            "ARIMA(4, 0, 0) MSE=10757368.973\n",
            "ARIMA(4, 1, 0) MSE=10657861.783\n",
            "ARIMA(5, 0, 0) MSE=10269949.210\n",
            "ARIMA(5, 1, 0) MSE=10256667.318\n",
            "ARIMA(6, 0, 0) MSE=9603075.484\n",
            "ARIMA(6, 1, 0) MSE=10316632.550\n",
            "ARIMA(7, 0, 0) MSE=10051514.212\n",
            "ARIMA(7, 1, 0) MSE=11097816.316\n",
            "Best ARIMA(6, 0, 0) MSE=9603075.484\n"
          ],
          "name": "stdout"
        }
      ]
    },
    {
      "cell_type": "code",
      "metadata": {
        "id": "MKBK8lnxqXo5",
        "outputId": "6562ece0-1373-4c06-cb40-38ca2b185416",
        "colab": {
          "base_uri": "https://localhost:8080/",
          "height": 71
        }
      },
      "source": [
        "from multiprocessing import cpu_count\n",
        "from joblib import Parallel\n",
        "from joblib import delayed\n",
        "from warnings import catch_warnings\n",
        "from warnings import filterwarnings\n",
        "from statsmodels.tsa.statespace.sarimax import SARIMAX"
      ],
      "execution_count": null,
      "outputs": [
        {
          "output_type": "stream",
          "text": [
            "/usr/local/lib/python3.6/dist-packages/statsmodels/tools/_testing.py:19: FutureWarning: pandas.util.testing is deprecated. Use the functions in the public API at pandas.testing instead.\n",
            "  import pandas.util.testing as tm\n"
          ],
          "name": "stderr"
        }
      ]
    },
    {
      "cell_type": "code",
      "metadata": {
        "id": "FRxwWvlZqbKA"
      },
      "source": [
        "# Courtesy of Jason Brownlee of Machine Learning Mastery\n",
        "# one-step sarima forecast\n",
        "def sarima_forecast(history, config):\n",
        "\torder, sorder, trend = config\n",
        "\t# define model\n",
        "\tmodel = SARIMAX(history, order=order, seasonal_order=sorder, trend=trend, enforce_stationarity=False, enforce_invertibility=False)\n",
        "\t# fit model\n",
        "\tmodel_fit = model.fit(disp=False)\n",
        "\t# make one step forecast\n",
        "\tyhat = model_fit.predict(len(history), len(history))\n",
        "\treturn yhat[0]\n",
        "\n",
        "# root mean squared error or rmse\n",
        "def measure_rmse(actual, predicted):\n",
        "\treturn sqrt(mean_squared_error(actual, predicted))\n",
        "\n",
        "# split a univariate dataset into train/test sets\n",
        "def train_test_split(data, n_test):\n",
        "\treturn data[:-n_test], data[-n_test:]\n",
        "\n",
        "# walk-forward validation for univariate data\n",
        "def walk_forward_validation(data, n_test, cfg):\n",
        "\tpredictions = list()\n",
        "\t# split dataset\n",
        "\ttrain, test = train_test_split(data, n_test)\n",
        "\t# seed history with training dataset\n",
        "\thistory = [x for x in train]\n",
        "\t# step over each time-step in the test set\n",
        "\tfor i in range(len(test)):\n",
        "\t\t# fit model and make forecast for history\n",
        "\t\tyhat = sarima_forecast(history, cfg)\n",
        "\t\t# store forecast in list of predictions\n",
        "\t\tpredictions.append(yhat)\n",
        "\t\t# add actual observation to history for the next loop\n",
        "\t\thistory.append(test[i])\n",
        "\t# estimate prediction error\n",
        "\terror = measure_rmse(test, predictions)\n",
        "\treturn error\n",
        "\n",
        "# score a model, return None on failure\n",
        "def score_model(data, n_test, cfg, debug=False):\n",
        "\tresult = None\n",
        "\t# convert config to a key\n",
        "\tkey = str(cfg)\n",
        "\t# show all warnings and fail on exception if debugging\n",
        "\tif debug:\n",
        "\t\tresult = walk_forward_validation(data, n_test, cfg)\n",
        "\telse:\n",
        "\t\t# one failure during model validation suggests an unstable config\n",
        "\t\ttry:\n",
        "\t\t\t# never show warnings when grid searching, too noisy\n",
        "\t\t\twith catch_warnings():\n",
        "\t\t\t\tfilterwarnings(\"ignore\")\n",
        "\t\t\t\tresult = walk_forward_validation(data, n_test, cfg)\n",
        "\t\texcept:\n",
        "\t\t\terror = None\n",
        "\t# check for an interesting result\n",
        "\tif result is not None:\n",
        "\t\tprint(' > Model[%s] %.3f' % (key, result))\n",
        "\treturn (key, result)\n",
        "\n",
        "# grid search configs\n",
        "def grid_search(data, cfg_list, n_test, parallel=True):\n",
        "\tscores = None\n",
        "\tif parallel:\n",
        "\t\t# execute configs in parallel\n",
        "\t\texecutor = Parallel(n_jobs=cpu_count(), backend='multiprocessing')\n",
        "\t\ttasks = (delayed(score_model)(data, n_test, cfg) for cfg in cfg_list)\n",
        "\t\tscores = executor(tasks)\n",
        "\telse:\n",
        "\t\tscores = [score_model(data, n_test, cfg) for cfg in cfg_list]\n",
        "\t# remove empty results\n",
        "\tscores = [r for r in scores if r[1] != None]\n",
        "\t# sort configs by error, asc\n",
        "\tscores.sort(key=lambda tup: tup[1])\n",
        "\treturn scores\n",
        "\n",
        "# create a set of sarima configs to try\n",
        "def sarima_configs(seasonal=[0]):\n",
        "\tmodels = list()\n",
        "\t# define config lists\n",
        "\tp_params = [0, 1, 2]\n",
        "\td_params = [0, 1]\n",
        "\tq_params = [0, 1, 2]\n",
        "\tt_params = ['n','c','t','ct']\n",
        "\tP_params = [0, 1, 2]\n",
        "\tD_params = [0, 1]\n",
        "\tQ_params = [0, 1, 2]\n",
        "\tm_params = seasonal\n",
        "\t# create config instances\n",
        "\tfor p in p_params:\n",
        "\t\tfor d in d_params:\n",
        "\t\t\tfor q in q_params:\n",
        "\t\t\t\tfor t in t_params:\n",
        "\t\t\t\t\tfor P in P_params:\n",
        "\t\t\t\t\t\tfor D in D_params:\n",
        "\t\t\t\t\t\t\tfor Q in Q_params:\n",
        "\t\t\t\t\t\t\t\tfor m in m_params:\n",
        "\t\t\t\t\t\t\t\t\tcfg = [(p,d,q), (P,D,Q,m), t]\n",
        "\t\t\t\t\t\t\t\t\tmodels.append(cfg)\n",
        "\treturn models"
      ],
      "execution_count": null,
      "outputs": []
    },
    {
      "cell_type": "code",
      "metadata": {
        "id": "Z1iHDk1Bsiz8",
        "outputId": "74e0a8ef-8df7-4cc0-effc-e064c55ed241",
        "colab": {
          "base_uri": "https://localhost:8080/",
          "height": 51
        }
      },
      "source": [
        "if __name__ == '__main__':\n",
        "\t# define dataset\n",
        "\tdata = [10.0, 20.0, 30.0, 40.0, 50.0, 60.0, 70.0, 80.0, 90.0, 100.0]\n",
        "\tprint(data)\n",
        "\t# data split\n",
        "\tn_test = 4\n",
        "\t# model configs\n",
        "\tcfg_list = sarima_configs()\n",
        "\t# grid search\n",
        "\tscores = grid_search(data, cfg_list, n_test)\n",
        "\tprint('done')\n",
        "\t# list top 3 configs\n",
        "\tfor cfg, error in scores[:3]:\n",
        "\t\tprint(cfg, error)"
      ],
      "execution_count": null,
      "outputs": [
        {
          "output_type": "stream",
          "text": [
            "[10.0, 20.0, 30.0, 40.0, 50.0, 60.0, 70.0, 80.0, 90.0, 100.0]\n",
            "done\n"
          ],
          "name": "stdout"
        }
      ]
    },
    {
      "cell_type": "code",
      "metadata": {
        "id": "7xCYJ8JTqxxr",
        "outputId": "f752b2c5-1793-4273-8db6-9b423dea8138",
        "colab": {
          "base_uri": "https://localhost:8080/",
          "height": 34
        }
      },
      "source": [
        "n_test = 2\n",
        "\n",
        "# model configs\n",
        "cfg_list = sarima_configs()\n",
        "\n",
        "# grid search\n",
        "scores = grid_search(dataset.values, cfg_list, n_test)\n",
        "print('done')\n",
        "\n",
        "# list top 3 configs\n",
        "for cfg_list, error in scores[:3]:\n",
        "  print(cfg_list, error)"
      ],
      "execution_count": null,
      "outputs": [
        {
          "output_type": "stream",
          "text": [
            "done\n"
          ],
          "name": "stdout"
        }
      ]
    }
  ]
}