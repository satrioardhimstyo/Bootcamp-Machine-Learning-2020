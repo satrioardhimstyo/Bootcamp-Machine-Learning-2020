{
  "nbformat": 4,
  "nbformat_minor": 0,
  "metadata": {
    "colab": {
      "name": "Machine Learning Regression Housing.ipynb",
      "provenance": []
    },
    "kernelspec": {
      "name": "python3",
      "display_name": "Python 3"
    }
  },
  "cells": [
    {
      "cell_type": "code",
      "metadata": {
        "id": "8gKtkrQhv0g1",
        "outputId": "e891c510-44f6-47b6-da85-a2898cb25e8f",
        "colab": {
          "base_uri": "https://localhost:8080/",
          "height": 71
        }
      },
      "source": [
        "import pandas as pd\n",
        "import numpy as np\n",
        "import matplotlib.pyplot as plt\n",
        "import seaborn as sns\n",
        "import os\n",
        "\n",
        "#from matplotlib.cm import rainbow\n",
        "\n",
        "from sklearn.model_selection import train_test_split\n",
        "from sklearn.preprocessing import StandardScaler, PowerTransformer, QuantileTransformer, MinMaxScaler, MaxAbsScaler, RobustScaler\n",
        "\n",
        "from sklearn import preprocessing\n",
        "from sklearn.metrics import mean_squared_error, mean_absolute_error, r2_score\n",
        "from sklearn.linear_model import LinearRegression\n",
        "\n",
        "from sklearn.ensemble import RandomForestRegressor\n",
        "from sklearn.neighbors import KNeighborsRegressor\n",
        "from sklearn.svm import SVR"
      ],
      "execution_count": null,
      "outputs": [
        {
          "output_type": "stream",
          "text": [
            "/usr/local/lib/python3.6/dist-packages/statsmodels/tools/_testing.py:19: FutureWarning: pandas.util.testing is deprecated. Use the functions in the public API at pandas.testing instead.\n",
            "  import pandas.util.testing as tm\n"
          ],
          "name": "stderr"
        }
      ]
    },
    {
      "cell_type": "code",
      "metadata": {
        "id": "V1q3COq4yp5s",
        "outputId": "78aa60a7-b582-4736-93ce-254ab2be5631",
        "colab": {
          "base_uri": "https://localhost:8080/",
          "height": 34
        }
      },
      "source": [
        "os.chdir('/content/drive/My Drive/ML')\n",
        "os.listdir('.')\n",
        "file_exists = os.path.isfile('housing.csv')\n",
        "file_exists"
      ],
      "execution_count": null,
      "outputs": [
        {
          "output_type": "execute_result",
          "data": {
            "text/plain": [
              "True"
            ]
          },
          "metadata": {
            "tags": []
          },
          "execution_count": 3
        }
      ]
    },
    {
      "cell_type": "code",
      "metadata": {
        "id": "rUHKhTaZzIDE",
        "outputId": "ad3e5f60-4777-48c0-b2b8-e0123b77ccef",
        "colab": {
          "base_uri": "https://localhost:8080/",
          "height": 419
        }
      },
      "source": [
        "file_housing = 'housing.csv'\n",
        "dataset_housing = pd.read_csv(file_housing)\n",
        "dataset_housing"
      ],
      "execution_count": null,
      "outputs": [
        {
          "output_type": "execute_result",
          "data": {
            "text/html": [
              "<div>\n",
              "<style scoped>\n",
              "    .dataframe tbody tr th:only-of-type {\n",
              "        vertical-align: middle;\n",
              "    }\n",
              "\n",
              "    .dataframe tbody tr th {\n",
              "        vertical-align: top;\n",
              "    }\n",
              "\n",
              "    .dataframe thead th {\n",
              "        text-align: right;\n",
              "    }\n",
              "</style>\n",
              "<table border=\"1\" class=\"dataframe\">\n",
              "  <thead>\n",
              "    <tr style=\"text-align: right;\">\n",
              "      <th></th>\n",
              "      <th>crim</th>\n",
              "      <th>zn</th>\n",
              "      <th>indus</th>\n",
              "      <th>chas</th>\n",
              "      <th>nox</th>\n",
              "      <th>rm</th>\n",
              "      <th>age</th>\n",
              "      <th>dis</th>\n",
              "      <th>rad</th>\n",
              "      <th>tax</th>\n",
              "      <th>ptratio</th>\n",
              "      <th>b</th>\n",
              "      <th>lstat</th>\n",
              "      <th>medv</th>\n",
              "    </tr>\n",
              "  </thead>\n",
              "  <tbody>\n",
              "    <tr>\n",
              "      <th>0</th>\n",
              "      <td>0.00632</td>\n",
              "      <td>18.0</td>\n",
              "      <td>2.31</td>\n",
              "      <td>0</td>\n",
              "      <td>0.538</td>\n",
              "      <td>6.575</td>\n",
              "      <td>65.2</td>\n",
              "      <td>4.0900</td>\n",
              "      <td>1</td>\n",
              "      <td>296</td>\n",
              "      <td>15.3</td>\n",
              "      <td>396.90</td>\n",
              "      <td>4.98</td>\n",
              "      <td>24.0</td>\n",
              "    </tr>\n",
              "    <tr>\n",
              "      <th>1</th>\n",
              "      <td>0.02731</td>\n",
              "      <td>0.0</td>\n",
              "      <td>7.07</td>\n",
              "      <td>0</td>\n",
              "      <td>0.469</td>\n",
              "      <td>6.421</td>\n",
              "      <td>78.9</td>\n",
              "      <td>4.9671</td>\n",
              "      <td>2</td>\n",
              "      <td>242</td>\n",
              "      <td>17.8</td>\n",
              "      <td>396.90</td>\n",
              "      <td>9.14</td>\n",
              "      <td>21.6</td>\n",
              "    </tr>\n",
              "    <tr>\n",
              "      <th>2</th>\n",
              "      <td>0.02729</td>\n",
              "      <td>0.0</td>\n",
              "      <td>7.07</td>\n",
              "      <td>0</td>\n",
              "      <td>0.469</td>\n",
              "      <td>7.185</td>\n",
              "      <td>61.1</td>\n",
              "      <td>4.9671</td>\n",
              "      <td>2</td>\n",
              "      <td>242</td>\n",
              "      <td>17.8</td>\n",
              "      <td>392.83</td>\n",
              "      <td>4.03</td>\n",
              "      <td>34.7</td>\n",
              "    </tr>\n",
              "    <tr>\n",
              "      <th>3</th>\n",
              "      <td>0.03237</td>\n",
              "      <td>0.0</td>\n",
              "      <td>2.18</td>\n",
              "      <td>0</td>\n",
              "      <td>0.458</td>\n",
              "      <td>6.998</td>\n",
              "      <td>45.8</td>\n",
              "      <td>6.0622</td>\n",
              "      <td>3</td>\n",
              "      <td>222</td>\n",
              "      <td>18.7</td>\n",
              "      <td>394.63</td>\n",
              "      <td>2.94</td>\n",
              "      <td>33.4</td>\n",
              "    </tr>\n",
              "    <tr>\n",
              "      <th>4</th>\n",
              "      <td>0.06905</td>\n",
              "      <td>0.0</td>\n",
              "      <td>2.18</td>\n",
              "      <td>0</td>\n",
              "      <td>0.458</td>\n",
              "      <td>7.147</td>\n",
              "      <td>54.2</td>\n",
              "      <td>6.0622</td>\n",
              "      <td>3</td>\n",
              "      <td>222</td>\n",
              "      <td>18.7</td>\n",
              "      <td>396.90</td>\n",
              "      <td>5.33</td>\n",
              "      <td>36.2</td>\n",
              "    </tr>\n",
              "    <tr>\n",
              "      <th>...</th>\n",
              "      <td>...</td>\n",
              "      <td>...</td>\n",
              "      <td>...</td>\n",
              "      <td>...</td>\n",
              "      <td>...</td>\n",
              "      <td>...</td>\n",
              "      <td>...</td>\n",
              "      <td>...</td>\n",
              "      <td>...</td>\n",
              "      <td>...</td>\n",
              "      <td>...</td>\n",
              "      <td>...</td>\n",
              "      <td>...</td>\n",
              "      <td>...</td>\n",
              "    </tr>\n",
              "    <tr>\n",
              "      <th>501</th>\n",
              "      <td>0.06263</td>\n",
              "      <td>0.0</td>\n",
              "      <td>11.93</td>\n",
              "      <td>0</td>\n",
              "      <td>0.573</td>\n",
              "      <td>6.593</td>\n",
              "      <td>69.1</td>\n",
              "      <td>2.4786</td>\n",
              "      <td>1</td>\n",
              "      <td>273</td>\n",
              "      <td>21.0</td>\n",
              "      <td>391.99</td>\n",
              "      <td>9.67</td>\n",
              "      <td>22.4</td>\n",
              "    </tr>\n",
              "    <tr>\n",
              "      <th>502</th>\n",
              "      <td>0.04527</td>\n",
              "      <td>0.0</td>\n",
              "      <td>11.93</td>\n",
              "      <td>0</td>\n",
              "      <td>0.573</td>\n",
              "      <td>6.120</td>\n",
              "      <td>76.7</td>\n",
              "      <td>2.2875</td>\n",
              "      <td>1</td>\n",
              "      <td>273</td>\n",
              "      <td>21.0</td>\n",
              "      <td>396.90</td>\n",
              "      <td>9.08</td>\n",
              "      <td>20.6</td>\n",
              "    </tr>\n",
              "    <tr>\n",
              "      <th>503</th>\n",
              "      <td>0.06076</td>\n",
              "      <td>0.0</td>\n",
              "      <td>11.93</td>\n",
              "      <td>0</td>\n",
              "      <td>0.573</td>\n",
              "      <td>6.976</td>\n",
              "      <td>91.0</td>\n",
              "      <td>2.1675</td>\n",
              "      <td>1</td>\n",
              "      <td>273</td>\n",
              "      <td>21.0</td>\n",
              "      <td>396.90</td>\n",
              "      <td>5.64</td>\n",
              "      <td>23.9</td>\n",
              "    </tr>\n",
              "    <tr>\n",
              "      <th>504</th>\n",
              "      <td>0.10959</td>\n",
              "      <td>0.0</td>\n",
              "      <td>11.93</td>\n",
              "      <td>0</td>\n",
              "      <td>0.573</td>\n",
              "      <td>6.794</td>\n",
              "      <td>89.3</td>\n",
              "      <td>2.3889</td>\n",
              "      <td>1</td>\n",
              "      <td>273</td>\n",
              "      <td>21.0</td>\n",
              "      <td>393.45</td>\n",
              "      <td>6.48</td>\n",
              "      <td>22.0</td>\n",
              "    </tr>\n",
              "    <tr>\n",
              "      <th>505</th>\n",
              "      <td>0.04741</td>\n",
              "      <td>0.0</td>\n",
              "      <td>11.93</td>\n",
              "      <td>0</td>\n",
              "      <td>0.573</td>\n",
              "      <td>6.030</td>\n",
              "      <td>80.8</td>\n",
              "      <td>2.5050</td>\n",
              "      <td>1</td>\n",
              "      <td>273</td>\n",
              "      <td>21.0</td>\n",
              "      <td>396.90</td>\n",
              "      <td>7.88</td>\n",
              "      <td>11.9</td>\n",
              "    </tr>\n",
              "  </tbody>\n",
              "</table>\n",
              "<p>506 rows × 14 columns</p>\n",
              "</div>"
            ],
            "text/plain": [
              "        crim    zn  indus  chas    nox  ...  tax  ptratio       b  lstat  medv\n",
              "0    0.00632  18.0   2.31     0  0.538  ...  296     15.3  396.90   4.98  24.0\n",
              "1    0.02731   0.0   7.07     0  0.469  ...  242     17.8  396.90   9.14  21.6\n",
              "2    0.02729   0.0   7.07     0  0.469  ...  242     17.8  392.83   4.03  34.7\n",
              "3    0.03237   0.0   2.18     0  0.458  ...  222     18.7  394.63   2.94  33.4\n",
              "4    0.06905   0.0   2.18     0  0.458  ...  222     18.7  396.90   5.33  36.2\n",
              "..       ...   ...    ...   ...    ...  ...  ...      ...     ...    ...   ...\n",
              "501  0.06263   0.0  11.93     0  0.573  ...  273     21.0  391.99   9.67  22.4\n",
              "502  0.04527   0.0  11.93     0  0.573  ...  273     21.0  396.90   9.08  20.6\n",
              "503  0.06076   0.0  11.93     0  0.573  ...  273     21.0  396.90   5.64  23.9\n",
              "504  0.10959   0.0  11.93     0  0.573  ...  273     21.0  393.45   6.48  22.0\n",
              "505  0.04741   0.0  11.93     0  0.573  ...  273     21.0  396.90   7.88  11.9\n",
              "\n",
              "[506 rows x 14 columns]"
            ]
          },
          "metadata": {
            "tags": []
          },
          "execution_count": 4
        }
      ]
    },
    {
      "cell_type": "code",
      "metadata": {
        "id": "grnjvqc9zaYB",
        "outputId": "dcd8a09d-7b82-4aad-dbc9-00f1770d772c",
        "colab": {
          "base_uri": "https://localhost:8080/",
          "height": 374
        }
      },
      "source": [
        "dataset_housing.info()"
      ],
      "execution_count": null,
      "outputs": [
        {
          "output_type": "stream",
          "text": [
            "<class 'pandas.core.frame.DataFrame'>\n",
            "RangeIndex: 506 entries, 0 to 505\n",
            "Data columns (total 14 columns):\n",
            " #   Column   Non-Null Count  Dtype  \n",
            "---  ------   --------------  -----  \n",
            " 0   crim     506 non-null    float64\n",
            " 1   zn       506 non-null    float64\n",
            " 2   indus    506 non-null    float64\n",
            " 3   chas     506 non-null    int64  \n",
            " 4   nox      506 non-null    float64\n",
            " 5   rm       506 non-null    float64\n",
            " 6   age      506 non-null    float64\n",
            " 7   dis      506 non-null    float64\n",
            " 8   rad      506 non-null    int64  \n",
            " 9   tax      506 non-null    int64  \n",
            " 10  ptratio  506 non-null    float64\n",
            " 11  b        506 non-null    float64\n",
            " 12  lstat    506 non-null    float64\n",
            " 13  medv     506 non-null    float64\n",
            "dtypes: float64(11), int64(3)\n",
            "memory usage: 55.5 KB\n"
          ],
          "name": "stdout"
        }
      ]
    },
    {
      "cell_type": "code",
      "metadata": {
        "id": "X2nWLwDW20G2",
        "outputId": "21edccc8-f99e-4844-ee14-05f6ae373ee9",
        "colab": {
          "base_uri": "https://localhost:8080/",
          "height": 317
        }
      },
      "source": [
        "dataset_housing.describe()"
      ],
      "execution_count": null,
      "outputs": [
        {
          "output_type": "execute_result",
          "data": {
            "text/html": [
              "<div>\n",
              "<style scoped>\n",
              "    .dataframe tbody tr th:only-of-type {\n",
              "        vertical-align: middle;\n",
              "    }\n",
              "\n",
              "    .dataframe tbody tr th {\n",
              "        vertical-align: top;\n",
              "    }\n",
              "\n",
              "    .dataframe thead th {\n",
              "        text-align: right;\n",
              "    }\n",
              "</style>\n",
              "<table border=\"1\" class=\"dataframe\">\n",
              "  <thead>\n",
              "    <tr style=\"text-align: right;\">\n",
              "      <th></th>\n",
              "      <th>crim</th>\n",
              "      <th>zn</th>\n",
              "      <th>indus</th>\n",
              "      <th>chas</th>\n",
              "      <th>nox</th>\n",
              "      <th>rm</th>\n",
              "      <th>age</th>\n",
              "      <th>dis</th>\n",
              "      <th>rad</th>\n",
              "      <th>tax</th>\n",
              "      <th>ptratio</th>\n",
              "      <th>b</th>\n",
              "      <th>lstat</th>\n",
              "      <th>medv</th>\n",
              "    </tr>\n",
              "  </thead>\n",
              "  <tbody>\n",
              "    <tr>\n",
              "      <th>count</th>\n",
              "      <td>506.000000</td>\n",
              "      <td>506.000000</td>\n",
              "      <td>506.000000</td>\n",
              "      <td>506.000000</td>\n",
              "      <td>506.000000</td>\n",
              "      <td>506.000000</td>\n",
              "      <td>506.000000</td>\n",
              "      <td>506.000000</td>\n",
              "      <td>506.000000</td>\n",
              "      <td>506.000000</td>\n",
              "      <td>506.000000</td>\n",
              "      <td>506.000000</td>\n",
              "      <td>506.000000</td>\n",
              "      <td>506.000000</td>\n",
              "    </tr>\n",
              "    <tr>\n",
              "      <th>mean</th>\n",
              "      <td>3.613524</td>\n",
              "      <td>11.363636</td>\n",
              "      <td>11.136779</td>\n",
              "      <td>0.069170</td>\n",
              "      <td>0.554695</td>\n",
              "      <td>6.284634</td>\n",
              "      <td>68.574901</td>\n",
              "      <td>3.795043</td>\n",
              "      <td>9.549407</td>\n",
              "      <td>408.237154</td>\n",
              "      <td>18.455534</td>\n",
              "      <td>356.674032</td>\n",
              "      <td>12.653063</td>\n",
              "      <td>22.532806</td>\n",
              "    </tr>\n",
              "    <tr>\n",
              "      <th>std</th>\n",
              "      <td>8.601545</td>\n",
              "      <td>23.322453</td>\n",
              "      <td>6.860353</td>\n",
              "      <td>0.253994</td>\n",
              "      <td>0.115878</td>\n",
              "      <td>0.702617</td>\n",
              "      <td>28.148861</td>\n",
              "      <td>2.105710</td>\n",
              "      <td>8.707259</td>\n",
              "      <td>168.537116</td>\n",
              "      <td>2.164946</td>\n",
              "      <td>91.294864</td>\n",
              "      <td>7.141062</td>\n",
              "      <td>9.197104</td>\n",
              "    </tr>\n",
              "    <tr>\n",
              "      <th>min</th>\n",
              "      <td>0.006320</td>\n",
              "      <td>0.000000</td>\n",
              "      <td>0.460000</td>\n",
              "      <td>0.000000</td>\n",
              "      <td>0.385000</td>\n",
              "      <td>3.561000</td>\n",
              "      <td>2.900000</td>\n",
              "      <td>1.129600</td>\n",
              "      <td>1.000000</td>\n",
              "      <td>187.000000</td>\n",
              "      <td>12.600000</td>\n",
              "      <td>0.320000</td>\n",
              "      <td>1.730000</td>\n",
              "      <td>5.000000</td>\n",
              "    </tr>\n",
              "    <tr>\n",
              "      <th>25%</th>\n",
              "      <td>0.082045</td>\n",
              "      <td>0.000000</td>\n",
              "      <td>5.190000</td>\n",
              "      <td>0.000000</td>\n",
              "      <td>0.449000</td>\n",
              "      <td>5.885500</td>\n",
              "      <td>45.025000</td>\n",
              "      <td>2.100175</td>\n",
              "      <td>4.000000</td>\n",
              "      <td>279.000000</td>\n",
              "      <td>17.400000</td>\n",
              "      <td>375.377500</td>\n",
              "      <td>6.950000</td>\n",
              "      <td>17.025000</td>\n",
              "    </tr>\n",
              "    <tr>\n",
              "      <th>50%</th>\n",
              "      <td>0.256510</td>\n",
              "      <td>0.000000</td>\n",
              "      <td>9.690000</td>\n",
              "      <td>0.000000</td>\n",
              "      <td>0.538000</td>\n",
              "      <td>6.208500</td>\n",
              "      <td>77.500000</td>\n",
              "      <td>3.207450</td>\n",
              "      <td>5.000000</td>\n",
              "      <td>330.000000</td>\n",
              "      <td>19.050000</td>\n",
              "      <td>391.440000</td>\n",
              "      <td>11.360000</td>\n",
              "      <td>21.200000</td>\n",
              "    </tr>\n",
              "    <tr>\n",
              "      <th>75%</th>\n",
              "      <td>3.677082</td>\n",
              "      <td>12.500000</td>\n",
              "      <td>18.100000</td>\n",
              "      <td>0.000000</td>\n",
              "      <td>0.624000</td>\n",
              "      <td>6.623500</td>\n",
              "      <td>94.075000</td>\n",
              "      <td>5.188425</td>\n",
              "      <td>24.000000</td>\n",
              "      <td>666.000000</td>\n",
              "      <td>20.200000</td>\n",
              "      <td>396.225000</td>\n",
              "      <td>16.955000</td>\n",
              "      <td>25.000000</td>\n",
              "    </tr>\n",
              "    <tr>\n",
              "      <th>max</th>\n",
              "      <td>88.976200</td>\n",
              "      <td>100.000000</td>\n",
              "      <td>27.740000</td>\n",
              "      <td>1.000000</td>\n",
              "      <td>0.871000</td>\n",
              "      <td>8.780000</td>\n",
              "      <td>100.000000</td>\n",
              "      <td>12.126500</td>\n",
              "      <td>24.000000</td>\n",
              "      <td>711.000000</td>\n",
              "      <td>22.000000</td>\n",
              "      <td>396.900000</td>\n",
              "      <td>37.970000</td>\n",
              "      <td>50.000000</td>\n",
              "    </tr>\n",
              "  </tbody>\n",
              "</table>\n",
              "</div>"
            ],
            "text/plain": [
              "             crim          zn       indus  ...           b       lstat        medv\n",
              "count  506.000000  506.000000  506.000000  ...  506.000000  506.000000  506.000000\n",
              "mean     3.613524   11.363636   11.136779  ...  356.674032   12.653063   22.532806\n",
              "std      8.601545   23.322453    6.860353  ...   91.294864    7.141062    9.197104\n",
              "min      0.006320    0.000000    0.460000  ...    0.320000    1.730000    5.000000\n",
              "25%      0.082045    0.000000    5.190000  ...  375.377500    6.950000   17.025000\n",
              "50%      0.256510    0.000000    9.690000  ...  391.440000   11.360000   21.200000\n",
              "75%      3.677082   12.500000   18.100000  ...  396.225000   16.955000   25.000000\n",
              "max     88.976200  100.000000   27.740000  ...  396.900000   37.970000   50.000000\n",
              "\n",
              "[8 rows x 14 columns]"
            ]
          },
          "metadata": {
            "tags": []
          },
          "execution_count": 6
        }
      ]
    },
    {
      "cell_type": "markdown",
      "metadata": {
        "id": "HmBpHHJ211H0"
      },
      "source": [
        "\n",
        "\n",
        "---\n",
        "\n",
        "Data contains;\n",
        "\n",
        "CRIM per capita crime rate by town\n",
        "\n",
        "ZN proportion of residential land zoned for lots over 25,000 sq.ft.\n",
        "\n",
        "INDUS proportion of non-retail business acres per town\n",
        "\n",
        "CHAS Charles River dummy variable (= 1 if tract bounds river; 0 otherwise)\n",
        "\n",
        "NOX nitric oxides concentration (parts per 10 million)\n",
        "\n",
        "RM average number of rooms per dwelling\n",
        "\n",
        "AGE proportion of owner-occupied units built prior to 1940\n",
        "\n",
        "DIS weighted distances to five Boston employment centres\n",
        "\n",
        "RAD index of accessibility to radial highways\n",
        "\n",
        "TAX full-value property-tax rate per 10,000usd\n",
        "\n",
        "PTRATIO pupil-teacher ratio by town\n",
        "\n",
        "B 1000 (Bk - 0.63)^2 where Bk is the proportion of blacks by town\n",
        "\n",
        "LSTAT % lower status of the population\n",
        "\n",
        "MEDV Median value of owner-occupied homes in $1000s"
      ]
    },
    {
      "cell_type": "code",
      "metadata": {
        "id": "-xbGc6oh36xy",
        "outputId": "ae16b5b5-6ab2-400a-bc32-65dfa94a91da",
        "colab": {
          "base_uri": "https://localhost:8080/",
          "height": 272
        }
      },
      "source": [
        "dataset_housing.isnull().sum()"
      ],
      "execution_count": null,
      "outputs": [
        {
          "output_type": "execute_result",
          "data": {
            "text/plain": [
              "crim       0\n",
              "zn         0\n",
              "indus      0\n",
              "chas       0\n",
              "nox        0\n",
              "rm         0\n",
              "age        0\n",
              "dis        0\n",
              "rad        0\n",
              "tax        0\n",
              "ptratio    0\n",
              "b          0\n",
              "lstat      0\n",
              "medv       0\n",
              "dtype: int64"
            ]
          },
          "metadata": {
            "tags": []
          },
          "execution_count": 7
        }
      ]
    },
    {
      "cell_type": "code",
      "metadata": {
        "id": "C3UNdzc_2Hym",
        "outputId": "c5bc3bf0-0281-4a72-a95c-4bfff46e54cb",
        "colab": {
          "base_uri": "https://localhost:8080/",
          "height": 221
        }
      },
      "source": [
        "dataset_housing.medv.value_counts()"
      ],
      "execution_count": null,
      "outputs": [
        {
          "output_type": "execute_result",
          "data": {
            "text/plain": [
              "50.0    16\n",
              "25.0     8\n",
              "23.1     7\n",
              "21.7     7\n",
              "22.0     7\n",
              "        ..\n",
              "12.8     1\n",
              "29.9     1\n",
              "9.6      1\n",
              "36.1     1\n",
              "13.0     1\n",
              "Name: medv, Length: 229, dtype: int64"
            ]
          },
          "metadata": {
            "tags": []
          },
          "execution_count": 8
        }
      ]
    },
    {
      "cell_type": "code",
      "metadata": {
        "id": "zcI33AzF2m_q",
        "outputId": "f6df4e22-8e54-4daa-8e8c-06fda9e709e1",
        "colab": {
          "base_uri": "https://localhost:8080/",
          "height": 517
        }
      },
      "source": [
        "sns.set(rc={'figure.figsize':(11.7,8.27)})\n",
        "sns.distplot(dataset_housing['medv'], bins=30)\n",
        "plt.show()\n"
      ],
      "execution_count": null,
      "outputs": [
        {
          "output_type": "display_data",
          "data": {
            "image/png": "[encoded data removed]",
            "text/plain": [
              "<Figure size 842.4x595.44 with 1 Axes>"
            ]
          },
          "metadata": {
            "tags": []
          }
        }
      ]
    },
    {
      "cell_type": "code",
      "metadata": {
        "id": "duWS4G7zs0G7",
        "outputId": "11dcd02e-e2e1-4ff7-d08b-fde5ee1ad932",
        "colab": {
          "base_uri": "https://localhost:8080/",
          "height": 1000
        }
      },
      "source": [
        "dataset_housing.hist(figsize=(18, 22), bins=50, xlabelsize=8, ylabelsize=8)"
      ],
      "execution_count": null,
      "outputs": [
        {
          "output_type": "execute_result",
          "data": {
            "text/plain": [
              "array([[<matplotlib.axes._subplots.AxesSubplot object at 0x7fb3cd318780>,\n",
              "        <matplotlib.axes._subplots.AxesSubplot object at 0x7fb3cd29aa90>,\n",
              "        <matplotlib.axes._subplots.AxesSubplot object at 0x7fb3cd258128>,\n",
              "        <matplotlib.axes._subplots.AxesSubplot object at 0x7fb3cd205780>],\n",
              "       [<matplotlib.axes._subplots.AxesSubplot object at 0x7fb3cd1b7dd8>,\n",
              "        <matplotlib.axes._subplots.AxesSubplot object at 0x7fb3cd278b70>,\n",
              "        <matplotlib.axes._subplots.AxesSubplot object at 0x7fb3cd7e4ac8>,\n",
              "        <matplotlib.axes._subplots.AxesSubplot object at 0x7fb3cd2f9fd0>],\n",
              "       [<matplotlib.axes._subplots.AxesSubplot object at 0x7fb3cd2f9f98>,\n",
              "        <matplotlib.axes._subplots.AxesSubplot object at 0x7fb3cd197160>,\n",
              "        <matplotlib.axes._subplots.AxesSubplot object at 0x7fb3cd1477b8>,\n",
              "        <matplotlib.axes._subplots.AxesSubplot object at 0x7fb3cd0f7e10>],\n",
              "       [<matplotlib.axes._subplots.AxesSubplot object at 0x7fb3cd0b54a8>,\n",
              "        <matplotlib.axes._subplots.AxesSubplot object at 0x7fb3cd064b00>,\n",
              "        <matplotlib.axes._subplots.AxesSubplot object at 0x7fb3cd023198>,\n",
              "        <matplotlib.axes._subplots.AxesSubplot object at 0x7fb3cd0517f0>]],\n",
              "      dtype=object)"
            ]
          },
          "metadata": {
            "tags": []
          },
          "execution_count": 10
        },
        {
          "output_type": "display_data",
          "data": {
            "image/png": "[encoded data removed]",
            "text/plain": [
              "<Figure size 1296x1584 with 16 Axes>"
            ]
          },
          "metadata": {
            "tags": []
          }
        }
      ]
    },
    {
      "cell_type": "code",
      "metadata": {
        "id": "W1YDqsEBNZLu",
        "outputId": "142de9eb-8f47-48a1-e58f-e6d282cac14b",
        "colab": {
          "base_uri": "https://localhost:8080/",
          "height": 521
        }
      },
      "source": [
        "correlation_matrix = dataset_housing.corr().round(2)\n",
        "sns.heatmap(data=correlation_matrix, annot=True)"
      ],
      "execution_count": null,
      "outputs": [
        {
          "output_type": "execute_result",
          "data": {
            "text/plain": [
              "<matplotlib.axes._subplots.AxesSubplot at 0x7fb3cc74b710>"
            ]
          },
          "metadata": {
            "tags": []
          },
          "execution_count": 11
        },
        {
          "output_type": "display_data",
          "data": {
            "image/png": "[encoded data removed]",
            "text/plain": [
              "<Figure size 842.4x595.44 with 2 Axes>"
            ]
          },
          "metadata": {
            "tags": []
          }
        }
      ]
    },
    {
      "cell_type": "markdown",
      "metadata": {
        "id": "9MwQDvh1yxsz"
      },
      "source": [
        "\n",
        "\n",
        "---\n",
        "Data Processing\n",
        "\n",
        "\n",
        "---\n",
        "\n"
      ]
    },
    {
      "cell_type": "markdown",
      "metadata": {
        "id": "P3wmC8PpZTT4"
      },
      "source": [
        "Standard Scaler"
      ]
    },
    {
      "cell_type": "code",
      "metadata": {
        "id": "AN2fyo2E_nRw"
      },
      "source": [
        "standardscaler = preprocessing.StandardScaler()\n",
        "\n",
        "feature = dataset_housing.drop(['medv'], axis = 1)\n",
        "label = dataset_housing['medv']\n",
        "\n",
        "feature_standardscaler = standardscaler.fit_transform(feature.values)\n",
        "label_standardscaler = standardscaler.fit_transform(dataset_housing['medv'].values.reshape(-1,1)).flatten()\n",
        "feature_train, feature_test, label_train, label_test = train_test_split(feature_standardscaler, label_standardscaler, test_size = 0.25, random_state = 10)\n",
        "\n",
        "line = LinearRegression()\n",
        "line.fit(feature_train, label_train)\n",
        "predict = line.predict(feature_test)\n",
        "\n",
        "mse = mean_squared_error(label_test, predict)\n",
        "mae = mean_absolute_error(label_test, predict)\n",
        "r2 = r2_score(label_test, predict)"
      ],
      "execution_count": null,
      "outputs": []
    },
    {
      "cell_type": "code",
      "metadata": {
        "id": "I0dYrRmu_-1v",
        "outputId": "eaefc83f-c1ec-410e-a6e2-a81bf7a9a072",
        "colab": {
          "base_uri": "https://localhost:8080/",
          "height": 85
        }
      },
      "source": [
        "print('MSE Standard Scaler :', mse)\n",
        "print('MAE Standard Scaler :',  mae)\n",
        "print('R2 Standard Scaler  :', r2)\n",
        "print('RMSE Standard Scaler:', np.sqrt(mean_squared_error(label_test, predict)))"
      ],
      "execution_count": null,
      "outputs": [
        {
          "output_type": "stream",
          "text": [
            "MSE Standard Scaler : 0.3843011995466092\n",
            "MAE Standard Scaler : 0.41981890085649826\n",
            "R2 Standard Scaler  : 0.6745585065949401\n",
            "RMSE Standard Scaler: 0.6199203170945514\n"
          ],
          "name": "stdout"
        }
      ]
    },
    {
      "cell_type": "markdown",
      "metadata": {
        "id": "Yq6zkJsmbgZt"
      },
      "source": [
        "Yeo Johnson"
      ]
    },
    {
      "cell_type": "code",
      "metadata": {
        "id": "ABD6T6jY36vV"
      },
      "source": [
        "jon = preprocessing.PowerTransformer(method='yeo-johnson')\n",
        "\n",
        "feature = dataset_housing.drop(['medv'], axis = 1)\n",
        "label = dataset_housing['medv']\n",
        "\n",
        "feature_jon = jon.fit_transform(feature.values)\n",
        "label_jon = jon.fit_transform(dataset_housing['medv'].values.reshape(-1,1)).flatten()\n",
        "feature_train, feature_test, label_train, label_test = train_test_split(feature_jon, label_jon, test_size = 0.25, random_state = 10)\n",
        "\n",
        "line = LinearRegression()\n",
        "line.fit(feature_train, label_train)\n",
        "predict = line.predict(feature_test)\n",
        "mse = mean_squared_error(label_test, predict)\n",
        "mae = mean_absolute_error(label_test, predict)\n",
        "r2 = r2_score(label_test, predict)"
      ],
      "execution_count": null,
      "outputs": []
    },
    {
      "cell_type": "code",
      "metadata": {
        "id": "JL2otfmIB_Ix",
        "outputId": "eed6d847-b778-4966-bf2a-5dda31475740",
        "colab": {
          "base_uri": "https://localhost:8080/",
          "height": 85
        }
      },
      "source": [
        "print('MSE Yeo Jhonson :', mse)\n",
        "print('MAE Yeo Jhonson :',  mae)\n",
        "print('R2 Yeo Jhonson  :', r2)\n",
        "print('RMSE Yeo Jhonson:', np.sqrt(mean_squared_error(label_test, predict)))"
      ],
      "execution_count": null,
      "outputs": [
        {
          "output_type": "stream",
          "text": [
            "MSE Yeo Jhonson : 0.23769730132818268\n",
            "MAE Yeo Jhonson : 0.3507403782365354\n",
            "R2 Yeo Jhonson  : 0.7659515234483079\n",
            "RMSE Yeo Jhonson: 0.48754210210830273\n"
          ],
          "name": "stdout"
        }
      ]
    },
    {
      "cell_type": "markdown",
      "metadata": {
        "id": "cIiouLB0byyt"
      },
      "source": [
        "\n",
        "Box Cox Transformation"
      ]
    },
    {
      "cell_type": "code",
      "metadata": {
        "id": "tgN3GJDk9pSK",
        "outputId": "17ff40d7-1ca7-4b51-a98e-aecffdb18f7b",
        "colab": {
          "base_uri": "https://localhost:8080/",
          "height": 357
        }
      },
      "source": [
        "box = PowerTransformer(method='box-cox')\n",
        "\n",
        "feature_box = box.fit_transform(feature.values)\n",
        "label_box = box.fit_transform(dataset_housing['medv'].values.reshape(-1,1)).flatten()\n"
      ],
      "execution_count": null,
      "outputs": [
        {
          "output_type": "error",
          "ename": "ValueError",
          "evalue": "ignored",
          "traceback": [
            "\u001b[0;31m---------------------------------------------------------------------------\u001b[0m",
            "\u001b[0;31mValueError\u001b[0m                                Traceback (most recent call last)",
            "\u001b[0;32m<ipython-input-14-2c830082b7db>\u001b[0m in \u001b[0;36m<module>\u001b[0;34m()\u001b[0m\n\u001b[1;32m      1\u001b[0m \u001b[0mbox\u001b[0m \u001b[0;34m=\u001b[0m \u001b[0mPowerTransformer\u001b[0m\u001b[0;34m(\u001b[0m\u001b[0mmethod\u001b[0m\u001b[0;34m=\u001b[0m\u001b[0;34m'box-cox'\u001b[0m\u001b[0;34m)\u001b[0m\u001b[0;34m\u001b[0m\u001b[0;34m\u001b[0m\u001b[0m\n\u001b[1;32m      2\u001b[0m \u001b[0;34m\u001b[0m\u001b[0m\n\u001b[0;32m----> 3\u001b[0;31m \u001b[0mfeature_box\u001b[0m \u001b[0;34m=\u001b[0m \u001b[0mbox\u001b[0m\u001b[0;34m.\u001b[0m\u001b[0mfit_transform\u001b[0m\u001b[0;34m(\u001b[0m\u001b[0mfeature\u001b[0m\u001b[0;34m.\u001b[0m\u001b[0mvalues\u001b[0m\u001b[0;34m)\u001b[0m\u001b[0;34m\u001b[0m\u001b[0;34m\u001b[0m\u001b[0m\n\u001b[0m\u001b[1;32m      4\u001b[0m \u001b[0mlabel_box\u001b[0m \u001b[0;34m=\u001b[0m \u001b[0mbox\u001b[0m\u001b[0;34m.\u001b[0m\u001b[0mfit_transform\u001b[0m\u001b[0;34m(\u001b[0m\u001b[0mdataset_housing\u001b[0m\u001b[0;34m[\u001b[0m\u001b[0;34m'medv'\u001b[0m\u001b[0;34m]\u001b[0m\u001b[0;34m.\u001b[0m\u001b[0mvalues\u001b[0m\u001b[0;34m.\u001b[0m\u001b[0mreshape\u001b[0m\u001b[0;34m(\u001b[0m\u001b[0;34m-\u001b[0m\u001b[0;36m1\u001b[0m\u001b[0;34m,\u001b[0m\u001b[0;36m1\u001b[0m\u001b[0;34m)\u001b[0m\u001b[0;34m)\u001b[0m\u001b[0;34m.\u001b[0m\u001b[0mflatten\u001b[0m\u001b[0;34m(\u001b[0m\u001b[0;34m)\u001b[0m\u001b[0;34m\u001b[0m\u001b[0;34m\u001b[0m\u001b[0m\n",
            "\u001b[0;32m/usr/local/lib/python3.6/dist-packages/sklearn/preprocessing/_data.py\u001b[0m in \u001b[0;36mfit_transform\u001b[0;34m(self, X, y)\u001b[0m\n\u001b[1;32m   2795\u001b[0m \u001b[0;34m\u001b[0m\u001b[0m\n\u001b[1;32m   2796\u001b[0m     \u001b[0;32mdef\u001b[0m \u001b[0mfit_transform\u001b[0m\u001b[0;34m(\u001b[0m\u001b[0mself\u001b[0m\u001b[0;34m,\u001b[0m \u001b[0mX\u001b[0m\u001b[0;34m,\u001b[0m \u001b[0my\u001b[0m\u001b[0;34m=\u001b[0m\u001b[0;32mNone\u001b[0m\u001b[0;34m)\u001b[0m\u001b[0;34m:\u001b[0m\u001b[0;34m\u001b[0m\u001b[0;34m\u001b[0m\u001b[0m\n\u001b[0;32m-> 2797\u001b[0;31m         \u001b[0;32mreturn\u001b[0m \u001b[0mself\u001b[0m\u001b[0;34m.\u001b[0m\u001b[0m_fit\u001b[0m\u001b[0;34m(\u001b[0m\u001b[0mX\u001b[0m\u001b[0;34m,\u001b[0m \u001b[0my\u001b[0m\u001b[0;34m,\u001b[0m \u001b[0mforce_transform\u001b[0m\u001b[0;34m=\u001b[0m\u001b[0;32mTrue\u001b[0m\u001b[0;34m)\u001b[0m\u001b[0;34m\u001b[0m\u001b[0;34m\u001b[0m\u001b[0m\n\u001b[0m\u001b[1;32m   2798\u001b[0m \u001b[0;34m\u001b[0m\u001b[0m\n\u001b[1;32m   2799\u001b[0m     \u001b[0;32mdef\u001b[0m \u001b[0m_fit\u001b[0m\u001b[0;34m(\u001b[0m\u001b[0mself\u001b[0m\u001b[0;34m,\u001b[0m \u001b[0mX\u001b[0m\u001b[0;34m,\u001b[0m \u001b[0my\u001b[0m\u001b[0;34m=\u001b[0m\u001b[0;32mNone\u001b[0m\u001b[0;34m,\u001b[0m \u001b[0mforce_transform\u001b[0m\u001b[0;34m=\u001b[0m\u001b[0;32mFalse\u001b[0m\u001b[0;34m)\u001b[0m\u001b[0;34m:\u001b[0m\u001b[0;34m\u001b[0m\u001b[0;34m\u001b[0m\u001b[0m\n",
            "\u001b[0;32m/usr/local/lib/python3.6/dist-packages/sklearn/preprocessing/_data.py\u001b[0m in \u001b[0;36m_fit\u001b[0;34m(self, X, y, force_transform)\u001b[0m\n\u001b[1;32m   2798\u001b[0m \u001b[0;34m\u001b[0m\u001b[0m\n\u001b[1;32m   2799\u001b[0m     \u001b[0;32mdef\u001b[0m \u001b[0m_fit\u001b[0m\u001b[0;34m(\u001b[0m\u001b[0mself\u001b[0m\u001b[0;34m,\u001b[0m \u001b[0mX\u001b[0m\u001b[0;34m,\u001b[0m \u001b[0my\u001b[0m\u001b[0;34m=\u001b[0m\u001b[0;32mNone\u001b[0m\u001b[0;34m,\u001b[0m \u001b[0mforce_transform\u001b[0m\u001b[0;34m=\u001b[0m\u001b[0;32mFalse\u001b[0m\u001b[0;34m)\u001b[0m\u001b[0;34m:\u001b[0m\u001b[0;34m\u001b[0m\u001b[0;34m\u001b[0m\u001b[0m\n\u001b[0;32m-> 2800\u001b[0;31m         \u001b[0mX\u001b[0m \u001b[0;34m=\u001b[0m \u001b[0mself\u001b[0m\u001b[0;34m.\u001b[0m\u001b[0m_check_input\u001b[0m\u001b[0;34m(\u001b[0m\u001b[0mX\u001b[0m\u001b[0;34m,\u001b[0m \u001b[0mcheck_positive\u001b[0m\u001b[0;34m=\u001b[0m\u001b[0;32mTrue\u001b[0m\u001b[0;34m,\u001b[0m \u001b[0mcheck_method\u001b[0m\u001b[0;34m=\u001b[0m\u001b[0;32mTrue\u001b[0m\u001b[0;34m)\u001b[0m\u001b[0;34m\u001b[0m\u001b[0;34m\u001b[0m\u001b[0m\n\u001b[0m\u001b[1;32m   2801\u001b[0m \u001b[0;34m\u001b[0m\u001b[0m\n\u001b[1;32m   2802\u001b[0m         \u001b[0;32mif\u001b[0m \u001b[0;32mnot\u001b[0m \u001b[0mself\u001b[0m\u001b[0;34m.\u001b[0m\u001b[0mcopy\u001b[0m \u001b[0;32mand\u001b[0m \u001b[0;32mnot\u001b[0m \u001b[0mforce_transform\u001b[0m\u001b[0;34m:\u001b[0m  \u001b[0;31m# if call from fit()\u001b[0m\u001b[0;34m\u001b[0m\u001b[0;34m\u001b[0m\u001b[0m\n",
            "\u001b[0;32m/usr/local/lib/python3.6/dist-packages/sklearn/preprocessing/_data.py\u001b[0m in \u001b[0;36m_check_input\u001b[0;34m(self, X, check_positive, check_shape, check_method)\u001b[0m\n\u001b[1;32m   3017\u001b[0m             if (check_positive and self.method == 'box-cox' and\n\u001b[1;32m   3018\u001b[0m                     np.nanmin(X) <= 0):\n\u001b[0;32m-> 3019\u001b[0;31m                 raise ValueError(\"The Box-Cox transformation can only be \"\n\u001b[0m\u001b[1;32m   3020\u001b[0m                                  \"applied to strictly positive data\")\n\u001b[1;32m   3021\u001b[0m \u001b[0;34m\u001b[0m\u001b[0m\n",
            "\u001b[0;31mValueError\u001b[0m: The Box-Cox transformation can only be applied to strictly positive data"
          ]
        }
      ]
    },
    {
      "cell_type": "markdown",
      "metadata": {
        "id": "tiQg5bpeb4pm"
      },
      "source": [
        "Quantile Transformer"
      ]
    },
    {
      "cell_type": "code",
      "metadata": {
        "id": "qTYNyD5PCwrb",
        "outputId": "922dc53e-9608-4684-d6e7-15b37bed4b35",
        "colab": {
          "base_uri": "https://localhost:8080/",
          "height": 105
        }
      },
      "source": [
        "q = preprocessing.QuantileTransformer()\n",
        "\n",
        "feature = dataset_housing.drop(['medv'], axis = 1)\n",
        "label = dataset_housing['medv']\n",
        "\n",
        "feature_q = q.fit_transform(feature.values)\n",
        "label_q = q.fit_transform(dataset_housing['medv'].values.reshape(-1,1)).flatten()\n",
        "feature_train, feature_test, label_train, label_test = train_test_split(feature_q, label_q, test_size = 0.25, random_state = 10)\n",
        "\n",
        "line = LinearRegression()\n",
        "line.fit(feature_train, label_train)\n",
        "predict = line.predict(feature_test)\n",
        "mse = mean_squared_error(label_test, predict)\n",
        "mae = mean_absolute_error(label_test, predict)\n",
        "r2 = r2_score(label_test, predict)"
      ],
      "execution_count": null,
      "outputs": [
        {
          "output_type": "stream",
          "text": [
            "/usr/local/lib/python3.6/dist-packages/sklearn/preprocessing/_data.py:2357: UserWarning: n_quantiles (1000) is greater than the total number of samples (506). n_quantiles is set to n_samples.\n",
            "  % (self.n_quantiles, n_samples))\n",
            "/usr/local/lib/python3.6/dist-packages/sklearn/preprocessing/_data.py:2357: UserWarning: n_quantiles (1000) is greater than the total number of samples (506). n_quantiles is set to n_samples.\n",
            "  % (self.n_quantiles, n_samples))\n"
          ],
          "name": "stderr"
        }
      ]
    },
    {
      "cell_type": "code",
      "metadata": {
        "id": "mZKCx8-yFiSU",
        "outputId": "d56863c2-bf07-4ec4-8747-0299ce349858",
        "colab": {
          "base_uri": "https://localhost:8080/",
          "height": 85
        }
      },
      "source": [
        "print('MSE Quantile :', mse)\n",
        "print('MAE Quantile :',  mae)\n",
        "print('R2 Quantile  :', r2)\n",
        "print('RMSE Quantile:', np.sqrt(mean_squared_error(label_test, predict)))"
      ],
      "execution_count": null,
      "outputs": [
        {
          "output_type": "stream",
          "text": [
            "MSE Quantile : 0.019345287469047092\n",
            "MAE Quantile : 0.10327402610232495\n",
            "R2 Quantile  : 0.7677708183981817\n",
            "RMSE Quantile: 0.13908733755826622\n"
          ],
          "name": "stdout"
        }
      ]
    },
    {
      "cell_type": "markdown",
      "metadata": {
        "id": "WScml--Jb-kx"
      },
      "source": [
        "MinMaxScaler"
      ]
    },
    {
      "cell_type": "code",
      "metadata": {
        "id": "lAZ3dTExF1if"
      },
      "source": [
        "min = preprocessing.MinMaxScaler()\n",
        "\n",
        "feature = dataset_housing.drop(['medv'], axis = 1)\n",
        "label = dataset_housing['medv']\n",
        "\n",
        "feature_min = min.fit_transform(feature.values)\n",
        "label_min = min.fit_transform(dataset_housing['medv'].values.reshape(-1,1)).flatten()\n",
        "feature_train, feature_test, label_train, label_test = train_test_split(feature_min, label_min, test_size = 0.25, random_state = 10)\n",
        "\n",
        "line = LinearRegression()\n",
        "line.fit(feature_train, label_train)\n",
        "predict = line.predict(feature_test)\n",
        "mse = mean_squared_error(label_test, predict)\n",
        "mae = mean_absolute_error(label_test, predict)\n",
        "r2 = r2_score(label_test, predict)"
      ],
      "execution_count": null,
      "outputs": []
    },
    {
      "cell_type": "code",
      "metadata": {
        "id": "GSqRvyjNGVif",
        "outputId": "3cd2ed37-bd63-4734-8aa4-a30f57ceb58f",
        "colab": {
          "base_uri": "https://localhost:8080/",
          "height": 85
        }
      },
      "source": [
        "print('MSE Min Max Scaler :', mse)\n",
        "print('MAE Min Max Scaler :',  mae)\n",
        "print('R2 Min Max Scaler  :', r2)\n",
        "print('RMSE Min Max Scaler:', np.sqrt(mean_squared_error(label_test, predict)))"
      ],
      "execution_count": null,
      "outputs": [
        {
          "output_type": "stream",
          "text": [
            "MSE Min Max Scaler : 0.016021005775805796\n",
            "MAE Min Max Scaler : 0.08571779795545566\n",
            "R2 Min Max Scaler  : 0.6745585065949402\n",
            "RMSE Min Max Scaler: 0.1265741117914947\n"
          ],
          "name": "stdout"
        }
      ]
    },
    {
      "cell_type": "markdown",
      "metadata": {
        "id": "bL8d3CFSb8ma"
      },
      "source": [
        "MaxAbsScaler"
      ]
    },
    {
      "cell_type": "code",
      "metadata": {
        "id": "FcC_2bD6m3OQ"
      },
      "source": [
        "max = preprocessing.MaxAbsScaler()\n",
        "\n",
        "feature = dataset_housing.drop(['medv'], axis = 1)\n",
        "label = dataset_housing['medv']\n",
        "\n",
        "feature_max = max.fit_transform(feature.values)\n",
        "label_max = max.fit_transform(dataset_housing['medv'].values.reshape(-1,1)).flatten()\n",
        "feature_train, feature_test, label_train, label_test = train_test_split(feature_max, label_max, test_size = 0.25, random_state = 10)\n",
        "\n",
        "line = LinearRegression()\n",
        "line.fit(feature_train, label_train)\n",
        "predict = line.predict(feature_test)\n",
        "mse = mean_squared_error(label_test, predict)\n",
        "mae = mean_absolute_error(label_test, predict)\n",
        "r2 = r2_score(label_test, predict)"
      ],
      "execution_count": null,
      "outputs": []
    },
    {
      "cell_type": "code",
      "metadata": {
        "id": "7SPOD9E5nKWc",
        "outputId": "ba0b5d13-d9b7-41f2-fc9c-9a4576932bfb",
        "colab": {
          "base_uri": "https://localhost:8080/",
          "height": 85
        }
      },
      "source": [
        "print('MSE Max Abs Scaler :', mse)\n",
        "print('MAE Max Abs Scaler :',  mae)\n",
        "print('R2 Max Abs Scaler  :', r2)\n",
        "print('RMSE Max Abs Scalerr:', np.sqrt(mean_squared_error(label_test, predict)))"
      ],
      "execution_count": null,
      "outputs": [
        {
          "output_type": "stream",
          "text": [
            "MSE Max Abs Scaler : 0.012977014678402685\n",
            "MAE Max Abs Scaler : 0.07714601815991037\n",
            "R2 Max Abs Scaler  : 0.6745585065949404\n",
            "RMSE Max Abs Scalerr: 0.11391670061234518\n"
          ],
          "name": "stdout"
        }
      ]
    },
    {
      "cell_type": "markdown",
      "metadata": {
        "id": "QwSL42v7cFsk"
      },
      "source": [
        "RobustScaler"
      ]
    },
    {
      "cell_type": "code",
      "metadata": {
        "id": "0cX2f2O9uqYE"
      },
      "source": [
        "robust = preprocessing.RobustScaler()\n",
        "\n",
        "feature = dataset_housing.drop(['medv'], axis = 1)\n",
        "label = dataset_housing['medv']\n",
        "\n",
        "feature_robust = robust.fit_transform(feature.values)\n",
        "label_robust = robust.fit_transform(dataset_housing['medv'].values.reshape(-1,1)).flatten()\n",
        "feature_train, feature_test, label_train, label_test = train_test_split(feature_robust, label_robust, test_size = 0.25, random_state = 10)\n",
        "\n",
        "line = LinearRegression()\n",
        "line.fit(feature_train, label_train)\n",
        "predict = line.predict(feature_test)\n",
        "mse = mean_squared_error(label_test, predict)\n",
        "mae = mean_absolute_error(label_test, predict)\n",
        "r2 = r2_score(label_test, predict)"
      ],
      "execution_count": null,
      "outputs": []
    },
    {
      "cell_type": "code",
      "metadata": {
        "id": "bcoo2zvpv0yX",
        "outputId": "f1760ab5-ff0c-46ff-99aa-505804d186d9",
        "colab": {
          "base_uri": "https://localhost:8080/",
          "height": 85
        }
      },
      "source": [
        "print('MSE Robust Scaler :', mse)\n",
        "print('MAE Robust Scaler :',  mae)\n",
        "print('R2 Robust Scaler  :', r2)\n",
        "print('RMSE Robust Scaler:', np.sqrt(mean_squared_error(label_test, predict)))"
      ],
      "execution_count": null,
      "outputs": [
        {
          "output_type": "stream",
          "text": [
            "MSE Robust Scaler : 0.5100977654859004\n",
            "MAE Robust Scaler : 0.4836740950464587\n",
            "R2 Robust Scaler  : 0.6745585065949404\n",
            "RMSE Robust Scaler: 0.7142112891056122\n"
          ],
          "name": "stdout"
        }
      ]
    },
    {
      "cell_type": "markdown",
      "metadata": {
        "id": "ePy6AJqqp9p6"
      },
      "source": [
        "Random Forest"
      ]
    },
    {
      "cell_type": "code",
      "metadata": {
        "id": "oCMTi5R2a2lU"
      },
      "source": [
        "rf = RandomForestRegressor(n_estimators= 150, max_depth = 100, random_state=10 )\n",
        "rf.fit(feature_train, label_train)\n",
        "predict = rf.predict(feature_test)\n",
        "mse = mean_squared_error(label_test, predict)\n",
        "mae = mean_absolute_error(label_test, predict)\n",
        "r2 = r2_score(label_test, predict)"
      ],
      "execution_count": null,
      "outputs": []
    },
    {
      "cell_type": "code",
      "metadata": {
        "id": "2I7rV3Ialr2e",
        "outputId": "4c350566-d95d-485a-8746-5c34b8ea5c25",
        "colab": {
          "base_uri": "https://localhost:8080/",
          "height": 85
        }
      },
      "source": [
        "print('MSE Random Forest :', mse)\n",
        "print('MAE Random Forest :',  mae)\n",
        "print('R2 Random Forest  :', r2)\n",
        "print('RMSE Random Forest:', np.sqrt(mean_squared_error(label_test, predict)))"
      ],
      "execution_count": null,
      "outputs": [
        {
          "output_type": "stream",
          "text": [
            "MSE Random Forest : 0.1413004997745887\n",
            "MAE Random Forest : 0.27551370965467153\n",
            "R2 Random Forest  : 0.8608685646684113\n",
            "RMSE Random Forest: 0.37589958735623624\n"
          ],
          "name": "stdout"
        }
      ]
    },
    {
      "cell_type": "markdown",
      "metadata": {
        "id": "snv-PmfGqFWO"
      },
      "source": [
        "KNN"
      ]
    },
    {
      "cell_type": "code",
      "metadata": {
        "id": "Xor7AvlSnX7l",
        "outputId": "df126289-0798-4530-8a83-bcdc5a82fc9d",
        "colab": {
          "base_uri": "https://localhost:8080/",
          "height": 867
        }
      },
      "source": [
        "n = [1,3,5,7,9,11,13,15,17,19]\n",
        "for index,i in enumerate (n):\n",
        "  knn = KNeighborsRegressor(n_neighbors= i)\n",
        "  knn.fit(feature_train, label_train)\n",
        "  predict = knn.predict(feature_test)\n",
        "  mse = mean_squared_error(label_test, predict)\n",
        "  mae = mean_absolute_error(label_test, predict)\n",
        "  r2 = r2_score(label_test, predict)\n",
        "  print(\"MSE  = {} n_neighbors = {}\".format(mse,i))\n",
        "  print(\"MAE  = {} n_neighbors = {}\".format(mae,i))\n",
        "  print(\"R2   = {} n_neighbors = {}\".format(r2,i))\n",
        "  print('RMSE  = {} n_neighbors = {} \\n'.format(np.sqrt(mean_squared_error(label_test, predict)),i))"
      ],
      "execution_count": null,
      "outputs": [
        {
          "output_type": "stream",
          "text": [
            "MSE  = 0.26566330698796586 n_neighbors = 1\n",
            "MAE  = 0.3560086991191501 n_neighbors = 1\n",
            "R2   = 0.7384148161178734 n_neighbors = 1\n",
            "RMSE  = 0.5154253650995126 n_neighbors = 1 \n",
            "\n",
            "MSE  = 0.22990211772686747 n_neighbors = 3\n",
            "MAE  = 0.34140279303496324 n_neighbors = 3\n",
            "R2   = 0.7736270453668743 n_neighbors = 3\n",
            "RMSE  = 0.47948109214740414 n_neighbors = 3 \n",
            "\n",
            "MSE  = 0.2577469387933583 n_neighbors = 5\n",
            "MAE  = 0.36089213388725566 n_neighbors = 5\n",
            "R2   = 0.7462096623589421 n_neighbors = 5\n",
            "RMSE  = 0.5076878359714346 n_neighbors = 5 \n",
            "\n",
            "MSE  = 0.25287095471295395 n_neighbors = 7\n",
            "MAE  = 0.3573124730304481 n_neighbors = 7\n",
            "R2   = 0.7510107965717925 n_neighbors = 7\n",
            "RMSE  = 0.5028627593220182 n_neighbors = 7 \n",
            "\n",
            "MSE  = 0.24617095335490116 n_neighbors = 9\n",
            "MAE  = 0.3685954077015292 n_neighbors = 9\n",
            "R2   = 0.7576079480833339 n_neighbors = 9\n",
            "RMSE  = 0.4961561783903342 n_neighbors = 9 \n",
            "\n",
            "MSE  = 0.2584850790405555 n_neighbors = 11\n",
            "MAE  = 0.3783217803721086 n_neighbors = 11\n",
            "R2   = 0.7454828530961837 n_neighbors = 11\n",
            "RMSE  = 0.508414278950302 n_neighbors = 11 \n",
            "\n",
            "MSE  = 0.27065170856176696 n_neighbors = 13\n",
            "MAE  = 0.3818953715539397 n_neighbors = 13\n",
            "R2   = 0.7335029901011184 n_neighbors = 13\n",
            "RMSE  = 0.5202419711651175 n_neighbors = 13 \n",
            "\n",
            "MSE  = 0.27718696056929193 n_neighbors = 15\n",
            "MAE  = 0.38492123754343943 n_neighbors = 15\n",
            "R2   = 0.7270680589189138 n_neighbors = 15\n",
            "RMSE  = 0.5264854799225634 n_neighbors = 15 \n",
            "\n",
            "MSE  = 0.29811574448396105 n_neighbors = 17\n",
            "MAE  = 0.3905484705439016 n_neighbors = 17\n",
            "R2   = 0.7064605469112581 n_neighbors = 17\n",
            "RMSE  = 0.5459997660109032 n_neighbors = 17 \n",
            "\n",
            "MSE  = 0.3090892051500328 n_neighbors = 19\n",
            "MAE  = 0.39965573765371076 n_neighbors = 19\n",
            "R2   = 0.6956555367700281 n_neighbors = 19\n",
            "RMSE  = 0.5559579167077602 n_neighbors = 19 \n",
            "\n"
          ],
          "name": "stdout"
        }
      ]
    },
    {
      "cell_type": "markdown",
      "metadata": {
        "id": "bHLBQPcWvLg0"
      },
      "source": [
        "SVR"
      ]
    },
    {
      "cell_type": "code",
      "metadata": {
        "id": "Z2Kzxf9xrLrN",
        "outputId": "b7f1770d-d407-432e-a133-d21180db45ec",
        "colab": {
          "base_uri": "https://localhost:8080/",
          "height": 357
        }
      },
      "source": [
        "kernel = ['linear','rbf','poly','sigmoid']\n",
        "for index, i in enumerate (kernel):\n",
        "  svr = SVR(kernel = i)\n",
        "  svr.fit(feature_train, label_train)\n",
        "  mse = mean_squared_error(label_test, predict)\n",
        "  mae = mean_absolute_error(label_test, predict)\n",
        "  r2 = r2_score(label_test, predict) \n",
        "  print(\"MSE Random Forest = {} kernel = {}\".format(mse,i))\n",
        "  print(\"MAE Random Forest = {} kernel = {}\".format(mae,i))\n",
        "  print(\"R2 Random Forest  = {} kernel = {}\".format(r2,i))\n",
        "  print('RMSE Random Forest = {} kernel = {} \\n'.format(np.sqrt(mean_squared_error(label_test, predict)),i))"
      ],
      "execution_count": null,
      "outputs": [
        {
          "output_type": "stream",
          "text": [
            "MSE Random Forest = 0.1413004997745887 kernel = linear\n",
            "MAE Random Forest = 0.27551370965467153 kernel = linear\n",
            "R2 Random Forest  = 0.8608685646684113 kernel = linear\n",
            "RMSE Random Forest = 0.37589958735623624 kernel = linear \n",
            "\n",
            "MSE Random Forest = 0.1413004997745887 kernel = rbf\n",
            "MAE Random Forest = 0.27551370965467153 kernel = rbf\n",
            "R2 Random Forest  = 0.8608685646684113 kernel = rbf\n",
            "RMSE Random Forest = 0.37589958735623624 kernel = rbf \n",
            "\n",
            "MSE Random Forest = 0.1413004997745887 kernel = poly\n",
            "MAE Random Forest = 0.27551370965467153 kernel = poly\n",
            "R2 Random Forest  = 0.8608685646684113 kernel = poly\n",
            "RMSE Random Forest = 0.37589958735623624 kernel = poly \n",
            "\n",
            "MSE Random Forest = 0.1413004997745887 kernel = sigmoid\n",
            "MAE Random Forest = 0.27551370965467153 kernel = sigmoid\n",
            "R2 Random Forest  = 0.8608685646684113 kernel = sigmoid\n",
            "RMSE Random Forest = 0.37589958735623624 kernel = sigmoid \n",
            "\n"
          ],
          "name": "stdout"
        }
      ]
    },
    {
      "cell_type": "code",
      "metadata": {
        "id": "fd9iP_K-w2MZ"
      },
      "source": [
        ""
      ],
      "execution_count": null,
      "outputs": []
    }
  ]
}