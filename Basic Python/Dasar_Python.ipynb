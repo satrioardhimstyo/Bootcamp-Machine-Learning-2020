{
  "nbformat": 4,
  "nbformat_minor": 0,
  "metadata": {
    "colab": {
      "name": "Dasar Python.ipynb",
      "provenance": []
    },
    "kernelspec": {
      "name": "python3",
      "display_name": "Python 3"
    }
  },
  "cells": [
    {
      "cell_type": "code",
      "metadata": {
        "id": "y48PeelQprYG",
        "outputId": "c45b5198-4204-4be5-ebd5-34361c1d55f3",
        "colab": {
          "base_uri": "https://localhost:8080/",
          "height": 595
        }
      },
      "source": [
        "\n",
        "numbers = list(i+1 for i in range(10)) #fungsi list kosong dengan looping 1-10 secara otomatis dan melakukan penambahan 2 disetiap isi list\n",
        "print(\"Angka list numbers\", numbers)\n",
        "print(\"\")\n",
        "for i in numbers: #fungsi penambahan 2 disettiap isi list\n",
        "  i = i+2\n",
        "  print(\"Angka + 2 =\" ,i)\n",
        "print(\"\")\n",
        "numbers_ganjil = [1 + element for element in numbers if element % 2 != 0] #menentukan angka ganjil dan menambahkan angka 1\n",
        "print(\"Angka ganjil ditambah 1 =\" ,numbers_ganjil)\n",
        "print(\"\") \n",
        "\n",
        "numbers_kurang = [i+1 for i in range(10) if i // 5>0] #menentukan angka yg lebih besar dari 5\n",
        "print(numbers_kurang)\n",
        "print(\"\")\n",
        "for index, element in enumerate(numbers): #menampilkan index dan angka dari list\n",
        "  print(\"Angka ke-\" , str(index) , \" : \" + str(element))\n",
        "numbers_genap = [element for element in numbers if element % 2 == 0]\n",
        "print(\"\")\n",
        "for index, element in enumerate(numbers_genap):#menampilkan index dan angka dari list yang bernilai genap\n",
        "  print(\"Angka Genap Ke -\" , str(index) , \" : \" + str(element))\n",
        "print(\"\") "
      ],
      "execution_count": 3,
      "outputs": [
        {
          "output_type": "stream",
          "text": [
            "Angka list numbers [1, 2, 3, 4, 5, 6, 7, 8, 9, 10]\n",
            "\n",
            "Angka + 2 = 3\n",
            "Angka + 2 = 4\n",
            "Angka + 2 = 5\n",
            "Angka + 2 = 6\n",
            "Angka + 2 = 7\n",
            "Angka + 2 = 8\n",
            "Angka + 2 = 9\n",
            "Angka + 2 = 10\n",
            "Angka + 2 = 11\n",
            "Angka + 2 = 12\n",
            "\n",
            "Angka ganjil ditambah 1 = [2, 4, 6, 8, 10]\n",
            "\n",
            "[6, 7, 8, 9, 10]\n",
            "\n",
            "Angka ke- 0  : 1\n",
            "Angka ke- 1  : 2\n",
            "Angka ke- 2  : 3\n",
            "Angka ke- 3  : 4\n",
            "Angka ke- 4  : 5\n",
            "Angka ke- 5  : 6\n",
            "Angka ke- 6  : 7\n",
            "Angka ke- 7  : 8\n",
            "Angka ke- 8  : 9\n",
            "Angka ke- 9  : 10\n",
            "\n",
            "Angka Genap Ke - 0  : 2\n",
            "Angka Genap Ke - 1  : 4\n",
            "Angka Genap Ke - 2  : 6\n",
            "Angka Genap Ke - 3  : 8\n",
            "Angka Genap Ke - 4  : 10\n",
            "\n"
          ],
          "name": "stdout"
        }
      ]
    }
  ]
}