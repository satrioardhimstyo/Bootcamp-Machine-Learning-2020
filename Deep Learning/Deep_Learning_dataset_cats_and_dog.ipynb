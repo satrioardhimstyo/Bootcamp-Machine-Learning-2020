{
  "nbformat": 4,
  "nbformat_minor": 0,
  "metadata": {
    "colab": {
      "name": "Deep Learning dataset cats and dog.ipynb",
      "provenance": []
    },
    "kernelspec": {
      "name": "python3",
      "display_name": "Python 3"
    },
    "accelerator": "GPU"
  },
  "cells": [
    {
      "cell_type": "code",
      "metadata": {
        "id": "D6NtgwVBYSUo"
      },
      "source": [
        ""
      ],
      "execution_count": null,
      "outputs": []
    },
    {
      "cell_type": "code",
      "metadata": {
        "id": "Nne7TrwrJ020",
        "outputId": "03363014-d3e0-4608-c492-004a5a448a9a",
        "colab": {
          "base_uri": "https://localhost:8080/",
          "height": 34
        }
      },
      "source": [
        "from google.colab import drive\n",
        "drive.mount('/content/drive')"
      ],
      "execution_count": null,
      "outputs": [
        {
          "output_type": "stream",
          "text": [
            "Mounted at /content/drive\n"
          ],
          "name": "stdout"
        }
      ]
    },
    {
      "cell_type": "code",
      "metadata": {
        "id": "fR37W7tFchKF"
      },
      "source": [
        "zip_path = '/content/drive/My\\ Drive/cats-dogs.zip'\n",
        "\n",
        "!cp {zip_path} /content/\n",
        "\n",
        "!cd /content/\n",
        "\n",
        "!unzip -q /content/cats-dogs.zip -d /content\n",
        "\n",
        "!rm /content/cats-dogs.zip"
      ],
      "execution_count": null,
      "outputs": []
    },
    {
      "cell_type": "code",
      "metadata": {
        "id": "7FwE2WEKlEKQ"
      },
      "source": [
        "import numpy as np\n",
        "import os\n",
        "import matplotlib.pyplot as plt\n",
        "from tensorflow.keras.preprocessing.image import ImageDataGenerator"
      ],
      "execution_count": null,
      "outputs": []
    },
    {
      "cell_type": "code",
      "metadata": {
        "id": "Vdl88-zjxM4R"
      },
      "source": [
        "def plot_loss(history):\n",
        "  plt.plot(history.history['loss'], label='loss')\n",
        "  plt.plot(history.history['val_loss'], label='val_loss')\n",
        "  plt.xlabel('Epoch')\n",
        "  plt.ylabel('Loss')\n",
        "  plt.legend()\n",
        "  plt.grid(True)"
      ],
      "execution_count": null,
      "outputs": []
    },
    {
      "cell_type": "markdown",
      "metadata": {
        "id": "keMDICRGrhNs"
      },
      "source": [
        "# Baseline CNN model\n",
        "\n"
      ]
    },
    {
      "cell_type": "code",
      "metadata": {
        "id": "W0O7kh6rmJj9",
        "outputId": "e95e7429-7484-4f73-e785-373eb15b9d5b",
        "colab": {
          "base_uri": "https://localhost:8080/",
          "height": 459
        }
      },
      "source": [
        "from tensorflow.keras.models import Sequential\n",
        "from tensorflow.keras.layers import Conv2D, MaxPooling2D, Dense, Flatten\n",
        "from tensorflow.keras.optimizers import RMSprop\n",
        "from tensorflow import keras\n",
        "\n",
        "\n",
        "model = Sequential()\n",
        "model.add(Conv2D(32, (3, 3), activation='relu', kernel_initializer='he_uniform', padding='same', input_shape=(200, 200, 3)))\n",
        "model.add(MaxPooling2D((2, 2)))\n",
        "\n",
        "model.add(Conv2D(64, (3, 3), activation='relu', kernel_initializer='he_uniform', padding='same', input_shape=(200, 200, 3)))\n",
        "model.add(MaxPooling2D((2, 2)))\n",
        "\n",
        "model.add(Conv2D(128, (3, 3), activation='relu', kernel_initializer='he_uniform', padding='same', input_shape=(200, 200, 3)))\n",
        "model.add(MaxPooling2D((2, 2)))\n",
        "\n",
        "model.add(Flatten())\n",
        "\n",
        "model.add(Dense(128, activation='relu', kernel_initializer='he_uniform'))\n",
        "model.add(Dense(1, activation='sigmoid'))\n",
        "\n",
        "opt = RMSprop(lr=0.0001, momentum=0.9)\n",
        "\n",
        "model.compile(optimizer=opt, loss='binary_crossentropy', metrics=['accuracy'])\n",
        "\n",
        "model.summary()"
      ],
      "execution_count": null,
      "outputs": [
        {
          "output_type": "stream",
          "text": [
            "Model: \"sequential_1\"\n",
            "_________________________________________________________________\n",
            "Layer (type)                 Output Shape              Param #   \n",
            "=================================================================\n",
            "conv2d_3 (Conv2D)            (None, 200, 200, 32)      896       \n",
            "_________________________________________________________________\n",
            "max_pooling2d_3 (MaxPooling2 (None, 100, 100, 32)      0         \n",
            "_________________________________________________________________\n",
            "conv2d_4 (Conv2D)            (None, 100, 100, 64)      18496     \n",
            "_________________________________________________________________\n",
            "max_pooling2d_4 (MaxPooling2 (None, 50, 50, 64)        0         \n",
            "_________________________________________________________________\n",
            "conv2d_5 (Conv2D)            (None, 50, 50, 128)       73856     \n",
            "_________________________________________________________________\n",
            "max_pooling2d_5 (MaxPooling2 (None, 25, 25, 128)       0         \n",
            "_________________________________________________________________\n",
            "flatten_1 (Flatten)          (None, 80000)             0         \n",
            "_________________________________________________________________\n",
            "dense_2 (Dense)              (None, 128)               10240128  \n",
            "_________________________________________________________________\n",
            "dense_3 (Dense)              (None, 1)                 129       \n",
            "=================================================================\n",
            "Total params: 10,333,505\n",
            "Trainable params: 10,333,505\n",
            "Non-trainable params: 0\n",
            "_________________________________________________________________\n"
          ],
          "name": "stdout"
        }
      ]
    },
    {
      "cell_type": "code",
      "metadata": {
        "id": "EApcJT87lUQq",
        "outputId": "6876e82a-b6ea-4322-9436-9e7b37983112",
        "colab": {
          "base_uri": "https://localhost:8080/",
          "height": 51
        }
      },
      "source": [
        "dataset_dir = '/content/'\n",
        "\n",
        "from tensorflow.keras.preprocessing.image import ImageDataGenerator\n",
        "\n",
        "test_datagen = ImageDataGenerator(rescale=1.0/255.0)\n",
        "train_datagen = ImageDataGenerator(rescale=1.0/255.0, width_shift_range=0.1, height_shift_range=0.1, horizontal_flip=True)\n",
        "\n",
        "train = train_datagen.flow_from_directory(os.path.join(dataset_dir, 'train'), class_mode='binary', batch_size=128, target_size=(200, 200))\n",
        "test = test_datagen.flow_from_directory(os.path.join(dataset_dir, 'test'), class_mode='binary', batch_size=128, target_size=(200, 200))"
      ],
      "execution_count": null,
      "outputs": [
        {
          "output_type": "stream",
          "text": [
            "Found 12749 images belonging to 2 classes.\n",
            "Found 2252 images belonging to 2 classes.\n"
          ],
          "name": "stdout"
        }
      ]
    },
    {
      "cell_type": "code",
      "metadata": {
        "id": "znPhLUV4ma06",
        "outputId": "6a3cf829-356b-4e9b-b407-3c41ae26bdb4",
        "colab": {
          "base_uri": "https://localhost:8080/",
          "height": 785
        }
      },
      "source": [
        "history_base_model = model.fit_generator(train, steps_per_epoch=len(train), validation_data=test, validation_steps=len(test), epochs=20)"
      ],
      "execution_count": null,
      "outputs": [
        {
          "output_type": "stream",
          "text": [
            "WARNING:tensorflow:From <ipython-input-13-c044be6c01d1>:1: Model.fit_generator (from tensorflow.python.keras.engine.training) is deprecated and will be removed in a future version.\n",
            "Instructions for updating:\n",
            "Please use Model.fit, which supports generators.\n",
            "Epoch 1/20\n",
            "  2/100 [..............................] - ETA: 7s - loss: 9.7911 - accuracy: 0.4570WARNING:tensorflow:Callbacks method `on_train_batch_end` is slow compared to the batch time (batch time: 0.0554s vs `on_train_batch_end` time: 0.1033s). Check your callbacks.\n",
            "100/100 [==============================] - 143s 1s/step - loss: 1.4651 - accuracy: 0.5732 - val_loss: 0.5868 - val_accuracy: 0.6803\n",
            "Epoch 2/20\n",
            "100/100 [==============================] - 143s 1s/step - loss: 0.5946 - accuracy: 0.6778 - val_loss: 0.6287 - val_accuracy: 0.6292\n",
            "Epoch 3/20\n",
            "100/100 [==============================] - 142s 1s/step - loss: 0.5514 - accuracy: 0.7200 - val_loss: 0.5726 - val_accuracy: 0.6927\n",
            "Epoch 4/20\n",
            "100/100 [==============================] - 142s 1s/step - loss: 0.5170 - accuracy: 0.7412 - val_loss: 0.4537 - val_accuracy: 0.7882\n",
            "Epoch 5/20\n",
            "100/100 [==============================] - 142s 1s/step - loss: 0.4793 - accuracy: 0.7721 - val_loss: 0.4707 - val_accuracy: 0.7855\n",
            "Epoch 6/20\n",
            "100/100 [==============================] - 142s 1s/step - loss: 0.4568 - accuracy: 0.7854 - val_loss: 0.4432 - val_accuracy: 0.7944\n",
            "Epoch 7/20\n",
            "100/100 [==============================] - 141s 1s/step - loss: 0.4546 - accuracy: 0.7832 - val_loss: 0.4458 - val_accuracy: 0.7953\n",
            "Epoch 8/20\n",
            "100/100 [==============================] - 139s 1s/step - loss: 0.4335 - accuracy: 0.7997 - val_loss: 0.4013 - val_accuracy: 0.8131\n",
            "Epoch 9/20\n",
            "100/100 [==============================] - 133s 1s/step - loss: 0.4207 - accuracy: 0.8066 - val_loss: 0.4101 - val_accuracy: 0.8162\n",
            "Epoch 10/20\n",
            "100/100 [==============================] - 133s 1s/step - loss: 0.4093 - accuracy: 0.8143 - val_loss: 0.4038 - val_accuracy: 0.8175\n",
            "Epoch 11/20\n",
            "100/100 [==============================] - 134s 1s/step - loss: 0.3808 - accuracy: 0.8302 - val_loss: 0.3998 - val_accuracy: 0.8219\n",
            "Epoch 12/20\n",
            "100/100 [==============================] - 132s 1s/step - loss: 0.3719 - accuracy: 0.8335 - val_loss: 0.3734 - val_accuracy: 0.8304\n",
            "Epoch 13/20\n",
            "100/100 [==============================] - 133s 1s/step - loss: 0.3637 - accuracy: 0.8388 - val_loss: 0.3859 - val_accuracy: 0.8308\n",
            "Epoch 14/20\n",
            "100/100 [==============================] - 132s 1s/step - loss: 0.3630 - accuracy: 0.8439 - val_loss: 0.3562 - val_accuracy: 0.8344\n",
            "Epoch 15/20\n",
            "100/100 [==============================] - 132s 1s/step - loss: 0.3413 - accuracy: 0.8503 - val_loss: 0.3430 - val_accuracy: 0.8557\n",
            "Epoch 16/20\n",
            "100/100 [==============================] - 132s 1s/step - loss: 0.3255 - accuracy: 0.8610 - val_loss: 0.3474 - val_accuracy: 0.8521\n",
            "Epoch 17/20\n",
            "100/100 [==============================] - 132s 1s/step - loss: 0.3222 - accuracy: 0.8607 - val_loss: 0.3490 - val_accuracy: 0.8588\n",
            "Epoch 18/20\n",
            "100/100 [==============================] - 131s 1s/step - loss: 0.3243 - accuracy: 0.8589 - val_loss: 0.3374 - val_accuracy: 0.8526\n",
            "Epoch 19/20\n",
            "100/100 [==============================] - 133s 1s/step - loss: 0.3135 - accuracy: 0.8656 - val_loss: 0.3339 - val_accuracy: 0.8517\n",
            "Epoch 20/20\n",
            "100/100 [==============================] - 138s 1s/step - loss: 0.3042 - accuracy: 0.8715 - val_loss: 0.3252 - val_accuracy: 0.8637\n"
          ],
          "name": "stdout"
        }
      ]
    },
    {
      "cell_type": "code",
      "metadata": {
        "id": "VaPbEQ2RxSDa",
        "outputId": "15130191-c46e-42e2-f6e3-4e7af3a0398e",
        "colab": {
          "base_uri": "https://localhost:8080/",
          "height": 279
        }
      },
      "source": [
        "plot_loss(history_base_model)"
      ],
      "execution_count": null,
      "outputs": [
        {
          "output_type": "display_data",
          "data": {
            "image/png": "[encoded data removed]",
            "text/plain": [
              "<Figure size 432x288 with 1 Axes>"
            ]
          },
          "metadata": {
            "tags": [],
            "needs_background": "light"
          }
        }
      ]
    },
    {
      "cell_type": "code",
      "metadata": {
        "id": "DY0W-0W8DAja",
        "outputId": "1a8ad595-95d4-4e05-df20-18f69bbf8c1c",
        "colab": {
          "base_uri": "https://localhost:8080/",
          "height": 68
        }
      },
      "source": [
        "loss, accuracy = model.evaluate(test, verbose=2)\n",
        "\n",
        "print(\"Test accuracy:\", accuracy)\n",
        "print(\"Test loss:\", loss)"
      ],
      "execution_count": null,
      "outputs": [
        {
          "output_type": "stream",
          "text": [
            "18/18 - 6s - loss: 0.3252 - accuracy: 0.8637\n",
            "Test accuracy: 0.8636767268180847\n",
            "Test loss: 0.32523369789123535\n"
          ],
          "name": "stdout"
        }
      ]
    },
    {
      "cell_type": "markdown",
      "metadata": {
        "id": "8ttlqykulQCd"
      },
      "source": [
        "sweetspot pada cats n dog 0.001 sweetspotnya ada pada epoch 56"
      ]
    },
    {
      "cell_type": "markdown",
      "metadata": {
        "id": "89dCp83aqkew"
      },
      "source": [
        "# Assignment\n",
        "\n",
        "1. Tambahkan convolution layer berikut untuk data yang sudah dilakukan data augmentation:\n",
        "\n",
        "    - Convolution layer dengan 32 filters, kernel size 3x3, activation function ReLu, & nilai awal berdasarkan he_uniform\n",
        "    - Max Pooling Layer 2x2\n",
        "    - Convolution layer dengan 64 filters, kernel size 3x3, activation function ReLu, & nilai awal berdasarkan he_uniform\n",
        "    - Max Pooling Layer 2x2\n",
        "    - Convolution layer dengan 128 filters, kernel size 3x3, activation function ReLu, & nilai awal berdasarkan he_uniform\n",
        "    - Max Pooling Layer 2x2\n",
        "\n",
        "  Bandingkan hasil accuracy yang didapat dengan ketika training dilakukan dengan model baseline! Jelaskan kesimpulannya! Gunakan nilai epoch 100. Lalu bandingkan juga plot epoch terhadap lossnya!\n",
        "\n",
        "2. Tentukan arsitektur CNN serta hyperparameter tuning bagi mendapatkan hasil terbaik untuk dataset ini!"
      ]
    }
  ]
}