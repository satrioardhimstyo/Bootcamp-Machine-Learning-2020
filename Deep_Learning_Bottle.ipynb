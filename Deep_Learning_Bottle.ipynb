{
  "nbformat": 4,
  "nbformat_minor": 0,
  "metadata": {
    "colab": {
      "name": "Deep Learning Bottle.ipynb",
      "provenance": [],
      "toc_visible": true
    },
    "kernelspec": {
      "name": "python3",
      "display_name": "Python 3"
    }
  },
  "cells": [
    {
      "cell_type": "code",
      "metadata": {
        "id": "9Ca7AjNBaMin"
      },
      "source": [
        "import pandas as pd\n",
        "import numpy as np\n",
        "import matplotlib.pyplot as plt\n",
        "import os\n",
        "import seaborn as sb"
      ],
      "execution_count": null,
      "outputs": []
    },
    {
      "cell_type": "code",
      "metadata": {
        "id": "u9fnC_0D3Rq0",
        "outputId": "5403d597-485b-4fe5-f687-550cb9dd0089",
        "colab": {
          "base_uri": "https://localhost:8080/",
          "height": 419
        }
      },
      "source": [
        "dataset = pd.read_csv('/content/drive/My Drive/ML/bottle-updated.csv')\n",
        "\n",
        "dataset"
      ],
      "execution_count": null,
      "outputs": [
        {
          "output_type": "execute_result",
          "data": {
            "text/html": [
              "<div>\n",
              "<style scoped>\n",
              "    .dataframe tbody tr th:only-of-type {\n",
              "        vertical-align: middle;\n",
              "    }\n",
              "\n",
              "    .dataframe tbody tr th {\n",
              "        vertical-align: top;\n",
              "    }\n",
              "\n",
              "    .dataframe thead th {\n",
              "        text-align: right;\n",
              "    }\n",
              "</style>\n",
              "<table border=\"1\" class=\"dataframe\">\n",
              "  <thead>\n",
              "    <tr style=\"text-align: right;\">\n",
              "      <th></th>\n",
              "      <th>Unnamed: 0</th>\n",
              "      <th>Depthm</th>\n",
              "      <th>T_degC</th>\n",
              "      <th>Salnty</th>\n",
              "    </tr>\n",
              "  </thead>\n",
              "  <tbody>\n",
              "    <tr>\n",
              "      <th>0</th>\n",
              "      <td>0</td>\n",
              "      <td>0</td>\n",
              "      <td>10.500</td>\n",
              "      <td>33.4400</td>\n",
              "    </tr>\n",
              "    <tr>\n",
              "      <th>1</th>\n",
              "      <td>1</td>\n",
              "      <td>8</td>\n",
              "      <td>10.460</td>\n",
              "      <td>33.4400</td>\n",
              "    </tr>\n",
              "    <tr>\n",
              "      <th>2</th>\n",
              "      <td>2</td>\n",
              "      <td>10</td>\n",
              "      <td>10.460</td>\n",
              "      <td>33.4370</td>\n",
              "    </tr>\n",
              "    <tr>\n",
              "      <th>3</th>\n",
              "      <td>3</td>\n",
              "      <td>19</td>\n",
              "      <td>10.450</td>\n",
              "      <td>33.4200</td>\n",
              "    </tr>\n",
              "    <tr>\n",
              "      <th>4</th>\n",
              "      <td>4</td>\n",
              "      <td>20</td>\n",
              "      <td>10.450</td>\n",
              "      <td>33.4210</td>\n",
              "    </tr>\n",
              "    <tr>\n",
              "      <th>...</th>\n",
              "      <td>...</td>\n",
              "      <td>...</td>\n",
              "      <td>...</td>\n",
              "      <td>...</td>\n",
              "    </tr>\n",
              "    <tr>\n",
              "      <th>864858</th>\n",
              "      <td>864858</td>\n",
              "      <td>0</td>\n",
              "      <td>18.744</td>\n",
              "      <td>33.4083</td>\n",
              "    </tr>\n",
              "    <tr>\n",
              "      <th>864859</th>\n",
              "      <td>864859</td>\n",
              "      <td>2</td>\n",
              "      <td>18.744</td>\n",
              "      <td>33.4083</td>\n",
              "    </tr>\n",
              "    <tr>\n",
              "      <th>864860</th>\n",
              "      <td>864860</td>\n",
              "      <td>5</td>\n",
              "      <td>18.692</td>\n",
              "      <td>33.4150</td>\n",
              "    </tr>\n",
              "    <tr>\n",
              "      <th>864861</th>\n",
              "      <td>864861</td>\n",
              "      <td>10</td>\n",
              "      <td>18.161</td>\n",
              "      <td>33.4062</td>\n",
              "    </tr>\n",
              "    <tr>\n",
              "      <th>864862</th>\n",
              "      <td>864862</td>\n",
              "      <td>15</td>\n",
              "      <td>17.533</td>\n",
              "      <td>33.3880</td>\n",
              "    </tr>\n",
              "  </tbody>\n",
              "</table>\n",
              "<p>864863 rows × 4 columns</p>\n",
              "</div>"
            ],
            "text/plain": [
              "        Unnamed: 0  Depthm  T_degC   Salnty\n",
              "0                0       0  10.500  33.4400\n",
              "1                1       8  10.460  33.4400\n",
              "2                2      10  10.460  33.4370\n",
              "3                3      19  10.450  33.4200\n",
              "4                4      20  10.450  33.4210\n",
              "...            ...     ...     ...      ...\n",
              "864858      864858       0  18.744  33.4083\n",
              "864859      864859       2  18.744  33.4083\n",
              "864860      864860       5  18.692  33.4150\n",
              "864861      864861      10  18.161  33.4062\n",
              "864862      864862      15  17.533  33.3880\n",
              "\n",
              "[864863 rows x 4 columns]"
            ]
          },
          "metadata": {
            "tags": []
          },
          "execution_count": 2
        }
      ]
    },
    {
      "cell_type": "code",
      "metadata": {
        "id": "1ujPAJ533bZs",
        "outputId": "030f0a97-e783-4805-e747-254755c88899",
        "colab": {
          "base_uri": "https://localhost:8080/",
          "height": 204
        }
      },
      "source": [
        "dataset.info()"
      ],
      "execution_count": null,
      "outputs": [
        {
          "output_type": "stream",
          "text": [
            "<class 'pandas.core.frame.DataFrame'>\n",
            "RangeIndex: 864863 entries, 0 to 864862\n",
            "Data columns (total 4 columns):\n",
            " #   Column      Non-Null Count   Dtype  \n",
            "---  ------      --------------   -----  \n",
            " 0   Unnamed: 0  864863 non-null  int64  \n",
            " 1   Depthm      864863 non-null  int64  \n",
            " 2   T_degC      853900 non-null  float64\n",
            " 3   Salnty      817509 non-null  float64\n",
            "dtypes: float64(2), int64(2)\n",
            "memory usage: 26.4 MB\n"
          ],
          "name": "stdout"
        }
      ]
    },
    {
      "cell_type": "code",
      "metadata": {
        "id": "59HCl0NxoBeK"
      },
      "source": [
        "dataset.replace('?', np.nan, inplace=True)"
      ],
      "execution_count": null,
      "outputs": []
    },
    {
      "cell_type": "code",
      "metadata": {
        "id": "eqngbIZooGFW",
        "outputId": "c1ae92e8-e288-4753-a566-eb92c750dce8",
        "colab": {
          "base_uri": "https://localhost:8080/",
          "height": 102
        }
      },
      "source": [
        "print(dataset.isnull().sum().sort_values())"
      ],
      "execution_count": null,
      "outputs": [
        {
          "output_type": "stream",
          "text": [
            "Unnamed: 0        0\n",
            "Depthm            0\n",
            "T_degC        10963\n",
            "Salnty        47354\n",
            "dtype: int64\n"
          ],
          "name": "stdout"
        }
      ]
    },
    {
      "cell_type": "code",
      "metadata": {
        "id": "uf6O3IVqoRfD"
      },
      "source": [
        "T_mean = dataset['T_degC'].astype(float).mean(axis=0)\n",
        "S_mean = dataset['Salnty'].astype(float).mean(axis=0)"
      ],
      "execution_count": null,
      "outputs": []
    },
    {
      "cell_type": "code",
      "metadata": {
        "id": "H-U0hn1yoZbU",
        "outputId": "c2408de7-b899-49af-a584-95c26707a71b",
        "colab": {
          "base_uri": "https://localhost:8080/",
          "height": 204
        }
      },
      "source": [
        "dataset['T_degC'].replace(np.nan, T_mean, inplace=True)\n",
        "dataset['Salnty'].replace(np.nan, S_mean, inplace=True)\n",
        "\n",
        "\n",
        "dataset.head()"
      ],
      "execution_count": null,
      "outputs": [
        {
          "output_type": "execute_result",
          "data": {
            "text/html": [
              "<div>\n",
              "<style scoped>\n",
              "    .dataframe tbody tr th:only-of-type {\n",
              "        vertical-align: middle;\n",
              "    }\n",
              "\n",
              "    .dataframe tbody tr th {\n",
              "        vertical-align: top;\n",
              "    }\n",
              "\n",
              "    .dataframe thead th {\n",
              "        text-align: right;\n",
              "    }\n",
              "</style>\n",
              "<table border=\"1\" class=\"dataframe\">\n",
              "  <thead>\n",
              "    <tr style=\"text-align: right;\">\n",
              "      <th></th>\n",
              "      <th>Unnamed: 0</th>\n",
              "      <th>Depthm</th>\n",
              "      <th>T_degC</th>\n",
              "      <th>Salnty</th>\n",
              "    </tr>\n",
              "  </thead>\n",
              "  <tbody>\n",
              "    <tr>\n",
              "      <th>0</th>\n",
              "      <td>0</td>\n",
              "      <td>0</td>\n",
              "      <td>10.50</td>\n",
              "      <td>33.440</td>\n",
              "    </tr>\n",
              "    <tr>\n",
              "      <th>1</th>\n",
              "      <td>1</td>\n",
              "      <td>8</td>\n",
              "      <td>10.46</td>\n",
              "      <td>33.440</td>\n",
              "    </tr>\n",
              "    <tr>\n",
              "      <th>2</th>\n",
              "      <td>2</td>\n",
              "      <td>10</td>\n",
              "      <td>10.46</td>\n",
              "      <td>33.437</td>\n",
              "    </tr>\n",
              "    <tr>\n",
              "      <th>3</th>\n",
              "      <td>3</td>\n",
              "      <td>19</td>\n",
              "      <td>10.45</td>\n",
              "      <td>33.420</td>\n",
              "    </tr>\n",
              "    <tr>\n",
              "      <th>4</th>\n",
              "      <td>4</td>\n",
              "      <td>20</td>\n",
              "      <td>10.45</td>\n",
              "      <td>33.421</td>\n",
              "    </tr>\n",
              "  </tbody>\n",
              "</table>\n",
              "</div>"
            ],
            "text/plain": [
              "   Unnamed: 0  Depthm  T_degC  Salnty\n",
              "0           0       0   10.50  33.440\n",
              "1           1       8   10.46  33.440\n",
              "2           2      10   10.46  33.437\n",
              "3           3      19   10.45  33.420\n",
              "4           4      20   10.45  33.421"
            ]
          },
          "metadata": {
            "tags": []
          },
          "execution_count": 7
        }
      ]
    },
    {
      "cell_type": "code",
      "metadata": {
        "id": "u17aMl2CoknQ",
        "outputId": "393155ff-5b37-489b-e1a2-d15da7ab5f7f",
        "colab": {
          "base_uri": "https://localhost:8080/",
          "height": 102
        }
      },
      "source": [
        "dataset.isnull().sum().sort_values()"
      ],
      "execution_count": null,
      "outputs": [
        {
          "output_type": "execute_result",
          "data": {
            "text/plain": [
              "Unnamed: 0    0\n",
              "Depthm        0\n",
              "T_degC        0\n",
              "Salnty        0\n",
              "dtype: int64"
            ]
          },
          "metadata": {
            "tags": []
          },
          "execution_count": 8
        }
      ]
    },
    {
      "cell_type": "code",
      "metadata": {
        "id": "NXHl9zTK3cr7",
        "outputId": "67d35270-431b-4a95-8fff-13a63303a848",
        "colab": {
          "base_uri": "https://localhost:8080/",
          "height": 1000
        }
      },
      "source": [
        "dataset.hist(figsize=(18, 22), bins=50, xlabelsize=8, ylabelsize=8)"
      ],
      "execution_count": null,
      "outputs": [
        {
          "output_type": "execute_result",
          "data": {
            "text/plain": [
              "array([[<matplotlib.axes._subplots.AxesSubplot object at 0x7f4689d666d8>,\n",
              "        <matplotlib.axes._subplots.AxesSubplot object at 0x7f4689cbe908>],\n",
              "       [<matplotlib.axes._subplots.AxesSubplot object at 0x7f4689c76b70>,\n",
              "        <matplotlib.axes._subplots.AxesSubplot object at 0x7f4689c2add8>]],\n",
              "      dtype=object)"
            ]
          },
          "metadata": {
            "tags": []
          },
          "execution_count": 9
        },
        {
          "output_type": "display_data",
          "data": {
            "image/png": "[encoded data removed]",
            "text/plain": [
              "<Figure size 1296x1584 with 4 Axes>"
            ]
          },
          "metadata": {
            "tags": [],
            "needs_background": "light"
          }
        }
      ]
    },
    {
      "cell_type": "code",
      "metadata": {
        "id": "xwiGCT7naKvq"
      },
      "source": [
        "dataset.drop(['Unnamed: 0'], axis=1, inplace=True)"
      ],
      "execution_count": null,
      "outputs": []
    },
    {
      "cell_type": "code",
      "metadata": {
        "id": "uJ6Ezp153sNA",
        "outputId": "bfcfa37e-b5c0-4665-8f35-715c8e50df24",
        "colab": {
          "base_uri": "https://localhost:8080/",
          "height": 142
        }
      },
      "source": [
        "corr = dataset.corr()\n",
        "\n",
        "corr"
      ],
      "execution_count": null,
      "outputs": [
        {
          "output_type": "execute_result",
          "data": {
            "text/html": [
              "<div>\n",
              "<style scoped>\n",
              "    .dataframe tbody tr th:only-of-type {\n",
              "        vertical-align: middle;\n",
              "    }\n",
              "\n",
              "    .dataframe tbody tr th {\n",
              "        vertical-align: top;\n",
              "    }\n",
              "\n",
              "    .dataframe thead th {\n",
              "        text-align: right;\n",
              "    }\n",
              "</style>\n",
              "<table border=\"1\" class=\"dataframe\">\n",
              "  <thead>\n",
              "    <tr style=\"text-align: right;\">\n",
              "      <th></th>\n",
              "      <th>Depthm</th>\n",
              "      <th>T_degC</th>\n",
              "      <th>Salnty</th>\n",
              "    </tr>\n",
              "  </thead>\n",
              "  <tbody>\n",
              "    <tr>\n",
              "      <th>Depthm</th>\n",
              "      <td>1.000000</td>\n",
              "      <td>-0.678628</td>\n",
              "      <td>0.543326</td>\n",
              "    </tr>\n",
              "    <tr>\n",
              "      <th>T_degC</th>\n",
              "      <td>-0.678628</td>\n",
              "      <td>1.000000</td>\n",
              "      <td>-0.489967</td>\n",
              "    </tr>\n",
              "    <tr>\n",
              "      <th>Salnty</th>\n",
              "      <td>0.543326</td>\n",
              "      <td>-0.489967</td>\n",
              "      <td>1.000000</td>\n",
              "    </tr>\n",
              "  </tbody>\n",
              "</table>\n",
              "</div>"
            ],
            "text/plain": [
              "          Depthm    T_degC    Salnty\n",
              "Depthm  1.000000 -0.678628  0.543326\n",
              "T_degC -0.678628  1.000000 -0.489967\n",
              "Salnty  0.543326 -0.489967  1.000000"
            ]
          },
          "metadata": {
            "tags": []
          },
          "execution_count": 11
        }
      ]
    },
    {
      "cell_type": "code",
      "metadata": {
        "id": "oEmrD1cr3ng5",
        "outputId": "9d68c54f-f687-47b3-9c57-868f632b20eb",
        "colab": {
          "base_uri": "https://localhost:8080/",
          "height": 1000
        }
      },
      "source": [
        "plt.figure(figsize=(20,20))\n",
        "sb.heatmap(corr, cbar=True, square= True, fmt='.1f', annot=True, annot_kws={'size':15}, cmap='Greens')"
      ],
      "execution_count": null,
      "outputs": [
        {
          "output_type": "execute_result",
          "data": {
            "text/plain": [
              "<matplotlib.axes._subplots.AxesSubplot at 0x7f4689902400>"
            ]
          },
          "metadata": {
            "tags": []
          },
          "execution_count": 12
        },
        {
          "output_type": "display_data",
          "data": {
            "image/png": "[encoded data removed]",
            "text/plain": [
              "<Figure size 1440x1440 with 2 Axes>"
            ]
          },
          "metadata": {
            "tags": [],
            "needs_background": "light"
          }
        }
      ]
    },
    {
      "cell_type": "markdown",
      "metadata": {
        "id": "ryI7Lg7h4Utc"
      },
      "source": [
        "## Linear Regression"
      ]
    },
    {
      "cell_type": "markdown",
      "metadata": {
        "id": "QtdINMvP4YOt"
      },
      "source": [
        "### Feature Engineering"
      ]
    },
    {
      "cell_type": "code",
      "metadata": {
        "id": "D2cvZwxU4UKL"
      },
      "source": [
        "label = dataset['Salnty']\n",
        "feature = dataset.drop(['Salnty'], axis=1)"
      ],
      "execution_count": null,
      "outputs": []
    },
    {
      "cell_type": "code",
      "metadata": {
        "id": "ivxW5Lny5QmX"
      },
      "source": [
        "from sklearn import preprocessing\n",
        "scaler = preprocessing.StandardScaler()\n",
        "\n",
        "feature = scaler.fit_transform(feature.values)\n",
        "label = scaler.fit_transform(label.values.reshape(-1,1)).flatten()"
      ],
      "execution_count": null,
      "outputs": []
    },
    {
      "cell_type": "code",
      "metadata": {
        "id": "eVZoQC3i4e1b"
      },
      "source": [
        "from sklearn.model_selection import train_test_split\n",
        "feature_train, feature_test, label_train, label_test = train_test_split(feature, label, test_size=0.25, random_state=10)"
      ],
      "execution_count": null,
      "outputs": []
    },
    {
      "cell_type": "code",
      "metadata": {
        "id": "dtOFfE5y4jUs",
        "outputId": "8c75c2e0-b294-4361-c95b-091c71cf34b1",
        "colab": {
          "base_uri": "https://localhost:8080/",
          "height": 85
        }
      },
      "source": [
        "from sklearn.linear_model import LinearRegression\n",
        "\n",
        "lm = LinearRegression()\n",
        "lm.fit(feature_train, label_train)\n",
        "\n",
        "predictions = lm.predict(feature_test)\n",
        "\n",
        "from sklearn.metrics import mean_squared_error, mean_absolute_error, r2_score\n",
        "\n",
        "mse = mean_squared_error(label_test, predictions)\n",
        "mae = mean_absolute_error(label_test, predictions)\n",
        "r2 = r2_score(label_test, predictions)\n",
        "print(\"MSE (Mean Squared Error)\", mse)\n",
        "print(\"MAE (Mean Absolute Error)\", mae)\n",
        "print(\"r^2 score\", r2)\n",
        "print('RMSE (Root Mean Squared Error', np.sqrt(mean_squared_error(label_test, predictions)))"
      ],
      "execution_count": null,
      "outputs": [
        {
          "output_type": "stream",
          "text": [
            "MSE (Mean Squared Error) 0.6832035786398614\n",
            "MAE (Mean Absolute Error) 0.5854716355968662\n",
            "r^2 score 0.3185370006447811\n",
            "RMSE (Root Mean Squared Error 0.8265612975695519\n"
          ],
          "name": "stdout"
        }
      ]
    },
    {
      "cell_type": "markdown",
      "metadata": {
        "id": "71NOADCA4oSi"
      },
      "source": [
        "### Deep Learning"
      ]
    },
    {
      "cell_type": "code",
      "metadata": {
        "id": "u520t66w21i6"
      },
      "source": [
        "# Based on: https://machinelearningmastery.com/regression-tutorial-keras-deep-learning-library-python/\n",
        "from tensorflow.keras.models import Sequential\n",
        "from tensorflow.keras.layers import Dense\n",
        "\n",
        "model = Sequential()\n",
        "model.add(Dense(13, input_dim=2, kernel_initializer='normal', activation='relu')) # 13 neuron, sesuai dengan 13 features\n",
        "model.add(Dense(1, kernel_initializer='normal'))\n",
        "\n",
        "model.compile(loss='mean_squared_error', optimizer='adam')"
      ],
      "execution_count": null,
      "outputs": []
    },
    {
      "cell_type": "code",
      "metadata": {
        "id": "SvGU4xsO6C74",
        "outputId": "01a461d6-02f0-4b9a-a7f9-0507e794bf6a",
        "colab": {
          "base_uri": "https://localhost:8080/",
          "height": 1000
        }
      },
      "source": [
        "model.fit(x=feature_train, y=label_train, validation_data=(feature_test, label_test), epochs=50, batch_size=8)"
      ],
      "execution_count": null,
      "outputs": [
        {
          "output_type": "stream",
          "text": [
            "Epoch 1/50\n",
            "81081/81081 [==============================] - 84s 1ms/step - loss: 0.4119 - val_loss: 0.3957\n",
            "Epoch 2/50\n",
            "81081/81081 [==============================] - 85s 1ms/step - loss: 0.3884 - val_loss: 0.3903\n",
            "Epoch 3/50\n",
            "81081/81081 [==============================] - 84s 1ms/step - loss: 0.3860 - val_loss: 0.3878\n",
            "Epoch 4/50\n",
            "81081/81081 [==============================] - 86s 1ms/step - loss: 0.3753 - val_loss: 0.3633\n",
            "Epoch 5/50\n",
            "81081/81081 [==============================] - 87s 1ms/step - loss: 0.3584 - val_loss: 0.3629\n",
            "Epoch 6/50\n",
            "81081/81081 [==============================] - 85s 1ms/step - loss: 0.3575 - val_loss: 0.3600\n",
            "Epoch 7/50\n",
            "81081/81081 [==============================] - 87s 1ms/step - loss: 0.3574 - val_loss: 0.3592\n",
            "Epoch 8/50\n",
            "81081/81081 [==============================] - 90s 1ms/step - loss: 0.3572 - val_loss: 0.3604\n",
            "Epoch 9/50\n",
            "81081/81081 [==============================] - 89s 1ms/step - loss: 0.3571 - val_loss: 0.3609\n",
            "Epoch 10/50\n",
            "81081/81081 [==============================] - 86s 1ms/step - loss: 0.3569 - val_loss: 0.3649\n",
            "Epoch 11/50\n",
            "81081/81081 [==============================] - 88s 1ms/step - loss: 0.3565 - val_loss: 0.3594\n",
            "Epoch 12/50\n",
            "81081/81081 [==============================] - 92s 1ms/step - loss: 0.3562 - val_loss: 0.3611\n",
            "Epoch 13/50\n",
            "81081/81081 [==============================] - 90s 1ms/step - loss: 0.3557 - val_loss: 0.3584\n",
            "Epoch 14/50\n",
            "81081/81081 [==============================] - 88s 1ms/step - loss: 0.3553 - val_loss: 0.3607\n",
            "Epoch 15/50\n",
            "81081/81081 [==============================] - 87s 1ms/step - loss: 0.3550 - val_loss: 0.3576\n",
            "Epoch 16/50\n",
            "81081/81081 [==============================] - 89s 1ms/step - loss: 0.3548 - val_loss: 0.3573\n",
            "Epoch 17/50\n",
            "81081/81081 [==============================] - 87s 1ms/step - loss: 0.3522 - val_loss: 0.3536\n",
            "Epoch 18/50\n",
            "81081/81081 [==============================] - 87s 1ms/step - loss: 0.3514 - val_loss: 0.3584\n",
            "Epoch 19/50\n",
            "81081/81081 [==============================] - 90s 1ms/step - loss: 0.3512 - val_loss: 0.3533\n",
            "Epoch 20/50\n",
            "81081/81081 [==============================] - 88s 1ms/step - loss: 0.3510 - val_loss: 0.3543\n",
            "Epoch 21/50\n",
            "81081/81081 [==============================] - 89s 1ms/step - loss: 0.3509 - val_loss: 0.3587\n",
            "Epoch 22/50\n",
            "81081/81081 [==============================] - 88s 1ms/step - loss: 0.3510 - val_loss: 0.3574\n",
            "Epoch 23/50\n",
            "81081/81081 [==============================] - 93s 1ms/step - loss: 0.3508 - val_loss: 0.3557\n",
            "Epoch 24/50\n",
            "81081/81081 [==============================] - 88s 1ms/step - loss: 0.3509 - val_loss: 0.3523\n",
            "Epoch 25/50\n",
            "81081/81081 [==============================] - 87s 1ms/step - loss: 0.3507 - val_loss: 0.3543\n",
            "Epoch 26/50\n",
            "81081/81081 [==============================] - 86s 1ms/step - loss: 0.3507 - val_loss: 0.3553\n",
            "Epoch 27/50\n",
            "81081/81081 [==============================] - 84s 1ms/step - loss: 0.3506 - val_loss: 0.3506\n",
            "Epoch 28/50\n",
            "81081/81081 [==============================] - 85s 1ms/step - loss: 0.3483 - val_loss: 0.3496\n",
            "Epoch 29/50\n",
            "81081/81081 [==============================] - 86s 1ms/step - loss: 0.3478 - val_loss: 0.3508\n",
            "Epoch 30/50\n",
            "81081/81081 [==============================] - 87s 1ms/step - loss: 0.3474 - val_loss: 0.3525\n",
            "Epoch 31/50\n",
            "81081/81081 [==============================] - 87s 1ms/step - loss: 0.3473 - val_loss: 0.3491\n",
            "Epoch 32/50\n",
            "81081/81081 [==============================] - 86s 1ms/step - loss: 0.3471 - val_loss: 0.3529\n",
            "Epoch 33/50\n",
            "81081/81081 [==============================] - 87s 1ms/step - loss: 0.3471 - val_loss: 0.3503\n",
            "Epoch 34/50\n",
            "81081/81081 [==============================] - 88s 1ms/step - loss: 0.3472 - val_loss: 0.3511\n",
            "Epoch 35/50\n",
            "81081/81081 [==============================] - 87s 1ms/step - loss: 0.3471 - val_loss: 0.3510\n",
            "Epoch 36/50\n",
            "81081/81081 [==============================] - 87s 1ms/step - loss: 0.3472 - val_loss: 0.3550\n",
            "Epoch 37/50\n",
            "81081/81081 [==============================] - 90s 1ms/step - loss: 0.3472 - val_loss: 0.3510\n",
            "Epoch 38/50\n",
            "81081/81081 [==============================] - 85s 1ms/step - loss: 0.3470 - val_loss: 0.3498\n",
            "Epoch 39/50\n",
            "81081/81081 [==============================] - 85s 1ms/step - loss: 0.3471 - val_loss: 0.3501\n",
            "Epoch 40/50\n",
            "81081/81081 [==============================] - 88s 1ms/step - loss: 0.3471 - val_loss: 0.3508\n",
            "Epoch 41/50\n",
            "81081/81081 [==============================] - 88s 1ms/step - loss: 0.3471 - val_loss: 0.3495\n",
            "Epoch 42/50\n",
            "81081/81081 [==============================] - 86s 1ms/step - loss: 0.3470 - val_loss: 0.3500\n",
            "Epoch 43/50\n",
            "81081/81081 [==============================] - 86s 1ms/step - loss: 0.3471 - val_loss: 0.3578\n",
            "Epoch 44/50\n",
            "81081/81081 [==============================] - 87s 1ms/step - loss: 0.3471 - val_loss: 0.3504\n",
            "Epoch 45/50\n",
            "81081/81081 [==============================] - 91s 1ms/step - loss: 0.3471 - val_loss: 0.3493\n",
            "Epoch 46/50\n",
            "81081/81081 [==============================] - 86s 1ms/step - loss: 0.3471 - val_loss: 0.3489\n",
            "Epoch 47/50\n",
            "81081/81081 [==============================] - 86s 1ms/step - loss: 0.3470 - val_loss: 0.3509\n",
            "Epoch 48/50\n",
            "81081/81081 [==============================] - 88s 1ms/step - loss: 0.3470 - val_loss: 0.3495\n",
            "Epoch 49/50\n",
            "81081/81081 [==============================] - 87s 1ms/step - loss: 0.3471 - val_loss: 0.3488\n",
            "Epoch 50/50\n",
            "81081/81081 [==============================] - 86s 1ms/step - loss: 0.3470 - val_loss: 0.3548\n"
          ],
          "name": "stdout"
        },
        {
          "output_type": "execute_result",
          "data": {
            "text/plain": [
              "<tensorflow.python.keras.callbacks.History at 0x7fbb129f8a90>"
            ]
          },
          "metadata": {
            "tags": []
          },
          "execution_count": 21
        }
      ]
    },
    {
      "cell_type": "code",
      "metadata": {
        "id": "WeJGsG9a6oca"
      },
      "source": [
        "predictions = model.predict(feature_test)\n",
        "\n",
        "predictions = predictions.flatten()"
      ],
      "execution_count": null,
      "outputs": []
    },
    {
      "cell_type": "code",
      "metadata": {
        "id": "6RIqgTJK8EkK",
        "outputId": "100e05c0-69d9-4fa8-c7fe-0d969ab3c8ff",
        "colab": {
          "base_uri": "https://localhost:8080/",
          "height": 85
        }
      },
      "source": [
        "from sklearn.metrics import mean_squared_error, mean_absolute_error, r2_score\n",
        "\n",
        "mse = mean_squared_error(label_test, predictions)\n",
        "mae = mean_absolute_error(label_test, predictions)\n",
        "r2 = r2_score(label_test, predictions)\n",
        "print(\"MSE (Mean Squared Error)\", mse)\n",
        "print(\"MAE (Mean Absolute Error)\", mae)\n",
        "print(\"r^2 score\", r2)\n",
        "print('RMSE (Root Mean Squared Error', np.sqrt(mean_squared_error(label_test, predictions)))"
      ],
      "execution_count": null,
      "outputs": [
        {
          "output_type": "stream",
          "text": [
            "MSE (Mean Squared Error) 0.3547727267307706\n",
            "MAE (Mean Absolute Error) 0.4085570006086511\n",
            "r^2 score 0.6461311181526725\n",
            "RMSE (Root Mean Squared Error 0.5956280103644981\n"
          ],
          "name": "stdout"
        }
      ]
    },
    {
      "cell_type": "markdown",
      "metadata": {
        "id": "eeLikvdE9MsO"
      },
      "source": [
        "## Deeper Model"
      ]
    },
    {
      "cell_type": "code",
      "metadata": {
        "id": "MEiteeaV8YOc",
        "outputId": "29f78c9a-2ed8-4a39-c913-f7cb4b40dd95",
        "colab": {
          "base_uri": "https://localhost:8080/",
          "height": 1000
        }
      },
      "source": [
        "deeper_model = Sequential()\n",
        "deeper_model.add(Dense(13, input_dim=2, kernel_initializer='normal', activation='relu'))\n",
        "deeper_model.add(Dense(6, kernel_initializer='normal', activation='relu'))\n",
        "deeper_model.add(Dense(1, kernel_initializer='normal'))\n",
        "\n",
        "deeper_model.compile(loss='mean_squared_error', optimizer='adam')\n",
        "\n",
        "deeper_model.fit(x=feature_train, y=label_train, validation_data=(feature_test, label_test), epochs=50, batch_size=8)"
      ],
      "execution_count": null,
      "outputs": [
        {
          "output_type": "stream",
          "text": [
            "Epoch 1/50\n",
            "81081/81081 [==============================] - 106s 1ms/step - loss: 0.3703 - val_loss: 0.3578\n",
            "Epoch 2/50\n",
            "81081/81081 [==============================] - 99s 1ms/step - loss: 0.3529 - val_loss: 0.3541\n",
            "Epoch 3/50\n",
            "81081/81081 [==============================] - 99s 1ms/step - loss: 0.3513 - val_loss: 0.3552\n",
            "Epoch 4/50\n",
            "81081/81081 [==============================] - 101s 1ms/step - loss: 0.3508 - val_loss: 0.3526\n",
            "Epoch 5/50\n",
            "81081/81081 [==============================] - 100s 1ms/step - loss: 0.3488 - val_loss: 0.3531\n",
            "Epoch 6/50\n",
            "81081/81081 [==============================] - 98s 1ms/step - loss: 0.3472 - val_loss: 0.3509\n",
            "Epoch 7/50\n",
            "81081/81081 [==============================] - 98s 1ms/step - loss: 0.3462 - val_loss: 0.3512\n",
            "Epoch 8/50\n",
            "81081/81081 [==============================] - 98s 1ms/step - loss: 0.3453 - val_loss: 0.3469\n",
            "Epoch 9/50\n",
            "81081/81081 [==============================] - 101s 1ms/step - loss: 0.3449 - val_loss: 0.3530\n",
            "Epoch 10/50\n",
            "81081/81081 [==============================] - 103s 1ms/step - loss: 0.3445 - val_loss: 0.3472\n",
            "Epoch 11/50\n",
            "81081/81081 [==============================] - 102s 1ms/step - loss: 0.3444 - val_loss: 0.3460\n",
            "Epoch 12/50\n",
            "81081/81081 [==============================] - 103s 1ms/step - loss: 0.3443 - val_loss: 0.3484\n",
            "Epoch 13/50\n",
            "81081/81081 [==============================] - 104s 1ms/step - loss: 0.3443 - val_loss: 0.3459\n",
            "Epoch 14/50\n",
            "81081/81081 [==============================] - 106s 1ms/step - loss: 0.3440 - val_loss: 0.3473\n",
            "Epoch 15/50\n",
            "81081/81081 [==============================] - 106s 1ms/step - loss: 0.3440 - val_loss: 0.3480\n",
            "Epoch 16/50\n",
            "81081/81081 [==============================] - 105s 1ms/step - loss: 0.3439 - val_loss: 0.3467\n",
            "Epoch 17/50\n",
            "81081/81081 [==============================] - 102s 1ms/step - loss: 0.3439 - val_loss: 0.3474\n",
            "Epoch 18/50\n",
            "81081/81081 [==============================] - 105s 1ms/step - loss: 0.3439 - val_loss: 0.3509\n",
            "Epoch 19/50\n",
            "81081/81081 [==============================] - 106s 1ms/step - loss: 0.3440 - val_loss: 0.3474\n",
            "Epoch 20/50\n",
            "81081/81081 [==============================] - 104s 1ms/step - loss: 0.3439 - val_loss: 0.3463\n",
            "Epoch 21/50\n",
            "81081/81081 [==============================] - 100s 1ms/step - loss: 0.3438 - val_loss: 0.3534\n",
            "Epoch 22/50\n",
            "81081/81081 [==============================] - 102s 1ms/step - loss: 0.3437 - val_loss: 0.3479\n",
            "Epoch 23/50\n",
            "81081/81081 [==============================] - 100s 1ms/step - loss: 0.3435 - val_loss: 0.3485\n",
            "Epoch 24/50\n",
            "81081/81081 [==============================] - 99s 1ms/step - loss: 0.3435 - val_loss: 0.3472\n",
            "Epoch 25/50\n",
            "81081/81081 [==============================] - 100s 1ms/step - loss: 0.3434 - val_loss: 0.3471\n",
            "Epoch 26/50\n",
            "81081/81081 [==============================] - 101s 1ms/step - loss: 0.3433 - val_loss: 0.3508\n",
            "Epoch 27/50\n",
            "81081/81081 [==============================] - 104s 1ms/step - loss: 0.3433 - val_loss: 0.3520\n",
            "Epoch 28/50\n",
            "81081/81081 [==============================] - 103s 1ms/step - loss: 0.3434 - val_loss: 0.3469\n",
            "Epoch 29/50\n",
            "81081/81081 [==============================] - 102s 1ms/step - loss: 0.3433 - val_loss: 0.3463\n",
            "Epoch 30/50\n",
            "81081/81081 [==============================] - 105s 1ms/step - loss: 0.3432 - val_loss: 0.3479\n",
            "Epoch 31/50\n",
            "81081/81081 [==============================] - 103s 1ms/step - loss: 0.3432 - val_loss: 0.3480\n",
            "Epoch 32/50\n",
            "81081/81081 [==============================] - 100s 1ms/step - loss: 0.3432 - val_loss: 0.3460\n",
            "Epoch 33/50\n",
            "81081/81081 [==============================] - 101s 1ms/step - loss: 0.3432 - val_loss: 0.3461\n",
            "Epoch 34/50\n",
            "81081/81081 [==============================] - 103s 1ms/step - loss: 0.3431 - val_loss: 0.3465\n",
            "Epoch 35/50\n",
            "81081/81081 [==============================] - 101s 1ms/step - loss: 0.3432 - val_loss: 0.3459\n",
            "Epoch 36/50\n",
            "81081/81081 [==============================] - 107s 1ms/step - loss: 0.3432 - val_loss: 0.3462\n",
            "Epoch 37/50\n",
            "81081/81081 [==============================] - 102s 1ms/step - loss: 0.3430 - val_loss: 0.3494\n",
            "Epoch 38/50\n",
            "81081/81081 [==============================] - 101s 1ms/step - loss: 0.3431 - val_loss: 0.3468\n",
            "Epoch 39/50\n",
            "81081/81081 [==============================] - 101s 1ms/step - loss: 0.3430 - val_loss: 0.3487\n",
            "Epoch 40/50\n",
            "81081/81081 [==============================] - 103s 1ms/step - loss: 0.3431 - val_loss: 0.3458\n",
            "Epoch 41/50\n",
            "81081/81081 [==============================] - 105s 1ms/step - loss: 0.3431 - val_loss: 0.3462\n",
            "Epoch 42/50\n",
            "81081/81081 [==============================] - 106s 1ms/step - loss: 0.3431 - val_loss: 0.3463\n",
            "Epoch 43/50\n",
            "81081/81081 [==============================] - 109s 1ms/step - loss: 0.3430 - val_loss: 0.3471\n",
            "Epoch 44/50\n",
            "81081/81081 [==============================] - 108s 1ms/step - loss: 0.3429 - val_loss: 0.3476\n",
            "Epoch 45/50\n",
            "81081/81081 [==============================] - 114s 1ms/step - loss: 0.3430 - val_loss: 0.3457\n",
            "Epoch 46/50\n",
            "81081/81081 [==============================] - 113s 1ms/step - loss: 0.3430 - val_loss: 0.3470\n",
            "Epoch 47/50\n",
            "81081/81081 [==============================] - 113s 1ms/step - loss: 0.3430 - val_loss: 0.3489\n",
            "Epoch 48/50\n",
            "81081/81081 [==============================] - 113s 1ms/step - loss: 0.3430 - val_loss: 0.3456\n",
            "Epoch 49/50\n",
            "81081/81081 [==============================] - 110s 1ms/step - loss: 0.3429 - val_loss: 0.3470\n",
            "Epoch 50/50\n",
            "81081/81081 [==============================] - 110s 1ms/step - loss: 0.3430 - val_loss: 0.3490\n"
          ],
          "name": "stdout"
        },
        {
          "output_type": "execute_result",
          "data": {
            "text/plain": [
              "<tensorflow.python.keras.callbacks.History at 0x7fbb10b42f60>"
            ]
          },
          "metadata": {
            "tags": []
          },
          "execution_count": 24
        }
      ]
    },
    {
      "cell_type": "code",
      "metadata": {
        "id": "lyJeIf8s8yL2"
      },
      "source": [
        "predictions = deeper_model.predict(feature_test)\n",
        "\n",
        "predictions = predictions.flatten()"
      ],
      "execution_count": null,
      "outputs": []
    },
    {
      "cell_type": "code",
      "metadata": {
        "id": "gP7CrS1n81Ue",
        "outputId": "65d8a05d-e66e-4b97-a064-ea4de96400e5",
        "colab": {
          "base_uri": "https://localhost:8080/",
          "height": 85
        }
      },
      "source": [
        "from sklearn.metrics import mean_squared_error, mean_absolute_error, r2_score\n",
        "\n",
        "mse = mean_squared_error(label_test, predictions)\n",
        "mae = mean_absolute_error(label_test, predictions)\n",
        "r2 = r2_score(label_test, predictions)\n",
        "print(\"MSE (Mean Squared Error)\", mse)\n",
        "print(\"MAE (Mean Absolute Error)\", mae)\n",
        "print(\"r^2 score\", r2)\n",
        "print('RMSE (Root Mean Squared Error', np.sqrt(mean_squared_error(label_test, predictions)))"
      ],
      "execution_count": null,
      "outputs": [
        {
          "output_type": "stream",
          "text": [
            "MSE (Mean Squared Error) 0.34900415094948584\n",
            "MAE (Mean Absolute Error) 0.4020449382823292\n",
            "r^2 score 0.6518849974894119\n",
            "RMSE (Root Mean Squared Error 0.5907657327143186\n"
          ],
          "name": "stdout"
        }
      ]
    },
    {
      "cell_type": "markdown",
      "metadata": {
        "id": "WAtLbRex9T7M"
      },
      "source": [
        "### Wider model"
      ]
    },
    {
      "cell_type": "code",
      "metadata": {
        "id": "VZrrMdLG9TZ3",
        "outputId": "b9e157a4-802a-4ffe-8fd8-6a676c93ead4",
        "colab": {
          "base_uri": "https://localhost:8080/",
          "height": 1000
        }
      },
      "source": [
        "wider_model = Sequential()\n",
        "wider_model.add(Dense(20, input_dim=2, kernel_initializer='normal', activation='relu'))\n",
        "wider_model.add(Dense(1, kernel_initializer='normal'))\n",
        "\n",
        "wider_model.compile(loss='mean_squared_error', optimizer='adam')\n",
        "\n",
        "history = wider_model.fit(x=feature_train, y=label_train, validation_data=(feature_test, label_test), epochs=100, batch_size=8)"
      ],
      "execution_count": null,
      "outputs": [
        {
          "output_type": "stream",
          "text": [
            "Epoch 1/100\n",
            "81081/81081 [==============================] - 93s 1ms/step - loss: 0.4035 - val_loss: 0.3911\n",
            "Epoch 2/100\n",
            "81081/81081 [==============================] - 93s 1ms/step - loss: 0.3781 - val_loss: 0.3728\n",
            "Epoch 3/100\n",
            "81081/81081 [==============================] - 94s 1ms/step - loss: 0.3588 - val_loss: 0.3585\n",
            "Epoch 4/100\n",
            "81081/81081 [==============================] - 94s 1ms/step - loss: 0.3534 - val_loss: 0.3547\n",
            "Epoch 5/100\n",
            "81081/81081 [==============================] - 93s 1ms/step - loss: 0.3507 - val_loss: 0.3517\n",
            "Epoch 6/100\n",
            "81081/81081 [==============================] - 90s 1ms/step - loss: 0.3496 - val_loss: 0.3574\n",
            "Epoch 7/100\n",
            "81081/81081 [==============================] - 92s 1ms/step - loss: 0.3493 - val_loss: 0.3513\n",
            "Epoch 8/100\n",
            "81081/81081 [==============================] - 89s 1ms/step - loss: 0.3489 - val_loss: 0.3561\n",
            "Epoch 9/100\n",
            "81081/81081 [==============================] - 89s 1ms/step - loss: 0.3486 - val_loss: 0.3543\n",
            "Epoch 10/100\n",
            "81081/81081 [==============================] - 89s 1ms/step - loss: 0.3485 - val_loss: 0.3546\n",
            "Epoch 11/100\n",
            "81081/81081 [==============================] - 91s 1ms/step - loss: 0.3484 - val_loss: 0.3508\n",
            "Epoch 12/100\n",
            "81081/81081 [==============================] - 90s 1ms/step - loss: 0.3483 - val_loss: 0.3507\n",
            "Epoch 13/100\n",
            "81081/81081 [==============================] - 90s 1ms/step - loss: 0.3481 - val_loss: 0.3499\n",
            "Epoch 14/100\n",
            "81081/81081 [==============================] - 97s 1ms/step - loss: 0.3481 - val_loss: 0.3499\n",
            "Epoch 15/100\n",
            "81081/81081 [==============================] - 91s 1ms/step - loss: 0.3478 - val_loss: 0.3551\n",
            "Epoch 16/100\n",
            "81081/81081 [==============================] - 90s 1ms/step - loss: 0.3478 - val_loss: 0.3503\n",
            "Epoch 17/100\n",
            "81081/81081 [==============================] - 89s 1ms/step - loss: 0.3477 - val_loss: 0.3526\n",
            "Epoch 18/100\n",
            "81081/81081 [==============================] - 95s 1ms/step - loss: 0.3477 - val_loss: 0.3523\n",
            "Epoch 19/100\n",
            "81081/81081 [==============================] - 89s 1ms/step - loss: 0.3475 - val_loss: 0.3562\n",
            "Epoch 20/100\n",
            "81081/81081 [==============================] - 90s 1ms/step - loss: 0.3477 - val_loss: 0.3504\n",
            "Epoch 21/100\n",
            "81081/81081 [==============================] - 89s 1ms/step - loss: 0.3476 - val_loss: 0.3509\n",
            "Epoch 22/100\n",
            "81081/81081 [==============================] - 96s 1ms/step - loss: 0.3476 - val_loss: 0.3532\n",
            "Epoch 23/100\n",
            "81081/81081 [==============================] - 91s 1ms/step - loss: 0.3475 - val_loss: 0.3494\n",
            "Epoch 24/100\n",
            "81081/81081 [==============================] - 90s 1ms/step - loss: 0.3475 - val_loss: 0.3519\n",
            "Epoch 25/100\n",
            "81081/81081 [==============================] - 95s 1ms/step - loss: 0.3475 - val_loss: 0.3521\n",
            "Epoch 26/100\n",
            "81081/81081 [==============================] - 91s 1ms/step - loss: 0.3473 - val_loss: 0.3627\n",
            "Epoch 27/100\n",
            "81081/81081 [==============================] - 90s 1ms/step - loss: 0.3475 - val_loss: 0.3558\n",
            "Epoch 28/100\n",
            "81081/81081 [==============================] - 90s 1ms/step - loss: 0.3474 - val_loss: 0.3512\n",
            "Epoch 29/100\n",
            "81081/81081 [==============================] - 98s 1ms/step - loss: 0.3474 - val_loss: 0.3531\n",
            "Epoch 30/100\n",
            "81081/81081 [==============================] - 93s 1ms/step - loss: 0.3475 - val_loss: 0.3498\n",
            "Epoch 31/100\n",
            "81081/81081 [==============================] - 90s 1ms/step - loss: 0.3474 - val_loss: 0.3518\n",
            "Epoch 32/100\n",
            "81081/81081 [==============================] - 93s 1ms/step - loss: 0.3474 - val_loss: 0.3515\n",
            "Epoch 33/100\n",
            "81081/81081 [==============================] - 91s 1ms/step - loss: 0.3473 - val_loss: 0.3536\n",
            "Epoch 34/100\n",
            "81081/81081 [==============================] - 89s 1ms/step - loss: 0.3475 - val_loss: 0.3572\n",
            "Epoch 35/100\n",
            "81081/81081 [==============================] - 90s 1ms/step - loss: 0.3473 - val_loss: 0.3520\n",
            "Epoch 36/100\n",
            "81081/81081 [==============================] - 98s 1ms/step - loss: 0.3473 - val_loss: 0.3498\n",
            "Epoch 37/100\n",
            "81081/81081 [==============================] - 91s 1ms/step - loss: 0.3472 - val_loss: 0.3504\n",
            "Epoch 38/100\n",
            "81081/81081 [==============================] - 93s 1ms/step - loss: 0.3473 - val_loss: 0.3558\n",
            "Epoch 39/100\n",
            "81081/81081 [==============================] - 102s 1ms/step - loss: 0.3473 - val_loss: 0.3508\n",
            "Epoch 40/100\n",
            "81081/81081 [==============================] - 92s 1ms/step - loss: 0.3472 - val_loss: 0.3496\n",
            "Epoch 41/100\n",
            "81081/81081 [==============================] - 91s 1ms/step - loss: 0.3473 - val_loss: 0.3511\n",
            "Epoch 42/100\n",
            "81081/81081 [==============================] - 93s 1ms/step - loss: 0.3474 - val_loss: 0.3506\n",
            "Epoch 43/100\n",
            "81081/81081 [==============================] - 96s 1ms/step - loss: 0.3473 - val_loss: 0.3494\n",
            "Epoch 44/100\n",
            "81081/81081 [==============================] - 95s 1ms/step - loss: 0.3474 - val_loss: 0.3495\n",
            "Epoch 45/100\n",
            "81081/81081 [==============================] - 90s 1ms/step - loss: 0.3472 - val_loss: 0.3552\n",
            "Epoch 46/100\n",
            "81081/81081 [==============================] - 98s 1ms/step - loss: 0.3473 - val_loss: 0.3515\n",
            "Epoch 47/100\n",
            "81081/81081 [==============================] - 90s 1ms/step - loss: 0.3472 - val_loss: 0.3596\n",
            "Epoch 48/100\n",
            "81081/81081 [==============================] - 90s 1ms/step - loss: 0.3473 - val_loss: 0.3583\n",
            "Epoch 49/100\n",
            "81081/81081 [==============================] - 90s 1ms/step - loss: 0.3473 - val_loss: 0.3500\n",
            "Epoch 50/100\n",
            "81081/81081 [==============================] - 98s 1ms/step - loss: 0.3472 - val_loss: 0.3491\n",
            "Epoch 51/100\n",
            "81081/81081 [==============================] - 90s 1ms/step - loss: 0.3472 - val_loss: 0.3561\n",
            "Epoch 52/100\n",
            "81081/81081 [==============================] - 89s 1ms/step - loss: 0.3472 - val_loss: 0.3497\n",
            "Epoch 53/100\n",
            "81081/81081 [==============================] - 93s 1ms/step - loss: 0.3471 - val_loss: 0.3495\n",
            "Epoch 54/100\n",
            "81081/81081 [==============================] - 89s 1ms/step - loss: 0.3473 - val_loss: 0.3489\n",
            "Epoch 55/100\n",
            "81081/81081 [==============================] - 89s 1ms/step - loss: 0.3473 - val_loss: 0.3501\n",
            "Epoch 56/100\n",
            "81081/81081 [==============================] - 90s 1ms/step - loss: 0.3472 - val_loss: 0.3505\n",
            "Epoch 57/100\n",
            "81081/81081 [==============================] - 101s 1ms/step - loss: 0.3473 - val_loss: 0.3551\n",
            "Epoch 58/100\n",
            "81081/81081 [==============================] - 90s 1ms/step - loss: 0.3472 - val_loss: 0.3494\n",
            "Epoch 59/100\n",
            "81081/81081 [==============================] - 90s 1ms/step - loss: 0.3472 - val_loss: 0.3550\n",
            "Epoch 60/100\n",
            "81081/81081 [==============================] - 96s 1ms/step - loss: 0.3472 - val_loss: 0.3627\n",
            "Epoch 61/100\n",
            "81081/81081 [==============================] - 90s 1ms/step - loss: 0.3472 - val_loss: 0.3492\n",
            "Epoch 62/100\n",
            "81081/81081 [==============================] - 90s 1ms/step - loss: 0.3473 - val_loss: 0.3522\n",
            "Epoch 63/100\n",
            "81081/81081 [==============================] - 91s 1ms/step - loss: 0.3472 - val_loss: 0.3509\n",
            "Epoch 64/100\n",
            "81081/81081 [==============================] - 94s 1ms/step - loss: 0.3472 - val_loss: 0.3513\n",
            "Epoch 65/100\n",
            "81081/81081 [==============================] - 90s 1ms/step - loss: 0.3472 - val_loss: 0.3505\n",
            "Epoch 66/100\n",
            "81081/81081 [==============================] - 89s 1ms/step - loss: 0.3473 - val_loss: 0.3521\n",
            "Epoch 67/100\n",
            "81081/81081 [==============================] - 93s 1ms/step - loss: 0.3472 - val_loss: 0.3502\n",
            "Epoch 68/100\n",
            "81081/81081 [==============================] - 89s 1ms/step - loss: 0.3473 - val_loss: 0.3501\n",
            "Epoch 69/100\n",
            "81081/81081 [==============================] - 90s 1ms/step - loss: 0.3472 - val_loss: 0.3514\n",
            "Epoch 70/100\n",
            "81081/81081 [==============================] - 94s 1ms/step - loss: 0.3471 - val_loss: 0.3513\n",
            "Epoch 71/100\n",
            "81081/81081 [==============================] - 93s 1ms/step - loss: 0.3471 - val_loss: 0.3488\n",
            "Epoch 72/100\n",
            "81081/81081 [==============================] - 90s 1ms/step - loss: 0.3473 - val_loss: 0.3498\n",
            "Epoch 73/100\n",
            "81081/81081 [==============================] - 90s 1ms/step - loss: 0.3472 - val_loss: 0.3508\n",
            "Epoch 74/100\n",
            "81081/81081 [==============================] - 97s 1ms/step - loss: 0.3473 - val_loss: 0.3514\n",
            "Epoch 75/100\n",
            "81081/81081 [==============================] - 90s 1ms/step - loss: 0.3472 - val_loss: 0.3515\n",
            "Epoch 76/100\n",
            "81081/81081 [==============================] - 90s 1ms/step - loss: 0.3473 - val_loss: 0.3488\n",
            "Epoch 77/100\n",
            "81081/81081 [==============================] - 91s 1ms/step - loss: 0.3472 - val_loss: 0.3512\n",
            "Epoch 78/100\n",
            "81081/81081 [==============================] - 93s 1ms/step - loss: 0.3471 - val_loss: 0.3490\n",
            "Epoch 79/100\n",
            "81081/81081 [==============================] - 90s 1ms/step - loss: 0.3472 - val_loss: 0.3528\n",
            "Epoch 80/100\n",
            "81081/81081 [==============================] - 90s 1ms/step - loss: 0.3472 - val_loss: 0.3510\n",
            "Epoch 81/100\n",
            "81081/81081 [==============================] - 93s 1ms/step - loss: 0.3471 - val_loss: 0.3572\n",
            "Epoch 82/100\n",
            "81081/81081 [==============================] - 90s 1ms/step - loss: 0.3471 - val_loss: 0.3492\n",
            "Epoch 83/100\n",
            "81081/81081 [==============================] - 89s 1ms/step - loss: 0.3473 - val_loss: 0.3494\n",
            "Epoch 84/100\n",
            "81081/81081 [==============================] - 90s 1ms/step - loss: 0.3472 - val_loss: 0.3541\n",
            "Epoch 85/100\n",
            "81081/81081 [==============================] - 93s 1ms/step - loss: 0.3472 - val_loss: 0.3493\n",
            "Epoch 86/100\n",
            "81081/81081 [==============================] - 89s 1ms/step - loss: 0.3472 - val_loss: 0.3498\n",
            "Epoch 87/100\n",
            "81081/81081 [==============================] - 89s 1ms/step - loss: 0.3471 - val_loss: 0.3517\n",
            "Epoch 88/100\n",
            "81081/81081 [==============================] - 89s 1ms/step - loss: 0.3472 - val_loss: 0.3562\n",
            "Epoch 89/100\n",
            "81081/81081 [==============================] - 89s 1ms/step - loss: 0.3473 - val_loss: 0.3486\n",
            "Epoch 90/100\n",
            "81081/81081 [==============================] - 88s 1ms/step - loss: 0.3471 - val_loss: 0.3489\n",
            "Epoch 91/100\n",
            "81081/81081 [==============================] - 90s 1ms/step - loss: 0.3473 - val_loss: 0.3513\n",
            "Epoch 92/100\n",
            "81081/81081 [==============================] - 91s 1ms/step - loss: 0.3470 - val_loss: 0.3496\n",
            "Epoch 93/100\n",
            "81081/81081 [==============================] - 88s 1ms/step - loss: 0.3471 - val_loss: 0.3520\n",
            "Epoch 94/100\n",
            "81081/81081 [==============================] - 89s 1ms/step - loss: 0.3472 - val_loss: 0.3505\n",
            "Epoch 95/100\n",
            "81081/81081 [==============================] - 89s 1ms/step - loss: 0.3471 - val_loss: 0.3578\n",
            "Epoch 96/100\n",
            "81081/81081 [==============================] - 92s 1ms/step - loss: 0.3471 - val_loss: 0.3509\n",
            "Epoch 97/100\n",
            "81081/81081 [==============================] - 89s 1ms/step - loss: 0.3471 - val_loss: 0.3497\n",
            "Epoch 98/100\n",
            "81081/81081 [==============================] - 88s 1ms/step - loss: 0.3471 - val_loss: 0.3494\n",
            "Epoch 99/100\n",
            "81081/81081 [==============================] - 91s 1ms/step - loss: 0.3472 - val_loss: 0.3498\n",
            "Epoch 100/100\n",
            "81081/81081 [==============================] - 88s 1ms/step - loss: 0.3472 - val_loss: 0.3520\n"
          ],
          "name": "stdout"
        }
      ]
    },
    {
      "cell_type": "code",
      "metadata": {
        "id": "LSMU9ueG9gFY"
      },
      "source": [
        "predictions = wider_model.predict(feature_test)\n",
        "\n",
        "predictions = predictions.flatten()"
      ],
      "execution_count": null,
      "outputs": []
    },
    {
      "cell_type": "code",
      "metadata": {
        "id": "ckZvvz7h9jB_",
        "outputId": "58b54920-7ea3-4e4d-a122-aee028ec9d74",
        "colab": {
          "base_uri": "https://localhost:8080/",
          "height": 85
        }
      },
      "source": [
        "from sklearn.metrics import mean_squared_error, mean_absolute_error, r2_score\n",
        "\n",
        "mse = mean_squared_error(label_test, predictions)\n",
        "mae = mean_absolute_error(label_test, predictions)\n",
        "r2 = r2_score(label_test, predictions)\n",
        "print(\"MSE (Mean Squared Error)\", mse)\n",
        "print(\"MAE (Mean Absolute Error)\", mae)\n",
        "print(\"r^2 score\", r2)\n",
        "print('RMSE (Root Mean Squared Error', np.sqrt(mean_squared_error(label_test, predictions)))"
      ],
      "execution_count": null,
      "outputs": [
        {
          "output_type": "stream",
          "text": [
            "MSE (Mean Squared Error) 0.35199699528034095\n",
            "MAE (Mean Absolute Error) 0.3960775998095218\n",
            "r^2 score 0.648899777947137\n",
            "RMSE (Root Mean Squared Error 0.5932933467352731\n"
          ],
          "name": "stdout"
        }
      ]
    },
    {
      "cell_type": "code",
      "metadata": {
        "id": "ovt4YX7h-Gq7"
      },
      "source": [
        "def plot_loss(history):\n",
        "  plt.plot(history.history['loss'], label='loss')\n",
        "  plt.plot(history.history['val_loss'], label='val_loss')\n",
        "  plt.xlabel('Epoch')\n",
        "  plt.ylabel('Loss (MSE)')\n",
        "  plt.legend()\n",
        "  plt.grid(True)"
      ],
      "execution_count": null,
      "outputs": []
    },
    {
      "cell_type": "code",
      "metadata": {
        "id": "EhnVfEv0-JAS",
        "outputId": "64d585ad-3a59-4640-803b-2b702c60c1dc",
        "colab": {
          "base_uri": "https://localhost:8080/",
          "height": 419
        }
      },
      "source": [
        "history_dataframe = pd.DataFrame(history.history)\n",
        "history_dataframe['epoch'] = history.epoch\n",
        "history_dataframe"
      ],
      "execution_count": null,
      "outputs": [
        {
          "output_type": "execute_result",
          "data": {
            "text/html": [
              "<div>\n",
              "<style scoped>\n",
              "    .dataframe tbody tr th:only-of-type {\n",
              "        vertical-align: middle;\n",
              "    }\n",
              "\n",
              "    .dataframe tbody tr th {\n",
              "        vertical-align: top;\n",
              "    }\n",
              "\n",
              "    .dataframe thead th {\n",
              "        text-align: right;\n",
              "    }\n",
              "</style>\n",
              "<table border=\"1\" class=\"dataframe\">\n",
              "  <thead>\n",
              "    <tr style=\"text-align: right;\">\n",
              "      <th></th>\n",
              "      <th>loss</th>\n",
              "      <th>val_loss</th>\n",
              "      <th>epoch</th>\n",
              "    </tr>\n",
              "  </thead>\n",
              "  <tbody>\n",
              "    <tr>\n",
              "      <th>0</th>\n",
              "      <td>0.403482</td>\n",
              "      <td>0.391140</td>\n",
              "      <td>0</td>\n",
              "    </tr>\n",
              "    <tr>\n",
              "      <th>1</th>\n",
              "      <td>0.378135</td>\n",
              "      <td>0.372806</td>\n",
              "      <td>1</td>\n",
              "    </tr>\n",
              "    <tr>\n",
              "      <th>2</th>\n",
              "      <td>0.358822</td>\n",
              "      <td>0.358490</td>\n",
              "      <td>2</td>\n",
              "    </tr>\n",
              "    <tr>\n",
              "      <th>3</th>\n",
              "      <td>0.353447</td>\n",
              "      <td>0.354742</td>\n",
              "      <td>3</td>\n",
              "    </tr>\n",
              "    <tr>\n",
              "      <th>4</th>\n",
              "      <td>0.350713</td>\n",
              "      <td>0.351746</td>\n",
              "      <td>4</td>\n",
              "    </tr>\n",
              "    <tr>\n",
              "      <th>...</th>\n",
              "      <td>...</td>\n",
              "      <td>...</td>\n",
              "      <td>...</td>\n",
              "    </tr>\n",
              "    <tr>\n",
              "      <th>95</th>\n",
              "      <td>0.347059</td>\n",
              "      <td>0.350905</td>\n",
              "      <td>95</td>\n",
              "    </tr>\n",
              "    <tr>\n",
              "      <th>96</th>\n",
              "      <td>0.347113</td>\n",
              "      <td>0.349686</td>\n",
              "      <td>96</td>\n",
              "    </tr>\n",
              "    <tr>\n",
              "      <th>97</th>\n",
              "      <td>0.347124</td>\n",
              "      <td>0.349417</td>\n",
              "      <td>97</td>\n",
              "    </tr>\n",
              "    <tr>\n",
              "      <th>98</th>\n",
              "      <td>0.347217</td>\n",
              "      <td>0.349805</td>\n",
              "      <td>98</td>\n",
              "    </tr>\n",
              "    <tr>\n",
              "      <th>99</th>\n",
              "      <td>0.347164</td>\n",
              "      <td>0.351998</td>\n",
              "      <td>99</td>\n",
              "    </tr>\n",
              "  </tbody>\n",
              "</table>\n",
              "<p>100 rows × 3 columns</p>\n",
              "</div>"
            ],
            "text/plain": [
              "        loss  val_loss  epoch\n",
              "0   0.403482  0.391140      0\n",
              "1   0.378135  0.372806      1\n",
              "2   0.358822  0.358490      2\n",
              "3   0.353447  0.354742      3\n",
              "4   0.350713  0.351746      4\n",
              "..       ...       ...    ...\n",
              "95  0.347059  0.350905     95\n",
              "96  0.347113  0.349686     96\n",
              "97  0.347124  0.349417     97\n",
              "98  0.347217  0.349805     98\n",
              "99  0.347164  0.351998     99\n",
              "\n",
              "[100 rows x 3 columns]"
            ]
          },
          "metadata": {
            "tags": []
          },
          "execution_count": 23
        }
      ]
    },
    {
      "cell_type": "code",
      "metadata": {
        "id": "5R67GHJZ8ce2",
        "outputId": "0574c1dd-4c75-4901-af98-24119a5c8f89",
        "colab": {
          "base_uri": "https://localhost:8080/",
          "height": 419
        }
      },
      "source": [
        "history_dataframe.sort_values(by='val_loss', ascending=True)"
      ],
      "execution_count": null,
      "outputs": [
        {
          "output_type": "execute_result",
          "data": {
            "text/html": [
              "<div>\n",
              "<style scoped>\n",
              "    .dataframe tbody tr th:only-of-type {\n",
              "        vertical-align: middle;\n",
              "    }\n",
              "\n",
              "    .dataframe tbody tr th {\n",
              "        vertical-align: top;\n",
              "    }\n",
              "\n",
              "    .dataframe thead th {\n",
              "        text-align: right;\n",
              "    }\n",
              "</style>\n",
              "<table border=\"1\" class=\"dataframe\">\n",
              "  <thead>\n",
              "    <tr style=\"text-align: right;\">\n",
              "      <th></th>\n",
              "      <th>loss</th>\n",
              "      <th>val_loss</th>\n",
              "      <th>epoch</th>\n",
              "    </tr>\n",
              "  </thead>\n",
              "  <tbody>\n",
              "    <tr>\n",
              "      <th>88</th>\n",
              "      <td>0.347289</td>\n",
              "      <td>0.348590</td>\n",
              "      <td>88</td>\n",
              "    </tr>\n",
              "    <tr>\n",
              "      <th>70</th>\n",
              "      <td>0.347134</td>\n",
              "      <td>0.348772</td>\n",
              "      <td>70</td>\n",
              "    </tr>\n",
              "    <tr>\n",
              "      <th>75</th>\n",
              "      <td>0.347266</td>\n",
              "      <td>0.348829</td>\n",
              "      <td>75</td>\n",
              "    </tr>\n",
              "    <tr>\n",
              "      <th>53</th>\n",
              "      <td>0.347313</td>\n",
              "      <td>0.348881</td>\n",
              "      <td>53</td>\n",
              "    </tr>\n",
              "    <tr>\n",
              "      <th>89</th>\n",
              "      <td>0.347147</td>\n",
              "      <td>0.348883</td>\n",
              "      <td>89</td>\n",
              "    </tr>\n",
              "    <tr>\n",
              "      <th>...</th>\n",
              "      <td>...</td>\n",
              "      <td>...</td>\n",
              "      <td>...</td>\n",
              "    </tr>\n",
              "    <tr>\n",
              "      <th>46</th>\n",
              "      <td>0.347158</td>\n",
              "      <td>0.359604</td>\n",
              "      <td>46</td>\n",
              "    </tr>\n",
              "    <tr>\n",
              "      <th>25</th>\n",
              "      <td>0.347339</td>\n",
              "      <td>0.362697</td>\n",
              "      <td>25</td>\n",
              "    </tr>\n",
              "    <tr>\n",
              "      <th>59</th>\n",
              "      <td>0.347197</td>\n",
              "      <td>0.362703</td>\n",
              "      <td>59</td>\n",
              "    </tr>\n",
              "    <tr>\n",
              "      <th>1</th>\n",
              "      <td>0.378135</td>\n",
              "      <td>0.372806</td>\n",
              "      <td>1</td>\n",
              "    </tr>\n",
              "    <tr>\n",
              "      <th>0</th>\n",
              "      <td>0.403482</td>\n",
              "      <td>0.391140</td>\n",
              "      <td>0</td>\n",
              "    </tr>\n",
              "  </tbody>\n",
              "</table>\n",
              "<p>100 rows × 3 columns</p>\n",
              "</div>"
            ],
            "text/plain": [
              "        loss  val_loss  epoch\n",
              "88  0.347289  0.348590     88\n",
              "70  0.347134  0.348772     70\n",
              "75  0.347266  0.348829     75\n",
              "53  0.347313  0.348881     53\n",
              "89  0.347147  0.348883     89\n",
              "..       ...       ...    ...\n",
              "46  0.347158  0.359604     46\n",
              "25  0.347339  0.362697     25\n",
              "59  0.347197  0.362703     59\n",
              "1   0.378135  0.372806      1\n",
              "0   0.403482  0.391140      0\n",
              "\n",
              "[100 rows x 3 columns]"
            ]
          },
          "metadata": {
            "tags": []
          },
          "execution_count": 24
        }
      ]
    },
    {
      "cell_type": "code",
      "metadata": {
        "id": "H4BETmmT-VPy",
        "outputId": "106a6c8e-a5a3-4aa6-d139-7ad3ecd92381",
        "colab": {
          "base_uri": "https://localhost:8080/",
          "height": 279
        }
      },
      "source": [
        "plot_loss(history) # epoch vs loss graph"
      ],
      "execution_count": null,
      "outputs": [
        {
          "output_type": "display_data",
          "data": {
            "image/png": "[encoded data removed]",
            "text/plain": [
              "<Figure size 432x288 with 1 Axes>"
            ]
          },
          "metadata": {
            "tags": [],
            "needs_background": "light"
          }
        }
      ]
    },
    {
      "cell_type": "code",
      "metadata": {
        "id": "dBvCRHud-A2e",
        "outputId": "a4d9dc3b-1287-4e24-c526-9925a57165a0",
        "colab": {
          "base_uri": "https://localhost:8080/",
          "height": 221
        }
      },
      "source": [
        "from tensorflow.keras.optimizers import SGD\n",
        "\n",
        "wider_model_tuned = Sequential()\n",
        "wider_model_tuned.add(Dense(20, input_dim=2, kernel_initializer='normal', activation='relu'))\n",
        "wider_model_tuned.add(Dense(1, kernel_initializer='normal'))\n",
        "\n",
        "opt = SGD(lr=0.001, momentum=0.9)\n",
        "\n",
        "wider_model_tuned.compile(loss='mean_squared_error', optimizer=opt)\n",
        "\n",
        "wider_model_tuned.summary()"
      ],
      "execution_count": null,
      "outputs": [
        {
          "output_type": "stream",
          "text": [
            "Model: \"sequential_3\"\n",
            "_________________________________________________________________\n",
            "Layer (type)                 Output Shape              Param #   \n",
            "=================================================================\n",
            "dense_6 (Dense)              (None, 20)                60        \n",
            "_________________________________________________________________\n",
            "dense_7 (Dense)              (None, 1)                 21        \n",
            "=================================================================\n",
            "Total params: 81\n",
            "Trainable params: 81\n",
            "Non-trainable params: 0\n",
            "_________________________________________________________________\n"
          ],
          "name": "stdout"
        }
      ]
    },
    {
      "cell_type": "code",
      "metadata": {
        "id": "iklWJYPo-Thn",
        "outputId": "52063037-1a7b-4456-b326-9e656d6a358f",
        "colab": {
          "base_uri": "https://localhost:8080/",
          "height": 1000
        }
      },
      "source": [
        "history_tuned = wider_model_tuned.fit(x=feature_train, y=label_train, validation_data=(feature_test, label_test), epochs=100, batch_size=8)"
      ],
      "execution_count": null,
      "outputs": [
        {
          "output_type": "stream",
          "text": [
            "Epoch 1/100\n",
            "81081/81081 [==============================] - 95s 1ms/step - loss: 0.3965 - val_loss: 0.3874\n",
            "Epoch 2/100\n",
            "81081/81081 [==============================] - 94s 1ms/step - loss: 0.3808 - val_loss: 0.3703\n",
            "Epoch 3/100\n",
            "81081/81081 [==============================] - 97s 1ms/step - loss: 0.3804 - val_loss: 0.3758\n",
            "Epoch 4/100\n",
            "81081/81081 [==============================] - 93s 1ms/step - loss: 0.3769 - val_loss: 0.3736\n",
            "Epoch 5/100\n",
            "81081/81081 [==============================] - 95s 1ms/step - loss: 0.3766 - val_loss: 0.4490\n",
            "Epoch 6/100\n",
            "81081/81081 [==============================] - 92s 1ms/step - loss: 0.3778 - val_loss: 0.3748\n",
            "Epoch 7/100\n",
            "81081/81081 [==============================] - 91s 1ms/step - loss: 0.3780 - val_loss: 0.4025\n",
            "Epoch 8/100\n",
            "81081/81081 [==============================] - 90s 1ms/step - loss: 0.3771 - val_loss: 0.3699\n",
            "Epoch 9/100\n",
            "81081/81081 [==============================] - 92s 1ms/step - loss: 0.3762 - val_loss: 0.4002\n",
            "Epoch 10/100\n",
            "81081/81081 [==============================] - 94s 1ms/step - loss: 0.3776 - val_loss: 0.3678\n",
            "Epoch 11/100\n",
            "81081/81081 [==============================] - 90s 1ms/step - loss: 0.3767 - val_loss: 0.3734\n",
            "Epoch 12/100\n",
            "81081/81081 [==============================] - 96s 1ms/step - loss: 0.3790 - val_loss: 0.3689\n",
            "Epoch 13/100\n",
            "81081/81081 [==============================] - 92s 1ms/step - loss: 0.3769 - val_loss: 0.3799\n",
            "Epoch 14/100\n",
            "81081/81081 [==============================] - 88s 1ms/step - loss: 0.3772 - val_loss: 0.3701\n",
            "Epoch 15/100\n",
            "81081/81081 [==============================] - 91s 1ms/step - loss: 0.3775 - val_loss: 0.3673\n",
            "Epoch 16/100\n",
            "81081/81081 [==============================] - 89s 1ms/step - loss: 0.3774 - val_loss: 0.3738\n",
            "Epoch 17/100\n",
            "81081/81081 [==============================] - 93s 1ms/step - loss: 0.3781 - val_loss: 0.3746\n",
            "Epoch 18/100\n",
            "81081/81081 [==============================] - 94s 1ms/step - loss: 0.3773 - val_loss: 0.3729\n",
            "Epoch 19/100\n",
            "81081/81081 [==============================] - 90s 1ms/step - loss: 0.3775 - val_loss: 0.3863\n",
            "Epoch 20/100\n",
            "81081/81081 [==============================] - 90s 1ms/step - loss: 0.3770 - val_loss: 0.3694\n",
            "Epoch 21/100\n",
            "81081/81081 [==============================] - 92s 1ms/step - loss: 0.3774 - val_loss: 0.3822\n",
            "Epoch 22/100\n",
            "81081/81081 [==============================] - 91s 1ms/step - loss: 0.3779 - val_loss: 0.3693\n",
            "Epoch 23/100\n",
            "81081/81081 [==============================] - 91s 1ms/step - loss: 0.3812 - val_loss: 0.3799\n",
            "Epoch 24/100\n",
            "81081/81081 [==============================] - 92s 1ms/step - loss: 0.3774 - val_loss: 0.3675\n",
            "Epoch 25/100\n",
            "81081/81081 [==============================] - 90s 1ms/step - loss: 0.3761 - val_loss: 0.3693\n",
            "Epoch 26/100\n",
            "81081/81081 [==============================] - 90s 1ms/step - loss: 0.3762 - val_loss: 0.3664\n",
            "Epoch 27/100\n",
            "81081/81081 [==============================] - 92s 1ms/step - loss: 0.3779 - val_loss: 0.3762\n",
            "Epoch 28/100\n",
            "81081/81081 [==============================] - 94s 1ms/step - loss: 0.3766 - val_loss: 0.3700\n",
            "Epoch 29/100\n",
            "81081/81081 [==============================] - 92s 1ms/step - loss: 0.3779 - val_loss: 0.3739\n",
            "Epoch 30/100\n",
            "81081/81081 [==============================] - 91s 1ms/step - loss: 0.3765 - val_loss: 0.5824\n",
            "Epoch 31/100\n",
            "81081/81081 [==============================] - 92s 1ms/step - loss: 0.3771 - val_loss: 0.3978\n",
            "Epoch 32/100\n",
            "81081/81081 [==============================] - 92s 1ms/step - loss: 0.3771 - val_loss: 0.3725\n",
            "Epoch 33/100\n",
            "81081/81081 [==============================] - 90s 1ms/step - loss: 0.3768 - val_loss: 0.3707\n",
            "Epoch 34/100\n",
            "81081/81081 [==============================] - 93s 1ms/step - loss: 0.3790 - val_loss: 0.3801\n",
            "Epoch 35/100\n",
            "81081/81081 [==============================] - 92s 1ms/step - loss: 0.3775 - val_loss: 0.3706\n",
            "Epoch 36/100\n",
            "81081/81081 [==============================] - 93s 1ms/step - loss: 0.3763 - val_loss: 0.3716\n",
            "Epoch 37/100\n",
            "81081/81081 [==============================] - 91s 1ms/step - loss: 0.3768 - val_loss: 0.3768\n",
            "Epoch 38/100\n",
            "81081/81081 [==============================] - 113s 1ms/step - loss: 0.3771 - val_loss: 0.3679\n",
            "Epoch 39/100\n",
            "81081/81081 [==============================] - 103s 1ms/step - loss: 0.3784 - val_loss: 0.3709\n",
            "Epoch 40/100\n",
            "81081/81081 [==============================] - 95s 1ms/step - loss: 0.3762 - val_loss: 0.3698\n",
            "Epoch 41/100\n",
            "81081/81081 [==============================] - 103s 1ms/step - loss: 0.3784 - val_loss: 0.3678\n",
            "Epoch 42/100\n",
            "81081/81081 [==============================] - 100s 1ms/step - loss: 0.3764 - val_loss: 0.3718\n",
            "Epoch 43/100\n",
            "81081/81081 [==============================] - 95s 1ms/step - loss: 0.3774 - val_loss: 0.3804\n",
            "Epoch 44/100\n",
            "81081/81081 [==============================] - 101s 1ms/step - loss: 0.3777 - val_loss: 0.3731\n",
            "Epoch 45/100\n",
            "81081/81081 [==============================] - 93s 1ms/step - loss: 0.3765 - val_loss: 0.4070\n",
            "Epoch 46/100\n",
            "81081/81081 [==============================] - 92s 1ms/step - loss: 0.3772 - val_loss: 0.3710\n",
            "Epoch 47/100\n",
            "81081/81081 [==============================] - 112s 1ms/step - loss: 0.3766 - val_loss: 0.3690\n",
            "Epoch 48/100\n",
            "81081/81081 [==============================] - 104s 1ms/step - loss: 0.3768 - val_loss: 0.3782\n",
            "Epoch 49/100\n",
            "81081/81081 [==============================] - 92s 1ms/step - loss: 0.3776 - val_loss: 0.3720\n",
            "Epoch 50/100\n",
            "81081/81081 [==============================] - 98s 1ms/step - loss: 0.3764 - val_loss: 0.3657\n",
            "Epoch 51/100\n",
            "81081/81081 [==============================] - 96s 1ms/step - loss: 0.3776 - val_loss: 0.3982\n",
            "Epoch 52/100\n",
            "81081/81081 [==============================] - 92s 1ms/step - loss: 0.3780 - val_loss: 0.3789\n",
            "Epoch 53/100\n",
            "81081/81081 [==============================] - 93s 1ms/step - loss: 0.3776 - val_loss: 0.3667\n",
            "Epoch 54/100\n",
            "81081/81081 [==============================] - 94s 1ms/step - loss: 0.3780 - val_loss: 0.3949\n",
            "Epoch 55/100\n",
            "81081/81081 [==============================] - 93s 1ms/step - loss: 0.3782 - val_loss: 0.3707\n",
            "Epoch 56/100\n",
            "81081/81081 [==============================] - 95s 1ms/step - loss: 0.3774 - val_loss: 0.3703\n",
            "Epoch 57/100\n",
            "81081/81081 [==============================] - 96s 1ms/step - loss: 0.3773 - val_loss: 0.3740\n",
            "Epoch 58/100\n",
            "81081/81081 [==============================] - 90s 1ms/step - loss: 0.3769 - val_loss: 0.3843\n",
            "Epoch 59/100\n",
            "81081/81081 [==============================] - 89s 1ms/step - loss: 0.3762 - val_loss: 0.3776\n",
            "Epoch 60/100\n",
            "81081/81081 [==============================] - 91s 1ms/step - loss: 0.3791 - val_loss: 0.3863\n",
            "Epoch 61/100\n",
            "81081/81081 [==============================] - 97s 1ms/step - loss: 0.3766 - val_loss: 0.3934\n",
            "Epoch 62/100\n",
            "81081/81081 [==============================] - 92s 1ms/step - loss: 0.3781 - val_loss: 0.3828\n",
            "Epoch 63/100\n",
            "81081/81081 [==============================] - 97s 1ms/step - loss: 0.3764 - val_loss: 0.3676\n",
            "Epoch 64/100\n",
            "81081/81081 [==============================] - 92s 1ms/step - loss: 0.3768 - val_loss: 0.3696\n",
            "Epoch 65/100\n",
            "81081/81081 [==============================] - 91s 1ms/step - loss: 0.3762 - val_loss: 0.3714\n",
            "Epoch 66/100\n",
            "81081/81081 [==============================] - 95s 1ms/step - loss: 0.3778 - val_loss: 0.3841\n",
            "Epoch 67/100\n",
            "81081/81081 [==============================] - 91s 1ms/step - loss: 0.3775 - val_loss: 0.3701\n",
            "Epoch 68/100\n",
            "81081/81081 [==============================] - 99s 1ms/step - loss: 0.3769 - val_loss: 0.3924\n",
            "Epoch 69/100\n",
            "81081/81081 [==============================] - 92s 1ms/step - loss: 0.3777 - val_loss: 0.3720\n",
            "Epoch 70/100\n",
            "81081/81081 [==============================] - 89s 1ms/step - loss: 0.3891 - val_loss: 0.3776\n",
            "Epoch 71/100\n",
            "81081/81081 [==============================] - 92s 1ms/step - loss: 0.3638 - val_loss: 0.3682\n",
            "Epoch 72/100\n",
            "81081/81081 [==============================] - 87s 1ms/step - loss: 0.3575 - val_loss: 0.3569\n",
            "Epoch 73/100\n",
            "81081/81081 [==============================] - 87s 1ms/step - loss: 0.3561 - val_loss: 0.3672\n",
            "Epoch 74/100\n",
            "81081/81081 [==============================] - 88s 1ms/step - loss: 0.3554 - val_loss: 0.3565\n",
            "Epoch 75/100\n",
            "81081/81081 [==============================] - 92s 1ms/step - loss: 0.3549 - val_loss: 0.3718\n",
            "Epoch 76/100\n",
            "81081/81081 [==============================] - 88s 1ms/step - loss: 0.3545 - val_loss: 0.3614\n",
            "Epoch 77/100\n",
            "81081/81081 [==============================] - 87s 1ms/step - loss: 0.3519 - val_loss: 0.3591\n",
            "Epoch 78/100\n",
            "81081/81081 [==============================] - 95s 1ms/step - loss: 0.3506 - val_loss: 0.3613\n",
            "Epoch 79/100\n",
            "81081/81081 [==============================] - 90s 1ms/step - loss: 0.3503 - val_loss: 0.3539\n",
            "Epoch 80/100\n",
            "81081/81081 [==============================] - 91s 1ms/step - loss: 0.3504 - val_loss: 0.3585\n",
            "Epoch 81/100\n",
            "81081/81081 [==============================] - 92s 1ms/step - loss: 0.3502 - val_loss: 0.3516\n",
            "Epoch 82/100\n",
            "81081/81081 [==============================] - 92s 1ms/step - loss: 0.3503 - val_loss: 0.3491\n",
            "Epoch 83/100\n",
            "81081/81081 [==============================] - 90s 1ms/step - loss: 0.3502 - val_loss: 0.3526\n",
            "Epoch 84/100\n",
            "81081/81081 [==============================] - 92s 1ms/step - loss: 0.3500 - val_loss: 0.3504\n",
            "Epoch 85/100\n",
            "81081/81081 [==============================] - 94s 1ms/step - loss: 0.3499 - val_loss: 0.3589\n",
            "Epoch 86/100\n",
            "81081/81081 [==============================] - 92s 1ms/step - loss: 0.3500 - val_loss: 0.3501\n",
            "Epoch 87/100\n",
            "81081/81081 [==============================] - 90s 1ms/step - loss: 0.3501 - val_loss: 0.3606\n",
            "Epoch 88/100\n",
            "81081/81081 [==============================] - 90s 1ms/step - loss: 0.3500 - val_loss: 0.3508\n",
            "Epoch 89/100\n",
            "81081/81081 [==============================] - 93s 1ms/step - loss: 0.3502 - val_loss: 0.3547\n",
            "Epoch 90/100\n",
            "81081/81081 [==============================] - 89s 1ms/step - loss: 0.3500 - val_loss: 0.3483\n",
            "Epoch 91/100\n",
            "81081/81081 [==============================] - 88s 1ms/step - loss: 0.3502 - val_loss: 0.3497\n",
            "Epoch 92/100\n",
            "81081/81081 [==============================] - 89s 1ms/step - loss: 0.3500 - val_loss: 0.3564\n",
            "Epoch 93/100\n",
            "81081/81081 [==============================] - 92s 1ms/step - loss: 0.3500 - val_loss: 0.3621\n",
            "Epoch 94/100\n",
            "81081/81081 [==============================] - 90s 1ms/step - loss: 0.3500 - val_loss: 0.3482\n",
            "Epoch 95/100\n",
            "81081/81081 [==============================] - 94s 1ms/step - loss: 0.3496 - val_loss: 0.3695\n",
            "Epoch 96/100\n",
            "81081/81081 [==============================] - 94s 1ms/step - loss: 0.3499 - val_loss: 0.3492\n",
            "Epoch 97/100\n",
            "81081/81081 [==============================] - 90s 1ms/step - loss: 0.3500 - val_loss: 0.3514\n",
            "Epoch 98/100\n",
            "81081/81081 [==============================] - 90s 1ms/step - loss: 0.3501 - val_loss: 0.3501\n",
            "Epoch 99/100\n",
            "81081/81081 [==============================] - 88s 1ms/step - loss: 0.3499 - val_loss: 0.3484\n",
            "Epoch 100/100\n",
            "81081/81081 [==============================] - 94s 1ms/step - loss: 0.3500 - val_loss: 0.3545\n"
          ],
          "name": "stdout"
        }
      ]
    },
    {
      "cell_type": "code",
      "metadata": {
        "id": "e0vFDtvR-dah",
        "outputId": "1143b41e-684a-4cde-ae06-9132cc7fd0c6",
        "colab": {
          "base_uri": "https://localhost:8080/",
          "height": 419
        }
      },
      "source": [
        "history_tuned_dataframe = pd.DataFrame(history_tuned.history)\n",
        "history_tuned_dataframe['epoch'] = history_tuned.epoch\n",
        "history_tuned_dataframe.sort_values(by='val_loss', ascending=True)"
      ],
      "execution_count": null,
      "outputs": [
        {
          "output_type": "execute_result",
          "data": {
            "text/html": [
              "<div>\n",
              "<style scoped>\n",
              "    .dataframe tbody tr th:only-of-type {\n",
              "        vertical-align: middle;\n",
              "    }\n",
              "\n",
              "    .dataframe tbody tr th {\n",
              "        vertical-align: top;\n",
              "    }\n",
              "\n",
              "    .dataframe thead th {\n",
              "        text-align: right;\n",
              "    }\n",
              "</style>\n",
              "<table border=\"1\" class=\"dataframe\">\n",
              "  <thead>\n",
              "    <tr style=\"text-align: right;\">\n",
              "      <th></th>\n",
              "      <th>loss</th>\n",
              "      <th>val_loss</th>\n",
              "      <th>epoch</th>\n",
              "    </tr>\n",
              "  </thead>\n",
              "  <tbody>\n",
              "    <tr>\n",
              "      <th>93</th>\n",
              "      <td>0.349954</td>\n",
              "      <td>0.348240</td>\n",
              "      <td>93</td>\n",
              "    </tr>\n",
              "    <tr>\n",
              "      <th>89</th>\n",
              "      <td>0.349989</td>\n",
              "      <td>0.348347</td>\n",
              "      <td>89</td>\n",
              "    </tr>\n",
              "    <tr>\n",
              "      <th>98</th>\n",
              "      <td>0.349902</td>\n",
              "      <td>0.348436</td>\n",
              "      <td>98</td>\n",
              "    </tr>\n",
              "    <tr>\n",
              "      <th>81</th>\n",
              "      <td>0.350299</td>\n",
              "      <td>0.349114</td>\n",
              "      <td>81</td>\n",
              "    </tr>\n",
              "    <tr>\n",
              "      <th>95</th>\n",
              "      <td>0.349945</td>\n",
              "      <td>0.349214</td>\n",
              "      <td>95</td>\n",
              "    </tr>\n",
              "    <tr>\n",
              "      <th>...</th>\n",
              "      <td>...</td>\n",
              "      <td>...</td>\n",
              "      <td>...</td>\n",
              "    </tr>\n",
              "    <tr>\n",
              "      <th>8</th>\n",
              "      <td>0.376215</td>\n",
              "      <td>0.400230</td>\n",
              "      <td>8</td>\n",
              "    </tr>\n",
              "    <tr>\n",
              "      <th>6</th>\n",
              "      <td>0.378015</td>\n",
              "      <td>0.402493</td>\n",
              "      <td>6</td>\n",
              "    </tr>\n",
              "    <tr>\n",
              "      <th>44</th>\n",
              "      <td>0.376450</td>\n",
              "      <td>0.406999</td>\n",
              "      <td>44</td>\n",
              "    </tr>\n",
              "    <tr>\n",
              "      <th>4</th>\n",
              "      <td>0.376599</td>\n",
              "      <td>0.448972</td>\n",
              "      <td>4</td>\n",
              "    </tr>\n",
              "    <tr>\n",
              "      <th>29</th>\n",
              "      <td>0.376519</td>\n",
              "      <td>0.582428</td>\n",
              "      <td>29</td>\n",
              "    </tr>\n",
              "  </tbody>\n",
              "</table>\n",
              "<p>100 rows × 3 columns</p>\n",
              "</div>"
            ],
            "text/plain": [
              "        loss  val_loss  epoch\n",
              "93  0.349954  0.348240     93\n",
              "89  0.349989  0.348347     89\n",
              "98  0.349902  0.348436     98\n",
              "81  0.350299  0.349114     81\n",
              "95  0.349945  0.349214     95\n",
              "..       ...       ...    ...\n",
              "8   0.376215  0.400230      8\n",
              "6   0.378015  0.402493      6\n",
              "44  0.376450  0.406999     44\n",
              "4   0.376599  0.448972      4\n",
              "29  0.376519  0.582428     29\n",
              "\n",
              "[100 rows x 3 columns]"
            ]
          },
          "metadata": {
            "tags": []
          },
          "execution_count": 30
        }
      ]
    },
    {
      "cell_type": "code",
      "metadata": {
        "id": "tOisowvK-_12",
        "outputId": "7f863d27-67a6-48cd-897a-f38d6fe67eff",
        "colab": {
          "base_uri": "https://localhost:8080/",
          "height": 221
        }
      },
      "source": [
        "from tensorflow.keras.optimizers import RMSprop\n",
        "\n",
        "wider_model_rmsprop = Sequential()\n",
        "wider_model_rmsprop.add(Dense(20, input_dim=2, kernel_initializer='normal', activation='relu'))\n",
        "wider_model_rmsprop.add(Dense(1, kernel_initializer='normal'))\n",
        "\n",
        "opt = RMSprop(lr=0.001)\n",
        "\n",
        "wider_model_rmsprop.compile(loss='mean_squared_error', optimizer=opt)\n",
        "\n",
        "wider_model_rmsprop.summary()"
      ],
      "execution_count": null,
      "outputs": [
        {
          "output_type": "stream",
          "text": [
            "Model: \"sequential_4\"\n",
            "_________________________________________________________________\n",
            "Layer (type)                 Output Shape              Param #   \n",
            "=================================================================\n",
            "dense_8 (Dense)              (None, 20)                60        \n",
            "_________________________________________________________________\n",
            "dense_9 (Dense)              (None, 1)                 21        \n",
            "=================================================================\n",
            "Total params: 81\n",
            "Trainable params: 81\n",
            "Non-trainable params: 0\n",
            "_________________________________________________________________\n"
          ],
          "name": "stdout"
        }
      ]
    },
    {
      "cell_type": "code",
      "metadata": {
        "id": "NHe2-cXq_MnJ",
        "outputId": "10097bf8-05d7-4db0-d50f-5b0f5940b557",
        "colab": {
          "base_uri": "https://localhost:8080/",
          "height": 1000
        }
      },
      "source": [
        "history_rmsprop = wider_model_rmsprop.fit(x=feature_train, y=label_train, validation_data=(feature_test, label_test), epochs=100, batch_size=8)"
      ],
      "execution_count": null,
      "outputs": [
        {
          "output_type": "stream",
          "text": [
            "Epoch 1/100\n",
            "81081/81081 [==============================] - 90s 1ms/step - loss: 0.3950 - val_loss: 0.3869\n",
            "Epoch 2/100\n",
            "81081/81081 [==============================] - 95s 1ms/step - loss: 0.3804 - val_loss: 0.3852\n",
            "Epoch 3/100\n",
            "81081/81081 [==============================] - 93s 1ms/step - loss: 0.3673 - val_loss: 0.3637\n",
            "Epoch 4/100\n",
            "81081/81081 [==============================] - 93s 1ms/step - loss: 0.3612 - val_loss: 0.3598\n",
            "Epoch 5/100\n",
            "81081/81081 [==============================] - 92s 1ms/step - loss: 0.3582 - val_loss: 0.3600\n",
            "Epoch 6/100\n",
            "81081/81081 [==============================] - 96s 1ms/step - loss: 0.3574 - val_loss: 0.3650\n",
            "Epoch 7/100\n",
            "81081/81081 [==============================] - 95s 1ms/step - loss: 0.3581 - val_loss: 0.3687\n",
            "Epoch 8/100\n",
            "81081/81081 [==============================] - 90s 1ms/step - loss: 0.3582 - val_loss: 0.3578\n",
            "Epoch 9/100\n",
            "81081/81081 [==============================] - 93s 1ms/step - loss: 0.3580 - val_loss: 0.3562\n",
            "Epoch 10/100\n",
            "81081/81081 [==============================] - 91s 1ms/step - loss: 0.3581 - val_loss: 0.3588\n",
            "Epoch 11/100\n",
            "81081/81081 [==============================] - 91s 1ms/step - loss: 0.3584 - val_loss: 0.3583\n",
            "Epoch 12/100\n",
            "81081/81081 [==============================] - 90s 1ms/step - loss: 0.3583 - val_loss: 0.3822\n",
            "Epoch 13/100\n",
            "81081/81081 [==============================] - 101s 1ms/step - loss: 0.3586 - val_loss: 0.3611\n",
            "Epoch 14/100\n",
            "81081/81081 [==============================] - 91s 1ms/step - loss: 0.3589 - val_loss: 0.3560\n",
            "Epoch 15/100\n",
            "81081/81081 [==============================] - 94s 1ms/step - loss: 0.3586 - val_loss: 0.3563\n",
            "Epoch 16/100\n",
            "81081/81081 [==============================] - 104s 1ms/step - loss: 0.3579 - val_loss: 0.3546\n",
            "Epoch 17/100\n",
            "81081/81081 [==============================] - 91s 1ms/step - loss: 0.3571 - val_loss: 0.3556\n",
            "Epoch 18/100\n",
            "81081/81081 [==============================] - 93s 1ms/step - loss: 0.3572 - val_loss: 0.3691\n",
            "Epoch 19/100\n",
            "81081/81081 [==============================] - 92s 1ms/step - loss: 0.3572 - val_loss: 0.3554\n",
            "Epoch 20/100\n",
            "81081/81081 [==============================] - 98s 1ms/step - loss: 0.3571 - val_loss: 0.3621\n",
            "Epoch 21/100\n",
            "81081/81081 [==============================] - 90s 1ms/step - loss: 0.3567 - val_loss: 0.3611\n",
            "Epoch 22/100\n",
            "81081/81081 [==============================] - 90s 1ms/step - loss: 0.3565 - val_loss: 0.3626\n",
            "Epoch 23/100\n",
            "81081/81081 [==============================] - 95s 1ms/step - loss: 0.3566 - val_loss: 0.3581\n",
            "Epoch 24/100\n",
            "81081/81081 [==============================] - 90s 1ms/step - loss: 0.3568 - val_loss: 0.3546\n",
            "Epoch 25/100\n",
            "81081/81081 [==============================] - 91s 1ms/step - loss: 0.3563 - val_loss: 0.3661\n",
            "Epoch 26/100\n",
            "81081/81081 [==============================] - 96s 1ms/step - loss: 0.3567 - val_loss: 0.3584\n",
            "Epoch 27/100\n",
            "81081/81081 [==============================] - 96s 1ms/step - loss: 0.3580 - val_loss: 0.3672\n",
            "Epoch 28/100\n",
            "81081/81081 [==============================] - 90s 1ms/step - loss: 0.3594 - val_loss: 0.3568\n",
            "Epoch 29/100\n",
            "81081/81081 [==============================] - 90s 1ms/step - loss: 0.3600 - val_loss: 0.3660\n",
            "Epoch 30/100\n",
            "81081/81081 [==============================] - 94s 1ms/step - loss: 0.3600 - val_loss: 0.3665\n",
            "Epoch 31/100\n",
            "81081/81081 [==============================] - 91s 1ms/step - loss: 0.3589 - val_loss: 0.3657\n",
            "Epoch 32/100\n",
            "81081/81081 [==============================] - 92s 1ms/step - loss: 0.3582 - val_loss: 0.3574\n",
            "Epoch 33/100\n",
            "81081/81081 [==============================] - 96s 1ms/step - loss: 0.3579 - val_loss: 0.3605\n",
            "Epoch 34/100\n",
            "81081/81081 [==============================] - 96s 1ms/step - loss: 0.3581 - val_loss: 0.3554\n",
            "Epoch 35/100\n",
            "81081/81081 [==============================] - 92s 1ms/step - loss: 0.3584 - val_loss: 0.3569\n",
            "Epoch 36/100\n",
            "81081/81081 [==============================] - 93s 1ms/step - loss: 0.3584 - val_loss: 0.3575\n",
            "Epoch 37/100\n",
            "81081/81081 [==============================] - 98s 1ms/step - loss: 0.3584 - val_loss: 0.3598\n",
            "Epoch 38/100\n",
            "81081/81081 [==============================] - 91s 1ms/step - loss: 0.3589 - val_loss: 0.3615\n",
            "Epoch 39/100\n",
            "81081/81081 [==============================] - 97s 1ms/step - loss: 0.3592 - val_loss: 0.3689\n",
            "Epoch 40/100\n",
            "81081/81081 [==============================] - 95s 1ms/step - loss: 0.3592 - val_loss: 0.3661\n",
            "Epoch 41/100\n",
            "81081/81081 [==============================] - 96s 1ms/step - loss: 0.3596 - val_loss: 0.3686\n",
            "Epoch 42/100\n",
            "81081/81081 [==============================] - 92s 1ms/step - loss: 0.3597 - val_loss: 0.3717\n",
            "Epoch 43/100\n",
            "81081/81081 [==============================] - 93s 1ms/step - loss: 0.3600 - val_loss: 0.3554\n",
            "Epoch 44/100\n",
            "81081/81081 [==============================] - 94s 1ms/step - loss: 0.3603 - val_loss: 0.3600\n",
            "Epoch 45/100\n",
            "81081/81081 [==============================] - 93s 1ms/step - loss: 0.3607 - val_loss: 0.3662\n",
            "Epoch 46/100\n",
            "81081/81081 [==============================] - 97s 1ms/step - loss: 0.3606 - val_loss: 0.3607\n",
            "Epoch 47/100\n",
            "81081/81081 [==============================] - 92s 1ms/step - loss: 0.3605 - val_loss: 0.3708\n",
            "Epoch 48/100\n",
            "81081/81081 [==============================] - 93s 1ms/step - loss: 0.3602 - val_loss: 0.3817\n",
            "Epoch 49/100\n",
            "81081/81081 [==============================] - 93s 1ms/step - loss: 0.3574 - val_loss: 0.3776\n",
            "Epoch 50/100\n",
            "81081/81081 [==============================] - 92s 1ms/step - loss: 0.3568 - val_loss: 0.3659\n",
            "Epoch 51/100\n",
            "81081/81081 [==============================] - 95s 1ms/step - loss: 0.3570 - val_loss: 0.3667\n",
            "Epoch 52/100\n",
            "81081/81081 [==============================] - 95s 1ms/step - loss: 0.3568 - val_loss: 0.3540\n",
            "Epoch 53/100\n",
            "81081/81081 [==============================] - 93s 1ms/step - loss: 0.3569 - val_loss: 0.3599\n",
            "Epoch 54/100\n",
            "81081/81081 [==============================] - 94s 1ms/step - loss: 0.3565 - val_loss: 0.3548\n",
            "Epoch 55/100\n",
            "81081/81081 [==============================] - 90s 1ms/step - loss: 0.3564 - val_loss: 0.3898\n",
            "Epoch 56/100\n",
            "81081/81081 [==============================] - 92s 1ms/step - loss: 0.3567 - val_loss: 0.3610\n",
            "Epoch 57/100\n",
            "81081/81081 [==============================] - 95s 1ms/step - loss: 0.3568 - val_loss: 0.3521\n",
            "Epoch 58/100\n",
            "81081/81081 [==============================] - 94s 1ms/step - loss: 0.3570 - val_loss: 0.3610\n",
            "Epoch 59/100\n",
            "81081/81081 [==============================] - 97s 1ms/step - loss: 0.3571 - val_loss: 0.3558\n",
            "Epoch 60/100\n",
            "81081/81081 [==============================] - 91s 1ms/step - loss: 0.3572 - val_loss: 0.3671\n",
            "Epoch 61/100\n",
            "81081/81081 [==============================] - 94s 1ms/step - loss: 0.3573 - val_loss: 0.3682\n",
            "Epoch 62/100\n",
            "81081/81081 [==============================] - 90s 1ms/step - loss: 0.3577 - val_loss: 0.3609\n",
            "Epoch 63/100\n",
            "81081/81081 [==============================] - 92s 1ms/step - loss: 0.3574 - val_loss: 0.3518\n",
            "Epoch 64/100\n",
            "81081/81081 [==============================] - 93s 1ms/step - loss: 0.3584 - val_loss: 0.3613\n",
            "Epoch 65/100\n",
            "81081/81081 [==============================] - 96s 1ms/step - loss: 0.3586 - val_loss: 0.3658\n",
            "Epoch 66/100\n",
            "81081/81081 [==============================] - 92s 1ms/step - loss: 0.3594 - val_loss: 0.3622\n",
            "Epoch 67/100\n",
            "81081/81081 [==============================] - 92s 1ms/step - loss: 0.3602 - val_loss: 0.3661\n",
            "Epoch 68/100\n",
            "81081/81081 [==============================] - 97s 1ms/step - loss: 0.3608 - val_loss: 0.3714\n",
            "Epoch 69/100\n",
            "81081/81081 [==============================] - 93s 1ms/step - loss: 0.3609 - val_loss: 0.3824\n",
            "Epoch 70/100\n",
            "81081/81081 [==============================] - 91s 1ms/step - loss: 0.3607 - val_loss: 0.3575\n",
            "Epoch 71/100\n",
            "81081/81081 [==============================] - 95s 1ms/step - loss: 0.3608 - val_loss: 0.3768\n",
            "Epoch 72/100\n",
            "81081/81081 [==============================] - 99s 1ms/step - loss: 0.3614 - val_loss: 0.3763\n",
            "Epoch 73/100\n",
            "81081/81081 [==============================] - 92s 1ms/step - loss: 0.3615 - val_loss: 0.3679\n",
            "Epoch 74/100\n",
            "81081/81081 [==============================] - 91s 1ms/step - loss: 0.3615 - val_loss: 0.3582\n",
            "Epoch 75/100\n",
            "81081/81081 [==============================] - 96s 1ms/step - loss: 0.3623 - val_loss: 0.3672\n",
            "Epoch 76/100\n",
            "81081/81081 [==============================] - 93s 1ms/step - loss: 0.3626 - val_loss: 0.3548\n",
            "Epoch 77/100\n",
            "81081/81081 [==============================] - 92s 1ms/step - loss: 0.3629 - val_loss: 0.3533\n",
            "Epoch 78/100\n",
            "81081/81081 [==============================] - 97s 1ms/step - loss: 0.3640 - val_loss: 0.3516\n",
            "Epoch 79/100\n",
            "81081/81081 [==============================] - 93s 1ms/step - loss: 0.3644 - val_loss: 0.3820\n",
            "Epoch 80/100\n",
            "81081/81081 [==============================] - 92s 1ms/step - loss: 0.3643 - val_loss: 0.3644\n",
            "Epoch 81/100\n",
            "81081/81081 [==============================] - 93s 1ms/step - loss: 0.3639 - val_loss: 0.3534\n",
            "Epoch 82/100\n",
            "81081/81081 [==============================] - 102s 1ms/step - loss: 0.3636 - val_loss: 0.3660\n",
            "Epoch 83/100\n",
            "81081/81081 [==============================] - 96s 1ms/step - loss: 0.3638 - val_loss: 0.3525\n",
            "Epoch 84/100\n",
            "81081/81081 [==============================] - 97s 1ms/step - loss: 0.3645 - val_loss: 0.3557\n",
            "Epoch 85/100\n",
            "81081/81081 [==============================] - 105s 1ms/step - loss: 0.3642 - val_loss: 0.3621\n",
            "Epoch 86/100\n",
            "81081/81081 [==============================] - 92s 1ms/step - loss: 0.3646 - val_loss: 0.3645\n",
            "Epoch 87/100\n",
            "81081/81081 [==============================] - 94s 1ms/step - loss: 0.3641 - val_loss: 0.3583\n",
            "Epoch 88/100\n",
            "81081/81081 [==============================] - 96s 1ms/step - loss: 0.3640 - val_loss: 0.3570\n",
            "Epoch 89/100\n",
            "81081/81081 [==============================] - 99s 1ms/step - loss: 0.3640 - val_loss: 0.3978\n",
            "Epoch 90/100\n",
            "81081/81081 [==============================] - 94s 1ms/step - loss: 0.3646 - val_loss: 0.3928\n",
            "Epoch 91/100\n",
            "81081/81081 [==============================] - 99s 1ms/step - loss: 0.3645 - val_loss: 0.3725\n",
            "Epoch 92/100\n",
            "81081/81081 [==============================] - 106s 1ms/step - loss: 0.3648 - val_loss: 0.3657\n",
            "Epoch 93/100\n",
            "81081/81081 [==============================] - 95s 1ms/step - loss: 0.3643 - val_loss: 0.3632\n",
            "Epoch 94/100\n",
            "81081/81081 [==============================] - 94s 1ms/step - loss: 0.3646 - val_loss: 0.3683\n",
            "Epoch 95/100\n",
            "81081/81081 [==============================] - 105s 1ms/step - loss: 0.3644 - val_loss: 0.3649\n",
            "Epoch 96/100\n",
            "81081/81081 [==============================] - 94s 1ms/step - loss: 0.3648 - val_loss: 0.4085\n",
            "Epoch 97/100\n",
            "81081/81081 [==============================] - 98s 1ms/step - loss: 0.3645 - val_loss: 0.3538\n",
            "Epoch 98/100\n",
            "81081/81081 [==============================] - 98s 1ms/step - loss: 0.3644 - val_loss: 0.3809\n",
            "Epoch 99/100\n",
            "81081/81081 [==============================] - 94s 1ms/step - loss: 0.3645 - val_loss: 0.3646\n",
            "Epoch 100/100\n",
            "81081/81081 [==============================] - 93s 1ms/step - loss: 0.3647 - val_loss: 0.3711\n"
          ],
          "name": "stdout"
        }
      ]
    },
    {
      "cell_type": "code",
      "metadata": {
        "id": "w7sNIEcz_QV7",
        "outputId": "7497d4a1-14c2-4b13-e276-1ff633c3bef2",
        "colab": {
          "base_uri": "https://localhost:8080/",
          "height": 197
        }
      },
      "source": [
        "history_rmsprop_dataframe = pd.DataFrame(history_rmsprop.history)\n",
        "history_rmsprop_dataframe['epoch'] = history_rmsprop.epoch\n",
        "history_rmsprop_dataframe.sort_values(by='val_loss', ascending=True)"
      ],
      "execution_count": null,
      "outputs": [
        {
          "output_type": "error",
          "ename": "NameError",
          "evalue": "ignored",
          "traceback": [
            "\u001b[0;31m---------------------------------------------------------------------------\u001b[0m",
            "\u001b[0;31mNameError\u001b[0m                                 Traceback (most recent call last)",
            "\u001b[0;32m<ipython-input-3-5a0c1d4f629b>\u001b[0m in \u001b[0;36m<module>\u001b[0;34m()\u001b[0m\n\u001b[0;32m----> 1\u001b[0;31m \u001b[0mhistory_rmsprop_dataframe\u001b[0m \u001b[0;34m=\u001b[0m \u001b[0mpd\u001b[0m\u001b[0;34m.\u001b[0m\u001b[0mDataFrame\u001b[0m\u001b[0;34m(\u001b[0m\u001b[0mhistory_rmsprop\u001b[0m\u001b[0;34m.\u001b[0m\u001b[0mhistory\u001b[0m\u001b[0;34m)\u001b[0m\u001b[0;34m\u001b[0m\u001b[0;34m\u001b[0m\u001b[0m\n\u001b[0m\u001b[1;32m      2\u001b[0m \u001b[0mhistory_rmsprop_dataframe\u001b[0m\u001b[0;34m[\u001b[0m\u001b[0;34m'epoch'\u001b[0m\u001b[0;34m]\u001b[0m \u001b[0;34m=\u001b[0m \u001b[0mhistory_rmsprop\u001b[0m\u001b[0;34m.\u001b[0m\u001b[0mepoch\u001b[0m\u001b[0;34m\u001b[0m\u001b[0;34m\u001b[0m\u001b[0m\n\u001b[1;32m      3\u001b[0m \u001b[0mhistory_rmsprop_dataframe\u001b[0m\u001b[0;34m.\u001b[0m\u001b[0msort_values\u001b[0m\u001b[0;34m(\u001b[0m\u001b[0mby\u001b[0m\u001b[0;34m=\u001b[0m\u001b[0;34m'val_loss'\u001b[0m\u001b[0;34m,\u001b[0m \u001b[0mascending\u001b[0m\u001b[0;34m=\u001b[0m\u001b[0;32mTrue\u001b[0m\u001b[0;34m)\u001b[0m\u001b[0;34m\u001b[0m\u001b[0;34m\u001b[0m\u001b[0m\n",
            "\u001b[0;31mNameError\u001b[0m: name 'history_rmsprop' is not defined"
          ]
        }
      ]
    },
    {
      "cell_type": "markdown",
      "metadata": {
        "id": "Ha2RgW0H_n-R"
      },
      "source": [
        "# Assignments\n",
        "\n",
        "Lakukan regresi menggunakan MLP dengan dataset **Auto**, **Auto-MPG** dan **Bottle**! Gunakan 2 arsitektur MLP yang mirip seperti diatas beserta linear regression dan simpulkan hasil yang terbaik!\n",
        "\n",
        "## Catatan:\n",
        "\n",
        "1. Gunakan ratio training:testing set sebesar 80:20 untuk dataset **Auto & Auto-MPG**, sedangkan untuk dataset **Bottle** gunakan ratio 75:25. Selain itu, gunakan random_state=10 apabila dibutuhkan.\n",
        "\n",
        "2. Untuk dataset **Auto**, gunakan kolom-kolom ini saja (sisanya di-drop):\n",
        "  - wheel-base \n",
        "  - length \n",
        "  - width \n",
        "  - height \n",
        "  - bore\n",
        "  - stroke\n",
        "  - compression-ratio\n",
        "  - peak-rpm\n",
        "  - price\n",
        "\n",
        "3. Untuk dataset **Bottle** lakukan regresi terhadap attribute **Salinity**."
      ]
    }
  ]
}