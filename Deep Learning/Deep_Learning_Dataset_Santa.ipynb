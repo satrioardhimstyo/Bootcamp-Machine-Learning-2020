{
  "nbformat": 4,
  "nbformat_minor": 0,
  "metadata": {
    "colab": {
      "name": "Deep Learning Dataset Santa.ipynb",
      "provenance": []
    },
    "kernelspec": {
      "name": "python3",
      "display_name": "Python 3"
    },
    "accelerator": "GPU"
  },
  "cells": [
    {
      "cell_type": "code",
      "metadata": {
        "id": "Nne7TrwrJ020",
        "outputId": "b86b3354-a6fe-4cf4-d2a9-73250d4e200c",
        "colab": {
          "base_uri": "https://localhost:8080/",
          "height": 34
        }
      },
      "source": [
        "from google.colab import drive\n",
        "drive.mount('/content/drive')"
      ],
      "execution_count": null,
      "outputs": [
        {
          "output_type": "stream",
          "text": [
            "Mounted at /content/drive\n"
          ],
          "name": "stdout"
        }
      ]
    },
    {
      "cell_type": "code",
      "metadata": {
        "id": "fR37W7tFchKF"
      },
      "source": [
        "zip_path = '/content/drive/My\\ Drive/santa-dataset.zip'\n",
        "\n",
        "!cp {zip_path} /content/\n",
        "\n",
        "!cd /content/\n",
        "\n",
        "!unzip -q /content/santa-dataset.zip -d /content\n",
        "\n",
        "!rm /content/santa-dataset.zip"
      ],
      "execution_count": null,
      "outputs": []
    },
    {
      "cell_type": "code",
      "metadata": {
        "id": "7FwE2WEKlEKQ"
      },
      "source": [
        "import numpy as np\n",
        "import pandas as pd\n",
        "import os\n",
        "import matplotlib.pyplot as plt\n",
        "from tensorflow.keras.preprocessing.image import ImageDataGenerator"
      ],
      "execution_count": null,
      "outputs": []
    },
    {
      "cell_type": "markdown",
      "metadata": {
        "id": "keMDICRGrhNs"
      },
      "source": [
        "# Baseline CNN model\n",
        "\n"
      ]
    },
    {
      "cell_type": "code",
      "metadata": {
        "id": "UtIFUQ-8TmYX"
      },
      "source": [
        ""
      ],
      "execution_count": null,
      "outputs": []
    },
    {
      "cell_type": "code",
      "metadata": {
        "id": "W0O7kh6rmJj9",
        "outputId": "247ab667-2c78-4185-b734-fe6e7ba2a7f2",
        "colab": {
          "base_uri": "https://localhost:8080/",
          "height": 323
        }
      },
      "source": [
        "from tensorflow.keras.models import Sequential\n",
        "from tensorflow.keras.layers import Conv2D, MaxPooling2D, Dense, Flatten\n",
        "from tensorflow.keras.optimizers import RMSprop\n",
        "from tensorflow.keras.applications import vgg19\n",
        "from tensorflow.keras.applications import xception\n",
        "from tensorflow.keras.applications import inception_resnet_v2\n",
        "from tensorflow.keras.layers import Dropout\n",
        "\n",
        "vgg_conv = vgg19.VGG19(weights='imagenet', include_top=False)\n",
        "\n",
        "for layer in vgg_conv.layers[:]:\n",
        "  layer.trainable=False\n",
        "\n",
        "fine_tuned_model= Sequential()\n",
        "fine_tuned_model.add(vgg_conv)\n",
        "\n",
        "fine_tuned_model.add(Flatten())\n",
        "fine_tuned_model.add(Dense(4096, activation='relu'))\n",
        "fine_tuned_model.add(Dropout(0.5))\n",
        "fine_tuned_model.add(Dense(1, activation='sigmoid'))\n",
        "\n",
        "fine_tuned_model.summary()\n",
        "\n",
        "opt = RMSprop(lr=0.0001, momentum=0.9)\n",
        "\n",
        "fine_tuned_model.compile(optimizer=opt, loss='binary_crossentropy', metrics=['accuracy'])\n",
        "\n"
      ],
      "execution_count": null,
      "outputs": [
        {
          "output_type": "stream",
          "text": [
            "Model: \"sequential_9\"\n",
            "_________________________________________________________________\n",
            "Layer (type)                 Output Shape              Param #   \n",
            "=================================================================\n",
            "vgg19 (Functional)           (None, 7, 7, 512)         20024384  \n",
            "_________________________________________________________________\n",
            "flatten_9 (Flatten)          (None, 25088)             0         \n",
            "_________________________________________________________________\n",
            "dense_16 (Dense)             (None, 4096)              102764544 \n",
            "_________________________________________________________________\n",
            "dropout_9 (Dropout)          (None, 4096)              0         \n",
            "_________________________________________________________________\n",
            "dense_17 (Dense)             (None, 1)                 4097      \n",
            "=================================================================\n",
            "Total params: 122,793,025\n",
            "Trainable params: 102,768,641\n",
            "Non-trainable params: 20,024,384\n",
            "_________________________________________________________________\n"
          ],
          "name": "stdout"
        }
      ]
    },
    {
      "cell_type": "code",
      "metadata": {
        "id": "EApcJT87lUQq",
        "outputId": "129d8544-6d7d-4316-bc0b-c3dd77da6af4",
        "colab": {
          "base_uri": "https://localhost:8080/",
          "height": 51
        }
      },
      "source": [
        "dataset_dir = '/content/santa-dataset'\n",
        "\n",
        "from tensorflow.keras.preprocessing.image import ImageDataGenerator\n",
        "\n",
        "test_datagen = ImageDataGenerator(rescale=1.0/255.0)\n",
        "train_datagen = ImageDataGenerator(rescale=1.0/255.0, width_shift_range=0.1, height_shift_range=0.1, horizontal_flip=True)\n",
        "\n",
        "train = train_datagen.flow_from_directory(os.path.join(dataset_dir, 'train'), class_mode='binary', batch_size=128, target_size=(224, 224))\n",
        "test = test_datagen.flow_from_directory(os.path.join(dataset_dir, 'test'), class_mode='binary', batch_size=128, target_size=(224, 224))"
      ],
      "execution_count": null,
      "outputs": [
        {
          "output_type": "stream",
          "text": [
            "Found 662 images belonging to 2 classes.\n",
            "Found 260 images belonging to 2 classes.\n"
          ],
          "name": "stdout"
        }
      ]
    },
    {
      "cell_type": "code",
      "metadata": {
        "id": "znPhLUV4ma06",
        "outputId": "f8bfb433-a805-48fe-be47-bb554e8ef2ae",
        "colab": {
          "base_uri": "https://localhost:8080/",
          "height": 1000
        }
      },
      "source": [
        "history_base_model = fine_tuned_model.fit_generator(train, steps_per_epoch=len(train), validation_data=test, validation_steps=len(test), epochs=75)"
      ],
      "execution_count": null,
      "outputs": [
        {
          "output_type": "stream",
          "text": [
            "Epoch 1/75\n",
            "6/6 [==============================] - 23s 4s/step - loss: 11.5985 - accuracy: 0.5106 - val_loss: 6.7874 - val_accuracy: 0.5038\n",
            "Epoch 2/75\n",
            "6/6 [==============================] - 20s 3s/step - loss: 2.8241 - accuracy: 0.7009 - val_loss: 1.4982 - val_accuracy: 0.8192\n",
            "Epoch 3/75\n",
            "6/6 [==============================] - 16s 3s/step - loss: 1.6094 - accuracy: 0.8293 - val_loss: 1.1445 - val_accuracy: 0.8385\n",
            "Epoch 4/75\n",
            "6/6 [==============================] - 18s 3s/step - loss: 1.0204 - accuracy: 0.8625 - val_loss: 1.0238 - val_accuracy: 0.9038\n",
            "Epoch 5/75\n",
            "6/6 [==============================] - 17s 3s/step - loss: 0.5652 - accuracy: 0.9230 - val_loss: 0.4992 - val_accuracy: 0.9346\n",
            "Epoch 6/75\n",
            "6/6 [==============================] - 17s 3s/step - loss: 0.6419 - accuracy: 0.9260 - val_loss: 0.5113 - val_accuracy: 0.9423\n",
            "Epoch 7/75\n",
            "6/6 [==============================] - 18s 3s/step - loss: 0.2654 - accuracy: 0.9486 - val_loss: 0.4755 - val_accuracy: 0.9385\n",
            "Epoch 8/75\n",
            "6/6 [==============================] - 17s 3s/step - loss: 0.3718 - accuracy: 0.9320 - val_loss: 0.3402 - val_accuracy: 0.9308\n",
            "Epoch 9/75\n",
            "6/6 [==============================] - 20s 3s/step - loss: 0.2207 - accuracy: 0.9486 - val_loss: 0.2566 - val_accuracy: 0.9615\n",
            "Epoch 10/75\n",
            "6/6 [==============================] - 20s 3s/step - loss: 0.2670 - accuracy: 0.9562 - val_loss: 0.3474 - val_accuracy: 0.9538\n",
            "Epoch 11/75\n",
            "6/6 [==============================] - 17s 3s/step - loss: 0.1527 - accuracy: 0.9653 - val_loss: 0.2843 - val_accuracy: 0.9654\n",
            "Epoch 12/75\n",
            "6/6 [==============================] - 17s 3s/step - loss: 0.1559 - accuracy: 0.9577 - val_loss: 0.2860 - val_accuracy: 0.9654\n",
            "Epoch 13/75\n",
            "6/6 [==============================] - 20s 3s/step - loss: 0.1512 - accuracy: 0.9683 - val_loss: 0.4314 - val_accuracy: 0.9462\n",
            "Epoch 14/75\n",
            "6/6 [==============================] - 20s 3s/step - loss: 0.1191 - accuracy: 0.9743 - val_loss: 0.2651 - val_accuracy: 0.9577\n",
            "Epoch 15/75\n",
            "6/6 [==============================] - 17s 3s/step - loss: 0.0902 - accuracy: 0.9804 - val_loss: 0.2898 - val_accuracy: 0.9538\n",
            "Epoch 16/75\n",
            "6/6 [==============================] - 17s 3s/step - loss: 0.0739 - accuracy: 0.9773 - val_loss: 0.2904 - val_accuracy: 0.9538\n",
            "Epoch 17/75\n",
            "6/6 [==============================] - 18s 3s/step - loss: 0.0715 - accuracy: 0.9728 - val_loss: 0.3192 - val_accuracy: 0.9500\n",
            "Epoch 18/75\n",
            "6/6 [==============================] - 20s 3s/step - loss: 0.0555 - accuracy: 0.9819 - val_loss: 0.2344 - val_accuracy: 0.9692\n",
            "Epoch 19/75\n",
            "6/6 [==============================] - 18s 3s/step - loss: 0.1070 - accuracy: 0.9728 - val_loss: 0.2232 - val_accuracy: 0.9615\n",
            "Epoch 20/75\n",
            "6/6 [==============================] - 18s 3s/step - loss: 0.1239 - accuracy: 0.9637 - val_loss: 0.3609 - val_accuracy: 0.9115\n",
            "Epoch 21/75\n",
            "6/6 [==============================] - 20s 3s/step - loss: 0.0789 - accuracy: 0.9789 - val_loss: 0.1956 - val_accuracy: 0.9692\n",
            "Epoch 22/75\n",
            "6/6 [==============================] - 18s 3s/step - loss: 0.0846 - accuracy: 0.9743 - val_loss: 0.2909 - val_accuracy: 0.9538\n",
            "Epoch 23/75\n",
            "6/6 [==============================] - 18s 3s/step - loss: 0.1260 - accuracy: 0.9653 - val_loss: 0.2623 - val_accuracy: 0.9615\n",
            "Epoch 24/75\n",
            "6/6 [==============================] - 18s 3s/step - loss: 0.0427 - accuracy: 0.9849 - val_loss: 0.2034 - val_accuracy: 0.9615\n",
            "Epoch 25/75\n",
            "6/6 [==============================] - 18s 3s/step - loss: 0.0678 - accuracy: 0.9743 - val_loss: 0.2780 - val_accuracy: 0.9577\n",
            "Epoch 26/75\n",
            "6/6 [==============================] - 17s 3s/step - loss: 0.0820 - accuracy: 0.9773 - val_loss: 0.1880 - val_accuracy: 0.9692\n",
            "Epoch 27/75\n",
            "6/6 [==============================] - 17s 3s/step - loss: 0.0447 - accuracy: 0.9834 - val_loss: 0.2619 - val_accuracy: 0.9500\n",
            "Epoch 28/75\n",
            "6/6 [==============================] - 18s 3s/step - loss: 0.0660 - accuracy: 0.9698 - val_loss: 0.2392 - val_accuracy: 0.9538\n",
            "Epoch 29/75\n",
            "6/6 [==============================] - 17s 3s/step - loss: 0.0412 - accuracy: 0.9834 - val_loss: 0.1739 - val_accuracy: 0.9654\n",
            "Epoch 30/75\n",
            "6/6 [==============================] - 17s 3s/step - loss: 0.0337 - accuracy: 0.9879 - val_loss: 0.1764 - val_accuracy: 0.9654\n",
            "Epoch 31/75\n",
            "6/6 [==============================] - 18s 3s/step - loss: 0.0624 - accuracy: 0.9819 - val_loss: 0.2365 - val_accuracy: 0.9500\n",
            "Epoch 32/75\n",
            "6/6 [==============================] - 18s 3s/step - loss: 0.0868 - accuracy: 0.9773 - val_loss: 0.2049 - val_accuracy: 0.9692\n",
            "Epoch 33/75\n",
            "6/6 [==============================] - 17s 3s/step - loss: 0.0536 - accuracy: 0.9789 - val_loss: 0.3486 - val_accuracy: 0.9385\n",
            "Epoch 34/75\n",
            "6/6 [==============================] - 20s 3s/step - loss: 0.0820 - accuracy: 0.9789 - val_loss: 0.1881 - val_accuracy: 0.9692\n",
            "Epoch 35/75\n",
            "6/6 [==============================] - 18s 3s/step - loss: 0.0327 - accuracy: 0.9864 - val_loss: 0.1934 - val_accuracy: 0.9654\n",
            "Epoch 36/75\n",
            "6/6 [==============================] - 17s 3s/step - loss: 0.0343 - accuracy: 0.9864 - val_loss: 0.2363 - val_accuracy: 0.9462\n",
            "Epoch 37/75\n",
            "6/6 [==============================] - 17s 3s/step - loss: 0.0626 - accuracy: 0.9819 - val_loss: 0.1726 - val_accuracy: 0.9731\n",
            "Epoch 38/75\n",
            "6/6 [==============================] - 18s 3s/step - loss: 0.0888 - accuracy: 0.9698 - val_loss: 0.4278 - val_accuracy: 0.9308\n",
            "Epoch 39/75\n",
            "6/6 [==============================] - 16s 3s/step - loss: 0.0832 - accuracy: 0.9804 - val_loss: 0.1783 - val_accuracy: 0.9731\n",
            "Epoch 40/75\n",
            "6/6 [==============================] - 17s 3s/step - loss: 0.0769 - accuracy: 0.9743 - val_loss: 0.1914 - val_accuracy: 0.9577\n",
            "Epoch 41/75\n",
            "6/6 [==============================] - 16s 3s/step - loss: 0.0983 - accuracy: 0.9637 - val_loss: 0.4686 - val_accuracy: 0.9269\n",
            "Epoch 42/75\n",
            "6/6 [==============================] - 17s 3s/step - loss: 0.1429 - accuracy: 0.9668 - val_loss: 0.2035 - val_accuracy: 0.9731\n",
            "Epoch 43/75\n",
            "6/6 [==============================] - 18s 3s/step - loss: 0.0571 - accuracy: 0.9789 - val_loss: 0.2130 - val_accuracy: 0.9731\n",
            "Epoch 44/75\n",
            "6/6 [==============================] - 18s 3s/step - loss: 0.0646 - accuracy: 0.9849 - val_loss: 0.3475 - val_accuracy: 0.9500\n",
            "Epoch 45/75\n",
            "6/6 [==============================] - 20s 3s/step - loss: 0.0672 - accuracy: 0.9834 - val_loss: 0.2215 - val_accuracy: 0.9692\n",
            "Epoch 46/75\n",
            "6/6 [==============================] - 20s 3s/step - loss: 0.0532 - accuracy: 0.9849 - val_loss: 0.2409 - val_accuracy: 0.9731\n",
            "Epoch 47/75\n",
            "6/6 [==============================] - 18s 3s/step - loss: 0.0163 - accuracy: 0.9955 - val_loss: 0.2291 - val_accuracy: 0.9692\n",
            "Epoch 48/75\n",
            "6/6 [==============================] - 18s 3s/step - loss: 0.0248 - accuracy: 0.9924 - val_loss: 0.2871 - val_accuracy: 0.9385\n",
            "Epoch 49/75\n",
            "6/6 [==============================] - 17s 3s/step - loss: 0.0662 - accuracy: 0.9789 - val_loss: 0.2542 - val_accuracy: 0.9654\n",
            "Epoch 50/75\n",
            "6/6 [==============================] - 18s 3s/step - loss: 0.0329 - accuracy: 0.9909 - val_loss: 0.2315 - val_accuracy: 0.9654\n",
            "Epoch 51/75\n",
            "6/6 [==============================] - 17s 3s/step - loss: 0.0223 - accuracy: 0.9909 - val_loss: 0.2232 - val_accuracy: 0.9692\n",
            "Epoch 52/75\n",
            "6/6 [==============================] - 17s 3s/step - loss: 0.0187 - accuracy: 0.9924 - val_loss: 0.2358 - val_accuracy: 0.9654\n",
            "Epoch 53/75\n",
            "6/6 [==============================] - 18s 3s/step - loss: 0.0550 - accuracy: 0.9849 - val_loss: 0.2376 - val_accuracy: 0.9538\n",
            "Epoch 54/75\n",
            "6/6 [==============================] - 17s 3s/step - loss: 0.0191 - accuracy: 0.9924 - val_loss: 0.2198 - val_accuracy: 0.9654\n",
            "Epoch 55/75\n",
            "6/6 [==============================] - 18s 3s/step - loss: 0.0067 - accuracy: 0.9970 - val_loss: 0.2144 - val_accuracy: 0.9577\n",
            "Epoch 56/75\n",
            "6/6 [==============================] - 17s 3s/step - loss: 0.0439 - accuracy: 0.9894 - val_loss: 0.2101 - val_accuracy: 0.9615\n",
            "Epoch 57/75\n",
            "6/6 [==============================] - 18s 3s/step - loss: 0.0335 - accuracy: 0.9894 - val_loss: 0.2919 - val_accuracy: 0.9500\n",
            "Epoch 58/75\n",
            "6/6 [==============================] - 18s 3s/step - loss: 0.0211 - accuracy: 0.9909 - val_loss: 0.1997 - val_accuracy: 0.9654\n",
            "Epoch 59/75\n",
            "6/6 [==============================] - 17s 3s/step - loss: 0.0101 - accuracy: 0.9970 - val_loss: 0.2102 - val_accuracy: 0.9654\n",
            "Epoch 60/75\n",
            "6/6 [==============================] - 17s 3s/step - loss: 0.0280 - accuracy: 0.9894 - val_loss: 0.2006 - val_accuracy: 0.9654\n",
            "Epoch 61/75\n",
            "6/6 [==============================] - 18s 3s/step - loss: 0.0240 - accuracy: 0.9909 - val_loss: 0.2084 - val_accuracy: 0.9615\n",
            "Epoch 62/75\n",
            "6/6 [==============================] - 18s 3s/step - loss: 0.0086 - accuracy: 0.9955 - val_loss: 0.1857 - val_accuracy: 0.9692\n",
            "Epoch 63/75\n",
            "6/6 [==============================] - 18s 3s/step - loss: 0.0248 - accuracy: 0.9909 - val_loss: 0.2751 - val_accuracy: 0.9577\n",
            "Epoch 64/75\n",
            "6/6 [==============================] - 18s 3s/step - loss: 0.0572 - accuracy: 0.9864 - val_loss: 0.1823 - val_accuracy: 0.9654\n",
            "Epoch 65/75\n",
            "6/6 [==============================] - 17s 3s/step - loss: 0.0419 - accuracy: 0.9804 - val_loss: 0.1924 - val_accuracy: 0.9654\n",
            "Epoch 66/75\n",
            "6/6 [==============================] - 18s 3s/step - loss: 0.0351 - accuracy: 0.9894 - val_loss: 0.2733 - val_accuracy: 0.9615\n",
            "Epoch 67/75\n",
            "6/6 [==============================] - 18s 3s/step - loss: 0.0368 - accuracy: 0.9894 - val_loss: 0.2384 - val_accuracy: 0.9615\n",
            "Epoch 68/75\n",
            "6/6 [==============================] - 16s 3s/step - loss: 0.0302 - accuracy: 0.9909 - val_loss: 0.2973 - val_accuracy: 0.9577\n",
            "Epoch 69/75\n",
            "6/6 [==============================] - 17s 3s/step - loss: 0.0152 - accuracy: 0.9970 - val_loss: 0.2427 - val_accuracy: 0.9654\n",
            "Epoch 70/75\n",
            "6/6 [==============================] - 17s 3s/step - loss: 0.0139 - accuracy: 0.9955 - val_loss: 0.4447 - val_accuracy: 0.9385\n",
            "Epoch 71/75\n",
            "6/6 [==============================] - 18s 3s/step - loss: 0.0319 - accuracy: 0.9894 - val_loss: 0.2731 - val_accuracy: 0.9654\n",
            "Epoch 72/75\n",
            "6/6 [==============================] - 17s 3s/step - loss: 0.0070 - accuracy: 0.9970 - val_loss: 0.3236 - val_accuracy: 0.9577\n",
            "Epoch 73/75\n",
            "6/6 [==============================] - 17s 3s/step - loss: 0.0374 - accuracy: 0.9894 - val_loss: 0.2587 - val_accuracy: 0.9692\n",
            "Epoch 74/75\n",
            "6/6 [==============================] - 17s 3s/step - loss: 0.0299 - accuracy: 0.9924 - val_loss: 0.2665 - val_accuracy: 0.9615\n",
            "Epoch 75/75\n",
            "6/6 [==============================] - 18s 3s/step - loss: 0.0804 - accuracy: 0.9834 - val_loss: 0.6106 - val_accuracy: 0.9308\n"
          ],
          "name": "stdout"
        }
      ]
    },
    {
      "cell_type": "code",
      "metadata": {
        "id": "Vdl88-zjxM4R"
      },
      "source": [
        "def plot_loss(history):\n",
        "  plt.plot(history.history['loss'], label='loss')\n",
        "  plt.plot(history.history['val_loss'], label='val_loss')\n",
        "  plt.xlabel('Epoch')\n",
        "  plt.ylabel('Loss')\n",
        "  plt.legend()\n",
        "  plt.grid(True)"
      ],
      "execution_count": null,
      "outputs": []
    },
    {
      "cell_type": "code",
      "metadata": {
        "id": "VaPbEQ2RxSDa",
        "outputId": "8fef3a43-dd10-4132-c5ac-a148238e562e",
        "colab": {
          "base_uri": "https://localhost:8080/",
          "height": 280
        }
      },
      "source": [
        "plot_loss(history_base_model)"
      ],
      "execution_count": null,
      "outputs": [
        {
          "output_type": "display_data",
          "data": {
            "image/png": "[encoded data removed]",
            "text/plain": [
              "<Figure size 432x288 with 1 Axes>"
            ]
          },
          "metadata": {
            "tags": [],
            "needs_background": "light"
          }
        }
      ]
    },
    {
      "cell_type": "code",
      "metadata": {
        "id": "Zt8UiLBrPn-u",
        "outputId": "7117683d-6544-40b3-ab79-b0d37aa7f0b2",
        "colab": {
          "base_uri": "https://localhost:8080/",
          "height": 297
        }
      },
      "source": [
        "import pandas as pd\n",
        "\n",
        "history_dataframe = pd.DataFrame(history_base_model.history)\n",
        "history_dataframe['epoch'] = history_base_model.epoch\n",
        "history_dataframe.describe()"
      ],
      "execution_count": null,
      "outputs": [
        {
          "output_type": "execute_result",
          "data": {
            "text/html": [
              "<div>\n",
              "<style scoped>\n",
              "    .dataframe tbody tr th:only-of-type {\n",
              "        vertical-align: middle;\n",
              "    }\n",
              "\n",
              "    .dataframe tbody tr th {\n",
              "        vertical-align: top;\n",
              "    }\n",
              "\n",
              "    .dataframe thead th {\n",
              "        text-align: right;\n",
              "    }\n",
              "</style>\n",
              "<table border=\"1\" class=\"dataframe\">\n",
              "  <thead>\n",
              "    <tr style=\"text-align: right;\">\n",
              "      <th></th>\n",
              "      <th>loss</th>\n",
              "      <th>accuracy</th>\n",
              "      <th>val_loss</th>\n",
              "      <th>val_accuracy</th>\n",
              "      <th>epoch</th>\n",
              "    </tr>\n",
              "  </thead>\n",
              "  <tbody>\n",
              "    <tr>\n",
              "      <th>count</th>\n",
              "      <td>75.000000</td>\n",
              "      <td>75.000000</td>\n",
              "      <td>75.000000</td>\n",
              "      <td>75.000000</td>\n",
              "      <td>75.000000</td>\n",
              "    </tr>\n",
              "    <tr>\n",
              "      <th>mean</th>\n",
              "      <td>0.308965</td>\n",
              "      <td>0.965599</td>\n",
              "      <td>0.396391</td>\n",
              "      <td>0.947385</td>\n",
              "      <td>37.000000</td>\n",
              "    </tr>\n",
              "    <tr>\n",
              "      <th>std</th>\n",
              "      <td>1.377161</td>\n",
              "      <td>0.067446</td>\n",
              "      <td>0.777206</td>\n",
              "      <td>0.057662</td>\n",
              "      <td>21.794495</td>\n",
              "    </tr>\n",
              "    <tr>\n",
              "      <th>min</th>\n",
              "      <td>0.006747</td>\n",
              "      <td>0.510574</td>\n",
              "      <td>0.172589</td>\n",
              "      <td>0.503846</td>\n",
              "      <td>0.000000</td>\n",
              "    </tr>\n",
              "    <tr>\n",
              "      <th>25%</th>\n",
              "      <td>0.032814</td>\n",
              "      <td>0.971299</td>\n",
              "      <td>0.210156</td>\n",
              "      <td>0.950000</td>\n",
              "      <td>18.500000</td>\n",
              "    </tr>\n",
              "    <tr>\n",
              "      <th>50%</th>\n",
              "      <td>0.062429</td>\n",
              "      <td>0.981873</td>\n",
              "      <td>0.254238</td>\n",
              "      <td>0.961538</td>\n",
              "      <td>37.000000</td>\n",
              "    </tr>\n",
              "    <tr>\n",
              "      <th>75%</th>\n",
              "      <td>0.094230</td>\n",
              "      <td>0.989426</td>\n",
              "      <td>0.308246</td>\n",
              "      <td>0.965385</td>\n",
              "      <td>55.500000</td>\n",
              "    </tr>\n",
              "    <tr>\n",
              "      <th>max</th>\n",
              "      <td>11.598533</td>\n",
              "      <td>0.996979</td>\n",
              "      <td>6.787367</td>\n",
              "      <td>0.973077</td>\n",
              "      <td>74.000000</td>\n",
              "    </tr>\n",
              "  </tbody>\n",
              "</table>\n",
              "</div>"
            ],
            "text/plain": [
              "            loss   accuracy   val_loss  val_accuracy      epoch\n",
              "count  75.000000  75.000000  75.000000     75.000000  75.000000\n",
              "mean    0.308965   0.965599   0.396391      0.947385  37.000000\n",
              "std     1.377161   0.067446   0.777206      0.057662  21.794495\n",
              "min     0.006747   0.510574   0.172589      0.503846   0.000000\n",
              "25%     0.032814   0.971299   0.210156      0.950000  18.500000\n",
              "50%     0.062429   0.981873   0.254238      0.961538  37.000000\n",
              "75%     0.094230   0.989426   0.308246      0.965385  55.500000\n",
              "max    11.598533   0.996979   6.787367      0.973077  74.000000"
            ]
          },
          "metadata": {
            "tags": []
          },
          "execution_count": 68
        }
      ]
    },
    {
      "cell_type": "code",
      "metadata": {
        "id": "w4LDoDqx13mh",
        "outputId": "6f06ba8e-cbe5-4fe1-e3b7-db6b8e891e8c",
        "colab": {
          "base_uri": "https://localhost:8080/",
          "height": 68
        }
      },
      "source": [
        "loss, accuracy = fine_tuned_model.evaluate(test, verbose=2)\n",
        "\n",
        "print(\"Test accuracy:\", accuracy)\n",
        "print(\"Test loss:\", loss)"
      ],
      "execution_count": null,
      "outputs": [
        {
          "output_type": "stream",
          "text": [
            "3/3 - 2s - loss: 0.6106 - accuracy: 0.9308\n",
            "Test accuracy: 0.9307692050933838\n",
            "Test loss: 0.6105566620826721\n"
          ],
          "name": "stdout"
        }
      ]
    },
    {
      "cell_type": "markdown",
      "metadata": {
        "id": "89dCp83aqkew"
      },
      "source": [
        "# Assignment\n",
        "\n",
        "1. Tambahkan convolution layer berikut untuk data yang sudah dilakukan data augmentation:\n",
        "\n",
        "    - Convolution layer dengan 32 filters, kernel size 3x3, activation function ReLu, & nilai awal berdasarkan he_uniform\n",
        "    - Max Pooling Layer 2x2\n",
        "    - Convolution layer dengan 64 filters, kernel size 3x3, activation function ReLu, & nilai awal berdasarkan he_uniform\n",
        "    - Max Pooling Layer 2x2\n",
        "    - Convolution layer dengan 128 filters, kernel size 3x3, activation function ReLu, & nilai awal berdasarkan he_uniform\n",
        "    - Max Pooling Layer 2x2\n",
        "\n",
        "  Bandingkan hasil accuracy yang didapat dengan ketika training dilakukan dengan model baseline! Jelaskan kesimpulannya! Gunakan nilai epoch 100. Lalu bandingkan juga plot epoch terhadap lossnya!\n",
        "\n",
        "2. Tentukan arsitektur CNN serta hyperparameter tuning bagi mendapatkan hasil terbaik untuk dataset ini!"
      ]
    }
  ]
}