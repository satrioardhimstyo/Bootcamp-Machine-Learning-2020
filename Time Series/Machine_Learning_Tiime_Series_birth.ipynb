{
  "nbformat": 4,
  "nbformat_minor": 0,
  "metadata": {
    "colab": {
      "name": "Machine Learning Tiime Series birth.ipynb",
      "provenance": []
    },
    "kernelspec": {
      "name": "python3",
      "display_name": "Python 3"
    }
  },
  "cells": [
    {
      "cell_type": "code",
      "metadata": {
        "id": "YC-hBLIDc3_P"
      },
      "source": [
        "import os\n",
        "import pandas as pd\n",
        "import numpy as np\n",
        "import matplotlib.pyplot as plt\n",
        "import seaborn as sb\n",
        "from datetime import datetime\n",
        "\n",
        "from pandas.plotting import lag_plot"
      ],
      "execution_count": null,
      "outputs": []
    },
    {
      "cell_type": "code",
      "metadata": {
        "id": "HHyPXLEId60Y"
      },
      "source": [
        "def parser(x):\n",
        "\treturn datetime.strptime(x, '%Y-%m-%d')"
      ],
      "execution_count": null,
      "outputs": []
    },
    {
      "cell_type": "code",
      "metadata": {
        "id": "X0AUHXZid8U1",
        "outputId": "fc948f94-15a6-4208-8ebb-b3d3b19a688e",
        "colab": {
          "base_uri": "https://localhost:8080/",
          "height": 235
        }
      },
      "source": [
        "dataset = pd.read_csv('/content/drive/My Drive/ML/birth.csv', header=0, parse_dates=[0], index_col=0, squeeze=False, date_parser=parser)\n",
        "\n",
        "dataset.head()\n",
        "\n",
        "# Output berbentuk Series, bukan DataFrame (karena nilai squeeze=True)"
      ],
      "execution_count": null,
      "outputs": [
        {
          "output_type": "execute_result",
          "data": {
            "text/html": [
              "<div>\n",
              "<style scoped>\n",
              "    .dataframe tbody tr th:only-of-type {\n",
              "        vertical-align: middle;\n",
              "    }\n",
              "\n",
              "    .dataframe tbody tr th {\n",
              "        vertical-align: top;\n",
              "    }\n",
              "\n",
              "    .dataframe thead th {\n",
              "        text-align: right;\n",
              "    }\n",
              "</style>\n",
              "<table border=\"1\" class=\"dataframe\">\n",
              "  <thead>\n",
              "    <tr style=\"text-align: right;\">\n",
              "      <th></th>\n",
              "      <th>Births</th>\n",
              "    </tr>\n",
              "    <tr>\n",
              "      <th>Date</th>\n",
              "      <th></th>\n",
              "    </tr>\n",
              "  </thead>\n",
              "  <tbody>\n",
              "    <tr>\n",
              "      <th>1959-01-01</th>\n",
              "      <td>35</td>\n",
              "    </tr>\n",
              "    <tr>\n",
              "      <th>1959-01-02</th>\n",
              "      <td>32</td>\n",
              "    </tr>\n",
              "    <tr>\n",
              "      <th>1959-01-03</th>\n",
              "      <td>30</td>\n",
              "    </tr>\n",
              "    <tr>\n",
              "      <th>1959-01-04</th>\n",
              "      <td>31</td>\n",
              "    </tr>\n",
              "    <tr>\n",
              "      <th>1959-01-05</th>\n",
              "      <td>44</td>\n",
              "    </tr>\n",
              "  </tbody>\n",
              "</table>\n",
              "</div>"
            ],
            "text/plain": [
              "            Births\n",
              "Date              \n",
              "1959-01-01      35\n",
              "1959-01-02      32\n",
              "1959-01-03      30\n",
              "1959-01-04      31\n",
              "1959-01-05      44"
            ]
          },
          "metadata": {
            "tags": []
          },
          "execution_count": 4
        }
      ]
    },
    {
      "cell_type": "code",
      "metadata": {
        "id": "xFWnZPLkedxC",
        "outputId": "3e6f56b8-b4c4-48f0-f3b9-aa147ff5f056",
        "colab": {
          "base_uri": "https://localhost:8080/",
          "height": 297
        }
      },
      "source": [
        "dataset.describe()"
      ],
      "execution_count": null,
      "outputs": [
        {
          "output_type": "execute_result",
          "data": {
            "text/html": [
              "<div>\n",
              "<style scoped>\n",
              "    .dataframe tbody tr th:only-of-type {\n",
              "        vertical-align: middle;\n",
              "    }\n",
              "\n",
              "    .dataframe tbody tr th {\n",
              "        vertical-align: top;\n",
              "    }\n",
              "\n",
              "    .dataframe thead th {\n",
              "        text-align: right;\n",
              "    }\n",
              "</style>\n",
              "<table border=\"1\" class=\"dataframe\">\n",
              "  <thead>\n",
              "    <tr style=\"text-align: right;\">\n",
              "      <th></th>\n",
              "      <th>Births</th>\n",
              "    </tr>\n",
              "  </thead>\n",
              "  <tbody>\n",
              "    <tr>\n",
              "      <th>count</th>\n",
              "      <td>365.000000</td>\n",
              "    </tr>\n",
              "    <tr>\n",
              "      <th>mean</th>\n",
              "      <td>41.980822</td>\n",
              "    </tr>\n",
              "    <tr>\n",
              "      <th>std</th>\n",
              "      <td>7.348257</td>\n",
              "    </tr>\n",
              "    <tr>\n",
              "      <th>min</th>\n",
              "      <td>23.000000</td>\n",
              "    </tr>\n",
              "    <tr>\n",
              "      <th>25%</th>\n",
              "      <td>37.000000</td>\n",
              "    </tr>\n",
              "    <tr>\n",
              "      <th>50%</th>\n",
              "      <td>42.000000</td>\n",
              "    </tr>\n",
              "    <tr>\n",
              "      <th>75%</th>\n",
              "      <td>46.000000</td>\n",
              "    </tr>\n",
              "    <tr>\n",
              "      <th>max</th>\n",
              "      <td>73.000000</td>\n",
              "    </tr>\n",
              "  </tbody>\n",
              "</table>\n",
              "</div>"
            ],
            "text/plain": [
              "           Births\n",
              "count  365.000000\n",
              "mean    41.980822\n",
              "std      7.348257\n",
              "min     23.000000\n",
              "25%     37.000000\n",
              "50%     42.000000\n",
              "75%     46.000000\n",
              "max     73.000000"
            ]
          },
          "metadata": {
            "tags": []
          },
          "execution_count": 5
        }
      ]
    },
    {
      "cell_type": "code",
      "metadata": {
        "id": "wqwPhrJsewQj",
        "outputId": "9b6b0683-0600-4d57-f331-b6245ef02a35",
        "colab": {
          "base_uri": "https://localhost:8080/",
          "height": 291
        }
      },
      "source": [
        "dataset.plot()\n",
        "plt.show()"
      ],
      "execution_count": null,
      "outputs": [
        {
          "output_type": "display_data",
          "data": {
            "image/png": "[encoded data removed]",
            "text/plain": [
              "<Figure size 432x288 with 1 Axes>"
            ]
          },
          "metadata": {
            "tags": [],
            "needs_background": "light"
          }
        }
      ]
    },
    {
      "cell_type": "code",
      "metadata": {
        "id": "av0va6U4m5tQ",
        "outputId": "a015d0ce-6cff-4a80-94ef-efccf648465c",
        "colab": {
          "base_uri": "https://localhost:8080/",
          "height": 279
        }
      },
      "source": [
        "lag_plot(dataset)\n",
        "plt.show()"
      ],
      "execution_count": null,
      "outputs": [
        {
          "output_type": "display_data",
          "data": {
            "image/png": "[encoded data removed]",
            "text/plain": [
              "<Figure size 432x288 with 1 Axes>"
            ]
          },
          "metadata": {
            "tags": [],
            "needs_background": "light"
          }
        }
      ]
    },
    {
      "cell_type": "code",
      "metadata": {
        "id": "3UvUQ25be_AQ",
        "outputId": "40cb8cd2-0219-4b03-fa91-dfc16b38908e",
        "colab": {
          "base_uri": "https://localhost:8080/",
          "height": 283
        }
      },
      "source": [
        "pd.plotting.autocorrelation_plot(dataset)\n",
        "plt.show()"
      ],
      "execution_count": null,
      "outputs": [
        {
          "output_type": "display_data",
          "data": {
            "image/png": "[encoded data removed]",
            "text/plain": [
              "<Figure size 432x288 with 1 Axes>"
            ]
          },
          "metadata": {
            "tags": [],
            "needs_background": "light"
          }
        }
      ]
    },
    {
      "cell_type": "code",
      "metadata": {
        "id": "s4mJdbpw3CLr",
        "outputId": "08ff6058-aace-48d1-92b4-6f8ac87147cc",
        "colab": {
          "base_uri": "https://localhost:8080/",
          "height": 119
        }
      },
      "source": [
        "dataframe = pd.DataFrame()\n",
        "dataframe['month'] = [dataset.index[i].month for i in range(len(dataset))] \n",
        "dataframe['day'] = [dataset.index[i].day for i in range(len(dataset))] \n",
        "dataframe['births'] = dataset['Births'].values \n",
        "print(dataframe.head(5))"
      ],
      "execution_count": null,
      "outputs": [
        {
          "output_type": "stream",
          "text": [
            "   month  day  births\n",
            "0      1    1      35\n",
            "1      1    2      32\n",
            "2      1    3      30\n",
            "3      1    4      31\n",
            "4      1    5      44\n"
          ],
          "name": "stdout"
        }
      ]
    },
    {
      "cell_type": "code",
      "metadata": {
        "id": "rJUUf0Ju4MQa",
        "outputId": "b7396846-1cdd-40af-e105-be10b2f4242b",
        "colab": {
          "base_uri": "https://localhost:8080/",
          "height": 281
        }
      },
      "source": [
        "dataset.hist()\n",
        "plt.show()"
      ],
      "execution_count": null,
      "outputs": [
        {
          "output_type": "display_data",
          "data": {
            "image/png": "[encoded data removed]",
            "text/plain": [
              "<Figure size 432x288 with 1 Axes>"
            ]
          },
          "metadata": {
            "tags": [],
            "needs_background": "light"
          }
        }
      ]
    },
    {
      "cell_type": "code",
      "metadata": {
        "id": "v9cxSInx4Nxe",
        "outputId": "718bdbf7-5c8a-48bb-f176-2c175af8c078",
        "colab": {
          "base_uri": "https://localhost:8080/",
          "height": 265
        }
      },
      "source": [
        "dataset.plot(kind='kde') \n",
        "plt.show()"
      ],
      "execution_count": null,
      "outputs": [
        {
          "output_type": "display_data",
          "data": {
            "image/png": "[encoded data removed]",
            "text/plain": [
              "<Figure size 432x288 with 1 Axes>"
            ]
          },
          "metadata": {
            "tags": [],
            "needs_background": "light"
          }
        }
      ]
    },
    {
      "cell_type": "code",
      "metadata": {
        "id": "vyFUAWSo8riM",
        "outputId": "0502aecf-76f7-4c64-80ef-6b847308676d",
        "colab": {
          "base_uri": "https://localhost:8080/",
          "height": 265
        }
      },
      "source": [
        "one_year = dataset['1959']\n",
        "groups = one_year.groupby(pd.Grouper(freq='M'))\n",
        "months = pd.concat([pd.DataFrame(x[1].values) for x in groups], axis=1)\n",
        "months = pd.DataFrame(months)\n",
        "\n",
        "months.columns = range(1, 13)\n",
        "months.boxplot()\n",
        "plt.show()"
      ],
      "execution_count": null,
      "outputs": [
        {
          "output_type": "display_data",
          "data": {
            "image/png": "[encoded data removed]",
            "text/plain": [
              "<Figure size 432x288 with 1 Axes>"
            ]
          },
          "metadata": {
            "tags": [],
            "needs_background": "light"
          }
        }
      ]
    },
    {
      "cell_type": "code",
      "metadata": {
        "id": "UWpIsCGK_vip"
      },
      "source": [
        "values = dataset.values\n",
        "values = values.astype('float32')"
      ],
      "execution_count": null,
      "outputs": []
    },
    {
      "cell_type": "code",
      "metadata": {
        "id": "zW6zB7N4_ykC",
        "outputId": "fa471ee8-dc14-46de-9640-0b93bf471c11",
        "colab": {
          "base_uri": "https://localhost:8080/",
          "height": 281
        }
      },
      "source": [
        "from statsmodels.graphics.tsaplots import plot_acf\n",
        "\n",
        "plot_acf(dataset, lags=12, ax=plt.gca())\n",
        "plt.show()"
      ],
      "execution_count": null,
      "outputs": [
        {
          "output_type": "display_data",
          "data": {
            "image/png": "[encoded data removed]",
            "text/plain": [
              "<Figure size 432x288 with 1 Axes>"
            ]
          },
          "metadata": {
            "tags": [],
            "needs_background": "light"
          }
        }
      ]
    },
    {
      "cell_type": "code",
      "metadata": {
        "id": "iT7t2FMWJkbO"
      },
      "source": [
        "from statsmodels.tsa.ar_model import AR\n",
        "from sklearn.metrics import mean_squared_error\n",
        "from math import sqrt"
      ],
      "execution_count": null,
      "outputs": []
    },
    {
      "cell_type": "code",
      "metadata": {
        "id": "MPoQuSZyRvli"
      },
      "source": [
        "train_size = int(len(values) * 0.50)\n",
        "train, test = values[0:train_size], values[train_size:]"
      ],
      "execution_count": null,
      "outputs": []
    },
    {
      "cell_type": "code",
      "metadata": {
        "id": "VNxwSCFdRz-M",
        "outputId": "3bcba6d1-ede8-48ce-b33f-6486a6cab015",
        "colab": {
          "base_uri": "https://localhost:8080/",
          "height": 1000
        }
      },
      "source": [
        "values = dataset.values\n",
        "train, test = values[:len(values)-9], values[len(values)-9:]\n",
        "\n",
        "print(len(values))\n",
        "print(values)\n",
        "print(len(values[1:len(values)-9]))\n",
        "print(len(values[len(values)-9:]))"
      ],
      "execution_count": null,
      "outputs": [
        {
          "output_type": "stream",
          "text": [
            "365\n",
            "[[35]\n",
            " [32]\n",
            " [30]\n",
            " [31]\n",
            " [44]\n",
            " [29]\n",
            " [45]\n",
            " [43]\n",
            " [38]\n",
            " [27]\n",
            " [38]\n",
            " [33]\n",
            " [55]\n",
            " [47]\n",
            " [45]\n",
            " [37]\n",
            " [50]\n",
            " [43]\n",
            " [41]\n",
            " [52]\n",
            " [34]\n",
            " [53]\n",
            " [39]\n",
            " [32]\n",
            " [37]\n",
            " [43]\n",
            " [39]\n",
            " [35]\n",
            " [44]\n",
            " [38]\n",
            " [24]\n",
            " [23]\n",
            " [31]\n",
            " [44]\n",
            " [38]\n",
            " [50]\n",
            " [38]\n",
            " [51]\n",
            " [31]\n",
            " [31]\n",
            " [51]\n",
            " [36]\n",
            " [45]\n",
            " [51]\n",
            " [34]\n",
            " [52]\n",
            " [47]\n",
            " [45]\n",
            " [46]\n",
            " [39]\n",
            " [48]\n",
            " [37]\n",
            " [35]\n",
            " [52]\n",
            " [42]\n",
            " [45]\n",
            " [39]\n",
            " [37]\n",
            " [30]\n",
            " [35]\n",
            " [28]\n",
            " [45]\n",
            " [34]\n",
            " [36]\n",
            " [50]\n",
            " [44]\n",
            " [39]\n",
            " [32]\n",
            " [39]\n",
            " [45]\n",
            " [43]\n",
            " [39]\n",
            " [31]\n",
            " [27]\n",
            " [30]\n",
            " [42]\n",
            " [46]\n",
            " [41]\n",
            " [36]\n",
            " [45]\n",
            " [46]\n",
            " [43]\n",
            " [38]\n",
            " [34]\n",
            " [35]\n",
            " [56]\n",
            " [36]\n",
            " [32]\n",
            " [50]\n",
            " [41]\n",
            " [39]\n",
            " [41]\n",
            " [47]\n",
            " [34]\n",
            " [36]\n",
            " [33]\n",
            " [35]\n",
            " [38]\n",
            " [38]\n",
            " [34]\n",
            " [53]\n",
            " [34]\n",
            " [34]\n",
            " [38]\n",
            " [35]\n",
            " [32]\n",
            " [42]\n",
            " [34]\n",
            " [46]\n",
            " [30]\n",
            " [46]\n",
            " [45]\n",
            " [54]\n",
            " [34]\n",
            " [37]\n",
            " [35]\n",
            " [40]\n",
            " [42]\n",
            " [58]\n",
            " [51]\n",
            " [32]\n",
            " [35]\n",
            " [38]\n",
            " [33]\n",
            " [39]\n",
            " [47]\n",
            " [38]\n",
            " [52]\n",
            " [30]\n",
            " [34]\n",
            " [40]\n",
            " [35]\n",
            " [42]\n",
            " [41]\n",
            " [42]\n",
            " [38]\n",
            " [24]\n",
            " [34]\n",
            " [43]\n",
            " [36]\n",
            " [55]\n",
            " [41]\n",
            " [45]\n",
            " [41]\n",
            " [37]\n",
            " [43]\n",
            " [39]\n",
            " [33]\n",
            " [43]\n",
            " [40]\n",
            " [38]\n",
            " [45]\n",
            " [46]\n",
            " [34]\n",
            " [35]\n",
            " [48]\n",
            " [51]\n",
            " [36]\n",
            " [33]\n",
            " [46]\n",
            " [42]\n",
            " [48]\n",
            " [34]\n",
            " [41]\n",
            " [35]\n",
            " [40]\n",
            " [34]\n",
            " [30]\n",
            " [36]\n",
            " [40]\n",
            " [39]\n",
            " [45]\n",
            " [38]\n",
            " [47]\n",
            " [33]\n",
            " [30]\n",
            " [42]\n",
            " [43]\n",
            " [41]\n",
            " [41]\n",
            " [59]\n",
            " [43]\n",
            " [45]\n",
            " [38]\n",
            " [37]\n",
            " [45]\n",
            " [42]\n",
            " [57]\n",
            " [46]\n",
            " [51]\n",
            " [41]\n",
            " [47]\n",
            " [26]\n",
            " [35]\n",
            " [44]\n",
            " [41]\n",
            " [42]\n",
            " [36]\n",
            " [45]\n",
            " [45]\n",
            " [45]\n",
            " [47]\n",
            " [38]\n",
            " [42]\n",
            " [35]\n",
            " [36]\n",
            " [39]\n",
            " [45]\n",
            " [43]\n",
            " [47]\n",
            " [36]\n",
            " [41]\n",
            " [50]\n",
            " [39]\n",
            " [41]\n",
            " [46]\n",
            " [64]\n",
            " [45]\n",
            " [34]\n",
            " [38]\n",
            " [44]\n",
            " [48]\n",
            " [46]\n",
            " [44]\n",
            " [37]\n",
            " [39]\n",
            " [44]\n",
            " [45]\n",
            " [33]\n",
            " [44]\n",
            " [38]\n",
            " [46]\n",
            " [46]\n",
            " [40]\n",
            " [39]\n",
            " [44]\n",
            " [48]\n",
            " [50]\n",
            " [41]\n",
            " [42]\n",
            " [51]\n",
            " [41]\n",
            " [44]\n",
            " [38]\n",
            " [68]\n",
            " [40]\n",
            " [42]\n",
            " [51]\n",
            " [44]\n",
            " [45]\n",
            " [36]\n",
            " [57]\n",
            " [44]\n",
            " [42]\n",
            " [53]\n",
            " [42]\n",
            " [34]\n",
            " [40]\n",
            " [56]\n",
            " [44]\n",
            " [53]\n",
            " [55]\n",
            " [39]\n",
            " [59]\n",
            " [55]\n",
            " [73]\n",
            " [55]\n",
            " [44]\n",
            " [43]\n",
            " [40]\n",
            " [47]\n",
            " [51]\n",
            " [56]\n",
            " [49]\n",
            " [54]\n",
            " [56]\n",
            " [47]\n",
            " [44]\n",
            " [43]\n",
            " [42]\n",
            " [45]\n",
            " [50]\n",
            " [48]\n",
            " [43]\n",
            " [40]\n",
            " [59]\n",
            " [41]\n",
            " [42]\n",
            " [51]\n",
            " [49]\n",
            " [45]\n",
            " [43]\n",
            " [42]\n",
            " [38]\n",
            " [47]\n",
            " [38]\n",
            " [36]\n",
            " [42]\n",
            " [35]\n",
            " [28]\n",
            " [44]\n",
            " [36]\n",
            " [45]\n",
            " [46]\n",
            " [48]\n",
            " [49]\n",
            " [43]\n",
            " [42]\n",
            " [59]\n",
            " [45]\n",
            " [52]\n",
            " [46]\n",
            " [42]\n",
            " [40]\n",
            " [40]\n",
            " [45]\n",
            " [35]\n",
            " [35]\n",
            " [40]\n",
            " [39]\n",
            " [33]\n",
            " [42]\n",
            " [47]\n",
            " [51]\n",
            " [44]\n",
            " [40]\n",
            " [57]\n",
            " [49]\n",
            " [45]\n",
            " [49]\n",
            " [51]\n",
            " [46]\n",
            " [44]\n",
            " [52]\n",
            " [45]\n",
            " [32]\n",
            " [46]\n",
            " [41]\n",
            " [34]\n",
            " [33]\n",
            " [36]\n",
            " [49]\n",
            " [43]\n",
            " [43]\n",
            " [34]\n",
            " [39]\n",
            " [35]\n",
            " [52]\n",
            " [47]\n",
            " [52]\n",
            " [39]\n",
            " [40]\n",
            " [42]\n",
            " [42]\n",
            " [53]\n",
            " [39]\n",
            " [40]\n",
            " [38]\n",
            " [44]\n",
            " [34]\n",
            " [37]\n",
            " [52]\n",
            " [48]\n",
            " [55]\n",
            " [50]]\n",
            "355\n",
            "9\n"
          ],
          "name": "stdout"
        }
      ]
    },
    {
      "cell_type": "code",
      "metadata": {
        "id": "Mzpy4Wv1SM6k",
        "outputId": "e3601374-7e29-4cf5-f62c-9b25b2bb5501",
        "colab": {
          "base_uri": "https://localhost:8080/",
          "height": 119
        }
      },
      "source": [
        "model = AR(train)\n",
        "model_fit = model.fit()\n",
        "print('Lag:', model_fit.k_ar)\n",
        "print('Coefficients:', model_fit.params)"
      ],
      "execution_count": null,
      "outputs": [
        {
          "output_type": "stream",
          "text": [
            "Lag: 16\n",
            "Coefficients: [ 1.79488349e+01  1.47894084e-01  7.90705637e-02  5.79800478e-02\n",
            "  3.04839348e-02  5.51150054e-02  1.38577625e-03  1.50394415e-01\n",
            "  5.00225830e-02 -3.09227356e-02 -6.38908935e-03  2.30823070e-02\n",
            " -7.59956210e-02 -1.82016174e-02  2.34612407e-02  5.98248241e-02\n",
            "  2.72549013e-02]\n"
          ],
          "name": "stdout"
        }
      ]
    },
    {
      "cell_type": "code",
      "metadata": {
        "id": "n8tdkW8rY5NO",
        "outputId": "0a82cb3c-c109-4047-a36a-e69920086470",
        "colab": {
          "base_uri": "https://localhost:8080/",
          "height": 187
        }
      },
      "source": [
        "predictions = model_fit.predict(start=len(train), end=len(train)+len(test)-1, dynamic=False) \n",
        "for i in range(len(predictions)):\n",
        "  print('predicted=%f, expected=%f' % (predictions[i], test[i])) \n",
        "  rmse = sqrt(mean_squared_error(test, predictions))\n",
        "\n",
        "print('Test RMSE: %.3f' % rmse)"
      ],
      "execution_count": null,
      "outputs": [
        {
          "output_type": "stream",
          "text": [
            "predicted=44.676663, expected=40.000000\n",
            "predicted=43.186473, expected=38.000000\n",
            "predicted=42.549439, expected=44.000000\n",
            "predicted=41.811233, expected=34.000000\n",
            "predicted=41.280093, expected=37.000000\n",
            "predicted=42.647156, expected=52.000000\n",
            "predicted=42.813516, expected=48.000000\n",
            "predicted=43.157317, expected=55.000000\n",
            "predicted=43.352963, expected=50.000000\n",
            "Test RMSE: 6.904\n"
          ],
          "name": "stdout"
        }
      ]
    },
    {
      "cell_type": "code",
      "metadata": {
        "id": "TwLYECVfZTy0",
        "outputId": "179bf391-cb6a-45d2-cb68-4f8e2730a601",
        "colab": {
          "base_uri": "https://localhost:8080/",
          "height": 265
        }
      },
      "source": [
        "plt.plot(test) \n",
        "plt.plot(predictions, color='red') \n",
        "plt.show()"
      ],
      "execution_count": null,
      "outputs": [
        {
          "output_type": "display_data",
          "data": {
            "image/png": "[encoded data removed]",
            "text/plain": [
              "<Figure size 432x288 with 1 Axes>"
            ]
          },
          "metadata": {
            "tags": [],
            "needs_background": "light"
          }
        }
      ]
    },
    {
      "cell_type": "code",
      "metadata": {
        "id": "i0iSIQyFmEsV"
      },
      "source": [
        ""
      ],
      "execution_count": null,
      "outputs": []
    },
    {
      "cell_type": "code",
      "metadata": {
        "id": "cwvs6iDPmFTa"
      },
      "source": [
        "from statsmodels.tsa.arima_model import ARIMA\n",
        "from sklearn.metrics import mean_squared_error\n",
        "from math import sqrt"
      ],
      "execution_count": null,
      "outputs": []
    },
    {
      "cell_type": "code",
      "metadata": {
        "id": "zjxLJ-MrmEQx",
        "outputId": "b5756c2d-d592-46bd-ce7e-79200e4821cb",
        "colab": {
          "base_uri": "https://localhost:8080/",
          "height": 581
        }
      },
      "source": [
        "model = ARIMA(dataset, order=(5,1,0))\n",
        "model_fit = model.fit(disp=0)\n",
        "print(model_fit.summary())"
      ],
      "execution_count": null,
      "outputs": [
        {
          "output_type": "stream",
          "text": [
            "/usr/local/lib/python3.6/dist-packages/statsmodels/tsa/base/tsa_model.py:165: ValueWarning: No frequency information was provided, so inferred frequency D will be used.\n",
            "  % freq, ValueWarning)\n",
            "/usr/local/lib/python3.6/dist-packages/statsmodels/tsa/base/tsa_model.py:165: ValueWarning: No frequency information was provided, so inferred frequency D will be used.\n",
            "  % freq, ValueWarning)\n"
          ],
          "name": "stderr"
        },
        {
          "output_type": "stream",
          "text": [
            "                             ARIMA Model Results                              \n",
            "==============================================================================\n",
            "Dep. Variable:               D.Births   No. Observations:                  364\n",
            "Model:                 ARIMA(5, 1, 0)   Log Likelihood               -1245.037\n",
            "Method:                       css-mle   S.D. of innovations              7.392\n",
            "Date:                Thu, 17 Sep 2020   AIC                           2504.073\n",
            "Time:                        22:59:30   BIC                           2531.353\n",
            "Sample:                    01-02-1959   HQIC                          2514.916\n",
            "                         - 12-31-1959                                         \n",
            "==================================================================================\n",
            "                     coef    std err          z      P>|z|      [0.025      0.975]\n",
            "----------------------------------------------------------------------------------\n",
            "const              0.0434      0.125      0.348      0.728      -0.201       0.288\n",
            "ar.L1.D.Births    -0.7240      0.052    -13.976      0.000      -0.826      -0.622\n",
            "ar.L2.D.Births    -0.5430      0.063     -8.676      0.000      -0.666      -0.420\n",
            "ar.L3.D.Births    -0.4119      0.065     -6.309      0.000      -0.540      -0.284\n",
            "ar.L4.D.Births    -0.2876      0.063     -4.572      0.000      -0.411      -0.164\n",
            "ar.L5.D.Births    -0.1505      0.052     -2.883      0.004      -0.253      -0.048\n",
            "                                    Roots                                    \n",
            "=============================================================================\n",
            "                  Real          Imaginary           Modulus         Frequency\n",
            "-----------------------------------------------------------------------------\n",
            "AR.1            0.6228           -1.2380j            1.3858           -0.1758\n",
            "AR.2            0.6228           +1.2380j            1.3858            0.1758\n",
            "AR.3           -1.5311           -0.0000j            1.5311           -0.5000\n",
            "AR.4           -0.8127           -1.2645j            1.5031           -0.3409\n",
            "AR.5           -0.8127           +1.2645j            1.5031            0.3409\n",
            "-----------------------------------------------------------------------------\n"
          ],
          "name": "stdout"
        }
      ]
    },
    {
      "cell_type": "code",
      "metadata": {
        "id": "1Z0qonDqoRUo",
        "outputId": "61fdb757-604b-4603-a8cd-d38a3c183904",
        "colab": {
          "base_uri": "https://localhost:8080/",
          "height": 556
        }
      },
      "source": [
        "residuals = pd.DataFrame(model_fit.resid)\n",
        "residuals.plot()\n",
        "plt.show()\n",
        "\n",
        "plt.plot(dataset)\n",
        "plt.plot(residuals,  color='red')\n",
        "plt.legend(['Dataset','Residual Error'])"
      ],
      "execution_count": null,
      "outputs": [
        {
          "output_type": "display_data",
          "data": {
            "image/png": "[encoded data removed]",
            "text/plain": [
              "<Figure size 432x288 with 1 Axes>"
            ]
          },
          "metadata": {
            "tags": [],
            "needs_background": "light"
          }
        },
        {
          "output_type": "execute_result",
          "data": {
            "text/plain": [
              "<matplotlib.legend.Legend at 0x7fd1fe89b860>"
            ]
          },
          "metadata": {
            "tags": []
          },
          "execution_count": 23
        },
        {
          "output_type": "display_data",
          "data": {
            "image/png": "[encoded data removed]",
            "text/plain": [
              "<Figure size 432x288 with 1 Axes>"
            ]
          },
          "metadata": {
            "tags": [],
            "needs_background": "light"
          }
        }
      ]
    },
    {
      "cell_type": "code",
      "metadata": {
        "id": "uSrcbg95ojqm",
        "outputId": "305a2d87-7d75-40be-d419-3a15818ae4dc",
        "colab": {
          "base_uri": "https://localhost:8080/",
          "height": 450
        }
      },
      "source": [
        "residuals"
      ],
      "execution_count": null,
      "outputs": [
        {
          "output_type": "execute_result",
          "data": {
            "text/html": [
              "<div>\n",
              "<style scoped>\n",
              "    .dataframe tbody tr th:only-of-type {\n",
              "        vertical-align: middle;\n",
              "    }\n",
              "\n",
              "    .dataframe tbody tr th {\n",
              "        vertical-align: top;\n",
              "    }\n",
              "\n",
              "    .dataframe thead th {\n",
              "        text-align: right;\n",
              "    }\n",
              "</style>\n",
              "<table border=\"1\" class=\"dataframe\">\n",
              "  <thead>\n",
              "    <tr style=\"text-align: right;\">\n",
              "      <th></th>\n",
              "      <th>0</th>\n",
              "    </tr>\n",
              "    <tr>\n",
              "      <th>Date</th>\n",
              "      <th></th>\n",
              "    </tr>\n",
              "  </thead>\n",
              "  <tbody>\n",
              "    <tr>\n",
              "      <th>1959-01-02</th>\n",
              "      <td>-3.043403</td>\n",
              "    </tr>\n",
              "    <tr>\n",
              "      <th>1959-01-03</th>\n",
              "      <td>-3.448935</td>\n",
              "    </tr>\n",
              "    <tr>\n",
              "      <th>1959-01-04</th>\n",
              "      <td>-1.129948</td>\n",
              "    </tr>\n",
              "    <tr>\n",
              "      <th>1959-01-05</th>\n",
              "      <td>12.071574</td>\n",
              "    </tr>\n",
              "    <tr>\n",
              "      <th>1959-01-06</th>\n",
              "      <td>-6.795554</td>\n",
              "    </tr>\n",
              "    <tr>\n",
              "      <th>...</th>\n",
              "      <td>...</td>\n",
              "    </tr>\n",
              "    <tr>\n",
              "      <th>1959-12-27</th>\n",
              "      <td>-3.760610</td>\n",
              "    </tr>\n",
              "    <tr>\n",
              "      <th>1959-12-28</th>\n",
              "      <td>13.653697</td>\n",
              "    </tr>\n",
              "    <tr>\n",
              "      <th>1959-12-29</th>\n",
              "      <td>5.658687</td>\n",
              "    </tr>\n",
              "    <tr>\n",
              "      <th>1959-12-30</th>\n",
              "      <td>11.376216</td>\n",
              "    </tr>\n",
              "    <tr>\n",
              "      <th>1959-12-31</th>\n",
              "      <td>3.297569</td>\n",
              "    </tr>\n",
              "  </tbody>\n",
              "</table>\n",
              "<p>364 rows × 1 columns</p>\n",
              "</div>"
            ],
            "text/plain": [
              "                    0\n",
              "Date                 \n",
              "1959-01-02  -3.043403\n",
              "1959-01-03  -3.448935\n",
              "1959-01-04  -1.129948\n",
              "1959-01-05  12.071574\n",
              "1959-01-06  -6.795554\n",
              "...               ...\n",
              "1959-12-27  -3.760610\n",
              "1959-12-28  13.653697\n",
              "1959-12-29   5.658687\n",
              "1959-12-30  11.376216\n",
              "1959-12-31   3.297569\n",
              "\n",
              "[364 rows x 1 columns]"
            ]
          },
          "metadata": {
            "tags": []
          },
          "execution_count": 24
        }
      ]
    },
    {
      "cell_type": "code",
      "metadata": {
        "id": "XaK3wHMmorh7",
        "outputId": "368f8103-2ac4-4d8d-f367-e18e068f71ce",
        "colab": {
          "base_uri": "https://localhost:8080/",
          "height": 170
        }
      },
      "source": [
        "print(residuals.describe())"
      ],
      "execution_count": null,
      "outputs": [
        {
          "output_type": "stream",
          "text": [
            "                0\n",
            "count  364.000000\n",
            "mean    -0.006510\n",
            "std      7.404761\n",
            "min    -21.067802\n",
            "25%     -5.392351\n",
            "50%     -0.899122\n",
            "75%      4.803230\n",
            "max     25.769530\n"
          ],
          "name": "stdout"
        }
      ]
    },
    {
      "cell_type": "code",
      "metadata": {
        "id": "hxUnDEXxozCJ",
        "outputId": "62689741-3ee4-4fa5-cf06-ef1a1fc99225",
        "colab": {
          "base_uri": "https://localhost:8080/",
          "height": 1000
        }
      },
      "source": [
        "values = dataset.values\n",
        "size = int(len(values) * 0.66)\n",
        "train, test = values[0:size], values[size:len(values)]\n",
        "history = [x for x in train]\n",
        "predictions = []\n",
        "\n",
        "for t in range(len(test)):\n",
        "\tmodel = ARIMA(history, order=(5,1,0))\n",
        "\tmodel_fit = model.fit(disp=0)\n",
        "\toutput = model_fit.forecast()\n",
        "\tprediction = output[0]\n",
        "\tpredictions.append(prediction)\n",
        "\texpected = test[t]\n",
        "\thistory.append(expected)\n",
        "\tprint('predicted=%f, expected=%f' % (prediction, expected))\n",
        "error = sqrt(mean_squared_error(test, predictions))\n",
        "print('Test RMSE: %.3f' % error)"
      ],
      "execution_count": null,
      "outputs": [
        {
          "output_type": "stream",
          "text": [
            "predicted=43.164026, expected=51.000000\n",
            "predicted=46.686556, expected=41.000000\n",
            "predicted=45.779041, expected=44.000000\n",
            "predicted=44.804408, expected=38.000000\n",
            "predicted=42.180905, expected=68.000000\n",
            "predicted=49.475299, expected=40.000000\n",
            "predicted=48.075054, expected=42.000000\n",
            "predicted=44.044629, expected=51.000000\n",
            "predicted=47.323511, expected=44.000000\n",
            "predicted=47.368185, expected=45.000000\n",
            "predicted=48.860471, expected=36.000000\n",
            "predicted=42.360363, expected=57.000000\n",
            "predicted=46.650582, expected=44.000000\n",
            "predicted=46.923718, expected=42.000000\n",
            "predicted=44.240486, expected=53.000000\n",
            "predicted=46.542111, expected=42.000000\n",
            "predicted=45.976001, expected=34.000000\n",
            "predicted=44.662097, expected=40.000000\n",
            "predicted=42.112874, expected=56.000000\n",
            "predicted=45.698052, expected=44.000000\n",
            "predicted=45.295099, expected=53.000000\n",
            "predicted=45.327316, expected=55.000000\n",
            "predicted=47.714677, expected=39.000000\n",
            "predicted=47.208313, expected=59.000000\n",
            "predicted=51.509437, expected=55.000000\n",
            "predicted=51.340173, expected=73.000000\n",
            "predicted=57.366570, expected=55.000000\n",
            "predicted=56.659473, expected=44.000000\n",
            "predicted=53.140665, expected=43.000000\n",
            "predicted=53.758774, expected=40.000000\n",
            "predicted=51.211922, expected=47.000000\n",
            "predicted=50.806689, expected=51.000000\n",
            "predicted=47.732336, expected=56.000000\n",
            "predicted=48.167618, expected=49.000000\n",
            "predicted=47.927922, expected=54.000000\n",
            "predicted=49.611176, expected=56.000000\n",
            "predicted=52.742111, expected=47.000000\n",
            "predicted=52.048370, expected=44.000000\n",
            "predicted=50.152874, expected=43.000000\n",
            "predicted=48.085326, expected=42.000000\n",
            "predicted=47.355493, expected=45.000000\n",
            "predicted=46.392629, expected=50.000000\n",
            "predicted=46.067022, expected=48.000000\n",
            "predicted=46.035282, expected=43.000000\n",
            "predicted=44.920288, expected=40.000000\n",
            "predicted=43.833518, expected=59.000000\n",
            "predicted=48.798400, expected=41.000000\n",
            "predicted=47.238785, expected=42.000000\n",
            "predicted=44.922201, expected=51.000000\n",
            "predicted=46.161378, expected=49.000000\n",
            "predicted=47.671161, expected=45.000000\n",
            "predicted=48.054623, expected=43.000000\n",
            "predicted=44.740361, expected=42.000000\n",
            "predicted=44.918140, expected=38.000000\n",
            "predicted=44.153595, expected=47.000000\n",
            "predicted=44.451966, expected=38.000000\n",
            "predicted=42.135004, expected=36.000000\n",
            "predicted=40.142779, expected=42.000000\n",
            "predicted=40.503065, expected=35.000000\n",
            "predicted=39.125172, expected=28.000000\n",
            "predicted=36.727163, expected=44.000000\n",
            "predicted=37.586684, expected=36.000000\n",
            "predicted=37.133886, expected=45.000000\n",
            "predicted=39.304652, expected=46.000000\n",
            "predicted=39.775624, expected=48.000000\n",
            "predicted=41.933671, expected=49.000000\n",
            "predicted=45.394514, expected=43.000000\n",
            "predicted=44.344035, expected=42.000000\n",
            "predicted=44.981953, expected=59.000000\n",
            "predicted=49.015819, expected=45.000000\n",
            "predicted=48.153600, expected=52.000000\n",
            "predicted=48.853077, expected=46.000000\n",
            "predicted=47.540362, expected=42.000000\n",
            "predicted=47.073841, expected=40.000000\n",
            "predicted=46.621537, expected=40.000000\n",
            "predicted=43.597963, expected=45.000000\n",
            "predicted=44.499446, expected=35.000000\n",
            "predicted=40.997159, expected=35.000000\n",
            "predicted=38.805186, expected=40.000000\n",
            "predicted=39.004390, expected=39.000000\n",
            "predicted=39.283547, expected=33.000000\n",
            "predicted=37.554861, expected=42.000000\n",
            "predicted=37.592015, expected=47.000000\n",
            "predicted=40.377959, expected=51.000000\n",
            "predicted=43.655487, expected=44.000000\n",
            "predicted=43.233225, expected=40.000000\n",
            "predicted=42.263878, expected=57.000000\n",
            "predicted=47.790289, expected=49.000000\n",
            "predicted=48.748193, expected=45.000000\n",
            "predicted=47.727625, expected=49.000000\n",
            "predicted=47.343402, expected=51.000000\n",
            "predicted=48.872605, expected=46.000000\n",
            "predicted=49.441273, expected=44.000000\n",
            "predicted=46.995757, expected=52.000000\n",
            "predicted=48.249126, expected=45.000000\n",
            "predicted=47.797280, expected=32.000000\n",
            "predicted=43.574178, expected=46.000000\n",
            "predicted=43.962067, expected=41.000000\n",
            "predicted=43.034661, expected=34.000000\n",
            "predicted=41.052178, expected=33.000000\n",
            "predicted=37.720699, expected=36.000000\n",
            "predicted=36.527980, expected=49.000000\n",
            "predicted=40.920321, expected=43.000000\n",
            "predicted=40.253665, expected=43.000000\n",
            "predicted=40.466615, expected=34.000000\n",
            "predicted=39.019960, expected=39.000000\n",
            "predicted=40.239860, expected=35.000000\n",
            "predicted=39.734471, expected=52.000000\n",
            "predicted=42.325437, expected=47.000000\n",
            "predicted=42.866849, expected=52.000000\n",
            "predicted=44.582558, expected=39.000000\n",
            "predicted=43.662565, expected=40.000000\n",
            "predicted=43.249300, expected=42.000000\n",
            "predicted=44.867183, expected=42.000000\n",
            "predicted=43.553105, expected=53.000000\n",
            "predicted=45.986259, expected=39.000000\n",
            "predicted=42.511602, expected=40.000000\n",
            "predicted=42.162662, expected=38.000000\n",
            "predicted=41.645333, expected=44.000000\n",
            "predicted=42.816508, expected=34.000000\n",
            "predicted=40.804685, expected=37.000000\n",
            "predicted=38.267720, expected=52.000000\n",
            "predicted=42.185807, expected=48.000000\n",
            "predicted=43.403467, expected=55.000000\n",
            "predicted=46.629914, expected=50.000000\n",
            "Test RMSE: 7.611\n"
          ],
          "name": "stdout"
        }
      ]
    },
    {
      "cell_type": "code",
      "metadata": {
        "id": "_LEQdGd7pAkV",
        "outputId": "712aa312-fc1f-46ae-c385-16b005b2f83b",
        "colab": {
          "base_uri": "https://localhost:8080/",
          "height": 265
        }
      },
      "source": [
        "plt.plot(test)\n",
        "plt.plot(predictions, color='red')\n",
        "plt.legend(['test','prediction'])\n",
        "plt.show()"
      ],
      "execution_count": null,
      "outputs": [
        {
          "output_type": "display_data",
          "data": {
            "image/png": "[encoded data removed]",
            "text/plain": [
              "<Figure size 432x288 with 1 Axes>"
            ]
          },
          "metadata": {
            "tags": [],
            "needs_background": "light"
          }
        }
      ]
    },
    {
      "cell_type": "code",
      "metadata": {
        "id": "sHKxBDys-D2k"
      },
      "source": [
        "# Courtesy of Jason Brownlee of Machine Learning Mastery\n",
        "# evaluate an ARIMA model for a given order (p,d,q)\n",
        "def evaluate_arima_model(X, arima_order):\n",
        "\t# prepare training dataset\n",
        "\ttrain_size = int(len(X) * 0.66)\n",
        "\ttrain, test = X[0:train_size], X[train_size:]\n",
        "\thistory = [x for x in train]\n",
        "\t# make predictions\n",
        "\tpredictions = list()\n",
        "\tfor t in range(len(test)):\n",
        "\t\tmodel = ARIMA(history, order=arima_order)\n",
        "\t\tmodel_fit = model.fit(disp=0)\n",
        "\t\tyhat = model_fit.forecast()[0]\n",
        "\t\tpredictions.append(yhat)\n",
        "\t\thistory.append(test[t])\n",
        "\t# calculate out of sample error\n",
        "\terror = mean_squared_error(test, predictions)\n",
        "\treturn error\n",
        "\n",
        "# evaluate combinations of p, d and q values for an ARIMA model\n",
        "def evaluate_models(dataset, p_values, d_values, q_values):\n",
        "\tdataset = dataset.astype('float32')\n",
        "\tbest_score, best_cfg = float(\"inf\"), None\n",
        "\tfor p in p_values:\n",
        "\t\tfor d in d_values:\n",
        "\t\t\tfor q in q_values:\n",
        "\t\t\t\torder = (p,d,q)\n",
        "\t\t\t\ttry:\n",
        "\t\t\t\t\tmse = evaluate_arima_model(dataset, order)\n",
        "\t\t\t\t\tif mse < best_score:\n",
        "\t\t\t\t\t\tbest_score, best_cfg = mse, order\n",
        "\t\t\t\t\tprint('ARIMA%s MSE=%.3f' % (order,mse))\n",
        "\t\t\t\texcept:\n",
        "\t\t\t\t\tcontinue\n",
        "\tprint('Best ARIMA%s MSE=%.3f' % (best_cfg, best_score))"
      ],
      "execution_count": null,
      "outputs": []
    },
    {
      "cell_type": "code",
      "metadata": {
        "id": "1Q0iiN1Kp_Rh",
        "outputId": "eed47f08-1e27-4cc1-b6a4-5fa76be59dd1",
        "colab": {
          "base_uri": "https://localhost:8080/",
          "height": 527
        }
      },
      "source": [
        "import warnings\n",
        "\n",
        "p_values = range(5, 9)\n",
        "d_values = range(0, 3)\n",
        "q_values = range(0, 3)\n",
        "warnings.filterwarnings(\"ignore\")\n",
        "evaluate_models(values, p_values, d_values, q_values)"
      ],
      "execution_count": null,
      "outputs": [
        {
          "output_type": "stream",
          "text": [
            "ARIMA(5, 0, 0) MSE=58.919\n",
            "ARIMA(5, 0, 1) MSE=58.344\n",
            "ARIMA(5, 1, 0) MSE=57.931\n",
            "ARIMA(5, 1, 1) MSE=56.101\n",
            "ARIMA(5, 1, 2) MSE=55.097\n",
            "ARIMA(5, 2, 0) MSE=82.304\n",
            "ARIMA(6, 0, 0) MSE=58.773\n",
            "ARIMA(6, 0, 1) MSE=59.454\n",
            "ARIMA(6, 1, 0) MSE=53.187\n",
            "ARIMA(6, 1, 1) MSE=57.056\n",
            "ARIMA(6, 1, 2) MSE=55.703\n",
            "ARIMA(6, 2, 0) MSE=69.753\n",
            "ARIMA(7, 0, 0) MSE=55.683\n",
            "ARIMA(7, 0, 1) MSE=56.061\n",
            "ARIMA(7, 0, 2) MSE=58.557\n",
            "ARIMA(7, 1, 0) MSE=56.658\n",
            "ARIMA(7, 1, 1) MSE=53.266\n",
            "ARIMA(7, 1, 2) MSE=54.500\n",
            "ARIMA(7, 2, 0) MSE=66.158\n",
            "ARIMA(7, 2, 1) MSE=57.194\n",
            "ARIMA(8, 0, 0) MSE=56.984\n",
            "ARIMA(8, 0, 1) MSE=57.224\n",
            "ARIMA(8, 0, 2) MSE=58.135\n",
            "ARIMA(8, 1, 0) MSE=57.290\n",
            "ARIMA(8, 1, 1) MSE=55.210\n",
            "ARIMA(8, 1, 2) MSE=55.283\n",
            "ARIMA(8, 2, 0) MSE=66.034\n",
            "ARIMA(8, 2, 1) MSE=57.794\n",
            "ARIMA(8, 2, 2) MSE=56.334\n",
            "Best ARIMA(6, 1, 0) MSE=53.187\n"
          ],
          "name": "stdout"
        }
      ]
    }
  ]
}