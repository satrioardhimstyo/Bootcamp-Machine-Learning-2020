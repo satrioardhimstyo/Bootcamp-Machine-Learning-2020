{
  "nbformat": 4,
  "nbformat_minor": 0,
  "metadata": {
    "colab": {
      "name": "Machine Learning Image Segmentation ",
      "provenance": [],
      "collapsed_sections": []
    },
    "kernelspec": {
      "name": "python3",
      "display_name": "Python 3"
    }
  },
  "cells": [
    {
      "cell_type": "code",
      "metadata": {
        "id": "KNOiK_ox7fK5"
      },
      "source": [
        "import cv2 as cv\n",
        "from google.colab.patches import cv2_imshow\n",
        "import matplotlib.pyplot as plt\n",
        "import numpy as np"
      ],
      "execution_count": null,
      "outputs": []
    },
    {
      "cell_type": "markdown",
      "metadata": {
        "id": "DKviuyZOD-Kw"
      },
      "source": [
        "# Data Foto asli"
      ]
    },
    {
      "cell_type": "code",
      "metadata": {
        "id": "IesZQBhf9rWZ"
      },
      "source": [
        "print(\"Gambar 1\")\n",
        "min_1 = cv.imread('/content/drive/My Drive/ML/1-min.png')\n",
        "cv2_imshow(min_1)\n",
        "print(\"Gambar 2\")\n",
        "min_2 = cv.imread('/content/drive/My Drive/ML/2-min.png')\n",
        "cv2_imshow(min_2)\n",
        "print(\"Gambar 3\")\n",
        "min_3 = cv.imread('/content/drive/My Drive/ML/3-min.png')\n",
        "cv2_imshow(min_3)\n",
        "print(\"Gambar 4\")\n",
        "min_4 = cv.imread('/content/drive/My Drive/ML/4-min.png')\n",
        "cv2_imshow(min_4)\n",
        "print(\"Gambar 5\")\n",
        "min_5 = cv.imread('/content/drive/My Drive/ML/5-min.png')\n",
        "cv2_imshow(min_5)\n",
        "print(\"Gambar 6\")\n",
        "min_6 = cv.imread('/content/drive/My Drive/ML/6-min.png')\n",
        "cv2_imshow(min_6)"
      ],
      "execution_count": null,
      "outputs": []
    },
    {
      "cell_type": "markdown",
      "metadata": {
        "id": "2nJtgx8zf4cO"
      },
      "source": [
        "# Foto 1"
      ]
    },
    {
      "cell_type": "code",
      "metadata": {
        "id": "oi99Fb7qgHgk"
      },
      "source": [
        "image_orig = min_1.copy()"
      ],
      "execution_count": null,
      "outputs": []
    },
    {
      "cell_type": "code",
      "metadata": {
        "id": "2ZN1D6uEl0cK"
      },
      "source": [
        "min_1_gray = cv.cvtColor(min_1, cv.COLOR_BGR2GRAY) # mengubah foto menjadi grayscale\n",
        "cv2_imshow(min_1_gray)"
      ],
      "execution_count": null,
      "outputs": []
    },
    {
      "cell_type": "code",
      "metadata": {
        "id": "ui0C33IGatZS"
      },
      "source": [
        "plt.hist(min_1_gray.flatten(), 256, [0,256]) # melihat  plot histogram untuk melihat komposisi yg ada pada foto\n",
        "plt.show()"
      ],
      "execution_count": null,
      "outputs": []
    },
    {
      "cell_type": "markdown",
      "metadata": {
        "id": "tW1qA7a1Izfb"
      },
      "source": [
        "Preprocessing\n",
        "\n",
        "\n",
        "Menggunakan Simple Thresholding, karena dapat dengan mudah mengatur angka parameternya berdasarkan histogram yg ada."
      ]
    },
    {
      "cell_type": "code",
      "metadata": {
        "id": "5ecYqqFibEIs"
      },
      "source": [
        "threshold_value_b, threshold_result_b = cv.threshold(min_1_gray, 160, 255, cv.THRESH_BINARY) # Binary thresholding\n",
        "\n",
        "cv2_imshow(threshold_result_b)"
      ],
      "execution_count": null,
      "outputs": []
    },
    {
      "cell_type": "markdown",
      "metadata": {
        "id": "SE08zC1DKF2T"
      },
      "source": [
        "Extracting Object from Contours"
      ]
    },
    {
      "cell_type": "code",
      "metadata": {
        "id": "msZZwVCGbTsM"
      },
      "source": [
        "threshold_result_b = cv.bitwise_not(threshold_result_b)\n",
        "\n",
        "contours, hierarchy = cv.findContours(threshold_result_b, cv.RETR_EXTERNAL, cv.CHAIN_APPROX_SIMPLE)\n",
        "\n",
        "print(contours)"
      ],
      "execution_count": null,
      "outputs": []
    },
    {
      "cell_type": "code",
      "metadata": {
        "id": "kYDV8CX3bnS2"
      },
      "source": [
        "len(contours) "
      ],
      "execution_count": null,
      "outputs": []
    },
    {
      "cell_type": "code",
      "metadata": {
        "id": "nos_NX_cbpmZ"
      },
      "source": [
        "contours[0]"
      ],
      "execution_count": null,
      "outputs": []
    },
    {
      "cell_type": "code",
      "metadata": {
        "id": "5sWxoIBcb_o7"
      },
      "source": [
        "x, y, w, h = cv.boundingRect(contours[0])\n",
        "\n",
        "print(x, y, w, h)"
      ],
      "execution_count": null,
      "outputs": []
    },
    {
      "cell_type": "markdown",
      "metadata": {
        "id": "905nuezOKMfj"
      },
      "source": [
        "Feature Extraction from Contours"
      ]
    },
    {
      "cell_type": "code",
      "metadata": {
        "id": "yeg6a3zIcIW2"
      },
      "source": [
        "for index, contour in enumerate(contours):\n",
        "  x, y, w, h = cv.boundingRect(contour)\n",
        "  area = cv.contourArea(contour)\n",
        "\n",
        "  print(\"Contour #\" + str(index), x, y, w, h, area)\n"
      ],
      "execution_count": null,
      "outputs": []
    },
    {
      "cell_type": "code",
      "metadata": {
        "id": "QXOH7jnycalS"
      },
      "source": [
        "x, y, w, h = cv.boundingRect(contours[3734])\n",
        "test = min_1_gray[y:y+h, x:x+w]\n",
        "cv2_imshow(test)"
      ],
      "execution_count": null,
      "outputs": []
    },
    {
      "cell_type": "code",
      "metadata": {
        "id": "OCrTniO8gAmz"
      },
      "source": [
        "cv.rectangle(image_orig, (x, y), (x+w, y+h), (255, 0, 0), 2)\n",
        "cv.putText(image_orig, \"w={},h={}\".format(w,h), (x + 150, y - 10), cv.FONT_HERSHEY_SIMPLEX, 0.7, (255,0,0), 2)\n",
        "\n",
        "cv2_imshow(image_orig)"
      ],
      "execution_count": null,
      "outputs": []
    },
    {
      "cell_type": "markdown",
      "metadata": {
        "id": "obpeySrhKi1_"
      },
      "source": [
        "jika pada foto diberikan filter gaussian maka contours yg dihasilkan bisa lebih sedikit, namun saya tidak memakainya."
      ]
    },
    {
      "cell_type": "markdown",
      "metadata": {
        "id": "ryIqr8_bgmUp"
      },
      "source": [
        "# Foto 2"
      ]
    },
    {
      "cell_type": "code",
      "metadata": {
        "id": "Bw8-EIRZgvTK"
      },
      "source": [
        "image_orig = min_2.copy()"
      ],
      "execution_count": null,
      "outputs": []
    },
    {
      "cell_type": "code",
      "metadata": {
        "id": "lHSGLRgFg1lf"
      },
      "source": [
        "min_2_gray = cv.cvtColor(min_2, cv.COLOR_BGR2GRAY) # mengubah foto asli menjadi grayscale\n",
        "cv2_imshow(min_2_gray)"
      ],
      "execution_count": null,
      "outputs": []
    },
    {
      "cell_type": "code",
      "metadata": {
        "id": "KvfDzdU1hHKG"
      },
      "source": [
        "plt.hist(min_2_gray.flatten(), 256, [0,256]) # melihat  plot histogram untuk melihat komposisi yg ada pada foto\n",
        "plt.show()"
      ],
      "execution_count": null,
      "outputs": []
    },
    {
      "cell_type": "markdown",
      "metadata": {
        "id": "q7OtD8YBN-p0"
      },
      "source": [
        "Preprocessing\n",
        "\n",
        "\n",
        "Menggunakan Otsu’s Binarization Thresholding."
      ]
    },
    {
      "cell_type": "code",
      "metadata": {
        "id": "ENcN0EEIhaBs"
      },
      "source": [
        "thresholds_value_ots, thresholds_result_ots = cv.threshold(min_2_gray, 0, 255, cv.THRESH_BINARY+cv.THRESH_OTSU)\n",
        "print(thresholds_value_ots)\n",
        "cv2_imshow(thresholds_result_ots)"
      ],
      "execution_count": null,
      "outputs": []
    },
    {
      "cell_type": "markdown",
      "metadata": {
        "id": "DETP2lKbOX3S"
      },
      "source": [
        "Extracting Object from Contours"
      ]
    },
    {
      "cell_type": "code",
      "metadata": {
        "id": "B-jKyW7GhqMQ"
      },
      "source": [
        "thresholds_result_ots = cv.bitwise_not(thresholds_result_ots)\n",
        "\n",
        "contours, hierarchy = cv.findContours(thresholds_result_ots, cv.RETR_EXTERNAL, cv.CHAIN_APPROX_SIMPLE)\n",
        "\n",
        "print(contours)"
      ],
      "execution_count": null,
      "outputs": []
    },
    {
      "cell_type": "code",
      "metadata": {
        "id": "nb-QVk_5hwS8"
      },
      "source": [
        "len(contours)"
      ],
      "execution_count": null,
      "outputs": []
    },
    {
      "cell_type": "code",
      "metadata": {
        "id": "ctRE4KCiiocs"
      },
      "source": [
        "contours[0]"
      ],
      "execution_count": null,
      "outputs": []
    },
    {
      "cell_type": "markdown",
      "metadata": {
        "id": "RDT277gBOkT2"
      },
      "source": [
        "Feature Extraction from Contours"
      ]
    },
    {
      "cell_type": "code",
      "metadata": {
        "id": "a1WnS6ADjHPX"
      },
      "source": [
        "area = cv.contourArea(contours[0])\n",
        "area"
      ],
      "execution_count": null,
      "outputs": []
    },
    {
      "cell_type": "code",
      "metadata": {
        "id": "l383le3ejMUR"
      },
      "source": [
        "x, y, w, h = cv.boundingRect(contours[0])\n",
        "\n",
        "print(x, y, w, h)"
      ],
      "execution_count": null,
      "outputs": []
    },
    {
      "cell_type": "code",
      "metadata": {
        "id": "QZ8Ku1UrjPj6"
      },
      "source": [
        "for index, contour in enumerate(contours):\n",
        "  x, y, w, h = cv.boundingRect(contour)\n",
        "  area = cv.contourArea(contour)\n",
        "\n",
        "  print(\"Contour #\" + str(index), x, y, w, h, area)\n"
      ],
      "execution_count": null,
      "outputs": []
    },
    {
      "cell_type": "code",
      "metadata": {
        "id": "-t9XTGQLjZXn"
      },
      "source": [
        "x, y, w, h = cv.boundingRect(contours[1984])\n",
        "\n",
        "test2 = min_2_gray[y:y+h, x:x+w]\n",
        "\n",
        "cv2_imshow(test2)"
      ],
      "execution_count": null,
      "outputs": []
    },
    {
      "cell_type": "code",
      "metadata": {
        "id": "9izg2rm_jlO3"
      },
      "source": [
        "cv.rectangle(image_orig, (x, y), (x+w, y+h), (255, 0, 0), 2)\n",
        "cv.putText(image_orig, \"w={},h={}\".format(w,h), (x + 150, y - 10), cv.FONT_HERSHEY_SIMPLEX, 0.7, (255,0,0), 2)\n",
        "\n",
        "cv2_imshow(image_orig)"
      ],
      "execution_count": null,
      "outputs": []
    },
    {
      "cell_type": "markdown",
      "metadata": {
        "id": "G9X7D6c-pxs_"
      },
      "source": [
        "# Foto 3"
      ]
    },
    {
      "cell_type": "code",
      "metadata": {
        "id": "dwGZji4LpxtJ"
      },
      "source": [
        "image_orig = min_3.copy()"
      ],
      "execution_count": null,
      "outputs": []
    },
    {
      "cell_type": "code",
      "metadata": {
        "id": "AczDDRDqpxtz"
      },
      "source": [
        "min_3_gray = cv.cvtColor(min_3, cv.COLOR_BGR2GRAY) # mengubah gambar asli menjadii grayscale\n",
        "cv2_imshow(min_3_gray)"
      ],
      "execution_count": null,
      "outputs": []
    },
    {
      "cell_type": "code",
      "metadata": {
        "id": "y21jpddGpxuE"
      },
      "source": [
        "plt.hist(min_3_gray.flatten(), 256, [0,256]) # melihat  plot histogram untuk melihat komposisi yg ada pada foto\n",
        "plt.show()"
      ],
      "execution_count": null,
      "outputs": []
    },
    {
      "cell_type": "markdown",
      "metadata": {
        "id": "eJwUnM_JQQnq"
      },
      "source": [
        "Preprocessing\n",
        "\n",
        "\n",
        "Menggunakan Simple Thresholding, karena dapat dengan mudah mengatur angka parameternya berdasarkan histogram yg ada."
      ]
    },
    {
      "cell_type": "code",
      "metadata": {
        "id": "TgzSktfJpxuP"
      },
      "source": [
        "threshold_value_b, threshold_result_b = cv.threshold(min_3_gray, 140, 255, cv.THRESH_BINARY) # Binary thresholding\n",
        "\n",
        "cv2_imshow(threshold_result_b)"
      ],
      "execution_count": null,
      "outputs": []
    },
    {
      "cell_type": "markdown",
      "metadata": {
        "id": "ktNYqYtQPshb"
      },
      "source": [
        "Extracting Object from Contours"
      ]
    },
    {
      "cell_type": "code",
      "metadata": {
        "id": "PYipcGW9pxur"
      },
      "source": [
        "threshold_result_b = cv.bitwise_not(threshold_result_b)\n",
        "\n",
        "contours, hierarchy = cv.findContours(threshold_result_b, cv.RETR_EXTERNAL, cv.CHAIN_APPROX_SIMPLE)\n",
        "\n",
        "print(contours)"
      ],
      "execution_count": null,
      "outputs": []
    },
    {
      "cell_type": "code",
      "metadata": {
        "id": "hHvMwCf6pxu7"
      },
      "source": [
        "len(contours)"
      ],
      "execution_count": null,
      "outputs": []
    },
    {
      "cell_type": "code",
      "metadata": {
        "id": "EX-LuYfQpxvF"
      },
      "source": [
        "contours[0]"
      ],
      "execution_count": null,
      "outputs": []
    },
    {
      "cell_type": "markdown",
      "metadata": {
        "id": "DFLYCPCyQC6L"
      },
      "source": [
        "Feature Extraction from Contours"
      ]
    },
    {
      "cell_type": "code",
      "metadata": {
        "id": "oRfU36sepxvO"
      },
      "source": [
        "x, y, w, h = cv.boundingRect(contours[0])\n",
        "\n",
        "print(x, y, w, h)"
      ],
      "execution_count": null,
      "outputs": []
    },
    {
      "cell_type": "code",
      "metadata": {
        "id": "6O7rTZNPpxva"
      },
      "source": [
        "for index, contour in enumerate(contours):\n",
        "  x, y, w, h = cv.boundingRect(contour)\n",
        "  area = cv.contourArea(contour)\n",
        "\n",
        "  print(\"Contour #\" + str(index), x, y, w, h, area)\n"
      ],
      "execution_count": null,
      "outputs": []
    },
    {
      "cell_type": "code",
      "metadata": {
        "id": "1xb2i_G8pxvl"
      },
      "source": [
        "x, y, w, h = cv.boundingRect(contours[280])\n",
        "test = min_3_gray[y:y+h, x:x+w]\n",
        "cv2_imshow(test)"
      ],
      "execution_count": null,
      "outputs": []
    },
    {
      "cell_type": "code",
      "metadata": {
        "id": "boBBbS9Jpxvv"
      },
      "source": [
        "cv.rectangle(image_orig, (x, y), (x+w, y+h), (255, 0, 0), 2)\n",
        "cv.putText(image_orig, \"w={},h={}\".format(w,h), (x + 150, y - 10), cv.FONT_HERSHEY_SIMPLEX, 0.7, (255,0,0), 2)\n",
        "\n",
        "cv2_imshow(image_orig)"
      ],
      "execution_count": null,
      "outputs": []
    },
    {
      "cell_type": "markdown",
      "metadata": {
        "id": "ymnbKDU93Wq2"
      },
      "source": [
        "# Foto 4"
      ]
    },
    {
      "cell_type": "code",
      "metadata": {
        "id": "nJ9EIioe3WrU"
      },
      "source": [
        "image_orig = min_4.copy()"
      ],
      "execution_count": null,
      "outputs": []
    },
    {
      "cell_type": "code",
      "metadata": {
        "id": "VorCFUiw3WsE"
      },
      "source": [
        "min_4_gray = cv.cvtColor(min_4, cv.COLOR_BGR2GRAY) # mengubah foto asli menjadi grayscale\n",
        "cv2_imshow(min_4_gray)"
      ],
      "execution_count": null,
      "outputs": []
    },
    {
      "cell_type": "code",
      "metadata": {
        "id": "H0NCtVii3WsR"
      },
      "source": [
        "plt.hist(min_4_gray.flatten(), 256, [0,256]) #melihat  plot histogram untuk melihat komposisi yg ada pada foto\n",
        "plt.show()"
      ],
      "execution_count": null,
      "outputs": []
    },
    {
      "cell_type": "markdown",
      "metadata": {
        "id": "oWA1txJ_Q5S3"
      },
      "source": [
        "Preprocessing\n",
        "\n",
        "\n",
        "Menggunakan Simple Thresholding, karena dapat dengan mudah mengatur angka parameternya berdasarkan histogram yg ada."
      ]
    },
    {
      "cell_type": "code",
      "metadata": {
        "id": "dk8WMBzK3Wsf"
      },
      "source": [
        "threshold_value_b, threshold_result_b = cv.threshold(min_4_gray, 140, 255, cv.THRESH_BINARY) # Binary thresholding\n",
        "\n",
        "cv2_imshow(threshold_result_b)"
      ],
      "execution_count": null,
      "outputs": []
    },
    {
      "cell_type": "markdown",
      "metadata": {
        "id": "rgw5IaOyRFBQ"
      },
      "source": [
        "Extracting Object from Contours"
      ]
    },
    {
      "cell_type": "code",
      "metadata": {
        "id": "OehEDLZa3Wsq"
      },
      "source": [
        "threshold_result_b = cv.bitwise_not(threshold_result_b)\n",
        "\n",
        "contours, hierarchy = cv.findContours(threshold_result_b, cv.RETR_EXTERNAL, cv.CHAIN_APPROX_SIMPLE)\n",
        "\n",
        "print(contours)"
      ],
      "execution_count": null,
      "outputs": []
    },
    {
      "cell_type": "code",
      "metadata": {
        "id": "eiqQ1P5w3WtU"
      },
      "source": [
        "len(contours)"
      ],
      "execution_count": null,
      "outputs": []
    },
    {
      "cell_type": "code",
      "metadata": {
        "id": "F4i0erhF3Wth"
      },
      "source": [
        "contours[0]"
      ],
      "execution_count": null,
      "outputs": []
    },
    {
      "cell_type": "markdown",
      "metadata": {
        "id": "6sSs0COtROc5"
      },
      "source": [
        "Feature Extraction from Contours"
      ]
    },
    {
      "cell_type": "code",
      "metadata": {
        "id": "ali2Hggv3Wtu"
      },
      "source": [
        "x, y, w, h = cv.boundingRect(contours[0])\n",
        "\n",
        "print(x, y, w, h)"
      ],
      "execution_count": null,
      "outputs": []
    },
    {
      "cell_type": "code",
      "metadata": {
        "id": "AvZHhXI93Wt2"
      },
      "source": [
        "for index, contour in enumerate(contours):\n",
        "  x, y, w, h = cv.boundingRect(contour)\n",
        "  area = cv.contourArea(contour)\n",
        "\n",
        "  print(\"Contour #\" + str(index), x, y, w, h, area)\n"
      ],
      "execution_count": null,
      "outputs": []
    },
    {
      "cell_type": "code",
      "metadata": {
        "id": "ipfEvPYY3WuD"
      },
      "source": [
        "x, y, w, h = cv.boundingRect(contours[72])\n",
        "test = min_4_gray[y:y+h, x:x+w]\n",
        "cv2_imshow(test)"
      ],
      "execution_count": null,
      "outputs": []
    },
    {
      "cell_type": "code",
      "metadata": {
        "id": "KGorp3sH3WuT"
      },
      "source": [
        "cv.rectangle(image_orig, (x, y), (x+w, y+h), (255, 0, 0), 2)\n",
        "cv.putText(image_orig, \"w={},h={}\".format(w,h), (x + 150, y - 10), cv.FONT_HERSHEY_SIMPLEX, 0.7, (255,0,0), 2)\n",
        "\n",
        "cv2_imshow(image_orig)"
      ],
      "execution_count": null,
      "outputs": []
    },
    {
      "cell_type": "markdown",
      "metadata": {
        "id": "GKimcj8H89d8"
      },
      "source": [
        "# Foto 5"
      ]
    },
    {
      "cell_type": "code",
      "metadata": {
        "id": "bftgBP-d89eM"
      },
      "source": [
        "image_orig = min_5.copy()"
      ],
      "execution_count": null,
      "outputs": []
    },
    {
      "cell_type": "code",
      "metadata": {
        "id": "Atx8nhSf89fJ"
      },
      "source": [
        "min_5_gray = cv.cvtColor(min_5, cv.COLOR_BGR2GRAY) # mengubah foto warna menjadi grayscale\n",
        "cv2_imshow(min_5_gray)"
      ],
      "execution_count": null,
      "outputs": []
    },
    {
      "cell_type": "code",
      "metadata": {
        "id": "2mD82SE589fV"
      },
      "source": [
        "plt.hist(min_5_gray.flatten(), 256, [0,256]) #melihat  plot histogram untuk melihat komposisi yg ada pada foto\n",
        "plt.show()"
      ],
      "execution_count": null,
      "outputs": []
    },
    {
      "cell_type": "markdown",
      "metadata": {
        "id": "F-J9siXZR5Sx"
      },
      "source": [
        "Preprocessing\n",
        "\n",
        "Menggunakan Simple Thresholding, karena dapat dengan mudah mengatur angka parameternya berdasarkan histogram yg ada.\n",
        "\n"
      ]
    },
    {
      "cell_type": "code",
      "metadata": {
        "id": "Iw_VU-Bc89fg"
      },
      "source": [
        "threshold_value_b, threshold_result_b = cv.threshold(min_5_gray, 140, 255, cv.THRESH_BINARY) # Binary thresholding\n",
        "\n",
        "cv2_imshow(threshold_result_b)"
      ],
      "execution_count": null,
      "outputs": []
    },
    {
      "cell_type": "markdown",
      "metadata": {
        "id": "R-dYy0OUSDBg"
      },
      "source": [
        "Extracting Object from Contours"
      ]
    },
    {
      "cell_type": "code",
      "metadata": {
        "id": "A1VWynmh89ft"
      },
      "source": [
        "threshold_result_b = cv.bitwise_not(threshold_result_b)\n",
        "\n",
        "contours, hierarchy = cv.findContours(threshold_result_b, cv.RETR_EXTERNAL, cv.CHAIN_APPROX_SIMPLE)\n",
        "\n",
        "print(contours)"
      ],
      "execution_count": null,
      "outputs": []
    },
    {
      "cell_type": "code",
      "metadata": {
        "id": "xUJzYycW89f3"
      },
      "source": [
        "len(contours)"
      ],
      "execution_count": null,
      "outputs": []
    },
    {
      "cell_type": "code",
      "metadata": {
        "id": "47X6rWJE89gA"
      },
      "source": [
        "contours[0]"
      ],
      "execution_count": null,
      "outputs": []
    },
    {
      "cell_type": "markdown",
      "metadata": {
        "id": "dBnZXdVSSL3-"
      },
      "source": [
        "Feature Extraction from Contours"
      ]
    },
    {
      "cell_type": "code",
      "metadata": {
        "id": "5c6pjC9_89gI"
      },
      "source": [
        "x, y, w, h = cv.boundingRect(contours[0])\n",
        "\n",
        "print(x, y, w, h)"
      ],
      "execution_count": null,
      "outputs": []
    },
    {
      "cell_type": "code",
      "metadata": {
        "id": "JRKxndHi89gR"
      },
      "source": [
        "for index, contour in enumerate(contours):\n",
        "  x, y, w, h = cv.boundingRect(contour)\n",
        "  area = cv.contourArea(contour)\n",
        "\n",
        "  print(\"Contour #\" + str(index), x, y, w, h, area)\n"
      ],
      "execution_count": null,
      "outputs": []
    },
    {
      "cell_type": "code",
      "metadata": {
        "id": "30MJcNWu89ga"
      },
      "source": [
        "x, y, w, h = cv.boundingRect(contours[4308])\n",
        "test = min_5_gray[y:y+h, x:x+w]\n",
        "cv2_imshow(test)"
      ],
      "execution_count": null,
      "outputs": []
    },
    {
      "cell_type": "code",
      "metadata": {
        "id": "AygoWYbF89g3"
      },
      "source": [
        "cv.rectangle(image_orig, (x, y), (x+w, y+h), (255, 0, 0), 2)\n",
        "cv.putText(image_orig, \"w={},h={}\".format(w,h), (x + 150, y - 10), cv.FONT_HERSHEY_SIMPLEX, 0.7, (255,0,0), 2)\n",
        "\n",
        "cv2_imshow(image_orig)"
      ],
      "execution_count": null,
      "outputs": []
    },
    {
      "cell_type": "markdown",
      "metadata": {
        "id": "KtkFeU44X80n"
      },
      "source": [
        "# Foto 6"
      ]
    },
    {
      "cell_type": "code",
      "metadata": {
        "id": "7W01DhmnX80z"
      },
      "source": [
        "image_orig = min_6.copy()"
      ],
      "execution_count": null,
      "outputs": []
    },
    {
      "cell_type": "code",
      "metadata": {
        "id": "P_0czXP9D3yq"
      },
      "source": [
        "blur = cv.medianBlur(min_6, 3)\n",
        "cv2_imshow(blur)"
      ],
      "execution_count": null,
      "outputs": []
    },
    {
      "cell_type": "code",
      "metadata": {
        "id": "Ls_zgRzKX81I"
      },
      "source": [
        "blur_6_gray = cv.cvtColor(blur, cv.COLOR_BGR2GRAY) # mengubah foto warna menjadi grayscale\n",
        "cv2_imshow(blur_6_gray)"
      ],
      "execution_count": null,
      "outputs": []
    },
    {
      "cell_type": "code",
      "metadata": {
        "id": "FXiweCI6X81e"
      },
      "source": [
        "plt.hist(blur_6_gray.flatten(), 256, [0,256]) #melihat  plot histogram untuk melihat komposisi yg ada pada foto\n",
        "plt.show()"
      ],
      "execution_count": null,
      "outputs": []
    },
    {
      "cell_type": "markdown",
      "metadata": {
        "id": "D31_qNAqX818"
      },
      "source": [
        "Preprocessing\n",
        "\n",
        "Menggunakan Simple Thresholding, karena dapat dengan mudah mengatur angka parameternya berdasarkan histogram yg ada.\n",
        "\n"
      ]
    },
    {
      "cell_type": "code",
      "metadata": {
        "id": "gytHPoq3X81-"
      },
      "source": [
        "threshold_value_b, threshold_result_b = cv.threshold(blur_6_gray, 180, 255, cv.THRESH_BINARY) # Binary thresholding\n",
        "\n",
        "cv2_imshow(threshold_result_b)"
      ],
      "execution_count": null,
      "outputs": []
    },
    {
      "cell_type": "markdown",
      "metadata": {
        "id": "06sZ5RkWX82K"
      },
      "source": [
        "Extracting Object from Contours"
      ]
    },
    {
      "cell_type": "code",
      "metadata": {
        "id": "gSBP-MHoX82M"
      },
      "source": [
        "threshold_result_b = cv.bitwise_not(threshold_result_b)\n",
        "\n",
        "contours, hierarchy = cv.findContours(threshold_result_b, cv.RETR_EXTERNAL, cv.CHAIN_APPROX_SIMPLE)\n",
        "\n",
        "print(contours)"
      ],
      "execution_count": null,
      "outputs": []
    },
    {
      "cell_type": "code",
      "metadata": {
        "id": "RD3Tag7UX82d"
      },
      "source": [
        "len(contours)"
      ],
      "execution_count": null,
      "outputs": []
    },
    {
      "cell_type": "code",
      "metadata": {
        "id": "74RfAtesX821"
      },
      "source": [
        "contours[0]"
      ],
      "execution_count": null,
      "outputs": []
    },
    {
      "cell_type": "markdown",
      "metadata": {
        "id": "EIRSZKfdX83J"
      },
      "source": [
        "Feature Extraction from Contours"
      ]
    },
    {
      "cell_type": "code",
      "metadata": {
        "id": "-B44THBRX83O"
      },
      "source": [
        "x, y, w, h = cv.boundingRect(contours[0])\n",
        "\n",
        "print(x, y, w, h)"
      ],
      "execution_count": null,
      "outputs": []
    },
    {
      "cell_type": "code",
      "metadata": {
        "id": "OkccWsmWX83Y"
      },
      "source": [
        "for index, contour in enumerate(contours):\n",
        "  x, y, w, h = cv.boundingRect(contour)\n",
        "  area = cv.contourArea(contour)\n",
        "\n",
        "  print(\"Contour #\" + str(index), x, y, w, h, area)\n"
      ],
      "execution_count": null,
      "outputs": []
    },
    {
      "cell_type": "code",
      "metadata": {
        "id": "y5E5p3vRX83j"
      },
      "source": [
        "x, y, w, h = cv.boundingRect(contours[2355]) \n",
        "capt = blur_6_gray[y:y+h, x:x+w]\n",
        "#cv2_imshow(capt)\n",
        "cv.rectangle(image_orig, (x, y), (x+w, y+h), (255, 0, 0), 2)\n",
        "cv.putText(image_orig, \"w={},h={}\".format(w,h), (x + 500, y - 10), cv.FONT_HERSHEY_SIMPLEX, 0.7, (255,0,0), 2)\n",
        "\n",
        "cv2_imshow(image_orig)"
      ],
      "execution_count": null,
      "outputs": []
    },
    {
      "cell_type": "code",
      "metadata": {
        "id": "xJWEjM6nJyDB"
      },
      "source": [
        "x, y, w, h = cv.boundingRect(contours[2193])\n",
        "woody= blur_6_gray[y:y+h, x:x+w]\n",
        "#cv2_imshow(woody)\n",
        "cv.rectangle(image_orig, (x, y), (x+w, y+h), (255, 0, 0), 2)\n",
        "cv.putText(image_orig, \"w={},h={}\".format(w,h), (x + 200, y - 10), cv.FONT_HERSHEY_SIMPLEX, 0.7, (255,0,0), 2)\n",
        "\n",
        "cv2_imshow(image_orig)"
      ],
      "execution_count": null,
      "outputs": []
    },
    {
      "cell_type": "code",
      "metadata": {
        "id": "CkQ-khK0Jkvk"
      },
      "source": [
        "x, y, w, h = cv.boundingRect(contours[2476])\n",
        "star= blur_6_gray[y:y+h, x:x+w]\n",
        "#cv2_imshow(star)\n",
        "cv.rectangle(image_orig, (x, y), (x+w, y+h), (255, 0, 0), 2)\n",
        "cv.putText(image_orig, \"w={},h={}\".format(w,h), (x + 180, y + 20), cv.FONT_HERSHEY_SIMPLEX, 0.7, (255,0,0), 2)\n",
        "\n",
        "cv2_imshow(image_orig)"
      ],
      "execution_count": null,
      "outputs": []
    },
    {
      "cell_type": "code",
      "metadata": {
        "id": "0Dii1MjdHNG2"
      },
      "source": [
        "x, y, w, h = cv.boundingRect(contours[2442])\n",
        "batman= blur_6_gray[y:y+h, x:x+w]\n",
        "#cv2_imshow(batman)\n",
        "cv.rectangle(image_orig, (x, y), (x+w, y+h), (255, 0, 0), 2)\n",
        "cv.putText(image_orig, \"w={},h={}\".format(w,h), (x + 200, y - 10), cv.FONT_HERSHEY_SIMPLEX, 0.7, (255,0,0), 2)\n",
        "\n",
        "cv2_imshow(image_orig)"
      ],
      "execution_count": null,
      "outputs": []
    },
    {
      "cell_type": "markdown",
      "metadata": {
        "id": "sU-bYaHROQtV"
      },
      "source": [
        "Pada foto ke 6 ini menggunakan preprocessing penambahan filter dengan  median blur supaya countur yg diapatkan tidak mencapai 9000, dengan filter ini bisa memangkas countur hingga 2000an. dengan threshold sama seperti sebelumnya menggunakan simple threshold."
      ]
    }
  ]
}