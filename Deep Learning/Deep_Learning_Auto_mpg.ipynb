{
  "nbformat": 4,
  "nbformat_minor": 0,
  "metadata": {
    "colab": {
      "name": "Deep Learning Auto mpg.ipynb",
      "provenance": [],
      "toc_visible": true
    },
    "kernelspec": {
      "name": "python3",
      "display_name": "Python 3"
    }
  },
  "cells": [
    {
      "cell_type": "code",
      "metadata": {
        "id": "9Ca7AjNBaMin"
      },
      "source": [
        "import pandas as pd\n",
        "import numpy as np\n",
        "import matplotlib.pyplot as plt\n",
        "import os\n",
        "import seaborn as sb"
      ],
      "execution_count": null,
      "outputs": []
    },
    {
      "cell_type": "code",
      "metadata": {
        "id": "u9fnC_0D3Rq0",
        "outputId": "e361d02d-044b-4ca7-ea73-377413115c16",
        "colab": {
          "base_uri": "https://localhost:8080/",
          "height": 419
        }
      },
      "source": [
        "dataset = pd.read_csv('/content/drive/My Drive/ML/auto-mpg.csv')\n",
        "\n",
        "dataset"
      ],
      "execution_count": null,
      "outputs": [
        {
          "output_type": "execute_result",
          "data": {
            "text/html": [
              "<div>\n",
              "<style scoped>\n",
              "    .dataframe tbody tr th:only-of-type {\n",
              "        vertical-align: middle;\n",
              "    }\n",
              "\n",
              "    .dataframe tbody tr th {\n",
              "        vertical-align: top;\n",
              "    }\n",
              "\n",
              "    .dataframe thead th {\n",
              "        text-align: right;\n",
              "    }\n",
              "</style>\n",
              "<table border=\"1\" class=\"dataframe\">\n",
              "  <thead>\n",
              "    <tr style=\"text-align: right;\">\n",
              "      <th></th>\n",
              "      <th>cylinders</th>\n",
              "      <th>displacement</th>\n",
              "      <th>horsepower</th>\n",
              "      <th>weight</th>\n",
              "      <th>acceleration</th>\n",
              "      <th>model year</th>\n",
              "      <th>origin</th>\n",
              "      <th>car name</th>\n",
              "      <th>mpg</th>\n",
              "    </tr>\n",
              "  </thead>\n",
              "  <tbody>\n",
              "    <tr>\n",
              "      <th>0</th>\n",
              "      <td>8</td>\n",
              "      <td>307.0</td>\n",
              "      <td>130</td>\n",
              "      <td>3504</td>\n",
              "      <td>12.0</td>\n",
              "      <td>70</td>\n",
              "      <td>1</td>\n",
              "      <td>chevrolet chevelle malibu</td>\n",
              "      <td>18.0</td>\n",
              "    </tr>\n",
              "    <tr>\n",
              "      <th>1</th>\n",
              "      <td>8</td>\n",
              "      <td>350.0</td>\n",
              "      <td>165</td>\n",
              "      <td>3693</td>\n",
              "      <td>11.5</td>\n",
              "      <td>70</td>\n",
              "      <td>1</td>\n",
              "      <td>buick skylark 320</td>\n",
              "      <td>15.0</td>\n",
              "    </tr>\n",
              "    <tr>\n",
              "      <th>2</th>\n",
              "      <td>8</td>\n",
              "      <td>318.0</td>\n",
              "      <td>150</td>\n",
              "      <td>3436</td>\n",
              "      <td>11.0</td>\n",
              "      <td>70</td>\n",
              "      <td>1</td>\n",
              "      <td>plymouth satellite</td>\n",
              "      <td>18.0</td>\n",
              "    </tr>\n",
              "    <tr>\n",
              "      <th>3</th>\n",
              "      <td>8</td>\n",
              "      <td>304.0</td>\n",
              "      <td>150</td>\n",
              "      <td>3433</td>\n",
              "      <td>12.0</td>\n",
              "      <td>70</td>\n",
              "      <td>1</td>\n",
              "      <td>amc rebel sst</td>\n",
              "      <td>16.0</td>\n",
              "    </tr>\n",
              "    <tr>\n",
              "      <th>4</th>\n",
              "      <td>8</td>\n",
              "      <td>302.0</td>\n",
              "      <td>140</td>\n",
              "      <td>3449</td>\n",
              "      <td>10.5</td>\n",
              "      <td>70</td>\n",
              "      <td>1</td>\n",
              "      <td>ford torino</td>\n",
              "      <td>17.0</td>\n",
              "    </tr>\n",
              "    <tr>\n",
              "      <th>...</th>\n",
              "      <td>...</td>\n",
              "      <td>...</td>\n",
              "      <td>...</td>\n",
              "      <td>...</td>\n",
              "      <td>...</td>\n",
              "      <td>...</td>\n",
              "      <td>...</td>\n",
              "      <td>...</td>\n",
              "      <td>...</td>\n",
              "    </tr>\n",
              "    <tr>\n",
              "      <th>393</th>\n",
              "      <td>4</td>\n",
              "      <td>140.0</td>\n",
              "      <td>86</td>\n",
              "      <td>2790</td>\n",
              "      <td>15.6</td>\n",
              "      <td>82</td>\n",
              "      <td>1</td>\n",
              "      <td>ford mustang gl</td>\n",
              "      <td>27.0</td>\n",
              "    </tr>\n",
              "    <tr>\n",
              "      <th>394</th>\n",
              "      <td>4</td>\n",
              "      <td>97.0</td>\n",
              "      <td>52</td>\n",
              "      <td>2130</td>\n",
              "      <td>24.6</td>\n",
              "      <td>82</td>\n",
              "      <td>2</td>\n",
              "      <td>vw pickup</td>\n",
              "      <td>44.0</td>\n",
              "    </tr>\n",
              "    <tr>\n",
              "      <th>395</th>\n",
              "      <td>4</td>\n",
              "      <td>135.0</td>\n",
              "      <td>84</td>\n",
              "      <td>2295</td>\n",
              "      <td>11.6</td>\n",
              "      <td>82</td>\n",
              "      <td>1</td>\n",
              "      <td>dodge rampage</td>\n",
              "      <td>32.0</td>\n",
              "    </tr>\n",
              "    <tr>\n",
              "      <th>396</th>\n",
              "      <td>4</td>\n",
              "      <td>120.0</td>\n",
              "      <td>79</td>\n",
              "      <td>2625</td>\n",
              "      <td>18.6</td>\n",
              "      <td>82</td>\n",
              "      <td>1</td>\n",
              "      <td>ford ranger</td>\n",
              "      <td>28.0</td>\n",
              "    </tr>\n",
              "    <tr>\n",
              "      <th>397</th>\n",
              "      <td>4</td>\n",
              "      <td>119.0</td>\n",
              "      <td>82</td>\n",
              "      <td>2720</td>\n",
              "      <td>19.4</td>\n",
              "      <td>82</td>\n",
              "      <td>1</td>\n",
              "      <td>chevy s-10</td>\n",
              "      <td>31.0</td>\n",
              "    </tr>\n",
              "  </tbody>\n",
              "</table>\n",
              "<p>398 rows × 9 columns</p>\n",
              "</div>"
            ],
            "text/plain": [
              "     cylinders  displacement  ...                   car name   mpg\n",
              "0            8         307.0  ...  chevrolet chevelle malibu  18.0\n",
              "1            8         350.0  ...          buick skylark 320  15.0\n",
              "2            8         318.0  ...         plymouth satellite  18.0\n",
              "3            8         304.0  ...              amc rebel sst  16.0\n",
              "4            8         302.0  ...                ford torino  17.0\n",
              "..         ...           ...  ...                        ...   ...\n",
              "393          4         140.0  ...            ford mustang gl  27.0\n",
              "394          4          97.0  ...                  vw pickup  44.0\n",
              "395          4         135.0  ...              dodge rampage  32.0\n",
              "396          4         120.0  ...                ford ranger  28.0\n",
              "397          4         119.0  ...                 chevy s-10  31.0\n",
              "\n",
              "[398 rows x 9 columns]"
            ]
          },
          "metadata": {
            "tags": []
          },
          "execution_count": 15
        }
      ]
    },
    {
      "cell_type": "code",
      "metadata": {
        "id": "1ujPAJ533bZs",
        "outputId": "5ec90f1c-8326-4f2b-ee3e-7a6378ce0e94",
        "colab": {
          "base_uri": "https://localhost:8080/",
          "height": 289
        }
      },
      "source": [
        "dataset.info()"
      ],
      "execution_count": null,
      "outputs": [
        {
          "output_type": "stream",
          "text": [
            "<class 'pandas.core.frame.DataFrame'>\n",
            "RangeIndex: 398 entries, 0 to 397\n",
            "Data columns (total 9 columns):\n",
            " #   Column        Non-Null Count  Dtype  \n",
            "---  ------        --------------  -----  \n",
            " 0   cylinders     398 non-null    int64  \n",
            " 1   displacement  398 non-null    float64\n",
            " 2   horsepower    398 non-null    object \n",
            " 3   weight        398 non-null    int64  \n",
            " 4   acceleration  398 non-null    float64\n",
            " 5   model year    398 non-null    int64  \n",
            " 6   origin        398 non-null    int64  \n",
            " 7   car name      398 non-null    object \n",
            " 8   mpg           398 non-null    float64\n",
            "dtypes: float64(3), int64(4), object(2)\n",
            "memory usage: 28.1+ KB\n"
          ],
          "name": "stdout"
        }
      ]
    },
    {
      "cell_type": "code",
      "metadata": {
        "id": "MIEuefY6n3sd"
      },
      "source": [
        "dataset.drop(['car name'], axis=1, inplace=True)"
      ],
      "execution_count": null,
      "outputs": []
    },
    {
      "cell_type": "code",
      "metadata": {
        "id": "q82hhyusn8Qy",
        "outputId": "f2bed380-9ca5-4bea-8759-38522328a180",
        "colab": {
          "base_uri": "https://localhost:8080/",
          "height": 272
        }
      },
      "source": [
        "dataset.info()"
      ],
      "execution_count": null,
      "outputs": [
        {
          "output_type": "stream",
          "text": [
            "<class 'pandas.core.frame.DataFrame'>\n",
            "RangeIndex: 398 entries, 0 to 397\n",
            "Data columns (total 8 columns):\n",
            " #   Column        Non-Null Count  Dtype  \n",
            "---  ------        --------------  -----  \n",
            " 0   cylinders     398 non-null    int64  \n",
            " 1   displacement  398 non-null    float64\n",
            " 2   horsepower    398 non-null    object \n",
            " 3   weight        398 non-null    int64  \n",
            " 4   acceleration  398 non-null    float64\n",
            " 5   model year    398 non-null    int64  \n",
            " 6   origin        398 non-null    int64  \n",
            " 7   mpg           398 non-null    float64\n",
            "dtypes: float64(3), int64(4), object(1)\n",
            "memory usage: 25.0+ KB\n"
          ],
          "name": "stdout"
        }
      ]
    },
    {
      "cell_type": "code",
      "metadata": {
        "id": "59HCl0NxoBeK"
      },
      "source": [
        "dataset.replace('?', np.nan, inplace=True)"
      ],
      "execution_count": null,
      "outputs": []
    },
    {
      "cell_type": "code",
      "metadata": {
        "id": "eqngbIZooGFW",
        "outputId": "128d5e13-d230-4a12-a33b-506a74031590",
        "colab": {
          "base_uri": "https://localhost:8080/",
          "height": 170
        }
      },
      "source": [
        "print(dataset.isnull().sum().sort_values())"
      ],
      "execution_count": null,
      "outputs": [
        {
          "output_type": "stream",
          "text": [
            "cylinders       0\n",
            "displacement    0\n",
            "weight          0\n",
            "acceleration    0\n",
            "model year      0\n",
            "origin          0\n",
            "mpg             0\n",
            "horsepower      6\n",
            "dtype: int64\n"
          ],
          "name": "stdout"
        }
      ]
    },
    {
      "cell_type": "code",
      "metadata": {
        "id": "uf6O3IVqoRfD"
      },
      "source": [
        "horsepower_mean = dataset['horsepower'].astype(float).mean(axis=0)"
      ],
      "execution_count": null,
      "outputs": []
    },
    {
      "cell_type": "code",
      "metadata": {
        "id": "H-U0hn1yoZbU",
        "outputId": "c2c4175d-0e3c-4875-ecd7-6fe910beb36a",
        "colab": {
          "base_uri": "https://localhost:8080/",
          "height": 204
        }
      },
      "source": [
        "dataset['horsepower'].replace(np.nan, horsepower_mean, inplace=True)\n",
        "dataset.head()"
      ],
      "execution_count": null,
      "outputs": [
        {
          "output_type": "execute_result",
          "data": {
            "text/html": [
              "<div>\n",
              "<style scoped>\n",
              "    .dataframe tbody tr th:only-of-type {\n",
              "        vertical-align: middle;\n",
              "    }\n",
              "\n",
              "    .dataframe tbody tr th {\n",
              "        vertical-align: top;\n",
              "    }\n",
              "\n",
              "    .dataframe thead th {\n",
              "        text-align: right;\n",
              "    }\n",
              "</style>\n",
              "<table border=\"1\" class=\"dataframe\">\n",
              "  <thead>\n",
              "    <tr style=\"text-align: right;\">\n",
              "      <th></th>\n",
              "      <th>cylinders</th>\n",
              "      <th>displacement</th>\n",
              "      <th>horsepower</th>\n",
              "      <th>weight</th>\n",
              "      <th>acceleration</th>\n",
              "      <th>model year</th>\n",
              "      <th>origin</th>\n",
              "      <th>mpg</th>\n",
              "    </tr>\n",
              "  </thead>\n",
              "  <tbody>\n",
              "    <tr>\n",
              "      <th>0</th>\n",
              "      <td>8</td>\n",
              "      <td>307.0</td>\n",
              "      <td>130</td>\n",
              "      <td>3504</td>\n",
              "      <td>12.0</td>\n",
              "      <td>70</td>\n",
              "      <td>1</td>\n",
              "      <td>18.0</td>\n",
              "    </tr>\n",
              "    <tr>\n",
              "      <th>1</th>\n",
              "      <td>8</td>\n",
              "      <td>350.0</td>\n",
              "      <td>165</td>\n",
              "      <td>3693</td>\n",
              "      <td>11.5</td>\n",
              "      <td>70</td>\n",
              "      <td>1</td>\n",
              "      <td>15.0</td>\n",
              "    </tr>\n",
              "    <tr>\n",
              "      <th>2</th>\n",
              "      <td>8</td>\n",
              "      <td>318.0</td>\n",
              "      <td>150</td>\n",
              "      <td>3436</td>\n",
              "      <td>11.0</td>\n",
              "      <td>70</td>\n",
              "      <td>1</td>\n",
              "      <td>18.0</td>\n",
              "    </tr>\n",
              "    <tr>\n",
              "      <th>3</th>\n",
              "      <td>8</td>\n",
              "      <td>304.0</td>\n",
              "      <td>150</td>\n",
              "      <td>3433</td>\n",
              "      <td>12.0</td>\n",
              "      <td>70</td>\n",
              "      <td>1</td>\n",
              "      <td>16.0</td>\n",
              "    </tr>\n",
              "    <tr>\n",
              "      <th>4</th>\n",
              "      <td>8</td>\n",
              "      <td>302.0</td>\n",
              "      <td>140</td>\n",
              "      <td>3449</td>\n",
              "      <td>10.5</td>\n",
              "      <td>70</td>\n",
              "      <td>1</td>\n",
              "      <td>17.0</td>\n",
              "    </tr>\n",
              "  </tbody>\n",
              "</table>\n",
              "</div>"
            ],
            "text/plain": [
              "   cylinders  displacement horsepower  ...  model year  origin   mpg\n",
              "0          8         307.0        130  ...          70       1  18.0\n",
              "1          8         350.0        165  ...          70       1  15.0\n",
              "2          8         318.0        150  ...          70       1  18.0\n",
              "3          8         304.0        150  ...          70       1  16.0\n",
              "4          8         302.0        140  ...          70       1  17.0\n",
              "\n",
              "[5 rows x 8 columns]"
            ]
          },
          "metadata": {
            "tags": []
          },
          "execution_count": 22
        }
      ]
    },
    {
      "cell_type": "code",
      "metadata": {
        "id": "tQnRo8m_1n45",
        "outputId": "d4c28165-a970-4c7e-d4f2-61dfc630de28",
        "colab": {
          "base_uri": "https://localhost:8080/",
          "height": 170
        }
      },
      "source": [
        "dataset[['horsepower']] = dataset[['horsepower']].astype('float')\n",
        "dataset.dtypes"
      ],
      "execution_count": null,
      "outputs": [
        {
          "output_type": "execute_result",
          "data": {
            "text/plain": [
              "cylinders         int64\n",
              "displacement    float64\n",
              "horsepower      float64\n",
              "weight            int64\n",
              "acceleration    float64\n",
              "model year        int64\n",
              "origin            int64\n",
              "mpg             float64\n",
              "dtype: object"
            ]
          },
          "metadata": {
            "tags": []
          },
          "execution_count": 23
        }
      ]
    },
    {
      "cell_type": "code",
      "metadata": {
        "id": "u17aMl2CoknQ",
        "outputId": "4c0a80f7-e0bd-4832-a8c4-043d6de5de7a",
        "colab": {
          "base_uri": "https://localhost:8080/",
          "height": 170
        }
      },
      "source": [
        "dataset.isnull().sum().sort_values()"
      ],
      "execution_count": null,
      "outputs": [
        {
          "output_type": "execute_result",
          "data": {
            "text/plain": [
              "cylinders       0\n",
              "displacement    0\n",
              "horsepower      0\n",
              "weight          0\n",
              "acceleration    0\n",
              "model year      0\n",
              "origin          0\n",
              "mpg             0\n",
              "dtype: int64"
            ]
          },
          "metadata": {
            "tags": []
          },
          "execution_count": 24
        }
      ]
    },
    {
      "cell_type": "code",
      "metadata": {
        "id": "NXHl9zTK3cr7",
        "outputId": "680e416a-5c00-4300-bb22-1eccf5ca95d1",
        "colab": {
          "base_uri": "https://localhost:8080/",
          "height": 1000
        }
      },
      "source": [
        "#dataset_numbers = dataset.select_dtypes(include=['float64'])\n",
        "\n",
        "#dataset.hist(figsize=(18, 22), bins=50, xlabelsize=8, ylabelsize=8)\n",
        "#plt.show()\n",
        "dataset.hist(figsize=(18, 22), bins=50, xlabelsize=8, ylabelsize=8)"
      ],
      "execution_count": null,
      "outputs": [
        {
          "output_type": "execute_result",
          "data": {
            "text/plain": [
              "array([[<matplotlib.axes._subplots.AxesSubplot object at 0x7f84d8e74550>,\n",
              "        <matplotlib.axes._subplots.AxesSubplot object at 0x7f84d8bc1470>,\n",
              "        <matplotlib.axes._subplots.AxesSubplot object at 0x7f84d8bcc6d8>],\n",
              "       [<matplotlib.axes._subplots.AxesSubplot object at 0x7f84d8d3da58>,\n",
              "        <matplotlib.axes._subplots.AxesSubplot object at 0x7f84d84aedd8>,\n",
              "        <matplotlib.axes._subplots.AxesSubplot object at 0x7f84d8c0a198>],\n",
              "       [<matplotlib.axes._subplots.AxesSubplot object at 0x7f84d8703518>,\n",
              "        <matplotlib.axes._subplots.AxesSubplot object at 0x7f84d8de9860>,\n",
              "        <matplotlib.axes._subplots.AxesSubplot object at 0x7f84d8de98d0>]],\n",
              "      dtype=object)"
            ]
          },
          "metadata": {
            "tags": []
          },
          "execution_count": 25
        },
        {
          "output_type": "display_data",
          "data": {
            "image/png": "[encoded data removed]",
            "text/plain": [
              "<Figure size 1296x1584 with 9 Axes>"
            ]
          },
          "metadata": {
            "tags": [],
            "needs_background": "light"
          }
        }
      ]
    },
    {
      "cell_type": "code",
      "metadata": {
        "id": "uJ6Ezp153sNA",
        "outputId": "ebf2747e-7066-4c66-c3fe-176ab2b88f78",
        "colab": {
          "base_uri": "https://localhost:8080/",
          "height": 297
        }
      },
      "source": [
        "corr = dataset.corr()\n",
        "\n",
        "corr"
      ],
      "execution_count": null,
      "outputs": [
        {
          "output_type": "execute_result",
          "data": {
            "text/html": [
              "<div>\n",
              "<style scoped>\n",
              "    .dataframe tbody tr th:only-of-type {\n",
              "        vertical-align: middle;\n",
              "    }\n",
              "\n",
              "    .dataframe tbody tr th {\n",
              "        vertical-align: top;\n",
              "    }\n",
              "\n",
              "    .dataframe thead th {\n",
              "        text-align: right;\n",
              "    }\n",
              "</style>\n",
              "<table border=\"1\" class=\"dataframe\">\n",
              "  <thead>\n",
              "    <tr style=\"text-align: right;\">\n",
              "      <th></th>\n",
              "      <th>cylinders</th>\n",
              "      <th>displacement</th>\n",
              "      <th>horsepower</th>\n",
              "      <th>weight</th>\n",
              "      <th>acceleration</th>\n",
              "      <th>model year</th>\n",
              "      <th>origin</th>\n",
              "      <th>mpg</th>\n",
              "    </tr>\n",
              "  </thead>\n",
              "  <tbody>\n",
              "    <tr>\n",
              "      <th>cylinders</th>\n",
              "      <td>1.000000</td>\n",
              "      <td>0.950721</td>\n",
              "      <td>0.838939</td>\n",
              "      <td>0.896017</td>\n",
              "      <td>-0.505419</td>\n",
              "      <td>-0.348746</td>\n",
              "      <td>-0.562543</td>\n",
              "      <td>-0.775396</td>\n",
              "    </tr>\n",
              "    <tr>\n",
              "      <th>displacement</th>\n",
              "      <td>0.950721</td>\n",
              "      <td>1.000000</td>\n",
              "      <td>0.893646</td>\n",
              "      <td>0.932824</td>\n",
              "      <td>-0.543684</td>\n",
              "      <td>-0.370164</td>\n",
              "      <td>-0.609409</td>\n",
              "      <td>-0.804203</td>\n",
              "    </tr>\n",
              "    <tr>\n",
              "      <th>horsepower</th>\n",
              "      <td>0.838939</td>\n",
              "      <td>0.893646</td>\n",
              "      <td>1.000000</td>\n",
              "      <td>0.860574</td>\n",
              "      <td>-0.684259</td>\n",
              "      <td>-0.411651</td>\n",
              "      <td>-0.453669</td>\n",
              "      <td>-0.771437</td>\n",
              "    </tr>\n",
              "    <tr>\n",
              "      <th>weight</th>\n",
              "      <td>0.896017</td>\n",
              "      <td>0.932824</td>\n",
              "      <td>0.860574</td>\n",
              "      <td>1.000000</td>\n",
              "      <td>-0.417457</td>\n",
              "      <td>-0.306564</td>\n",
              "      <td>-0.581024</td>\n",
              "      <td>-0.831741</td>\n",
              "    </tr>\n",
              "    <tr>\n",
              "      <th>acceleration</th>\n",
              "      <td>-0.505419</td>\n",
              "      <td>-0.543684</td>\n",
              "      <td>-0.684259</td>\n",
              "      <td>-0.417457</td>\n",
              "      <td>1.000000</td>\n",
              "      <td>0.288137</td>\n",
              "      <td>0.205873</td>\n",
              "      <td>0.420289</td>\n",
              "    </tr>\n",
              "    <tr>\n",
              "      <th>model year</th>\n",
              "      <td>-0.348746</td>\n",
              "      <td>-0.370164</td>\n",
              "      <td>-0.411651</td>\n",
              "      <td>-0.306564</td>\n",
              "      <td>0.288137</td>\n",
              "      <td>1.000000</td>\n",
              "      <td>0.180662</td>\n",
              "      <td>0.579267</td>\n",
              "    </tr>\n",
              "    <tr>\n",
              "      <th>origin</th>\n",
              "      <td>-0.562543</td>\n",
              "      <td>-0.609409</td>\n",
              "      <td>-0.453669</td>\n",
              "      <td>-0.581024</td>\n",
              "      <td>0.205873</td>\n",
              "      <td>0.180662</td>\n",
              "      <td>1.000000</td>\n",
              "      <td>0.563450</td>\n",
              "    </tr>\n",
              "    <tr>\n",
              "      <th>mpg</th>\n",
              "      <td>-0.775396</td>\n",
              "      <td>-0.804203</td>\n",
              "      <td>-0.771437</td>\n",
              "      <td>-0.831741</td>\n",
              "      <td>0.420289</td>\n",
              "      <td>0.579267</td>\n",
              "      <td>0.563450</td>\n",
              "      <td>1.000000</td>\n",
              "    </tr>\n",
              "  </tbody>\n",
              "</table>\n",
              "</div>"
            ],
            "text/plain": [
              "              cylinders  displacement  ...    origin       mpg\n",
              "cylinders      1.000000      0.950721  ... -0.562543 -0.775396\n",
              "displacement   0.950721      1.000000  ... -0.609409 -0.804203\n",
              "horsepower     0.838939      0.893646  ... -0.453669 -0.771437\n",
              "weight         0.896017      0.932824  ... -0.581024 -0.831741\n",
              "acceleration  -0.505419     -0.543684  ...  0.205873  0.420289\n",
              "model year    -0.348746     -0.370164  ...  0.180662  0.579267\n",
              "origin        -0.562543     -0.609409  ...  1.000000  0.563450\n",
              "mpg           -0.775396     -0.804203  ...  0.563450  1.000000\n",
              "\n",
              "[8 rows x 8 columns]"
            ]
          },
          "metadata": {
            "tags": []
          },
          "execution_count": 26
        }
      ]
    },
    {
      "cell_type": "code",
      "metadata": {
        "id": "oEmrD1cr3ng5",
        "outputId": "4c8b15a1-7996-4a1b-b4cb-6ec062488616",
        "colab": {
          "base_uri": "https://localhost:8080/",
          "height": 1000
        }
      },
      "source": [
        "plt.figure(figsize=(20,20))\n",
        "sb.heatmap(corr, cbar=True, square= True, fmt='.1f', annot=True, annot_kws={'size':15}, cmap='Greens')"
      ],
      "execution_count": null,
      "outputs": [
        {
          "output_type": "execute_result",
          "data": {
            "text/plain": [
              "<matplotlib.axes._subplots.AxesSubplot at 0x7f84d8cad828>"
            ]
          },
          "metadata": {
            "tags": []
          },
          "execution_count": 27
        },
        {
          "output_type": "display_data",
          "data": {
            "image/png": "[encoded data removed]",
            "text/plain": [
              "<Figure size 1440x1440 with 2 Axes>"
            ]
          },
          "metadata": {
            "tags": [],
            "needs_background": "light"
          }
        }
      ]
    },
    {
      "cell_type": "markdown",
      "metadata": {
        "id": "ryI7Lg7h4Utc"
      },
      "source": [
        "## Linear Regression"
      ]
    },
    {
      "cell_type": "markdown",
      "metadata": {
        "id": "QtdINMvP4YOt"
      },
      "source": [
        "### Feature Engineering"
      ]
    },
    {
      "cell_type": "code",
      "metadata": {
        "id": "D2cvZwxU4UKL"
      },
      "source": [
        "label = dataset['mpg']\n",
        "feature = dataset.drop(['mpg'], axis=1)"
      ],
      "execution_count": null,
      "outputs": []
    },
    {
      "cell_type": "code",
      "metadata": {
        "id": "ivxW5Lny5QmX"
      },
      "source": [
        "from sklearn import preprocessing\n",
        "scaler = preprocessing.StandardScaler()\n",
        "\n",
        "feature = scaler.fit_transform(feature.values)\n",
        "label = scaler.fit_transform(label.values.reshape(-1,1)).flatten()"
      ],
      "execution_count": null,
      "outputs": []
    },
    {
      "cell_type": "code",
      "metadata": {
        "id": "eVZoQC3i4e1b"
      },
      "source": [
        "from sklearn.model_selection import train_test_split\n",
        "feature_train, feature_test, label_train, label_test = train_test_split(feature, label, test_size=0.2, random_state=10)"
      ],
      "execution_count": null,
      "outputs": []
    },
    {
      "cell_type": "code",
      "metadata": {
        "id": "dtOFfE5y4jUs",
        "outputId": "7c63a30e-d46c-47f9-fe7e-c0345965838e",
        "colab": {
          "base_uri": "https://localhost:8080/",
          "height": 85
        }
      },
      "source": [
        "from sklearn.linear_model import LinearRegression\n",
        "\n",
        "lm = LinearRegression()\n",
        "lm.fit(feature_train, label_train)\n",
        "\n",
        "predictions = lm.predict(feature_test)\n",
        "\n",
        "from sklearn.metrics import mean_squared_error, mean_absolute_error, r2_score\n",
        "\n",
        "mse = mean_squared_error(label_test, predictions)\n",
        "mae = mean_absolute_error(label_test, predictions)\n",
        "r2 = r2_score(label_test, predictions)\n",
        "print(\"MSE (Mean Squared Error)\", mse)\n",
        "print(\"MAE (Mean Absolute Error)\", mae)\n",
        "print(\"r^2 score\", r2)\n",
        "print('RMSE (Root Mean Squared Error', np.sqrt(mean_squared_error(label_test, predictions)))"
      ],
      "execution_count": null,
      "outputs": [
        {
          "output_type": "stream",
          "text": [
            "MSE (Mean Squared Error) 0.2082842559141632\n",
            "MAE (Mean Absolute Error) 0.3684300891993139\n",
            "r^2 score 0.7924612118571435\n",
            "RMSE (Root Mean Squared Error 0.4563816998020004\n"
          ],
          "name": "stdout"
        }
      ]
    },
    {
      "cell_type": "markdown",
      "metadata": {
        "id": "71NOADCA4oSi"
      },
      "source": [
        "### Deep Learning"
      ]
    },
    {
      "cell_type": "code",
      "metadata": {
        "id": "u520t66w21i6"
      },
      "source": [
        "# Based on: https://machinelearningmastery.com/regression-tutorial-keras-deep-learning-library-python/\n",
        "from tensorflow.keras.models import Sequential\n",
        "from tensorflow.keras.layers import Dense\n",
        "\n",
        "model = Sequential()\n",
        "model.add(Dense(13, input_dim=7, kernel_initializer='normal', activation='relu')) # 13 neuron, sesuai dengan 13 features\n",
        "model.add(Dense(1, kernel_initializer='normal'))\n",
        "\n",
        "model.compile(loss='mean_squared_error', optimizer='adam')"
      ],
      "execution_count": null,
      "outputs": []
    },
    {
      "cell_type": "code",
      "metadata": {
        "id": "SvGU4xsO6C74",
        "outputId": "2119230d-5085-48e1-896e-aa722ebd26fe",
        "colab": {
          "base_uri": "https://localhost:8080/",
          "height": 1000
        }
      },
      "source": [
        "model.fit(x=feature_train, y=label_train, validation_data=(feature_test, label_test), epochs=50, batch_size=8)"
      ],
      "execution_count": null,
      "outputs": [
        {
          "output_type": "stream",
          "text": [
            "Epoch 1/50\n",
            "40/40 [==============================] - 0s 4ms/step - loss: 0.9269 - val_loss: 0.8386\n",
            "Epoch 2/50\n",
            "40/40 [==============================] - 0s 2ms/step - loss: 0.7003 - val_loss: 0.5558\n",
            "Epoch 3/50\n",
            "40/40 [==============================] - 0s 2ms/step - loss: 0.4152 - val_loss: 0.3314\n",
            "Epoch 4/50\n",
            "40/40 [==============================] - 0s 2ms/step - loss: 0.2640 - val_loss: 0.2674\n",
            "Epoch 5/50\n",
            "40/40 [==============================] - 0s 2ms/step - loss: 0.2242 - val_loss: 0.2507\n",
            "Epoch 6/50\n",
            "40/40 [==============================] - 0s 2ms/step - loss: 0.2059 - val_loss: 0.2354\n",
            "Epoch 7/50\n",
            "40/40 [==============================] - 0s 2ms/step - loss: 0.1913 - val_loss: 0.2232\n",
            "Epoch 8/50\n",
            "40/40 [==============================] - 0s 1ms/step - loss: 0.1791 - val_loss: 0.2134\n",
            "Epoch 9/50\n",
            "40/40 [==============================] - 0s 1ms/step - loss: 0.1697 - val_loss: 0.2058\n",
            "Epoch 10/50\n",
            "40/40 [==============================] - 0s 1ms/step - loss: 0.1597 - val_loss: 0.1988\n",
            "Epoch 11/50\n",
            "40/40 [==============================] - 0s 1ms/step - loss: 0.1535 - val_loss: 0.1929\n",
            "Epoch 12/50\n",
            "40/40 [==============================] - 0s 2ms/step - loss: 0.1481 - val_loss: 0.1935\n",
            "Epoch 13/50\n",
            "40/40 [==============================] - 0s 2ms/step - loss: 0.1427 - val_loss: 0.1879\n",
            "Epoch 14/50\n",
            "40/40 [==============================] - 0s 2ms/step - loss: 0.1387 - val_loss: 0.1849\n",
            "Epoch 15/50\n",
            "40/40 [==============================] - 0s 1ms/step - loss: 0.1356 - val_loss: 0.1814\n",
            "Epoch 16/50\n",
            "40/40 [==============================] - 0s 2ms/step - loss: 0.1325 - val_loss: 0.1788\n",
            "Epoch 17/50\n",
            "40/40 [==============================] - 0s 2ms/step - loss: 0.1310 - val_loss: 0.1788\n",
            "Epoch 18/50\n",
            "40/40 [==============================] - 0s 2ms/step - loss: 0.1286 - val_loss: 0.1746\n",
            "Epoch 19/50\n",
            "40/40 [==============================] - 0s 2ms/step - loss: 0.1263 - val_loss: 0.1745\n",
            "Epoch 20/50\n",
            "40/40 [==============================] - 0s 2ms/step - loss: 0.1247 - val_loss: 0.1736\n",
            "Epoch 21/50\n",
            "40/40 [==============================] - 0s 2ms/step - loss: 0.1236 - val_loss: 0.1729\n",
            "Epoch 22/50\n",
            "40/40 [==============================] - 0s 2ms/step - loss: 0.1226 - val_loss: 0.1722\n",
            "Epoch 23/50\n",
            "40/40 [==============================] - 0s 1ms/step - loss: 0.1225 - val_loss: 0.1695\n",
            "Epoch 24/50\n",
            "40/40 [==============================] - 0s 1ms/step - loss: 0.1202 - val_loss: 0.1667\n",
            "Epoch 25/50\n",
            "40/40 [==============================] - 0s 1ms/step - loss: 0.1203 - val_loss: 0.1677\n",
            "Epoch 26/50\n",
            "40/40 [==============================] - 0s 1ms/step - loss: 0.1181 - val_loss: 0.1653\n",
            "Epoch 27/50\n",
            "40/40 [==============================] - 0s 1ms/step - loss: 0.1179 - val_loss: 0.1679\n",
            "Epoch 28/50\n",
            "40/40 [==============================] - 0s 1ms/step - loss: 0.1162 - val_loss: 0.1669\n",
            "Epoch 29/50\n",
            "40/40 [==============================] - 0s 1ms/step - loss: 0.1158 - val_loss: 0.1658\n",
            "Epoch 30/50\n",
            "40/40 [==============================] - 0s 1ms/step - loss: 0.1159 - val_loss: 0.1636\n",
            "Epoch 31/50\n",
            "40/40 [==============================] - 0s 2ms/step - loss: 0.1144 - val_loss: 0.1657\n",
            "Epoch 32/50\n",
            "40/40 [==============================] - 0s 2ms/step - loss: 0.1138 - val_loss: 0.1650\n",
            "Epoch 33/50\n",
            "40/40 [==============================] - 0s 1ms/step - loss: 0.1130 - val_loss: 0.1622\n",
            "Epoch 34/50\n",
            "40/40 [==============================] - 0s 1ms/step - loss: 0.1125 - val_loss: 0.1669\n",
            "Epoch 35/50\n",
            "40/40 [==============================] - 0s 2ms/step - loss: 0.1130 - val_loss: 0.1636\n",
            "Epoch 36/50\n",
            "40/40 [==============================] - 0s 2ms/step - loss: 0.1116 - val_loss: 0.1604\n",
            "Epoch 37/50\n",
            "40/40 [==============================] - 0s 2ms/step - loss: 0.1115 - val_loss: 0.1647\n",
            "Epoch 38/50\n",
            "40/40 [==============================] - 0s 1ms/step - loss: 0.1114 - val_loss: 0.1612\n",
            "Epoch 39/50\n",
            "40/40 [==============================] - 0s 2ms/step - loss: 0.1109 - val_loss: 0.1616\n",
            "Epoch 40/50\n",
            "40/40 [==============================] - 0s 2ms/step - loss: 0.1102 - val_loss: 0.1601\n",
            "Epoch 41/50\n",
            "40/40 [==============================] - 0s 1ms/step - loss: 0.1088 - val_loss: 0.1630\n",
            "Epoch 42/50\n",
            "40/40 [==============================] - 0s 2ms/step - loss: 0.1090 - val_loss: 0.1579\n",
            "Epoch 43/50\n",
            "40/40 [==============================] - 0s 2ms/step - loss: 0.1089 - val_loss: 0.1632\n",
            "Epoch 44/50\n",
            "40/40 [==============================] - 0s 2ms/step - loss: 0.1083 - val_loss: 0.1607\n",
            "Epoch 45/50\n",
            "40/40 [==============================] - 0s 2ms/step - loss: 0.1091 - val_loss: 0.1581\n",
            "Epoch 46/50\n",
            "40/40 [==============================] - 0s 2ms/step - loss: 0.1075 - val_loss: 0.1615\n",
            "Epoch 47/50\n",
            "40/40 [==============================] - 0s 2ms/step - loss: 0.1076 - val_loss: 0.1599\n",
            "Epoch 48/50\n",
            "40/40 [==============================] - 0s 2ms/step - loss: 0.1075 - val_loss: 0.1586\n",
            "Epoch 49/50\n",
            "40/40 [==============================] - 0s 2ms/step - loss: 0.1073 - val_loss: 0.1570\n",
            "Epoch 50/50\n",
            "40/40 [==============================] - 0s 2ms/step - loss: 0.1074 - val_loss: 0.1596\n"
          ],
          "name": "stdout"
        },
        {
          "output_type": "execute_result",
          "data": {
            "text/plain": [
              "<tensorflow.python.keras.callbacks.History at 0x7f8499dfdc50>"
            ]
          },
          "metadata": {
            "tags": []
          },
          "execution_count": 35
        }
      ]
    },
    {
      "cell_type": "code",
      "metadata": {
        "id": "WeJGsG9a6oca"
      },
      "source": [
        "predictions = model.predict(feature_test)\n",
        "predictions = predictions.flatten()"
      ],
      "execution_count": null,
      "outputs": []
    },
    {
      "cell_type": "code",
      "metadata": {
        "id": "6RIqgTJK8EkK",
        "outputId": "9fe51376-2c42-494b-fb68-fcbe23dfa43a",
        "colab": {
          "base_uri": "https://localhost:8080/",
          "height": 85
        }
      },
      "source": [
        "from sklearn.metrics import mean_squared_error, mean_absolute_error, r2_score\n",
        "\n",
        "mse = mean_squared_error(label_test, predictions)\n",
        "mae = mean_absolute_error(label_test, predictions)\n",
        "r2 = r2_score(label_test, predictions)\n",
        "print(\"MSE (Mean Squared Error)\", mse)\n",
        "print(\"MAE (Mean Absolute Error)\", mae)\n",
        "print(\"r^2 score\", r2)\n",
        "print('RMSE (Root Mean Squared Error', np.sqrt(mean_squared_error(label_test, predictions)))"
      ],
      "execution_count": null,
      "outputs": [
        {
          "output_type": "stream",
          "text": [
            "MSE (Mean Squared Error) 0.1596031332748829\n",
            "MAE (Mean Absolute Error) 0.3098098343732352\n",
            "r^2 score 0.8409681004534361\n",
            "RMSE (Root Mean Squared Error 0.39950360858806133\n"
          ],
          "name": "stdout"
        }
      ]
    },
    {
      "cell_type": "markdown",
      "metadata": {
        "id": "eeLikvdE9MsO"
      },
      "source": [
        "## Deeper Model"
      ]
    },
    {
      "cell_type": "code",
      "metadata": {
        "id": "MEiteeaV8YOc",
        "outputId": "107fc167-5286-4c9f-917f-fcdc1085abfd",
        "colab": {
          "base_uri": "https://localhost:8080/",
          "height": 1000
        }
      },
      "source": [
        "deeper_model = Sequential()\n",
        "deeper_model.add(Dense(13, input_dim=7, kernel_initializer='normal', activation='relu'))\n",
        "deeper_model.add(Dense(6, kernel_initializer='normal', activation='relu'))\n",
        "deeper_model.add(Dense(1, kernel_initializer='normal'))\n",
        "\n",
        "deeper_model.compile(loss='mean_squared_error', optimizer='adam')\n",
        "\n",
        "deeper_model.fit(x=feature_train, y=label_train, validation_data=(feature_test, label_test), epochs=50, batch_size=8)"
      ],
      "execution_count": null,
      "outputs": [
        {
          "output_type": "stream",
          "text": [
            "Epoch 1/50\n",
            "40/40 [==============================] - 0s 3ms/step - loss: 0.9812 - val_loss: 0.9613\n",
            "Epoch 2/50\n",
            "40/40 [==============================] - 0s 2ms/step - loss: 0.8764 - val_loss: 0.7652\n",
            "Epoch 3/50\n",
            "40/40 [==============================] - 0s 2ms/step - loss: 0.5638 - val_loss: 0.3848\n",
            "Epoch 4/50\n",
            "40/40 [==============================] - 0s 2ms/step - loss: 0.2733 - val_loss: 0.2573\n",
            "Epoch 5/50\n",
            "40/40 [==============================] - 0s 2ms/step - loss: 0.2173 - val_loss: 0.2407\n",
            "Epoch 6/50\n",
            "40/40 [==============================] - 0s 2ms/step - loss: 0.1997 - val_loss: 0.2263\n",
            "Epoch 7/50\n",
            "40/40 [==============================] - 0s 2ms/step - loss: 0.1844 - val_loss: 0.2138\n",
            "Epoch 8/50\n",
            "40/40 [==============================] - 0s 2ms/step - loss: 0.1736 - val_loss: 0.2072\n",
            "Epoch 9/50\n",
            "40/40 [==============================] - 0s 2ms/step - loss: 0.1608 - val_loss: 0.1961\n",
            "Epoch 10/50\n",
            "40/40 [==============================] - 0s 2ms/step - loss: 0.1528 - val_loss: 0.1875\n",
            "Epoch 11/50\n",
            "40/40 [==============================] - 0s 1ms/step - loss: 0.1480 - val_loss: 0.1851\n",
            "Epoch 12/50\n",
            "40/40 [==============================] - 0s 2ms/step - loss: 0.1428 - val_loss: 0.1830\n",
            "Epoch 13/50\n",
            "40/40 [==============================] - 0s 2ms/step - loss: 0.1419 - val_loss: 0.1773\n",
            "Epoch 14/50\n",
            "40/40 [==============================] - 0s 1ms/step - loss: 0.1358 - val_loss: 0.1728\n",
            "Epoch 15/50\n",
            "40/40 [==============================] - 0s 1ms/step - loss: 0.1328 - val_loss: 0.1774\n",
            "Epoch 16/50\n",
            "40/40 [==============================] - 0s 2ms/step - loss: 0.1323 - val_loss: 0.1703\n",
            "Epoch 17/50\n",
            "40/40 [==============================] - 0s 2ms/step - loss: 0.1305 - val_loss: 0.1649\n",
            "Epoch 18/50\n",
            "40/40 [==============================] - 0s 2ms/step - loss: 0.1260 - val_loss: 0.1638\n",
            "Epoch 19/50\n",
            "40/40 [==============================] - 0s 1ms/step - loss: 0.1239 - val_loss: 0.1616\n",
            "Epoch 20/50\n",
            "40/40 [==============================] - 0s 2ms/step - loss: 0.1228 - val_loss: 0.1665\n",
            "Epoch 21/50\n",
            "40/40 [==============================] - 0s 2ms/step - loss: 0.1210 - val_loss: 0.1597\n",
            "Epoch 22/50\n",
            "40/40 [==============================] - 0s 2ms/step - loss: 0.1194 - val_loss: 0.1630\n",
            "Epoch 23/50\n",
            "40/40 [==============================] - 0s 2ms/step - loss: 0.1183 - val_loss: 0.1593\n",
            "Epoch 24/50\n",
            "40/40 [==============================] - 0s 2ms/step - loss: 0.1207 - val_loss: 0.1649\n",
            "Epoch 25/50\n",
            "40/40 [==============================] - 0s 1ms/step - loss: 0.1169 - val_loss: 0.1586\n",
            "Epoch 26/50\n",
            "40/40 [==============================] - 0s 2ms/step - loss: 0.1171 - val_loss: 0.1541\n",
            "Epoch 27/50\n",
            "40/40 [==============================] - 0s 1ms/step - loss: 0.1151 - val_loss: 0.1602\n",
            "Epoch 28/50\n",
            "40/40 [==============================] - 0s 1ms/step - loss: 0.1152 - val_loss: 0.1597\n",
            "Epoch 29/50\n",
            "40/40 [==============================] - 0s 1ms/step - loss: 0.1140 - val_loss: 0.1552\n",
            "Epoch 30/50\n",
            "40/40 [==============================] - 0s 1ms/step - loss: 0.1137 - val_loss: 0.1561\n",
            "Epoch 31/50\n",
            "40/40 [==============================] - 0s 1ms/step - loss: 0.1128 - val_loss: 0.1552\n",
            "Epoch 32/50\n",
            "40/40 [==============================] - 0s 2ms/step - loss: 0.1122 - val_loss: 0.1629\n",
            "Epoch 33/50\n",
            "40/40 [==============================] - 0s 2ms/step - loss: 0.1138 - val_loss: 0.1682\n",
            "Epoch 34/50\n",
            "40/40 [==============================] - 0s 1ms/step - loss: 0.1133 - val_loss: 0.1576\n",
            "Epoch 35/50\n",
            "40/40 [==============================] - 0s 2ms/step - loss: 0.1106 - val_loss: 0.1525\n",
            "Epoch 36/50\n",
            "40/40 [==============================] - 0s 2ms/step - loss: 0.1107 - val_loss: 0.1576\n",
            "Epoch 37/50\n",
            "40/40 [==============================] - 0s 2ms/step - loss: 0.1102 - val_loss: 0.1603\n",
            "Epoch 38/50\n",
            "40/40 [==============================] - 0s 2ms/step - loss: 0.1093 - val_loss: 0.1568\n",
            "Epoch 39/50\n",
            "40/40 [==============================] - 0s 1ms/step - loss: 0.1090 - val_loss: 0.1634\n",
            "Epoch 40/50\n",
            "40/40 [==============================] - 0s 1ms/step - loss: 0.1104 - val_loss: 0.1579\n",
            "Epoch 41/50\n",
            "40/40 [==============================] - 0s 2ms/step - loss: 0.1094 - val_loss: 0.1579\n",
            "Epoch 42/50\n",
            "40/40 [==============================] - 0s 1ms/step - loss: 0.1089 - val_loss: 0.1590\n",
            "Epoch 43/50\n",
            "40/40 [==============================] - 0s 1ms/step - loss: 0.1088 - val_loss: 0.1613\n",
            "Epoch 44/50\n",
            "40/40 [==============================] - 0s 1ms/step - loss: 0.1078 - val_loss: 0.1620\n",
            "Epoch 45/50\n",
            "40/40 [==============================] - 0s 2ms/step - loss: 0.1065 - val_loss: 0.1540\n",
            "Epoch 46/50\n",
            "40/40 [==============================] - 0s 2ms/step - loss: 0.1082 - val_loss: 0.1575\n",
            "Epoch 47/50\n",
            "40/40 [==============================] - 0s 2ms/step - loss: 0.1065 - val_loss: 0.1582\n",
            "Epoch 48/50\n",
            "40/40 [==============================] - 0s 2ms/step - loss: 0.1070 - val_loss: 0.1649\n",
            "Epoch 49/50\n",
            "40/40 [==============================] - 0s 2ms/step - loss: 0.1054 - val_loss: 0.1642\n",
            "Epoch 50/50\n",
            "40/40 [==============================] - 0s 2ms/step - loss: 0.1071 - val_loss: 0.1549\n"
          ],
          "name": "stdout"
        },
        {
          "output_type": "execute_result",
          "data": {
            "text/plain": [
              "<tensorflow.python.keras.callbacks.History at 0x7f8497f65d30>"
            ]
          },
          "metadata": {
            "tags": []
          },
          "execution_count": 38
        }
      ]
    },
    {
      "cell_type": "code",
      "metadata": {
        "id": "lyJeIf8s8yL2"
      },
      "source": [
        "predictions = deeper_model.predict(feature_test)\n",
        "\n",
        "predictions = predictions.flatten()"
      ],
      "execution_count": null,
      "outputs": []
    },
    {
      "cell_type": "code",
      "metadata": {
        "id": "gP7CrS1n81Ue",
        "outputId": "b2f8f69a-7851-402c-d8c0-6d71d5ba5557",
        "colab": {
          "base_uri": "https://localhost:8080/",
          "height": 85
        }
      },
      "source": [
        "from sklearn.metrics import mean_squared_error, mean_absolute_error, r2_score\n",
        "\n",
        "mse = mean_squared_error(label_test, predictions)\n",
        "mae = mean_absolute_error(label_test, predictions)\n",
        "r2 = r2_score(label_test, predictions)\n",
        "print(\"MSE (Mean Squared Error)\", mse)\n",
        "print(\"MAE (Mean Absolute Error)\", mae)\n",
        "print(\"r^2 score\", r2)\n",
        "print('RMSE (Root Mean Squared Error', np.sqrt(mean_squared_error(label_test, predictions)))"
      ],
      "execution_count": null,
      "outputs": [
        {
          "output_type": "stream",
          "text": [
            "MSE (Mean Squared Error) 0.15488365574836332\n",
            "MAE (Mean Absolute Error) 0.29828744090585735\n",
            "r^2 score 0.8456706865525264\n",
            "RMSE (Root Mean Squared Error 0.3935526086158791\n"
          ],
          "name": "stdout"
        }
      ]
    },
    {
      "cell_type": "markdown",
      "metadata": {
        "id": "WAtLbRex9T7M"
      },
      "source": [
        "### Wider model"
      ]
    },
    {
      "cell_type": "code",
      "metadata": {
        "id": "VZrrMdLG9TZ3",
        "outputId": "77923a2c-b1a0-48ae-e1c9-ac55b7668a92",
        "colab": {
          "base_uri": "https://localhost:8080/",
          "height": 1000
        }
      },
      "source": [
        "wider_model = Sequential()\n",
        "wider_model.add(Dense(20, input_dim=7, kernel_initializer='normal', activation='relu'))\n",
        "wider_model.add(Dense(1, kernel_initializer='normal'))\n",
        "\n",
        "wider_model.compile(loss='mean_squared_error', optimizer='adam')\n",
        "\n",
        "history = wider_model.fit(x=feature_train, y=label_train, validation_data=(feature_test, label_test), epochs=100, batch_size=8)"
      ],
      "execution_count": null,
      "outputs": [
        {
          "output_type": "stream",
          "text": [
            "Epoch 1/100\n",
            "40/40 [==============================] - 0s 3ms/step - loss: 0.9347 - val_loss: 0.8490\n",
            "Epoch 2/100\n",
            "40/40 [==============================] - 0s 1ms/step - loss: 0.6853 - val_loss: 0.5353\n",
            "Epoch 3/100\n",
            "40/40 [==============================] - 0s 1ms/step - loss: 0.3629 - val_loss: 0.3060\n",
            "Epoch 4/100\n",
            "40/40 [==============================] - 0s 1ms/step - loss: 0.2300 - val_loss: 0.2467\n",
            "Epoch 5/100\n",
            "40/40 [==============================] - 0s 2ms/step - loss: 0.1994 - val_loss: 0.2299\n",
            "Epoch 6/100\n",
            "40/40 [==============================] - 0s 2ms/step - loss: 0.1840 - val_loss: 0.2158\n",
            "Epoch 7/100\n",
            "40/40 [==============================] - 0s 2ms/step - loss: 0.1708 - val_loss: 0.2012\n",
            "Epoch 8/100\n",
            "40/40 [==============================] - 0s 2ms/step - loss: 0.1615 - val_loss: 0.1946\n",
            "Epoch 9/100\n",
            "40/40 [==============================] - 0s 1ms/step - loss: 0.1525 - val_loss: 0.1867\n",
            "Epoch 10/100\n",
            "40/40 [==============================] - 0s 2ms/step - loss: 0.1464 - val_loss: 0.1814\n",
            "Epoch 11/100\n",
            "40/40 [==============================] - 0s 2ms/step - loss: 0.1397 - val_loss: 0.1782\n",
            "Epoch 12/100\n",
            "40/40 [==============================] - 0s 2ms/step - loss: 0.1354 - val_loss: 0.1728\n",
            "Epoch 13/100\n",
            "40/40 [==============================] - 0s 2ms/step - loss: 0.1311 - val_loss: 0.1709\n",
            "Epoch 14/100\n",
            "40/40 [==============================] - 0s 2ms/step - loss: 0.1281 - val_loss: 0.1681\n",
            "Epoch 15/100\n",
            "40/40 [==============================] - 0s 2ms/step - loss: 0.1257 - val_loss: 0.1680\n",
            "Epoch 16/100\n",
            "40/40 [==============================] - 0s 2ms/step - loss: 0.1234 - val_loss: 0.1672\n",
            "Epoch 17/100\n",
            "40/40 [==============================] - 0s 2ms/step - loss: 0.1219 - val_loss: 0.1614\n",
            "Epoch 18/100\n",
            "40/40 [==============================] - 0s 1ms/step - loss: 0.1203 - val_loss: 0.1685\n",
            "Epoch 19/100\n",
            "40/40 [==============================] - 0s 2ms/step - loss: 0.1192 - val_loss: 0.1624\n",
            "Epoch 20/100\n",
            "40/40 [==============================] - 0s 1ms/step - loss: 0.1170 - val_loss: 0.1614\n",
            "Epoch 21/100\n",
            "40/40 [==============================] - 0s 2ms/step - loss: 0.1165 - val_loss: 0.1616\n",
            "Epoch 22/100\n",
            "40/40 [==============================] - 0s 2ms/step - loss: 0.1152 - val_loss: 0.1606\n",
            "Epoch 23/100\n",
            "40/40 [==============================] - 0s 1ms/step - loss: 0.1150 - val_loss: 0.1643\n",
            "Epoch 24/100\n",
            "40/40 [==============================] - 0s 2ms/step - loss: 0.1137 - val_loss: 0.1595\n",
            "Epoch 25/100\n",
            "40/40 [==============================] - 0s 2ms/step - loss: 0.1127 - val_loss: 0.1641\n",
            "Epoch 26/100\n",
            "40/40 [==============================] - 0s 1ms/step - loss: 0.1136 - val_loss: 0.1648\n",
            "Epoch 27/100\n",
            "40/40 [==============================] - 0s 2ms/step - loss: 0.1121 - val_loss: 0.1595\n",
            "Epoch 28/100\n",
            "40/40 [==============================] - 0s 2ms/step - loss: 0.1125 - val_loss: 0.1558\n",
            "Epoch 29/100\n",
            "40/40 [==============================] - 0s 1ms/step - loss: 0.1103 - val_loss: 0.1595\n",
            "Epoch 30/100\n",
            "40/40 [==============================] - 0s 2ms/step - loss: 0.1101 - val_loss: 0.1617\n",
            "Epoch 31/100\n",
            "40/40 [==============================] - 0s 1ms/step - loss: 0.1101 - val_loss: 0.1585\n",
            "Epoch 32/100\n",
            "40/40 [==============================] - 0s 2ms/step - loss: 0.1094 - val_loss: 0.1604\n",
            "Epoch 33/100\n",
            "40/40 [==============================] - 0s 2ms/step - loss: 0.1100 - val_loss: 0.1660\n",
            "Epoch 34/100\n",
            "40/40 [==============================] - 0s 1ms/step - loss: 0.1092 - val_loss: 0.1586\n",
            "Epoch 35/100\n",
            "40/40 [==============================] - 0s 1ms/step - loss: 0.1082 - val_loss: 0.1557\n",
            "Epoch 36/100\n",
            "40/40 [==============================] - 0s 2ms/step - loss: 0.1077 - val_loss: 0.1627\n",
            "Epoch 37/100\n",
            "40/40 [==============================] - 0s 2ms/step - loss: 0.1070 - val_loss: 0.1565\n",
            "Epoch 38/100\n",
            "40/40 [==============================] - 0s 2ms/step - loss: 0.1064 - val_loss: 0.1620\n",
            "Epoch 39/100\n",
            "40/40 [==============================] - 0s 2ms/step - loss: 0.1067 - val_loss: 0.1563\n",
            "Epoch 40/100\n",
            "40/40 [==============================] - 0s 2ms/step - loss: 0.1082 - val_loss: 0.1593\n",
            "Epoch 41/100\n",
            "40/40 [==============================] - 0s 1ms/step - loss: 0.1071 - val_loss: 0.1611\n",
            "Epoch 42/100\n",
            "40/40 [==============================] - 0s 1ms/step - loss: 0.1076 - val_loss: 0.1587\n",
            "Epoch 43/100\n",
            "40/40 [==============================] - 0s 1ms/step - loss: 0.1064 - val_loss: 0.1551\n",
            "Epoch 44/100\n",
            "40/40 [==============================] - 0s 2ms/step - loss: 0.1060 - val_loss: 0.1570\n",
            "Epoch 45/100\n",
            "40/40 [==============================] - 0s 1ms/step - loss: 0.1067 - val_loss: 0.1657\n",
            "Epoch 46/100\n",
            "40/40 [==============================] - 0s 1ms/step - loss: 0.1056 - val_loss: 0.1598\n",
            "Epoch 47/100\n",
            "40/40 [==============================] - 0s 2ms/step - loss: 0.1056 - val_loss: 0.1539\n",
            "Epoch 48/100\n",
            "40/40 [==============================] - 0s 2ms/step - loss: 0.1045 - val_loss: 0.1609\n",
            "Epoch 49/100\n",
            "40/40 [==============================] - 0s 2ms/step - loss: 0.1049 - val_loss: 0.1602\n",
            "Epoch 50/100\n",
            "40/40 [==============================] - 0s 2ms/step - loss: 0.1050 - val_loss: 0.1517\n",
            "Epoch 51/100\n",
            "40/40 [==============================] - 0s 1ms/step - loss: 0.1063 - val_loss: 0.1571\n",
            "Epoch 52/100\n",
            "40/40 [==============================] - 0s 1ms/step - loss: 0.1045 - val_loss: 0.1519\n",
            "Epoch 53/100\n",
            "40/40 [==============================] - 0s 2ms/step - loss: 0.1044 - val_loss: 0.1575\n",
            "Epoch 54/100\n",
            "40/40 [==============================] - 0s 1ms/step - loss: 0.1037 - val_loss: 0.1565\n",
            "Epoch 55/100\n",
            "40/40 [==============================] - 0s 2ms/step - loss: 0.1032 - val_loss: 0.1578\n",
            "Epoch 56/100\n",
            "40/40 [==============================] - 0s 2ms/step - loss: 0.1038 - val_loss: 0.1590\n",
            "Epoch 57/100\n",
            "40/40 [==============================] - 0s 1ms/step - loss: 0.1027 - val_loss: 0.1579\n",
            "Epoch 58/100\n",
            "40/40 [==============================] - 0s 1ms/step - loss: 0.1021 - val_loss: 0.1565\n",
            "Epoch 59/100\n",
            "40/40 [==============================] - 0s 2ms/step - loss: 0.1026 - val_loss: 0.1559\n",
            "Epoch 60/100\n",
            "40/40 [==============================] - 0s 2ms/step - loss: 0.1026 - val_loss: 0.1576\n",
            "Epoch 61/100\n",
            "40/40 [==============================] - 0s 2ms/step - loss: 0.1025 - val_loss: 0.1596\n",
            "Epoch 62/100\n",
            "40/40 [==============================] - 0s 2ms/step - loss: 0.1019 - val_loss: 0.1579\n",
            "Epoch 63/100\n",
            "40/40 [==============================] - 0s 2ms/step - loss: 0.1017 - val_loss: 0.1585\n",
            "Epoch 64/100\n",
            "40/40 [==============================] - 0s 1ms/step - loss: 0.1022 - val_loss: 0.1521\n",
            "Epoch 65/100\n",
            "40/40 [==============================] - 0s 2ms/step - loss: 0.1017 - val_loss: 0.1586\n",
            "Epoch 66/100\n",
            "40/40 [==============================] - 0s 2ms/step - loss: 0.1014 - val_loss: 0.1574\n",
            "Epoch 67/100\n",
            "40/40 [==============================] - 0s 2ms/step - loss: 0.1014 - val_loss: 0.1555\n",
            "Epoch 68/100\n",
            "40/40 [==============================] - 0s 2ms/step - loss: 0.1005 - val_loss: 0.1598\n",
            "Epoch 69/100\n",
            "40/40 [==============================] - 0s 1ms/step - loss: 0.1005 - val_loss: 0.1565\n",
            "Epoch 70/100\n",
            "40/40 [==============================] - 0s 2ms/step - loss: 0.1019 - val_loss: 0.1578\n",
            "Epoch 71/100\n",
            "40/40 [==============================] - 0s 2ms/step - loss: 0.0999 - val_loss: 0.1564\n",
            "Epoch 72/100\n",
            "40/40 [==============================] - 0s 2ms/step - loss: 0.0998 - val_loss: 0.1535\n",
            "Epoch 73/100\n",
            "40/40 [==============================] - 0s 1ms/step - loss: 0.0998 - val_loss: 0.1558\n",
            "Epoch 74/100\n",
            "40/40 [==============================] - 0s 1ms/step - loss: 0.0995 - val_loss: 0.1537\n",
            "Epoch 75/100\n",
            "40/40 [==============================] - 0s 2ms/step - loss: 0.0997 - val_loss: 0.1590\n",
            "Epoch 76/100\n",
            "40/40 [==============================] - 0s 1ms/step - loss: 0.1002 - val_loss: 0.1557\n",
            "Epoch 77/100\n",
            "40/40 [==============================] - 0s 2ms/step - loss: 0.0993 - val_loss: 0.1579\n",
            "Epoch 78/100\n",
            "40/40 [==============================] - 0s 2ms/step - loss: 0.0994 - val_loss: 0.1531\n",
            "Epoch 79/100\n",
            "40/40 [==============================] - 0s 2ms/step - loss: 0.0999 - val_loss: 0.1520\n",
            "Epoch 80/100\n",
            "40/40 [==============================] - 0s 2ms/step - loss: 0.0996 - val_loss: 0.1586\n",
            "Epoch 81/100\n",
            "40/40 [==============================] - 0s 2ms/step - loss: 0.0986 - val_loss: 0.1573\n",
            "Epoch 82/100\n",
            "40/40 [==============================] - 0s 2ms/step - loss: 0.0990 - val_loss: 0.1574\n",
            "Epoch 83/100\n",
            "40/40 [==============================] - 0s 2ms/step - loss: 0.0981 - val_loss: 0.1565\n",
            "Epoch 84/100\n",
            "40/40 [==============================] - 0s 2ms/step - loss: 0.0994 - val_loss: 0.1547\n",
            "Epoch 85/100\n",
            "40/40 [==============================] - 0s 2ms/step - loss: 0.0979 - val_loss: 0.1549\n",
            "Epoch 86/100\n",
            "40/40 [==============================] - 0s 2ms/step - loss: 0.0973 - val_loss: 0.1592\n",
            "Epoch 87/100\n",
            "40/40 [==============================] - 0s 2ms/step - loss: 0.0976 - val_loss: 0.1595\n",
            "Epoch 88/100\n",
            "40/40 [==============================] - 0s 2ms/step - loss: 0.0976 - val_loss: 0.1530\n",
            "Epoch 89/100\n",
            "40/40 [==============================] - 0s 2ms/step - loss: 0.0989 - val_loss: 0.1528\n",
            "Epoch 90/100\n",
            "40/40 [==============================] - 0s 2ms/step - loss: 0.0983 - val_loss: 0.1612\n",
            "Epoch 91/100\n",
            "40/40 [==============================] - 0s 2ms/step - loss: 0.0977 - val_loss: 0.1562\n",
            "Epoch 92/100\n",
            "40/40 [==============================] - 0s 2ms/step - loss: 0.0968 - val_loss: 0.1610\n",
            "Epoch 93/100\n",
            "40/40 [==============================] - 0s 2ms/step - loss: 0.0967 - val_loss: 0.1534\n",
            "Epoch 94/100\n",
            "40/40 [==============================] - 0s 1ms/step - loss: 0.0979 - val_loss: 0.1586\n",
            "Epoch 95/100\n",
            "40/40 [==============================] - 0s 2ms/step - loss: 0.0963 - val_loss: 0.1570\n",
            "Epoch 96/100\n",
            "40/40 [==============================] - 0s 2ms/step - loss: 0.0960 - val_loss: 0.1537\n",
            "Epoch 97/100\n",
            "40/40 [==============================] - 0s 2ms/step - loss: 0.0971 - val_loss: 0.1533\n",
            "Epoch 98/100\n",
            "40/40 [==============================] - 0s 2ms/step - loss: 0.0961 - val_loss: 0.1559\n",
            "Epoch 99/100\n",
            "40/40 [==============================] - 0s 1ms/step - loss: 0.0951 - val_loss: 0.1575\n",
            "Epoch 100/100\n",
            "40/40 [==============================] - 0s 1ms/step - loss: 0.0955 - val_loss: 0.1583\n"
          ],
          "name": "stdout"
        }
      ]
    },
    {
      "cell_type": "code",
      "metadata": {
        "id": "LSMU9ueG9gFY"
      },
      "source": [
        "predictions = wider_model.predict(feature_test)\n",
        "\n",
        "predictions = predictions.flatten()"
      ],
      "execution_count": null,
      "outputs": []
    },
    {
      "cell_type": "code",
      "metadata": {
        "id": "ckZvvz7h9jB_",
        "outputId": "f3b5504f-bd35-4c39-a9ba-fda82faab5c0",
        "colab": {
          "base_uri": "https://localhost:8080/",
          "height": 85
        }
      },
      "source": [
        "from sklearn.metrics import mean_squared_error, mean_absolute_error, r2_score\n",
        "\n",
        "mse = mean_squared_error(label_test, predictions)\n",
        "mae = mean_absolute_error(label_test, predictions)\n",
        "r2 = r2_score(label_test, predictions)\n",
        "print(\"MSE (Mean Squared Error)\", mse)\n",
        "print(\"MAE (Mean Absolute Error)\", mae)\n",
        "print(\"r^2 score\", r2)\n",
        "print('RMSE (Root Mean Squared Error', np.sqrt(mean_squared_error(label_test, predictions)))"
      ],
      "execution_count": null,
      "outputs": [
        {
          "output_type": "stream",
          "text": [
            "MSE (Mean Squared Error) 0.15833216263465508\n",
            "MAE (Mean Absolute Error) 0.30038657762277127\n",
            "r^2 score 0.8422345221773456\n",
            "RMSE (Root Mean Squared Error 0.39790974181924105\n"
          ],
          "name": "stdout"
        }
      ]
    },
    {
      "cell_type": "code",
      "metadata": {
        "id": "ovt4YX7h-Gq7"
      },
      "source": [
        "def plot_loss(history):\n",
        "  plt.plot(history.history['loss'], label='loss')\n",
        "  plt.plot(history.history['val_loss'], label='val_loss')\n",
        "  plt.xlabel('Epoch')\n",
        "  plt.ylabel('Loss (MSE)')\n",
        "  plt.legend()\n",
        "  plt.grid(True)"
      ],
      "execution_count": null,
      "outputs": []
    },
    {
      "cell_type": "code",
      "metadata": {
        "id": "EhnVfEv0-JAS",
        "outputId": "ef281050-6e94-45ab-e4b7-4a17ca88467f",
        "colab": {
          "base_uri": "https://localhost:8080/",
          "height": 419
        }
      },
      "source": [
        "history_dataframe = pd.DataFrame(history.history)\n",
        "history_dataframe['epoch'] = history.epoch\n",
        "history_dataframe"
      ],
      "execution_count": null,
      "outputs": [
        {
          "output_type": "execute_result",
          "data": {
            "text/html": [
              "<div>\n",
              "<style scoped>\n",
              "    .dataframe tbody tr th:only-of-type {\n",
              "        vertical-align: middle;\n",
              "    }\n",
              "\n",
              "    .dataframe tbody tr th {\n",
              "        vertical-align: top;\n",
              "    }\n",
              "\n",
              "    .dataframe thead th {\n",
              "        text-align: right;\n",
              "    }\n",
              "</style>\n",
              "<table border=\"1\" class=\"dataframe\">\n",
              "  <thead>\n",
              "    <tr style=\"text-align: right;\">\n",
              "      <th></th>\n",
              "      <th>loss</th>\n",
              "      <th>val_loss</th>\n",
              "      <th>epoch</th>\n",
              "    </tr>\n",
              "  </thead>\n",
              "  <tbody>\n",
              "    <tr>\n",
              "      <th>0</th>\n",
              "      <td>0.934676</td>\n",
              "      <td>0.849046</td>\n",
              "      <td>0</td>\n",
              "    </tr>\n",
              "    <tr>\n",
              "      <th>1</th>\n",
              "      <td>0.685337</td>\n",
              "      <td>0.535322</td>\n",
              "      <td>1</td>\n",
              "    </tr>\n",
              "    <tr>\n",
              "      <th>2</th>\n",
              "      <td>0.362853</td>\n",
              "      <td>0.306045</td>\n",
              "      <td>2</td>\n",
              "    </tr>\n",
              "    <tr>\n",
              "      <th>3</th>\n",
              "      <td>0.230000</td>\n",
              "      <td>0.246740</td>\n",
              "      <td>3</td>\n",
              "    </tr>\n",
              "    <tr>\n",
              "      <th>4</th>\n",
              "      <td>0.199372</td>\n",
              "      <td>0.229861</td>\n",
              "      <td>4</td>\n",
              "    </tr>\n",
              "    <tr>\n",
              "      <th>...</th>\n",
              "      <td>...</td>\n",
              "      <td>...</td>\n",
              "      <td>...</td>\n",
              "    </tr>\n",
              "    <tr>\n",
              "      <th>95</th>\n",
              "      <td>0.096000</td>\n",
              "      <td>0.153686</td>\n",
              "      <td>95</td>\n",
              "    </tr>\n",
              "    <tr>\n",
              "      <th>96</th>\n",
              "      <td>0.097132</td>\n",
              "      <td>0.153256</td>\n",
              "      <td>96</td>\n",
              "    </tr>\n",
              "    <tr>\n",
              "      <th>97</th>\n",
              "      <td>0.096079</td>\n",
              "      <td>0.155890</td>\n",
              "      <td>97</td>\n",
              "    </tr>\n",
              "    <tr>\n",
              "      <th>98</th>\n",
              "      <td>0.095082</td>\n",
              "      <td>0.157544</td>\n",
              "      <td>98</td>\n",
              "    </tr>\n",
              "    <tr>\n",
              "      <th>99</th>\n",
              "      <td>0.095471</td>\n",
              "      <td>0.158332</td>\n",
              "      <td>99</td>\n",
              "    </tr>\n",
              "  </tbody>\n",
              "</table>\n",
              "<p>100 rows × 3 columns</p>\n",
              "</div>"
            ],
            "text/plain": [
              "        loss  val_loss  epoch\n",
              "0   0.934676  0.849046      0\n",
              "1   0.685337  0.535322      1\n",
              "2   0.362853  0.306045      2\n",
              "3   0.230000  0.246740      3\n",
              "4   0.199372  0.229861      4\n",
              "..       ...       ...    ...\n",
              "95  0.096000  0.153686     95\n",
              "96  0.097132  0.153256     96\n",
              "97  0.096079  0.155890     97\n",
              "98  0.095082  0.157544     98\n",
              "99  0.095471  0.158332     99\n",
              "\n",
              "[100 rows x 3 columns]"
            ]
          },
          "metadata": {
            "tags": []
          },
          "execution_count": 46
        }
      ]
    },
    {
      "cell_type": "code",
      "metadata": {
        "id": "5R67GHJZ8ce2",
        "outputId": "81feee80-33c8-4aa5-8e0c-d1d63aeb0c96",
        "colab": {
          "base_uri": "https://localhost:8080/",
          "height": 419
        }
      },
      "source": [
        "history_dataframe.sort_values(by='val_loss', ascending=True)"
      ],
      "execution_count": null,
      "outputs": [
        {
          "output_type": "execute_result",
          "data": {
            "text/html": [
              "<div>\n",
              "<style scoped>\n",
              "    .dataframe tbody tr th:only-of-type {\n",
              "        vertical-align: middle;\n",
              "    }\n",
              "\n",
              "    .dataframe tbody tr th {\n",
              "        vertical-align: top;\n",
              "    }\n",
              "\n",
              "    .dataframe thead th {\n",
              "        text-align: right;\n",
              "    }\n",
              "</style>\n",
              "<table border=\"1\" class=\"dataframe\">\n",
              "  <thead>\n",
              "    <tr style=\"text-align: right;\">\n",
              "      <th></th>\n",
              "      <th>loss</th>\n",
              "      <th>val_loss</th>\n",
              "      <th>epoch</th>\n",
              "    </tr>\n",
              "  </thead>\n",
              "  <tbody>\n",
              "    <tr>\n",
              "      <th>49</th>\n",
              "      <td>0.105038</td>\n",
              "      <td>0.151747</td>\n",
              "      <td>49</td>\n",
              "    </tr>\n",
              "    <tr>\n",
              "      <th>51</th>\n",
              "      <td>0.104525</td>\n",
              "      <td>0.151882</td>\n",
              "      <td>51</td>\n",
              "    </tr>\n",
              "    <tr>\n",
              "      <th>78</th>\n",
              "      <td>0.099856</td>\n",
              "      <td>0.152013</td>\n",
              "      <td>78</td>\n",
              "    </tr>\n",
              "    <tr>\n",
              "      <th>63</th>\n",
              "      <td>0.102209</td>\n",
              "      <td>0.152052</td>\n",
              "      <td>63</td>\n",
              "    </tr>\n",
              "    <tr>\n",
              "      <th>88</th>\n",
              "      <td>0.098950</td>\n",
              "      <td>0.152842</td>\n",
              "      <td>88</td>\n",
              "    </tr>\n",
              "    <tr>\n",
              "      <th>...</th>\n",
              "      <td>...</td>\n",
              "      <td>...</td>\n",
              "      <td>...</td>\n",
              "    </tr>\n",
              "    <tr>\n",
              "      <th>4</th>\n",
              "      <td>0.199372</td>\n",
              "      <td>0.229861</td>\n",
              "      <td>4</td>\n",
              "    </tr>\n",
              "    <tr>\n",
              "      <th>3</th>\n",
              "      <td>0.230000</td>\n",
              "      <td>0.246740</td>\n",
              "      <td>3</td>\n",
              "    </tr>\n",
              "    <tr>\n",
              "      <th>2</th>\n",
              "      <td>0.362853</td>\n",
              "      <td>0.306045</td>\n",
              "      <td>2</td>\n",
              "    </tr>\n",
              "    <tr>\n",
              "      <th>1</th>\n",
              "      <td>0.685337</td>\n",
              "      <td>0.535322</td>\n",
              "      <td>1</td>\n",
              "    </tr>\n",
              "    <tr>\n",
              "      <th>0</th>\n",
              "      <td>0.934676</td>\n",
              "      <td>0.849046</td>\n",
              "      <td>0</td>\n",
              "    </tr>\n",
              "  </tbody>\n",
              "</table>\n",
              "<p>100 rows × 3 columns</p>\n",
              "</div>"
            ],
            "text/plain": [
              "        loss  val_loss  epoch\n",
              "49  0.105038  0.151747     49\n",
              "51  0.104525  0.151882     51\n",
              "78  0.099856  0.152013     78\n",
              "63  0.102209  0.152052     63\n",
              "88  0.098950  0.152842     88\n",
              "..       ...       ...    ...\n",
              "4   0.199372  0.229861      4\n",
              "3   0.230000  0.246740      3\n",
              "2   0.362853  0.306045      2\n",
              "1   0.685337  0.535322      1\n",
              "0   0.934676  0.849046      0\n",
              "\n",
              "[100 rows x 3 columns]"
            ]
          },
          "metadata": {
            "tags": []
          },
          "execution_count": 47
        }
      ]
    },
    {
      "cell_type": "code",
      "metadata": {
        "id": "H4BETmmT-VPy",
        "outputId": "6e0f9001-3174-4a21-cabe-0f07163911df",
        "colab": {
          "base_uri": "https://localhost:8080/",
          "height": 279
        }
      },
      "source": [
        "plot_loss(history) # epoch vs loss graph"
      ],
      "execution_count": null,
      "outputs": [
        {
          "output_type": "display_data",
          "data": {
            "image/png": "[encoded data removed]",
            "text/plain": [
              "<Figure size 432x288 with 1 Axes>"
            ]
          },
          "metadata": {
            "tags": [],
            "needs_background": "light"
          }
        }
      ]
    },
    {
      "cell_type": "code",
      "metadata": {
        "id": "dBvCRHud-A2e",
        "outputId": "4ba99b8e-16d7-4b2f-a248-72c653ca559c",
        "colab": {
          "base_uri": "https://localhost:8080/",
          "height": 221
        }
      },
      "source": [
        "from tensorflow.keras.optimizers import SGD\n",
        "\n",
        "wider_model_tuned = Sequential()\n",
        "wider_model_tuned.add(Dense(20, input_dim=7, kernel_initializer='normal', activation='relu'))\n",
        "wider_model_tuned.add(Dense(1, kernel_initializer='normal'))\n",
        "\n",
        "opt = SGD(lr=0.001, momentum=0.9)\n",
        "\n",
        "wider_model_tuned.compile(loss='mean_squared_error', optimizer=opt)\n",
        "\n",
        "wider_model_tuned.summary()"
      ],
      "execution_count": null,
      "outputs": [
        {
          "output_type": "stream",
          "text": [
            "Model: \"sequential_5\"\n",
            "_________________________________________________________________\n",
            "Layer (type)                 Output Shape              Param #   \n",
            "=================================================================\n",
            "dense_11 (Dense)             (None, 20)                160       \n",
            "_________________________________________________________________\n",
            "dense_12 (Dense)             (None, 1)                 21        \n",
            "=================================================================\n",
            "Total params: 181\n",
            "Trainable params: 181\n",
            "Non-trainable params: 0\n",
            "_________________________________________________________________\n"
          ],
          "name": "stdout"
        }
      ]
    },
    {
      "cell_type": "code",
      "metadata": {
        "id": "iklWJYPo-Thn",
        "outputId": "fe1c73eb-e8ec-4bb2-f15f-686552de60e2",
        "colab": {
          "base_uri": "https://localhost:8080/",
          "height": 1000
        }
      },
      "source": [
        "history_tuned = wider_model_tuned.fit(x=feature_train, y=label_train, validation_data=(feature_test, label_test), epochs=100, batch_size=8)"
      ],
      "execution_count": null,
      "outputs": [
        {
          "output_type": "stream",
          "text": [
            "Epoch 1/100\n",
            "40/40 [==============================] - 0s 3ms/step - loss: 0.9464 - val_loss: 0.8907\n",
            "Epoch 2/100\n",
            "40/40 [==============================] - 0s 1ms/step - loss: 0.7783 - val_loss: 0.6471\n",
            "Epoch 3/100\n",
            "40/40 [==============================] - 0s 1ms/step - loss: 0.4680 - val_loss: 0.3451\n",
            "Epoch 4/100\n",
            "40/40 [==============================] - 0s 1ms/step - loss: 0.2567 - val_loss: 0.2506\n",
            "Epoch 5/100\n",
            "40/40 [==============================] - 0s 1ms/step - loss: 0.2078 - val_loss: 0.2290\n",
            "Epoch 6/100\n",
            "40/40 [==============================] - 0s 1ms/step - loss: 0.1901 - val_loss: 0.2158\n",
            "Epoch 7/100\n",
            "40/40 [==============================] - 0s 2ms/step - loss: 0.1783 - val_loss: 0.2027\n",
            "Epoch 8/100\n",
            "40/40 [==============================] - 0s 1ms/step - loss: 0.1682 - val_loss: 0.1944\n",
            "Epoch 9/100\n",
            "40/40 [==============================] - 0s 1ms/step - loss: 0.1611 - val_loss: 0.1876\n",
            "Epoch 10/100\n",
            "40/40 [==============================] - 0s 1ms/step - loss: 0.1542 - val_loss: 0.1822\n",
            "Epoch 11/100\n",
            "40/40 [==============================] - 0s 1ms/step - loss: 0.1495 - val_loss: 0.1803\n",
            "Epoch 12/100\n",
            "40/40 [==============================] - 0s 1ms/step - loss: 0.1474 - val_loss: 0.1748\n",
            "Epoch 13/100\n",
            "40/40 [==============================] - 0s 1ms/step - loss: 0.1423 - val_loss: 0.1771\n",
            "Epoch 14/100\n",
            "40/40 [==============================] - 0s 1ms/step - loss: 0.1402 - val_loss: 0.1739\n",
            "Epoch 15/100\n",
            "40/40 [==============================] - 0s 1ms/step - loss: 0.1379 - val_loss: 0.1694\n",
            "Epoch 16/100\n",
            "40/40 [==============================] - 0s 2ms/step - loss: 0.1360 - val_loss: 0.1705\n",
            "Epoch 17/100\n",
            "40/40 [==============================] - 0s 1ms/step - loss: 0.1331 - val_loss: 0.1659\n",
            "Epoch 18/100\n",
            "40/40 [==============================] - 0s 1ms/step - loss: 0.1329 - val_loss: 0.1660\n",
            "Epoch 19/100\n",
            "40/40 [==============================] - 0s 1ms/step - loss: 0.1299 - val_loss: 0.1682\n",
            "Epoch 20/100\n",
            "40/40 [==============================] - 0s 1ms/step - loss: 0.1296 - val_loss: 0.1657\n",
            "Epoch 21/100\n",
            "40/40 [==============================] - 0s 1ms/step - loss: 0.1274 - val_loss: 0.1624\n",
            "Epoch 22/100\n",
            "40/40 [==============================] - 0s 1ms/step - loss: 0.1269 - val_loss: 0.1639\n",
            "Epoch 23/100\n",
            "40/40 [==============================] - 0s 1ms/step - loss: 0.1246 - val_loss: 0.1635\n",
            "Epoch 24/100\n",
            "40/40 [==============================] - 0s 2ms/step - loss: 0.1245 - val_loss: 0.1635\n",
            "Epoch 25/100\n",
            "40/40 [==============================] - 0s 2ms/step - loss: 0.1228 - val_loss: 0.1633\n",
            "Epoch 26/100\n",
            "40/40 [==============================] - 0s 1ms/step - loss: 0.1209 - val_loss: 0.1598\n",
            "Epoch 27/100\n",
            "40/40 [==============================] - 0s 2ms/step - loss: 0.1207 - val_loss: 0.1594\n",
            "Epoch 28/100\n",
            "40/40 [==============================] - 0s 1ms/step - loss: 0.1198 - val_loss: 0.1594\n",
            "Epoch 29/100\n",
            "40/40 [==============================] - 0s 1ms/step - loss: 0.1187 - val_loss: 0.1559\n",
            "Epoch 30/100\n",
            "40/40 [==============================] - 0s 2ms/step - loss: 0.1174 - val_loss: 0.1601\n",
            "Epoch 31/100\n",
            "40/40 [==============================] - 0s 1ms/step - loss: 0.1161 - val_loss: 0.1565\n",
            "Epoch 32/100\n",
            "40/40 [==============================] - 0s 2ms/step - loss: 0.1155 - val_loss: 0.1608\n",
            "Epoch 33/100\n",
            "40/40 [==============================] - 0s 2ms/step - loss: 0.1158 - val_loss: 0.1554\n",
            "Epoch 34/100\n",
            "40/40 [==============================] - 0s 1ms/step - loss: 0.1140 - val_loss: 0.1570\n",
            "Epoch 35/100\n",
            "40/40 [==============================] - 0s 1ms/step - loss: 0.1139 - val_loss: 0.1563\n",
            "Epoch 36/100\n",
            "40/40 [==============================] - 0s 2ms/step - loss: 0.1130 - val_loss: 0.1543\n",
            "Epoch 37/100\n",
            "40/40 [==============================] - 0s 2ms/step - loss: 0.1119 - val_loss: 0.1570\n",
            "Epoch 38/100\n",
            "40/40 [==============================] - 0s 1ms/step - loss: 0.1117 - val_loss: 0.1556\n",
            "Epoch 39/100\n",
            "40/40 [==============================] - 0s 2ms/step - loss: 0.1113 - val_loss: 0.1576\n",
            "Epoch 40/100\n",
            "40/40 [==============================] - 0s 1ms/step - loss: 0.1106 - val_loss: 0.1557\n",
            "Epoch 41/100\n",
            "40/40 [==============================] - 0s 1ms/step - loss: 0.1103 - val_loss: 0.1570\n",
            "Epoch 42/100\n",
            "40/40 [==============================] - 0s 1ms/step - loss: 0.1100 - val_loss: 0.1584\n",
            "Epoch 43/100\n",
            "40/40 [==============================] - 0s 1ms/step - loss: 0.1096 - val_loss: 0.1560\n",
            "Epoch 44/100\n",
            "40/40 [==============================] - 0s 1ms/step - loss: 0.1093 - val_loss: 0.1550\n",
            "Epoch 45/100\n",
            "40/40 [==============================] - 0s 1ms/step - loss: 0.1094 - val_loss: 0.1545\n",
            "Epoch 46/100\n",
            "40/40 [==============================] - 0s 1ms/step - loss: 0.1090 - val_loss: 0.1581\n",
            "Epoch 47/100\n",
            "40/40 [==============================] - 0s 1ms/step - loss: 0.1094 - val_loss: 0.1572\n",
            "Epoch 48/100\n",
            "40/40 [==============================] - 0s 2ms/step - loss: 0.1083 - val_loss: 0.1565\n",
            "Epoch 49/100\n",
            "40/40 [==============================] - 0s 1ms/step - loss: 0.1085 - val_loss: 0.1569\n",
            "Epoch 50/100\n",
            "40/40 [==============================] - 0s 2ms/step - loss: 0.1093 - val_loss: 0.1528\n",
            "Epoch 51/100\n",
            "40/40 [==============================] - 0s 1ms/step - loss: 0.1074 - val_loss: 0.1587\n",
            "Epoch 52/100\n",
            "40/40 [==============================] - 0s 2ms/step - loss: 0.1073 - val_loss: 0.1581\n",
            "Epoch 53/100\n",
            "40/40 [==============================] - 0s 1ms/step - loss: 0.1074 - val_loss: 0.1582\n",
            "Epoch 54/100\n",
            "40/40 [==============================] - 0s 1ms/step - loss: 0.1069 - val_loss: 0.1564\n",
            "Epoch 55/100\n",
            "40/40 [==============================] - 0s 1ms/step - loss: 0.1068 - val_loss: 0.1597\n",
            "Epoch 56/100\n",
            "40/40 [==============================] - 0s 1ms/step - loss: 0.1079 - val_loss: 0.1613\n",
            "Epoch 57/100\n",
            "40/40 [==============================] - 0s 1ms/step - loss: 0.1063 - val_loss: 0.1549\n",
            "Epoch 58/100\n",
            "40/40 [==============================] - 0s 1ms/step - loss: 0.1072 - val_loss: 0.1554\n",
            "Epoch 59/100\n",
            "40/40 [==============================] - 0s 1ms/step - loss: 0.1064 - val_loss: 0.1554\n",
            "Epoch 60/100\n",
            "40/40 [==============================] - 0s 1ms/step - loss: 0.1055 - val_loss: 0.1564\n",
            "Epoch 61/100\n",
            "40/40 [==============================] - 0s 1ms/step - loss: 0.1062 - val_loss: 0.1578\n",
            "Epoch 62/100\n",
            "40/40 [==============================] - 0s 1ms/step - loss: 0.1054 - val_loss: 0.1573\n",
            "Epoch 63/100\n",
            "40/40 [==============================] - 0s 1ms/step - loss: 0.1056 - val_loss: 0.1538\n",
            "Epoch 64/100\n",
            "40/40 [==============================] - 0s 1ms/step - loss: 0.1051 - val_loss: 0.1597\n",
            "Epoch 65/100\n",
            "40/40 [==============================] - 0s 1ms/step - loss: 0.1072 - val_loss: 0.1588\n",
            "Epoch 66/100\n",
            "40/40 [==============================] - 0s 1ms/step - loss: 0.1050 - val_loss: 0.1568\n",
            "Epoch 67/100\n",
            "40/40 [==============================] - 0s 1ms/step - loss: 0.1045 - val_loss: 0.1562\n",
            "Epoch 68/100\n",
            "40/40 [==============================] - 0s 1ms/step - loss: 0.1049 - val_loss: 0.1550\n",
            "Epoch 69/100\n",
            "40/40 [==============================] - 0s 1ms/step - loss: 0.1042 - val_loss: 0.1538\n",
            "Epoch 70/100\n",
            "40/40 [==============================] - 0s 1ms/step - loss: 0.1043 - val_loss: 0.1564\n",
            "Epoch 71/100\n",
            "40/40 [==============================] - 0s 1ms/step - loss: 0.1048 - val_loss: 0.1547\n",
            "Epoch 72/100\n",
            "40/40 [==============================] - 0s 1ms/step - loss: 0.1043 - val_loss: 0.1545\n",
            "Epoch 73/100\n",
            "40/40 [==============================] - 0s 1ms/step - loss: 0.1037 - val_loss: 0.1571\n",
            "Epoch 74/100\n",
            "40/40 [==============================] - 0s 1ms/step - loss: 0.1041 - val_loss: 0.1583\n",
            "Epoch 75/100\n",
            "40/40 [==============================] - 0s 2ms/step - loss: 0.1052 - val_loss: 0.1561\n",
            "Epoch 76/100\n",
            "40/40 [==============================] - 0s 1ms/step - loss: 0.1040 - val_loss: 0.1545\n",
            "Epoch 77/100\n",
            "40/40 [==============================] - 0s 1ms/step - loss: 0.1034 - val_loss: 0.1544\n",
            "Epoch 78/100\n",
            "40/40 [==============================] - 0s 1ms/step - loss: 0.1036 - val_loss: 0.1569\n",
            "Epoch 79/100\n",
            "40/40 [==============================] - 0s 1ms/step - loss: 0.1039 - val_loss: 0.1549\n",
            "Epoch 80/100\n",
            "40/40 [==============================] - 0s 1ms/step - loss: 0.1043 - val_loss: 0.1546\n",
            "Epoch 81/100\n",
            "40/40 [==============================] - 0s 1ms/step - loss: 0.1036 - val_loss: 0.1563\n",
            "Epoch 82/100\n",
            "40/40 [==============================] - 0s 1ms/step - loss: 0.1040 - val_loss: 0.1559\n",
            "Epoch 83/100\n",
            "40/40 [==============================] - 0s 1ms/step - loss: 0.1039 - val_loss: 0.1595\n",
            "Epoch 84/100\n",
            "40/40 [==============================] - 0s 1ms/step - loss: 0.1040 - val_loss: 0.1554\n",
            "Epoch 85/100\n",
            "40/40 [==============================] - 0s 1ms/step - loss: 0.1034 - val_loss: 0.1552\n",
            "Epoch 86/100\n",
            "40/40 [==============================] - 0s 1ms/step - loss: 0.1028 - val_loss: 0.1544\n",
            "Epoch 87/100\n",
            "40/40 [==============================] - 0s 1ms/step - loss: 0.1031 - val_loss: 0.1567\n",
            "Epoch 88/100\n",
            "40/40 [==============================] - 0s 1ms/step - loss: 0.1025 - val_loss: 0.1528\n",
            "Epoch 89/100\n",
            "40/40 [==============================] - 0s 1ms/step - loss: 0.1022 - val_loss: 0.1530\n",
            "Epoch 90/100\n",
            "40/40 [==============================] - 0s 1ms/step - loss: 0.1021 - val_loss: 0.1548\n",
            "Epoch 91/100\n",
            "40/40 [==============================] - 0s 1ms/step - loss: 0.1026 - val_loss: 0.1523\n",
            "Epoch 92/100\n",
            "40/40 [==============================] - 0s 1ms/step - loss: 0.1024 - val_loss: 0.1518\n",
            "Epoch 93/100\n",
            "40/40 [==============================] - 0s 1ms/step - loss: 0.1015 - val_loss: 0.1539\n",
            "Epoch 94/100\n",
            "40/40 [==============================] - 0s 1ms/step - loss: 0.1014 - val_loss: 0.1527\n",
            "Epoch 95/100\n",
            "40/40 [==============================] - 0s 1ms/step - loss: 0.1014 - val_loss: 0.1544\n",
            "Epoch 96/100\n",
            "40/40 [==============================] - 0s 1ms/step - loss: 0.1024 - val_loss: 0.1538\n",
            "Epoch 97/100\n",
            "40/40 [==============================] - 0s 1ms/step - loss: 0.1013 - val_loss: 0.1517\n",
            "Epoch 98/100\n",
            "40/40 [==============================] - 0s 1ms/step - loss: 0.1023 - val_loss: 0.1560\n",
            "Epoch 99/100\n",
            "40/40 [==============================] - 0s 2ms/step - loss: 0.1009 - val_loss: 0.1525\n",
            "Epoch 100/100\n",
            "40/40 [==============================] - 0s 1ms/step - loss: 0.1015 - val_loss: 0.1514\n"
          ],
          "name": "stdout"
        }
      ]
    },
    {
      "cell_type": "code",
      "metadata": {
        "id": "e0vFDtvR-dah",
        "outputId": "ae56ce5d-09d1-4032-d173-c37ae210dd3e",
        "colab": {
          "base_uri": "https://localhost:8080/",
          "height": 419
        }
      },
      "source": [
        "history_tuned_dataframe = pd.DataFrame(history_tuned.history)\n",
        "history_tuned_dataframe['epoch'] = history_tuned.epoch\n",
        "history_tuned_dataframe.sort_values(by='val_loss', ascending=True)"
      ],
      "execution_count": null,
      "outputs": [
        {
          "output_type": "execute_result",
          "data": {
            "text/html": [
              "<div>\n",
              "<style scoped>\n",
              "    .dataframe tbody tr th:only-of-type {\n",
              "        vertical-align: middle;\n",
              "    }\n",
              "\n",
              "    .dataframe tbody tr th {\n",
              "        vertical-align: top;\n",
              "    }\n",
              "\n",
              "    .dataframe thead th {\n",
              "        text-align: right;\n",
              "    }\n",
              "</style>\n",
              "<table border=\"1\" class=\"dataframe\">\n",
              "  <thead>\n",
              "    <tr style=\"text-align: right;\">\n",
              "      <th></th>\n",
              "      <th>loss</th>\n",
              "      <th>val_loss</th>\n",
              "      <th>epoch</th>\n",
              "    </tr>\n",
              "  </thead>\n",
              "  <tbody>\n",
              "    <tr>\n",
              "      <th>99</th>\n",
              "      <td>0.101454</td>\n",
              "      <td>0.151361</td>\n",
              "      <td>99</td>\n",
              "    </tr>\n",
              "    <tr>\n",
              "      <th>96</th>\n",
              "      <td>0.101291</td>\n",
              "      <td>0.151651</td>\n",
              "      <td>96</td>\n",
              "    </tr>\n",
              "    <tr>\n",
              "      <th>91</th>\n",
              "      <td>0.102351</td>\n",
              "      <td>0.151825</td>\n",
              "      <td>91</td>\n",
              "    </tr>\n",
              "    <tr>\n",
              "      <th>90</th>\n",
              "      <td>0.102573</td>\n",
              "      <td>0.152267</td>\n",
              "      <td>90</td>\n",
              "    </tr>\n",
              "    <tr>\n",
              "      <th>98</th>\n",
              "      <td>0.100899</td>\n",
              "      <td>0.152466</td>\n",
              "      <td>98</td>\n",
              "    </tr>\n",
              "    <tr>\n",
              "      <th>...</th>\n",
              "      <td>...</td>\n",
              "      <td>...</td>\n",
              "      <td>...</td>\n",
              "    </tr>\n",
              "    <tr>\n",
              "      <th>4</th>\n",
              "      <td>0.207842</td>\n",
              "      <td>0.228987</td>\n",
              "      <td>4</td>\n",
              "    </tr>\n",
              "    <tr>\n",
              "      <th>3</th>\n",
              "      <td>0.256682</td>\n",
              "      <td>0.250636</td>\n",
              "      <td>3</td>\n",
              "    </tr>\n",
              "    <tr>\n",
              "      <th>2</th>\n",
              "      <td>0.467961</td>\n",
              "      <td>0.345124</td>\n",
              "      <td>2</td>\n",
              "    </tr>\n",
              "    <tr>\n",
              "      <th>1</th>\n",
              "      <td>0.778313</td>\n",
              "      <td>0.647082</td>\n",
              "      <td>1</td>\n",
              "    </tr>\n",
              "    <tr>\n",
              "      <th>0</th>\n",
              "      <td>0.946438</td>\n",
              "      <td>0.890657</td>\n",
              "      <td>0</td>\n",
              "    </tr>\n",
              "  </tbody>\n",
              "</table>\n",
              "<p>100 rows × 3 columns</p>\n",
              "</div>"
            ],
            "text/plain": [
              "        loss  val_loss  epoch\n",
              "99  0.101454  0.151361     99\n",
              "96  0.101291  0.151651     96\n",
              "91  0.102351  0.151825     91\n",
              "90  0.102573  0.152267     90\n",
              "98  0.100899  0.152466     98\n",
              "..       ...       ...    ...\n",
              "4   0.207842  0.228987      4\n",
              "3   0.256682  0.250636      3\n",
              "2   0.467961  0.345124      2\n",
              "1   0.778313  0.647082      1\n",
              "0   0.946438  0.890657      0\n",
              "\n",
              "[100 rows x 3 columns]"
            ]
          },
          "metadata": {
            "tags": []
          },
          "execution_count": 52
        }
      ]
    },
    {
      "cell_type": "code",
      "metadata": {
        "id": "tOisowvK-_12",
        "outputId": "d42ba2fa-675d-422e-c201-c0f701f6857a",
        "colab": {
          "base_uri": "https://localhost:8080/",
          "height": 221
        }
      },
      "source": [
        "from tensorflow.keras.optimizers import RMSprop\n",
        "\n",
        "wider_model_rmsprop = Sequential()\n",
        "wider_model_rmsprop.add(Dense(20, input_dim=7, kernel_initializer='normal', activation='relu'))\n",
        "wider_model_rmsprop.add(Dense(1, kernel_initializer='normal'))\n",
        "\n",
        "opt = RMSprop(lr=0.001)\n",
        "\n",
        "wider_model_rmsprop.compile(loss='mean_squared_error', optimizer=opt)\n",
        "\n",
        "wider_model_rmsprop.summary()"
      ],
      "execution_count": null,
      "outputs": [
        {
          "output_type": "stream",
          "text": [
            "Model: \"sequential_7\"\n",
            "_________________________________________________________________\n",
            "Layer (type)                 Output Shape              Param #   \n",
            "=================================================================\n",
            "dense_15 (Dense)             (None, 20)                160       \n",
            "_________________________________________________________________\n",
            "dense_16 (Dense)             (None, 1)                 21        \n",
            "=================================================================\n",
            "Total params: 181\n",
            "Trainable params: 181\n",
            "Non-trainable params: 0\n",
            "_________________________________________________________________\n"
          ],
          "name": "stdout"
        }
      ]
    },
    {
      "cell_type": "code",
      "metadata": {
        "id": "NHe2-cXq_MnJ",
        "outputId": "b114c003-0e12-4494-b56c-ba17c81e4b7c",
        "colab": {
          "base_uri": "https://localhost:8080/",
          "height": 1000
        }
      },
      "source": [
        "history_rmsprop = wider_model_rmsprop.fit(x=feature_train, y=label_train, validation_data=(feature_test, label_test), epochs=100, batch_size=8)"
      ],
      "execution_count": null,
      "outputs": [
        {
          "output_type": "stream",
          "text": [
            "Epoch 1/100\n",
            "40/40 [==============================] - 0s 3ms/step - loss: 0.8399 - val_loss: 0.6874\n",
            "Epoch 2/100\n",
            "40/40 [==============================] - 0s 1ms/step - loss: 0.5353 - val_loss: 0.4165\n",
            "Epoch 3/100\n",
            "40/40 [==============================] - 0s 1ms/step - loss: 0.3342 - val_loss: 0.2958\n",
            "Epoch 4/100\n",
            "40/40 [==============================] - 0s 1ms/step - loss: 0.2430 - val_loss: 0.2512\n",
            "Epoch 5/100\n",
            "40/40 [==============================] - 0s 2ms/step - loss: 0.2049 - val_loss: 0.2337\n",
            "Epoch 6/100\n",
            "40/40 [==============================] - 0s 2ms/step - loss: 0.1867 - val_loss: 0.2187\n",
            "Epoch 7/100\n",
            "40/40 [==============================] - 0s 1ms/step - loss: 0.1719 - val_loss: 0.2088\n",
            "Epoch 8/100\n",
            "40/40 [==============================] - 0s 1ms/step - loss: 0.1602 - val_loss: 0.1973\n",
            "Epoch 9/100\n",
            "40/40 [==============================] - 0s 1ms/step - loss: 0.1533 - val_loss: 0.1931\n",
            "Epoch 10/100\n",
            "40/40 [==============================] - 0s 1ms/step - loss: 0.1466 - val_loss: 0.1889\n",
            "Epoch 11/100\n",
            "40/40 [==============================] - 0s 1ms/step - loss: 0.1417 - val_loss: 0.1858\n",
            "Epoch 12/100\n",
            "40/40 [==============================] - 0s 1ms/step - loss: 0.1377 - val_loss: 0.1825\n",
            "Epoch 13/100\n",
            "40/40 [==============================] - 0s 1ms/step - loss: 0.1340 - val_loss: 0.1794\n",
            "Epoch 14/100\n",
            "40/40 [==============================] - 0s 1ms/step - loss: 0.1310 - val_loss: 0.1758\n",
            "Epoch 15/100\n",
            "40/40 [==============================] - 0s 1ms/step - loss: 0.1288 - val_loss: 0.1742\n",
            "Epoch 16/100\n",
            "40/40 [==============================] - 0s 1ms/step - loss: 0.1260 - val_loss: 0.1716\n",
            "Epoch 17/100\n",
            "40/40 [==============================] - 0s 1ms/step - loss: 0.1238 - val_loss: 0.1706\n",
            "Epoch 18/100\n",
            "40/40 [==============================] - 0s 1ms/step - loss: 0.1221 - val_loss: 0.1693\n",
            "Epoch 19/100\n",
            "40/40 [==============================] - 0s 1ms/step - loss: 0.1203 - val_loss: 0.1657\n",
            "Epoch 20/100\n",
            "40/40 [==============================] - 0s 1ms/step - loss: 0.1200 - val_loss: 0.1662\n",
            "Epoch 21/100\n",
            "40/40 [==============================] - 0s 1ms/step - loss: 0.1181 - val_loss: 0.1635\n",
            "Epoch 22/100\n",
            "40/40 [==============================] - 0s 2ms/step - loss: 0.1180 - val_loss: 0.1663\n",
            "Epoch 23/100\n",
            "40/40 [==============================] - 0s 2ms/step - loss: 0.1163 - val_loss: 0.1651\n",
            "Epoch 24/100\n",
            "40/40 [==============================] - 0s 1ms/step - loss: 0.1157 - val_loss: 0.1627\n",
            "Epoch 25/100\n",
            "40/40 [==============================] - 0s 2ms/step - loss: 0.1147 - val_loss: 0.1616\n",
            "Epoch 26/100\n",
            "40/40 [==============================] - 0s 2ms/step - loss: 0.1142 - val_loss: 0.1608\n",
            "Epoch 27/100\n",
            "40/40 [==============================] - 0s 1ms/step - loss: 0.1133 - val_loss: 0.1585\n",
            "Epoch 28/100\n",
            "40/40 [==============================] - 0s 1ms/step - loss: 0.1122 - val_loss: 0.1593\n",
            "Epoch 29/100\n",
            "40/40 [==============================] - 0s 2ms/step - loss: 0.1122 - val_loss: 0.1601\n",
            "Epoch 30/100\n",
            "40/40 [==============================] - 0s 1ms/step - loss: 0.1122 - val_loss: 0.1603\n",
            "Epoch 31/100\n",
            "40/40 [==============================] - 0s 1ms/step - loss: 0.1111 - val_loss: 0.1614\n",
            "Epoch 32/100\n",
            "40/40 [==============================] - 0s 1ms/step - loss: 0.1101 - val_loss: 0.1571\n",
            "Epoch 33/100\n",
            "40/40 [==============================] - 0s 2ms/step - loss: 0.1101 - val_loss: 0.1558\n",
            "Epoch 34/100\n",
            "40/40 [==============================] - 0s 1ms/step - loss: 0.1100 - val_loss: 0.1603\n",
            "Epoch 35/100\n",
            "40/40 [==============================] - 0s 1ms/step - loss: 0.1096 - val_loss: 0.1575\n",
            "Epoch 36/100\n",
            "40/40 [==============================] - 0s 1ms/step - loss: 0.1089 - val_loss: 0.1541\n",
            "Epoch 37/100\n",
            "40/40 [==============================] - 0s 1ms/step - loss: 0.1087 - val_loss: 0.1561\n",
            "Epoch 38/100\n",
            "40/40 [==============================] - 0s 1ms/step - loss: 0.1082 - val_loss: 0.1563\n",
            "Epoch 39/100\n",
            "40/40 [==============================] - 0s 1ms/step - loss: 0.1066 - val_loss: 0.1517\n",
            "Epoch 40/100\n",
            "40/40 [==============================] - 0s 1ms/step - loss: 0.1070 - val_loss: 0.1523\n",
            "Epoch 41/100\n",
            "40/40 [==============================] - 0s 1ms/step - loss: 0.1075 - val_loss: 0.1551\n",
            "Epoch 42/100\n",
            "40/40 [==============================] - 0s 1ms/step - loss: 0.1067 - val_loss: 0.1577\n",
            "Epoch 43/100\n",
            "40/40 [==============================] - 0s 1ms/step - loss: 0.1061 - val_loss: 0.1590\n",
            "Epoch 44/100\n",
            "40/40 [==============================] - 0s 1ms/step - loss: 0.1063 - val_loss: 0.1587\n",
            "Epoch 45/100\n",
            "40/40 [==============================] - 0s 1ms/step - loss: 0.1061 - val_loss: 0.1600\n",
            "Epoch 46/100\n",
            "40/40 [==============================] - 0s 1ms/step - loss: 0.1050 - val_loss: 0.1520\n",
            "Epoch 47/100\n",
            "40/40 [==============================] - 0s 1ms/step - loss: 0.1050 - val_loss: 0.1593\n",
            "Epoch 48/100\n",
            "40/40 [==============================] - 0s 1ms/step - loss: 0.1048 - val_loss: 0.1514\n",
            "Epoch 49/100\n",
            "40/40 [==============================] - 0s 1ms/step - loss: 0.1052 - val_loss: 0.1558\n",
            "Epoch 50/100\n",
            "40/40 [==============================] - 0s 1ms/step - loss: 0.1049 - val_loss: 0.1539\n",
            "Epoch 51/100\n",
            "40/40 [==============================] - 0s 1ms/step - loss: 0.1047 - val_loss: 0.1521\n",
            "Epoch 52/100\n",
            "40/40 [==============================] - 0s 1ms/step - loss: 0.1036 - val_loss: 0.1614\n",
            "Epoch 53/100\n",
            "40/40 [==============================] - 0s 1ms/step - loss: 0.1044 - val_loss: 0.1534\n",
            "Epoch 54/100\n",
            "40/40 [==============================] - 0s 1ms/step - loss: 0.1036 - val_loss: 0.1564\n",
            "Epoch 55/100\n",
            "40/40 [==============================] - 0s 1ms/step - loss: 0.1041 - val_loss: 0.1512\n",
            "Epoch 56/100\n",
            "40/40 [==============================] - 0s 1ms/step - loss: 0.1032 - val_loss: 0.1546\n",
            "Epoch 57/100\n",
            "40/40 [==============================] - 0s 1ms/step - loss: 0.1037 - val_loss: 0.1506\n",
            "Epoch 58/100\n",
            "40/40 [==============================] - 0s 1ms/step - loss: 0.1030 - val_loss: 0.1485\n",
            "Epoch 59/100\n",
            "40/40 [==============================] - 0s 1ms/step - loss: 0.1036 - val_loss: 0.1502\n",
            "Epoch 60/100\n",
            "40/40 [==============================] - 0s 1ms/step - loss: 0.1032 - val_loss: 0.1487\n",
            "Epoch 61/100\n",
            "40/40 [==============================] - 0s 1ms/step - loss: 0.1032 - val_loss: 0.1554\n",
            "Epoch 62/100\n",
            "40/40 [==============================] - 0s 1ms/step - loss: 0.1021 - val_loss: 0.1514\n",
            "Epoch 63/100\n",
            "40/40 [==============================] - 0s 1ms/step - loss: 0.1022 - val_loss: 0.1472\n",
            "Epoch 64/100\n",
            "40/40 [==============================] - 0s 1ms/step - loss: 0.1024 - val_loss: 0.1484\n",
            "Epoch 65/100\n",
            "40/40 [==============================] - 0s 1ms/step - loss: 0.1034 - val_loss: 0.1500\n",
            "Epoch 66/100\n",
            "40/40 [==============================] - 0s 1ms/step - loss: 0.1018 - val_loss: 0.1562\n",
            "Epoch 67/100\n",
            "40/40 [==============================] - 0s 2ms/step - loss: 0.1016 - val_loss: 0.1463\n",
            "Epoch 68/100\n",
            "40/40 [==============================] - 0s 1ms/step - loss: 0.1021 - val_loss: 0.1487\n",
            "Epoch 69/100\n",
            "40/40 [==============================] - 0s 1ms/step - loss: 0.1022 - val_loss: 0.1514\n",
            "Epoch 70/100\n",
            "40/40 [==============================] - 0s 2ms/step - loss: 0.1013 - val_loss: 0.1470\n",
            "Epoch 71/100\n",
            "40/40 [==============================] - 0s 2ms/step - loss: 0.1016 - val_loss: 0.1498\n",
            "Epoch 72/100\n",
            "40/40 [==============================] - 0s 1ms/step - loss: 0.1010 - val_loss: 0.1486\n",
            "Epoch 73/100\n",
            "40/40 [==============================] - 0s 1ms/step - loss: 0.1016 - val_loss: 0.1493\n",
            "Epoch 74/100\n",
            "40/40 [==============================] - 0s 1ms/step - loss: 0.1007 - val_loss: 0.1521\n",
            "Epoch 75/100\n",
            "40/40 [==============================] - 0s 1ms/step - loss: 0.1004 - val_loss: 0.1488\n",
            "Epoch 76/100\n",
            "40/40 [==============================] - 0s 1ms/step - loss: 0.0997 - val_loss: 0.1442\n",
            "Epoch 77/100\n",
            "40/40 [==============================] - 0s 1ms/step - loss: 0.1009 - val_loss: 0.1485\n",
            "Epoch 78/100\n",
            "40/40 [==============================] - 0s 1ms/step - loss: 0.1002 - val_loss: 0.1447\n",
            "Epoch 79/100\n",
            "40/40 [==============================] - 0s 1ms/step - loss: 0.1002 - val_loss: 0.1540\n",
            "Epoch 80/100\n",
            "40/40 [==============================] - 0s 1ms/step - loss: 0.1000 - val_loss: 0.1475\n",
            "Epoch 81/100\n",
            "40/40 [==============================] - 0s 1ms/step - loss: 0.0995 - val_loss: 0.1567\n",
            "Epoch 82/100\n",
            "40/40 [==============================] - 0s 1ms/step - loss: 0.1003 - val_loss: 0.1502\n",
            "Epoch 83/100\n",
            "40/40 [==============================] - 0s 1ms/step - loss: 0.0990 - val_loss: 0.1462\n",
            "Epoch 84/100\n",
            "40/40 [==============================] - 0s 1ms/step - loss: 0.0998 - val_loss: 0.1491\n",
            "Epoch 85/100\n",
            "40/40 [==============================] - 0s 1ms/step - loss: 0.0999 - val_loss: 0.1544\n",
            "Epoch 86/100\n",
            "40/40 [==============================] - 0s 1ms/step - loss: 0.1001 - val_loss: 0.1507\n",
            "Epoch 87/100\n",
            "40/40 [==============================] - 0s 1ms/step - loss: 0.0993 - val_loss: 0.1535\n",
            "Epoch 88/100\n",
            "40/40 [==============================] - 0s 1ms/step - loss: 0.0988 - val_loss: 0.1582\n",
            "Epoch 89/100\n",
            "40/40 [==============================] - 0s 1ms/step - loss: 0.0992 - val_loss: 0.1500\n",
            "Epoch 90/100\n",
            "40/40 [==============================] - 0s 2ms/step - loss: 0.0985 - val_loss: 0.1480\n",
            "Epoch 91/100\n",
            "40/40 [==============================] - 0s 1ms/step - loss: 0.0986 - val_loss: 0.1491\n",
            "Epoch 92/100\n",
            "40/40 [==============================] - 0s 1ms/step - loss: 0.0988 - val_loss: 0.1490\n",
            "Epoch 93/100\n",
            "40/40 [==============================] - 0s 1ms/step - loss: 0.0986 - val_loss: 0.1511\n",
            "Epoch 94/100\n",
            "40/40 [==============================] - 0s 1ms/step - loss: 0.0989 - val_loss: 0.1529\n",
            "Epoch 95/100\n",
            "40/40 [==============================] - 0s 2ms/step - loss: 0.0975 - val_loss: 0.1474\n",
            "Epoch 96/100\n",
            "40/40 [==============================] - 0s 1ms/step - loss: 0.0988 - val_loss: 0.1483\n",
            "Epoch 97/100\n",
            "40/40 [==============================] - 0s 2ms/step - loss: 0.0978 - val_loss: 0.1467\n",
            "Epoch 98/100\n",
            "40/40 [==============================] - 0s 1ms/step - loss: 0.0974 - val_loss: 0.1471\n",
            "Epoch 99/100\n",
            "40/40 [==============================] - 0s 2ms/step - loss: 0.0969 - val_loss: 0.1475\n",
            "Epoch 100/100\n",
            "40/40 [==============================] - 0s 1ms/step - loss: 0.0979 - val_loss: 0.1502\n"
          ],
          "name": "stdout"
        }
      ]
    },
    {
      "cell_type": "code",
      "metadata": {
        "id": "w7sNIEcz_QV7",
        "outputId": "66709879-c753-44f0-9b93-5922eb0f3445",
        "colab": {
          "base_uri": "https://localhost:8080/",
          "height": 419
        }
      },
      "source": [
        "history_rmsprop_dataframe = pd.DataFrame(history_rmsprop.history)\n",
        "history_rmsprop_dataframe['epoch'] = history_rmsprop.epoch\n",
        "history_rmsprop_dataframe.sort_values(by='val_loss', ascending=True)"
      ],
      "execution_count": null,
      "outputs": [
        {
          "output_type": "execute_result",
          "data": {
            "text/html": [
              "<div>\n",
              "<style scoped>\n",
              "    .dataframe tbody tr th:only-of-type {\n",
              "        vertical-align: middle;\n",
              "    }\n",
              "\n",
              "    .dataframe tbody tr th {\n",
              "        vertical-align: top;\n",
              "    }\n",
              "\n",
              "    .dataframe thead th {\n",
              "        text-align: right;\n",
              "    }\n",
              "</style>\n",
              "<table border=\"1\" class=\"dataframe\">\n",
              "  <thead>\n",
              "    <tr style=\"text-align: right;\">\n",
              "      <th></th>\n",
              "      <th>loss</th>\n",
              "      <th>val_loss</th>\n",
              "      <th>epoch</th>\n",
              "    </tr>\n",
              "  </thead>\n",
              "  <tbody>\n",
              "    <tr>\n",
              "      <th>75</th>\n",
              "      <td>0.099731</td>\n",
              "      <td>0.144236</td>\n",
              "      <td>75</td>\n",
              "    </tr>\n",
              "    <tr>\n",
              "      <th>77</th>\n",
              "      <td>0.100231</td>\n",
              "      <td>0.144681</td>\n",
              "      <td>77</td>\n",
              "    </tr>\n",
              "    <tr>\n",
              "      <th>82</th>\n",
              "      <td>0.098958</td>\n",
              "      <td>0.146159</td>\n",
              "      <td>82</td>\n",
              "    </tr>\n",
              "    <tr>\n",
              "      <th>66</th>\n",
              "      <td>0.101630</td>\n",
              "      <td>0.146295</td>\n",
              "      <td>66</td>\n",
              "    </tr>\n",
              "    <tr>\n",
              "      <th>96</th>\n",
              "      <td>0.097762</td>\n",
              "      <td>0.146728</td>\n",
              "      <td>96</td>\n",
              "    </tr>\n",
              "    <tr>\n",
              "      <th>...</th>\n",
              "      <td>...</td>\n",
              "      <td>...</td>\n",
              "      <td>...</td>\n",
              "    </tr>\n",
              "    <tr>\n",
              "      <th>4</th>\n",
              "      <td>0.204891</td>\n",
              "      <td>0.233736</td>\n",
              "      <td>4</td>\n",
              "    </tr>\n",
              "    <tr>\n",
              "      <th>3</th>\n",
              "      <td>0.243018</td>\n",
              "      <td>0.251203</td>\n",
              "      <td>3</td>\n",
              "    </tr>\n",
              "    <tr>\n",
              "      <th>2</th>\n",
              "      <td>0.334224</td>\n",
              "      <td>0.295819</td>\n",
              "      <td>2</td>\n",
              "    </tr>\n",
              "    <tr>\n",
              "      <th>1</th>\n",
              "      <td>0.535289</td>\n",
              "      <td>0.416541</td>\n",
              "      <td>1</td>\n",
              "    </tr>\n",
              "    <tr>\n",
              "      <th>0</th>\n",
              "      <td>0.839898</td>\n",
              "      <td>0.687422</td>\n",
              "      <td>0</td>\n",
              "    </tr>\n",
              "  </tbody>\n",
              "</table>\n",
              "<p>100 rows × 3 columns</p>\n",
              "</div>"
            ],
            "text/plain": [
              "        loss  val_loss  epoch\n",
              "75  0.099731  0.144236     75\n",
              "77  0.100231  0.144681     77\n",
              "82  0.098958  0.146159     82\n",
              "66  0.101630  0.146295     66\n",
              "96  0.097762  0.146728     96\n",
              "..       ...       ...    ...\n",
              "4   0.204891  0.233736      4\n",
              "3   0.243018  0.251203      3\n",
              "2   0.334224  0.295819      2\n",
              "1   0.535289  0.416541      1\n",
              "0   0.839898  0.687422      0\n",
              "\n",
              "[100 rows x 3 columns]"
            ]
          },
          "metadata": {
            "tags": []
          },
          "execution_count": 56
        }
      ]
    },
    {
      "cell_type": "markdown",
      "metadata": {
        "id": "Ha2RgW0H_n-R"
      },
      "source": [
        "# Assignments\n",
        "\n",
        "Lakukan regresi menggunakan MLP dengan dataset **Auto**, **Auto-MPG** dan **Bottle**! Gunakan 2 arsitektur MLP yang mirip seperti diatas beserta linear regression dan simpulkan hasil yang terbaik!\n",
        "\n",
        "## Catatan:\n",
        "\n",
        "1. Gunakan ratio training:testing set sebesar 80:20 untuk dataset **Auto & Auto-MPG**, sedangkan untuk dataset **Bottle** gunakan ratio 75:25. Selain itu, gunakan random_state=10 apabila dibutuhkan.\n",
        "\n",
        "2. Untuk dataset **Auto**, gunakan kolom-kolom ini saja (sisanya di-drop):\n",
        "  - wheel-base \n",
        "  - length \n",
        "  - width \n",
        "  - height \n",
        "  - bore\n",
        "  - stroke\n",
        "  - compression-ratio\n",
        "  - peak-rpm\n",
        "  - price\n",
        "\n",
        "3. Untuk dataset **Bottle** lakukan regresi terhadap attribute **Salinity**."
      ]
    },
    {
      "cell_type": "markdown",
      "metadata": {
        "id": "cTRF5i0765Kz"
      },
      "source": [
        "hasil terbaik yang didapatkan dengan metode deeper  learning karena hasil yg didapatkan dengan wiser, loss dan accuracynya kurang dari pada deeper"
      ]
    }
  ]
}